{
  "nbformat": 4,
  "nbformat_minor": 0,
  "metadata": {
    "kernelspec": {
      "display_name": "Python 3",
      "language": "python",
      "name": "python3"
    },
    "language_info": {
      "codemirror_mode": {
        "name": "ipython",
        "version": 3
      },
      "file_extension": ".py",
      "mimetype": "text/x-python",
      "name": "python",
      "nbconvert_exporter": "python",
      "pygments_lexer": "ipython3",
      "version": "3.5.2"
    },
    "colab": {
      "name": "YangxuanWu-SimpleRNN-mathod.ipynb",
      "provenance": [],
      "include_colab_link": true
    }
  },
  "cells": [
    {
      "cell_type": "markdown",
      "metadata": {
        "id": "view-in-github",
        "colab_type": "text"
      },
      "source": [
        "<a href=\"https://colab.research.google.com/github/YangxuanWu/Python/blob/master/Python/YangxuanWu_SimpleRNN_mathod.ipynb\" target=\"_parent\"><img src=\"https://colab.research.google.com/assets/colab-badge.svg\" alt=\"Open In Colab\"/></a>"
      ]
    },
    {
      "cell_type": "code",
      "metadata": {
        "id": "nVfIGy8aDAFT",
        "colab_type": "code",
        "colab": {
          "base_uri": "https://localhost:8080/",
          "height": 52
        },
        "outputId": "b952ab8a-f645-4877-d58e-7a3c5a5bc384"
      },
      "source": [
        "import keras\n",
        "keras.__version__"
      ],
      "execution_count": 1,
      "outputs": [
        {
          "output_type": "stream",
          "text": [
            "Using TensorFlow backend.\n"
          ],
          "name": "stderr"
        },
        {
          "output_type": "execute_result",
          "data": {
            "application/vnd.google.colaboratory.intrinsic": {
              "type": "string"
            },
            "text/plain": [
              "'2.3.1'"
            ]
          },
          "metadata": {
            "tags": []
          },
          "execution_count": 1
        }
      ]
    },
    {
      "cell_type": "code",
      "metadata": {
        "id": "Czb-nykrDAFY",
        "colab_type": "code",
        "colab": {}
      },
      "source": [
        "from keras.layers import SimpleRNN"
      ],
      "execution_count": 2,
      "outputs": []
    },
    {
      "cell_type": "code",
      "metadata": {
        "id": "XsnsQP9PKOoI",
        "colab_type": "code",
        "colab": {}
      },
      "source": [
        "#SimpleRNN处理批序列，就像所有其他Keras层一样，而不是像Numpy示例中那样只处理单个序列。这意味着它接受形状的输入(batch_size、时间步长、input_features)，而不是(时间步长、input_features)。像所有的周期性层Keras SimpleRNN可以运行在两种不同的模式:也可以返回的全部序列连续输出为每个步伐(3 d形状张量(batch_size,步伐,output_features)),也可以只返回最后输出为每个输入序列(2 d形状张量(batch_size output_features))。\n",
        "#这两种模式由return_sequences构造函数参数控制"
      ],
      "execution_count": null,
      "outputs": []
    },
    {
      "cell_type": "code",
      "metadata": {
        "id": "objsUDlEDAFb",
        "colab_type": "code",
        "colab": {
          "base_uri": "https://localhost:8080/",
          "height": 218
        },
        "outputId": "c5d81cb1-7fb9-4766-bec2-f7d3f83e88ca"
      },
      "source": [
        "from keras.models import Sequential\n",
        "from keras.layers import Embedding, SimpleRNN\n",
        "\n",
        "model = Sequential()\n",
        "model.add(Embedding(10000, 32))\n",
        "model.add(SimpleRNN(32))\n",
        "model.summary()"
      ],
      "execution_count": 3,
      "outputs": [
        {
          "output_type": "stream",
          "text": [
            "Model: \"sequential_1\"\n",
            "_________________________________________________________________\n",
            "Layer (type)                 Output Shape              Param #   \n",
            "=================================================================\n",
            "embedding_1 (Embedding)      (None, None, 32)          320000    \n",
            "_________________________________________________________________\n",
            "simple_rnn_1 (SimpleRNN)     (None, 32)                2080      \n",
            "=================================================================\n",
            "Total params: 322,080\n",
            "Trainable params: 322,080\n",
            "Non-trainable params: 0\n",
            "_________________________________________________________________\n"
          ],
          "name": "stdout"
        }
      ]
    },
    {
      "cell_type": "code",
      "metadata": {
        "id": "NwzvfkU_DAFd",
        "colab_type": "code",
        "colab": {
          "base_uri": "https://localhost:8080/",
          "height": 218
        },
        "outputId": "84a8cd46-a29a-4b98-ef69-56f52ec9c757"
      },
      "source": [
        "model = Sequential()\n",
        "model.add(Embedding(10000, 32))\n",
        "model.add(SimpleRNN(32, return_sequences=True))\n",
        "model.summary()"
      ],
      "execution_count": 4,
      "outputs": [
        {
          "output_type": "stream",
          "text": [
            "Model: \"sequential_2\"\n",
            "_________________________________________________________________\n",
            "Layer (type)                 Output Shape              Param #   \n",
            "=================================================================\n",
            "embedding_2 (Embedding)      (None, None, 32)          320000    \n",
            "_________________________________________________________________\n",
            "simple_rnn_2 (SimpleRNN)     (None, None, 32)          2080      \n",
            "=================================================================\n",
            "Total params: 322,080\n",
            "Trainable params: 322,080\n",
            "Non-trainable params: 0\n",
            "_________________________________________________________________\n"
          ],
          "name": "stdout"
        }
      ]
    },
    {
      "cell_type": "code",
      "metadata": {
        "id": "YYSrazppDAFg",
        "colab_type": "code",
        "colab": {
          "base_uri": "https://localhost:8080/",
          "height": 319
        },
        "outputId": "3c370a61-02bc-4e3b-e587-88cb575472d5"
      },
      "source": [
        "model = Sequential()\n",
        "model.add(Embedding(10000, 32))\n",
        "model.add(SimpleRNN(32, return_sequences=True))\n",
        "model.add(SimpleRNN(32, return_sequences=True))\n",
        "model.add(SimpleRNN(32, return_sequences=True))\n",
        "model.add(SimpleRNN(32))  # This last layer only returns the last outputs.\n",
        "model.summary()"
      ],
      "execution_count": 5,
      "outputs": [
        {
          "output_type": "stream",
          "text": [
            "Model: \"sequential_3\"\n",
            "_________________________________________________________________\n",
            "Layer (type)                 Output Shape              Param #   \n",
            "=================================================================\n",
            "embedding_3 (Embedding)      (None, None, 32)          320000    \n",
            "_________________________________________________________________\n",
            "simple_rnn_3 (SimpleRNN)     (None, None, 32)          2080      \n",
            "_________________________________________________________________\n",
            "simple_rnn_4 (SimpleRNN)     (None, None, 32)          2080      \n",
            "_________________________________________________________________\n",
            "simple_rnn_5 (SimpleRNN)     (None, None, 32)          2080      \n",
            "_________________________________________________________________\n",
            "simple_rnn_6 (SimpleRNN)     (None, 32)                2080      \n",
            "=================================================================\n",
            "Total params: 328,320\n",
            "Trainable params: 328,320\n",
            "Non-trainable params: 0\n",
            "_________________________________________________________________\n"
          ],
          "name": "stdout"
        }
      ]
    },
    {
      "cell_type": "markdown",
      "metadata": {
        "id": "JFtE4pXFDAFi",
        "colab_type": "text"
      },
      "source": [
        "Now let's try to use such a model on the IMDB movie review classification problem. First, let's preprocess the data:"
      ]
    },
    {
      "cell_type": "code",
      "metadata": {
        "id": "VWy5dABdDAFi",
        "colab_type": "code",
        "colab": {
          "base_uri": "https://localhost:8080/",
          "height": 118
        },
        "outputId": "f77d65f9-35c2-4d89-f789-8804e2813e82"
      },
      "source": [
        "from keras.datasets import imdb\n",
        "from keras.preprocessing import sequence\n",
        "\n",
        "max_features = 10000  # number of words to consider as features\n",
        "maxlen = 500  # cut texts after this number of words (among top max_features most common words)\n",
        "batch_size = 32\n",
        "\n",
        "print('Loading data...')\n",
        "(input_train, y_train), (input_test, y_test) = imdb.load_data(num_words=max_features)\n",
        "print(len(input_train), 'train sequences')\n",
        "print(len(input_test), 'test sequences')\n",
        "\n",
        "print('Pad sequences (samples x time)')\n",
        "input_train = sequence.pad_sequences(input_train, maxlen=maxlen)\n",
        "input_test = sequence.pad_sequences(input_test, maxlen=maxlen)\n",
        "print('input_train shape:', input_train.shape)\n",
        "print('input_test shape:', input_test.shape)"
      ],
      "execution_count": 8,
      "outputs": [
        {
          "output_type": "stream",
          "text": [
            "Loading data...\n",
            "25000 train sequences\n",
            "25000 test sequences\n",
            "Pad sequences (samples x time)\n",
            "input_train shape: (25000, 500)\n",
            "input_test shape: (25000, 500)\n"
          ],
          "name": "stdout"
        }
      ]
    },
    {
      "cell_type": "markdown",
      "metadata": {
        "id": "pO_UgiY-DAFn",
        "colab_type": "text"
      },
      "source": [
        "Let's train a simple recurrent network using an `Embedding` layer and a `SimpleRNN` layer:"
      ]
    },
    {
      "cell_type": "code",
      "metadata": {
        "id": "oE97IF1bDAFo",
        "colab_type": "code",
        "colab": {
          "base_uri": "https://localhost:8080/",
          "height": 423
        },
        "outputId": "f4fe3ad5-b669-470d-8dd3-0a2823da6047"
      },
      "source": [
        "#train a simple recurrent network using an `Embedding` layer and a `SimpleRNN` layer:\n",
        "\n",
        "from keras.layers import Dense\n",
        "\n",
        "model = Sequential()\n",
        "model.add(Embedding(max_features, 32))\n",
        "model.add(SimpleRNN(32))\n",
        "model.add(Dense(1, activation='sigmoid'))\n",
        "\n",
        "model.compile(optimizer='rmsprop', loss='binary_crossentropy', metrics=['acc'])\n",
        "history = model.fit(input_train, y_train,\n",
        "                    epochs=10,\n",
        "                    batch_size=128,\n",
        "                    validation_split=0.2)"
      ],
      "execution_count": 9,
      "outputs": [
        {
          "output_type": "stream",
          "text": [
            "/usr/local/lib/python3.6/dist-packages/tensorflow/python/framework/indexed_slices.py:434: UserWarning: Converting sparse IndexedSlices to a dense Tensor of unknown shape. This may consume a large amount of memory.\n",
            "  \"Converting sparse IndexedSlices to a dense Tensor of unknown shape. \"\n"
          ],
          "name": "stderr"
        },
        {
          "output_type": "stream",
          "text": [
            "Train on 20000 samples, validate on 5000 samples\n",
            "Epoch 1/10\n",
            "20000/20000 [==============================] - 24s 1ms/step - loss: 0.6720 - acc: 0.5770 - val_loss: 0.5394 - val_acc: 0.7316\n",
            "Epoch 2/10\n",
            "20000/20000 [==============================] - 23s 1ms/step - loss: 0.4303 - acc: 0.8080 - val_loss: 0.4098 - val_acc: 0.8210\n",
            "Epoch 3/10\n",
            "20000/20000 [==============================] - 23s 1ms/step - loss: 0.2911 - acc: 0.8832 - val_loss: 0.4147 - val_acc: 0.8248\n",
            "Epoch 4/10\n",
            "20000/20000 [==============================] - 23s 1ms/step - loss: 0.2280 - acc: 0.9120 - val_loss: 0.4372 - val_acc: 0.8060\n",
            "Epoch 5/10\n",
            "20000/20000 [==============================] - 23s 1ms/step - loss: 0.1546 - acc: 0.9436 - val_loss: 0.4472 - val_acc: 0.8174\n",
            "Epoch 6/10\n",
            "20000/20000 [==============================] - 23s 1ms/step - loss: 0.0981 - acc: 0.9670 - val_loss: 0.5353 - val_acc: 0.8202\n",
            "Epoch 7/10\n",
            "20000/20000 [==============================] - 23s 1ms/step - loss: 0.0607 - acc: 0.9810 - val_loss: 0.5483 - val_acc: 0.8220\n",
            "Epoch 8/10\n",
            "20000/20000 [==============================] - 23s 1ms/step - loss: 0.0340 - acc: 0.9908 - val_loss: 0.6740 - val_acc: 0.8042\n",
            "Epoch 9/10\n",
            "20000/20000 [==============================] - 23s 1ms/step - loss: 0.0227 - acc: 0.9940 - val_loss: 0.6920 - val_acc: 0.7980\n",
            "Epoch 10/10\n",
            "20000/20000 [==============================] - 23s 1ms/step - loss: 0.0194 - acc: 0.9941 - val_loss: 0.9030 - val_acc: 0.7370\n"
          ],
          "name": "stdout"
        }
      ]
    },
    {
      "cell_type": "code",
      "metadata": {
        "id": "CfasGC-bDAFq",
        "colab_type": "code",
        "colab": {
          "base_uri": "https://localhost:8080/",
          "height": 545
        },
        "outputId": "fd137334-c13e-4f68-c121-d2336786b140"
      },
      "source": [
        "#display the training and validation loss and accuracy:\n",
        "import matplotlib.pyplot as plt\n",
        "\n",
        "acc = history.history['acc']\n",
        "val_acc = history.history['val_acc']\n",
        "loss = history.history['loss']\n",
        "val_loss = history.history['val_loss']\n",
        "\n",
        "epochs = range(len(acc))\n",
        "\n",
        "plt.plot(epochs, acc, 'bo', label='Training acc')\n",
        "plt.plot(epochs, val_acc, 'b', label='Validation acc')\n",
        "plt.title('Training and validation accuracy')\n",
        "plt.legend()\n",
        "\n",
        "plt.figure()\n",
        "\n",
        "plt.plot(epochs, loss, 'bo', label='Training loss')\n",
        "plt.plot(epochs, val_loss, 'b', label='Validation loss')\n",
        "plt.title('Training and validation loss')\n",
        "plt.legend()\n",
        "\n",
        "plt.show()"
      ],
      "execution_count": 10,
      "outputs": [
        {
          "output_type": "display_data",
          "data": {
            "image/png": "[encoded data removed]",
            "text/plain": [
              "<Figure size 432x288 with 1 Axes>"
            ]
          },
          "metadata": {
            "tags": [],
            "needs_background": "light"
          }
        },
        {
          "output_type": "display_data",
          "data": {
            "image/png": "[encoded data removed]",
            "text/plain": [
              "<Figure size 432x288 with 1 Axes>"
            ]
          },
          "metadata": {
            "tags": [],
            "needs_background": "light"
          }
        }
      ]
    },
    {
      "cell_type": "code",
      "metadata": {
        "id": "mCh-AZ8nDAFt",
        "colab_type": "code",
        "colab": {
          "base_uri": "https://localhost:8080/",
          "height": 423
        },
        "outputId": "4aa94d4f-1895-433b-c730-b4e1f27893d0"
      },
      "source": [
        "#Keras中的一个具体的LSTM示例\n",
        "from keras.layers import LSTM\n",
        "\n",
        "model = Sequential()\n",
        "model.add(Embedding(max_features, 32))\n",
        "model.add(LSTM(32))\n",
        "model.add(Dense(1, activation='sigmoid'))\n",
        "\n",
        "model.compile(optimizer='rmsprop',\n",
        "              loss='binary_crossentropy',\n",
        "              metrics=['acc'])\n",
        "history = model.fit(input_train, y_train,\n",
        "                    epochs=10,\n",
        "                    batch_size=128,\n",
        "                    validation_split=0.2)"
      ],
      "execution_count": 11,
      "outputs": [
        {
          "output_type": "stream",
          "text": [
            "/usr/local/lib/python3.6/dist-packages/tensorflow/python/framework/indexed_slices.py:434: UserWarning: Converting sparse IndexedSlices to a dense Tensor of unknown shape. This may consume a large amount of memory.\n",
            "  \"Converting sparse IndexedSlices to a dense Tensor of unknown shape. \"\n"
          ],
          "name": "stderr"
        },
        {
          "output_type": "stream",
          "text": [
            "Train on 20000 samples, validate on 5000 samples\n",
            "Epoch 1/10\n",
            "20000/20000 [==============================] - 67s 3ms/step - loss: 0.5264 - acc: 0.7609 - val_loss: 0.3950 - val_acc: 0.8450\n",
            "Epoch 2/10\n",
            "20000/20000 [==============================] - 65s 3ms/step - loss: 0.3069 - acc: 0.8822 - val_loss: 0.3224 - val_acc: 0.8676\n",
            "Epoch 3/10\n",
            "20000/20000 [==============================] - 65s 3ms/step - loss: 0.2417 - acc: 0.9075 - val_loss: 0.5143 - val_acc: 0.7972\n",
            "Epoch 4/10\n",
            "20000/20000 [==============================] - 65s 3ms/step - loss: 0.2065 - acc: 0.9238 - val_loss: 0.3583 - val_acc: 0.8746\n",
            "Epoch 5/10\n",
            "20000/20000 [==============================] - 65s 3ms/step - loss: 0.1812 - acc: 0.9331 - val_loss: 0.3945 - val_acc: 0.8728\n",
            "Epoch 6/10\n",
            "20000/20000 [==============================] - 65s 3ms/step - loss: 0.1607 - acc: 0.9416 - val_loss: 0.3624 - val_acc: 0.8550\n",
            "Epoch 7/10\n",
            "20000/20000 [==============================] - 65s 3ms/step - loss: 0.1451 - acc: 0.9473 - val_loss: 0.3237 - val_acc: 0.8846\n",
            "Epoch 8/10\n",
            "20000/20000 [==============================] - 64s 3ms/step - loss: 0.1283 - acc: 0.9558 - val_loss: 0.3191 - val_acc: 0.8692\n",
            "Epoch 9/10\n",
            "20000/20000 [==============================] - 64s 3ms/step - loss: 0.1201 - acc: 0.9582 - val_loss: 0.3826 - val_acc: 0.8878\n",
            "Epoch 10/10\n",
            "20000/20000 [==============================] - 65s 3ms/step - loss: 0.1107 - acc: 0.9604 - val_loss: 0.3584 - val_acc: 0.8840\n"
          ],
          "name": "stdout"
        }
      ]
    },
    {
      "cell_type": "code",
      "metadata": {
        "id": "GAmPzlTgDAFv",
        "colab_type": "code",
        "colab": {
          "base_uri": "https://localhost:8080/",
          "height": 545
        },
        "outputId": "16c9baf9-b83a-4bf3-9517-afe60ba277b6"
      },
      "source": [
        "acc = history.history['acc']\n",
        "val_acc = history.history['val_acc']\n",
        "loss = history.history['loss']\n",
        "val_loss = history.history['val_loss']\n",
        "\n",
        "epochs = range(len(acc))\n",
        "\n",
        "plt.plot(epochs, acc, 'bo', label='Training acc')\n",
        "plt.plot(epochs, val_acc, 'b', label='Validation acc')\n",
        "plt.title('Training and validation accuracy')\n",
        "plt.legend()\n",
        "\n",
        "plt.figure()\n",
        "\n",
        "plt.plot(epochs, loss, 'bo', label='Training loss')\n",
        "plt.plot(epochs, val_loss, 'b', label='Validation loss')\n",
        "plt.title('Training and validation loss')\n",
        "plt.legend()\n",
        "\n",
        "plt.show()"
      ],
      "execution_count": 12,
      "outputs": [
        {
          "output_type": "display_data",
          "data": {
            "image/png": "[encoded data removed]",
            "text/plain": [
              "<Figure size 432x288 with 1 Axes>"
            ]
          },
          "metadata": {
            "tags": [],
            "needs_background": "light"
          }
        },
        {
          "output_type": "display_data",
          "data": {
            "image/png": "[encoded data removed]",
            "text/plain": [
              "<Figure size 432x288 with 1 Axes>"
            ]
          },
          "metadata": {
            "tags": [],
            "needs_background": "light"
          }
        }
      ]
    },
    {
      "cell_type": "code",
      "metadata": {
        "id": "Zqc-cC-bI1SC",
        "colab_type": "code",
        "colab": {
          "base_uri": "https://localhost:8080/",
          "height": 35
        },
        "outputId": "4a7ce43a-9dd1-4c68-8355-d092eaffa67b"
      },
      "source": [
        "import keras\n",
        "keras.__version__"
      ],
      "execution_count": 13,
      "outputs": [
        {
          "output_type": "execute_result",
          "data": {
            "application/vnd.google.colaboratory.intrinsic": {
              "type": "string"
            },
            "text/plain": [
              "'2.3.1'"
            ]
          },
          "metadata": {
            "tags": []
          },
          "execution_count": 13
        }
      ]
    },
    {
      "cell_type": "code",
      "metadata": {
        "id": "hKz88YpcKX1w",
        "colab_type": "code",
        "colab": {}
      },
      "source": [
        "#create_char_rnn_model\n",
        "def create_char_rnn_model(self, emb_dim, word_maxlen, vocab_char_size,\n",
        "                              char_maxlen):\n",
        "        from keras.layers import SimpleRNN\n",
        "        logger.info('Building character RNN model')\n",
        "        input_char = Input(shape=(char_maxlen, ), name='input_char')\n",
        "        char_emb = Embedding(\n",
        "            vocab_char_size, emb_dim, mask_zero=True)(input_char)\n",
        "        rnn = SimpleRNN(\n",
        "            300,\n",
        "            return_sequences=True,\n",
        "            dropout=self.dropout,\n",
        "            recurrent_dropout=self.recurrent_dropout)(char_emb)\n",
        "        dropped = Dropout(0.5)(rnn)\n",
        "        mot = MeanOverTime(mask_zero=True)(dropped)\n",
        "        densed = Dense(self.num_outputs, name='dense')(mot)\n",
        "        output = Activation('sigmoid')(densed)\n",
        "        model = Model(inputs=input_char, outputs=output)\n",
        "        model.get_layer('dense').bias.set_value(self.bias)\n",
        "        logger.info('  Done')\n",
        "        return model "
      ],
      "execution_count": 15,
      "outputs": []
    },
    {
      "cell_type": "code",
      "metadata": {
        "id": "wJEwPTkwKkI_",
        "colab_type": "code",
        "colab": {}
      },
      "source": [
        "#test_initial_state_SimpleRNN\n",
        "def test_initial_state_SimpleRNN(self):\n",
        "        data = np.random.rand(1, 1, 2)\n",
        "        model = keras.models.Sequential()\n",
        "        model.add(keras.layers.SimpleRNN(5, input_shape=(1, 2), batch_input_shape=[1, 1, 2], stateful=True))\n",
        "        model.get_layer(index=1).reset_states()\n",
        "        coreml_model = keras_converter.convert(model=model, input_names='data', output_names='output')\n",
        "        keras_output_1 = model.predict(data)\n",
        "        coreml_full_output_1 = coreml_model.predict({'data': data})\n",
        "        coreml_output_1 = coreml_full_output_1['output']\n",
        "        coreml_output_1 = np.expand_dims(coreml_output_1, 1)\n",
        "        np.testing.assert_array_almost_equal(coreml_output_1.T, keras_output_1)\n",
        "\n",
        "        hidden_state = np.random.rand(1, 5)\n",
        "        model.get_layer(index=1).reset_states(states=hidden_state)\n",
        "        coreml_model = keras_converter.convert(model=model, input_names='data', output_names='output')\n",
        "        spec = coreml_model.get_spec()\n",
        "        keras_output_2 = model.predict(data)\n",
        "        coreml_full_output_2 = coreml_model.predict({'data': data, spec.description.input[1].name: hidden_state[0]})\n",
        "        coreml_output_2 = coreml_full_output_2['output']\n",
        "        coreml_output_2 = np.expand_dims(coreml_output_2, 1)\n",
        "        np.testing.assert_array_almost_equal(coreml_output_2.T, keras_output_2)"
      ],
      "execution_count": 16,
      "outputs": []
    },
    {
      "cell_type": "code",
      "metadata": {
        "id": "SvNmkVTLKpvc",
        "colab_type": "code",
        "colab": {}
      },
      "source": [
        "#test_rnn_seq\n",
        "def test_rnn_seq(self):\n",
        "        np.random.seed(1988)\n",
        "        input_dim = 11\n",
        "        input_length = 5\n",
        "\n",
        "        # Define a model\n",
        "        model = Sequential()\n",
        "        model.add(SimpleRNN(20, input_shape=(input_length, input_dim), return_sequences=False))\n",
        "\n",
        "        # Set some random weights\n",
        "        model.set_weights([np.random.rand(*w.shape)*0.2 - 0.1 for w in model.get_weights()])\n",
        "\n",
        "        # Test the keras model\n",
        "        self._test_keras_model(model, input_blob = 'data', output_blob = 'output') "
      ],
      "execution_count": 17,
      "outputs": []
    },
    {
      "cell_type": "code",
      "metadata": {
        "id": "Tv-iDTM0KurJ",
        "colab_type": "code",
        "colab": {}
      },
      "source": [
        "#setup\n",
        "def setUp(self):\n",
        "        super(TestRNNEncoderWithSimpleRNNClass, self).setUp()\n",
        "        self.model = self.create_model(SimpleRNN) "
      ],
      "execution_count": 18,
      "outputs": []
    }
  ]
}