{
  "nbformat": 4,
  "nbformat_minor": 0,
  "metadata": {
    "colab": {
      "name": "Practice0613.ipynb",
      "provenance": [],
      "collapsed_sections": [],
      "authorship_tag": "ABX9TyMVo5+ibVNldWGYKIsJYhqq",
      "include_colab_link": true
    },
    "kernelspec": {
      "name": "python3",
      "display_name": "Python 3"
    }
  },
  "cells": [
    {
      "cell_type": "markdown",
      "metadata": {
        "id": "view-in-github",
        "colab_type": "text"
      },
      "source": [
        "<a href=\"https://colab.research.google.com/github/YangxuanWu/Python/blob/master/Python/Practice0614.ipynb\" target=\"_parent\"><img src=\"https://colab.research.google.com/assets/colab-badge.svg\" alt=\"Open In Colab\"/></a>"
      ]
    },
    {
      "cell_type": "code",
      "metadata": {
        "id": "kaLOLPRgmAMg",
        "colab_type": "code",
        "outputId": "6021ca5f-a1a0-414d-a6cb-f6f9a7318335",
        "colab": {
          "base_uri": "https://localhost:8080/",
          "height": 168
        }
      },
      "source": [
        "#Create an DuPont Analysis/ROE application -- any language or platform of your choosing: \n",
        " \n",
        "#The app should accept the four needed inputs for DuPont Analysis.\n",
        "#The app should calculate and display Profit Margin\n",
        "#The app should calculate and display Total Asset Turnover\n",
        "#The app should calculate and display Leverage Factor\n",
        "#The app should calculate and display Return on Equity (ROE)\n",
        "\n",
        "import math\n",
        "NetIncome = int(input(\"NetIncome=\"))\n",
        "Revenue = int(input(\"Revenue=\"))\n",
        "AverageAssets = int(input(\"AverageAssets=\"))\n",
        "RevenAverageEquityue = int(input(\"AverageEquity=\"))\n",
        "\n",
        "TotalAssetTurnover = Revenue/AverageAssets\n",
        "print (\"TotalAssetTurnover=\", TotalAssetTurnover)\n",
        "\n",
        "PrifitMargin = NetIncome/Revenue\n",
        "print (\"PrifitMargin=\", PrifitMargin)\n",
        "\n",
        "LeverageFactor = AverageAssets/RevenAverageEquityue\n",
        "print (\"LeverageFactor=\", LeverageFactor)\n",
        "\n",
        "ROE = PrifitMargin*TotalAssetTurnover*LeverageFactor\n",
        "print (\"ROE=\", PrifitMargin)\n",
        "\n",
        "ROA = NetIncome/AverageAssets\n",
        "print (\"ROA=\", ROA)\n",
        "\n"
      ],
      "execution_count": 0,
      "outputs": [
        {
          "output_type": "stream",
          "text": [
            "NetIncome=4\n",
            "Revenue=3\n",
            "AverageAssets=6\n",
            "AverageEquity=7\n",
            "TotalAssetTurnover= 0.5\n",
            "PrifitMargin= 1.3333333333333333\n",
            "LeverageFactor= 0.8571428571428571\n",
            "ROE= 1.3333333333333333\n",
            "ROA= 0.6666666666666666\n"
          ],
          "name": "stdout"
        }
      ]
    },
    {
      "cell_type": "code",
      "metadata": {
        "id": "PmDs9aNpO__L",
        "colab_type": "code",
        "outputId": "747a2fb5-34cd-4003-c8cf-8695a01c3e08",
        "colab": {
          "base_uri": "https://localhost:8080/",
          "height": 84
        }
      },
      "source": [
        "def changeextend(str):\n",
        "    #print string with extend\n",
        "    mylist.extend([40,50,60]);\n",
        "    print (\"print string mylist:\",mylist)\n",
        "    return\n",
        "def changeappend(str):\n",
        "    #print string with append\n",
        "    mylist.append( [7,8,9] )\n",
        "    print (\"print string mylist:\",mylist)\n",
        "    return\n",
        "mylist = [10,20,30]\n",
        "changeextend( mylist );\n",
        "print (\"print extend mylist:\", mylist)\n",
        "changeappend( mylist );\n",
        "print (\"print append mylist:\", mylist)\n",
        "#append() 方法用于在列表末尾添加新的对象\n",
        "#extend() 函数用于在列表末尾一次性追加另一个序列中的多个值（用新列表扩展原来的列表）"
      ],
      "execution_count": 0,
      "outputs": [
        {
          "output_type": "stream",
          "text": [
            "print string mylist: [10, 20, 30, 40, 50, 60]\n",
            "print extend mylist: [10, 20, 30, 40, 50, 60]\n",
            "print string mylist: [10, 20, 30, 40, 50, 60, [7, 8, 9]]\n",
            "print append mylist: [10, 20, 30, 40, 50, 60, [7, 8, 9]]\n"
          ],
          "name": "stdout"
        }
      ]
    },
    {
      "cell_type": "code",
      "metadata": {
        "id": "NDnfVup1Uzsb",
        "colab_type": "code",
        "outputId": "2deb7d94-16a6-4481-ea18-925f41a7a4bb",
        "colab": {
          "base_uri": "https://localhost:8080/",
          "height": 50
        }
      },
      "source": [
        "list1 = [1,2,3,4]\n",
        "result = []\n",
        "for x in list1:\n",
        "    for y in list1:\n",
        "        for z in list1:\n",
        "            if x != y and x != z and y != z:\n",
        "                a = x*100+y*10+z\n",
        "                result.append(a)\n",
        " \n",
        "print (result)\n",
        "print (len(result))"
      ],
      "execution_count": 0,
      "outputs": [
        {
          "output_type": "stream",
          "text": [
            "[123, 124, 132, 134, 142, 143, 213, 214, 231, 234, 241, 243, 312, 314, 321, 324, 341, 342, 412, 413, 421, 423, 431, 432]\n",
            "24\n"
          ],
          "name": "stdout"
        }
      ]
    },
    {
      "cell_type": "code",
      "metadata": {
        "id": "BI_dffLtTN-r",
        "colab_type": "code",
        "outputId": "00643a0c-8dad-46c4-c4cb-481569b3d409",
        "colab": {
          "base_uri": "https://localhost:8080/",
          "height": 67
        }
      },
      "source": [
        "#转换为 list\n",
        "info = 'abc'\n",
        "a = list(info)\n",
        "a[2] = 'd'\n",
        "info = ' '.join(a)\n",
        "print(info)\n",
        "\n",
        "#使用字符串的 replace 函数\n",
        "info = 'abc'\n",
        "new_info = info.replace('c', 'd')\n",
        "print(new_info)\n",
        "\n",
        "#自我麻痹\n",
        "a = 'Yangxuan'\n",
        "b = 'python'\n",
        "s = 'my name is %s, I love %s' % (a, b)\n",
        "print (s)"
      ],
      "execution_count": 3,
      "outputs": [
        {
          "output_type": "stream",
          "text": [
            "a b d\n",
            "abd\n",
            "my name is Yangxuan, I love python\n"
          ],
          "name": "stdout"
        }
      ]
    },
    {
      "cell_type": "code",
      "metadata": {
        "id": "qt3a36WSUplT",
        "colab_type": "code",
        "colab": {
          "base_uri": "https://localhost:8080/",
          "height": 67
        },
        "outputId": "789de53f-daff-44fc-c2dc-2337e226074c"
      },
      "source": [
        "from keras.datasets import mnist\n",
        "from numpy import array\n",
        "import numpy as np\n",
        "from numpy import uint8\n",
        "(train_images, train_labels), (test_images, test_labels) = mnist.load_data()"
      ],
      "execution_count": 4,
      "outputs": [
        {
          "output_type": "stream",
          "text": [
            "Using TensorFlow backend.\n"
          ],
          "name": "stderr"
        },
        {
          "output_type": "stream",
          "text": [
            "Downloading data from https://s3.amazonaws.com/img-datasets/mnist.npz\n",
            "11493376/11490434 [==============================] - 2s 0us/step\n"
          ],
          "name": "stdout"
        }
      ]
    },
    {
      "cell_type": "code",
      "metadata": {
        "id": "7zzHox9VJln0",
        "colab_type": "code",
        "colab": {
          "base_uri": "https://localhost:8080/",
          "height": 34
        },
        "outputId": "6e888fbb-79eb-4987-8c2f-055fe75f30f2"
      },
      "source": [
        "train_images.shape\n",
        "(60000, 28, 28)\n",
        "len(train_labels)\n",
        "60000\n",
        "train_labels"
      ],
      "execution_count": 5,
      "outputs": [
        {
          "output_type": "execute_result",
          "data": {
            "text/plain": [
              "array([5, 0, 4, ..., 5, 6, 8], dtype=uint8)"
            ]
          },
          "metadata": {
            "tags": []
          },
          "execution_count": 5
        }
      ]
    },
    {
      "cell_type": "code",
      "metadata": {
        "id": "6O3vfPcYJvlZ",
        "colab_type": "code",
        "colab": {
          "base_uri": "https://localhost:8080/",
          "height": 34
        },
        "outputId": "5a9bf024-5b08-4dd4-e137-d96deefe9e67"
      },
      "source": [
        "test_images.shape\n",
        "len(test_labels)\n",
        "test_labels"
      ],
      "execution_count": 6,
      "outputs": [
        {
          "output_type": "execute_result",
          "data": {
            "text/plain": [
              "array([7, 2, 1, ..., 4, 5, 6], dtype=uint8)"
            ]
          },
          "metadata": {
            "tags": []
          },
          "execution_count": 6
        }
      ]
    },
    {
      "cell_type": "code",
      "metadata": {
        "id": "4M9ykDn9K_2v",
        "colab_type": "code",
        "colab": {}
      },
      "source": [
        "from keras import models\n",
        "from keras import layers\n",
        "network = models.Sequential()\n",
        "network.add(layers.Dense(512, activation='relu', input_shape=(28 * 28,)))\n",
        "network.add(layers.Dense(10, activation='softmax'))"
      ],
      "execution_count": 0,
      "outputs": []
    },
    {
      "cell_type": "code",
      "metadata": {
        "id": "JvC9k9fO759Z",
        "colab_type": "code",
        "colab": {}
      },
      "source": [
        "train_images = train_images.reshape((60000, 28 * 28))\n",
        "train_images = train_images.astype('float32') / 255\n",
        "test_images = test_images.reshape((10000, 28 * 28))\n",
        "test_images = test_images.astype('float32') / 255"
      ],
      "execution_count": 0,
      "outputs": []
    },
    {
      "cell_type": "code",
      "metadata": {
        "id": "fzUtHNbnPbdT",
        "colab_type": "code",
        "colab": {}
      },
      "source": [
        "#Flatten常规的几种用法："
      ],
      "execution_count": 0,
      "outputs": []
    },
    {
      "cell_type": "code",
      "metadata": {
        "id": "j93ldMPg8Z3y",
        "colab_type": "code",
        "colab": {
          "base_uri": "https://localhost:8080/",
          "height": 50
        },
        "outputId": "5a3f0ba2-4146-47ac-a86f-ba6ece137406"
      },
      "source": [
        "#用在数组\n",
        "from numpy import *\n",
        "a = [[[1,2],3],[4,[5,6]],[7,8,9]]\n",
        "a = array(a)\n",
        "a.flatten()"
      ],
      "execution_count": 18,
      "outputs": [
        {
          "output_type": "execute_result",
          "data": {
            "text/plain": [
              "array([list([[1, 2], 3]), list([4, [5, 6]]), list([7, 8, 9])],\n",
              "      dtype=object)"
            ]
          },
          "metadata": {
            "tags": []
          },
          "execution_count": 18
        }
      ]
    },
    {
      "cell_type": "code",
      "metadata": {
        "id": "X0ea4yr4NuOK",
        "colab_type": "code",
        "colab": {
          "base_uri": "https://localhost:8080/",
          "height": 34
        },
        "outputId": "46fa7558-bc4d-4f0c-bcaa-25f9ee285d99"
      },
      "source": [
        "a = [[1,3],[2,4],[3,5]]\n",
        "a = array(a)\n",
        "a.flatten()"
      ],
      "execution_count": 19,
      "outputs": [
        {
          "output_type": "execute_result",
          "data": {
            "text/plain": [
              "array([1, 3, 2, 4, 3, 5])"
            ]
          },
          "metadata": {
            "tags": []
          },
          "execution_count": 19
        }
      ]
    },
    {
      "cell_type": "code",
      "metadata": {
        "id": "P9wzAinENwNX",
        "colab_type": "code",
        "colab": {
          "base_uri": "https://localhost:8080/",
          "height": 34
        },
        "outputId": "f895c340-a05b-4961-b84f-7ac4abfc6c2c"
      },
      "source": [
        "#用在列表\n",
        "a = [[1,3],[2,4],[3,5],[\"abc\",\"def\"]]\n",
        "a1 = [y for x in a for y in x]#这里的逻辑关系理不清？？？\n",
        "a1"
      ],
      "execution_count": 20,
      "outputs": [
        {
          "output_type": "execute_result",
          "data": {
            "text/plain": [
              "[1, 3, 2, 4, 3, 5, 'abc', 'def']"
            ]
          },
          "metadata": {
            "tags": []
          },
          "execution_count": 20
        }
      ]
    },
    {
      "cell_type": "code",
      "metadata": {
        "id": "ABEeZhYAOQFJ",
        "colab_type": "code",
        "colab": {
          "base_uri": "https://localhost:8080/",
          "height": 34
        },
        "outputId": "f9d97e10-023f-4029-9409-4b69bf962872"
      },
      "source": [
        "#用在矩阵\n",
        "a = [[1,3],[2,4],[3,5]]\n",
        "a = mat(a)\n",
        "y = a.flatten()\n",
        "y"
      ],
      "execution_count": 21,
      "outputs": [
        {
          "output_type": "execute_result",
          "data": {
            "text/plain": [
              "matrix([[1, 3, 2, 4, 3, 5]])"
            ]
          },
          "metadata": {
            "tags": []
          },
          "execution_count": 21
        }
      ]
    },
    {
      "cell_type": "code",
      "metadata": {
        "id": "tr82O1LcOcYH",
        "colab_type": "code",
        "colab": {
          "base_uri": "https://localhost:8080/",
          "height": 67
        },
        "outputId": "125e8482-f9ff-4d95-d779-d9aafb90a449"
      },
      "source": [
        "matrix([[1, 3, 2, 4, 3, 5]])\n",
        "y = a.flatten().A#这里用到A是什么意思？？？\n",
        "print (y)\n",
        "print (shape(y))\n",
        "print (shape(y[0]))"
      ],
      "execution_count": 26,
      "outputs": [
        {
          "output_type": "stream",
          "text": [
            "[[1 3 2 4 3 5]]\n",
            "(1, 6)\n",
            "(6,)\n"
          ],
          "name": "stdout"
        }
      ]
    },
    {
      "cell_type": "code",
      "metadata": {
        "id": "aSYFIQK1PPOU",
        "colab_type": "code",
        "colab": {
          "base_uri": "https://localhost:8080/",
          "height": 218
        },
        "outputId": "213b4126-f948-4491-fae1-039a3088e723"
      },
      "source": [
        "#（batch是这一组数据的数量；iteration：进行训练需要的总共的迭代次数；epoch：一次epoch是指将所有数据训练一遍的次数，epoch所代表的数字是指所有数据被训练的总轮数。）\n",
        "#Loading the MNIST dataset in Keras 加载数据集\n",
        "from keras.datasets import mnist\n",
        "(train_images, train_labels), (test_images, test_labels) = mnist.load_data()\n",
        "#The network architecture 设定网络体系结构\n",
        "from keras import models\n",
        "from keras import layers\n",
        "network = models.Sequential()\n",
        "network.add(layers.Dense(512, activation='relu', input_shape=(28 * 28,)))\n",
        "network.add(layers.Dense(10, activation='softmax'))\n",
        "#The compilation step 降维\n",
        "network.compile(optimizer='rmsprop',\n",
        "loss='categorical_crossentropy',\n",
        "metrics=['accuracy'])\n",
        "#Preparing the image data 图像数据\n",
        "train_images = train_images.reshape((60000, 28 * 28))\n",
        "train_images = train_images.astype('float32') / 255\n",
        "test_images = test_images.reshape((10000, 28 * 28))\n",
        "test_images = test_images.astype('float32') / 255\n",
        "#Preparing the labels 标签数据\n",
        "from keras.utils import to_categorical\n",
        "train_labels = to_categorical(train_labels)\n",
        "test_labels = to_categorical(test_labels)\n",
        "network.fit(train_images, train_labels, epochs=5, batch_size=128)\n",
        "#测试学习结果\n",
        "test_loss, test_acc = network.evaluate(test_images, test_labels)\n",
        "print('test_acc:', test_acc)\n"
      ],
      "execution_count": 36,
      "outputs": [
        {
          "output_type": "stream",
          "text": [
            "Epoch 1/5\n",
            "60000/60000 [==============================] - 4s 69us/step - loss: 0.2625 - accuracy: 0.9240\n",
            "Epoch 2/5\n",
            "60000/60000 [==============================] - 4s 69us/step - loss: 0.1026 - accuracy: 0.9697\n",
            "Epoch 3/5\n",
            "60000/60000 [==============================] - 4s 69us/step - loss: 0.0677 - accuracy: 0.9798\n",
            "Epoch 4/5\n",
            "60000/60000 [==============================] - 4s 68us/step - loss: 0.0491 - accuracy: 0.9847\n",
            "Epoch 5/5\n",
            "60000/60000 [==============================] - 4s 67us/step - loss: 0.0378 - accuracy: 0.9886\n",
            "10000/10000 [==============================] - 0s 45us/step\n",
            "test_acc: 0.9811000227928162\n"
          ],
          "name": "stdout"
        }
      ]
    }
  ]
}