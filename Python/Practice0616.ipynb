{
  "nbformat": 4,
  "nbformat_minor": 0,
  "metadata": {
    "colab": {
      "name": "Practice0613.ipynb",
      "provenance": [],
      "collapsed_sections": [],
      "authorship_tag": "ABX9TyMI2SRACntn4MPgpDMurtL0",
      "include_colab_link": true
    },
    "kernelspec": {
      "name": "python3",
      "display_name": "Python 3"
    }
  },
  "cells": [
    {
      "cell_type": "markdown",
      "metadata": {
        "id": "view-in-github",
        "colab_type": "text"
      },
      "source": [
        "<a href=\"https://colab.research.google.com/github/YangxuanWu/Python/blob/master/Python/Practice0616.ipynb\" target=\"_parent\"><img src=\"https://colab.research.google.com/assets/colab-badge.svg\" alt=\"Open In Colab\"/></a>"
      ]
    },
    {
      "cell_type": "code",
      "metadata": {
        "id": "kaLOLPRgmAMg",
        "colab_type": "code",
        "outputId": "220be0f7-168c-4864-93d4-1ea847efdfc4",
        "colab": {
          "base_uri": "https://localhost:8080/",
          "height": 168
        }
      },
      "source": [
        "#Create an DuPont Analysis/ROE application -- any language or platform of your choosing: \n",
        " \n",
        "#The app should accept the four needed inputs for DuPont Analysis.\n",
        "#The app should calculate and display Profit Margin\n",
        "#The app should calculate and display Total Asset Turnover\n",
        "#The app should calculate and display Leverage Factor\n",
        "#The app should calculate and display Return on Equity (ROE)\n",
        "\n",
        "import math\n",
        "NetIncome = int(input(\"NetIncome=\"))\n",
        "Revenue = int(input(\"Revenue=\"))\n",
        "AverageAssets = int(input(\"AverageAssets=\"))\n",
        "RevenAverageEquityue = int(input(\"AverageEquity=\"))\n",
        "\n",
        "TotalAssetTurnover = Revenue/AverageAssets\n",
        "print (\"TotalAssetTurnover=\", TotalAssetTurnover)\n",
        "\n",
        "PrifitMargin = NetIncome/Revenue\n",
        "print (\"PrifitMargin=\", PrifitMargin)\n",
        "\n",
        "LeverageFactor = AverageAssets/RevenAverageEquityue\n",
        "print (\"LeverageFactor=\", LeverageFactor)\n",
        "\n",
        "ROE = PrifitMargin*TotalAssetTurnover*LeverageFactor\n",
        "print (\"ROE=\", PrifitMargin)\n",
        "\n",
        "ROA = NetIncome/AverageAssets\n",
        "print (\"ROA=\", ROA)\n",
        "\n"
      ],
      "execution_count": 2,
      "outputs": [
        {
          "output_type": "stream",
          "text": [
            "NetIncome=1\n",
            "Revenue=2\n",
            "AverageAssets=3\n",
            "AverageEquity=4\n",
            "TotalAssetTurnover= 0.6666666666666666\n",
            "PrifitMargin= 0.5\n",
            "LeverageFactor= 0.75\n",
            "ROE= 0.5\n",
            "ROA= 0.3333333333333333\n"
          ],
          "name": "stdout"
        }
      ]
    },
    {
      "cell_type": "code",
      "metadata": {
        "id": "PmDs9aNpO__L",
        "colab_type": "code",
        "outputId": "50ed65b9-5f98-4b61-bcd3-b739195c3852",
        "colab": {
          "base_uri": "https://localhost:8080/",
          "height": 84
        }
      },
      "source": [
        "def changeextend(str):\n",
        "    #print string with extend\n",
        "    mylist.extend([40,50,60]);\n",
        "    print (\"print string mylist:\",mylist)\n",
        "    return\n",
        "def changeappend(str):\n",
        "    #print string with append\n",
        "    mylist.append( [7,8,9] )\n",
        "    print (\"print string mylist:\",mylist)\n",
        "    return\n",
        "mylist = [10,20,30]\n",
        "changeextend( mylist );\n",
        "print (\"print extend mylist:\", mylist)\n",
        "changeappend( mylist );\n",
        "print (\"print append mylist:\", mylist)\n",
        "#append() 方法用于在列表末尾添加新的对象\n",
        "#extend() 函数用于在列表末尾一次性追加另一个序列中的多个值（用新列表扩展原来的列表）"
      ],
      "execution_count": 3,
      "outputs": [
        {
          "output_type": "stream",
          "text": [
            "print string mylist: [10, 20, 30, 40, 50, 60]\n",
            "print extend mylist: [10, 20, 30, 40, 50, 60]\n",
            "print string mylist: [10, 20, 30, 40, 50, 60, [7, 8, 9]]\n",
            "print append mylist: [10, 20, 30, 40, 50, 60, [7, 8, 9]]\n"
          ],
          "name": "stdout"
        }
      ]
    },
    {
      "cell_type": "code",
      "metadata": {
        "id": "NDnfVup1Uzsb",
        "colab_type": "code",
        "outputId": "027f7eda-0b5f-4583-b200-483c5585d00a",
        "colab": {
          "base_uri": "https://localhost:8080/",
          "height": 50
        }
      },
      "source": [
        "list1 = [1,2,3,4]\n",
        "result = []\n",
        "for x in list1:\n",
        "    for y in list1:\n",
        "        for z in list1:\n",
        "            if x != y and x != z and y != z:\n",
        "                a = x*100+y*10+z\n",
        "                result.append(a)\n",
        " \n",
        "print (result)\n",
        "print (len(result))"
      ],
      "execution_count": 4,
      "outputs": [
        {
          "output_type": "stream",
          "text": [
            "[123, 124, 132, 134, 142, 143, 213, 214, 231, 234, 241, 243, 312, 314, 321, 324, 341, 342, 412, 413, 421, 423, 431, 432]\n",
            "24\n"
          ],
          "name": "stdout"
        }
      ]
    },
    {
      "cell_type": "code",
      "metadata": {
        "id": "BI_dffLtTN-r",
        "colab_type": "code",
        "outputId": "1c276dd5-fb5b-4c04-fbb6-6f271a8e2474",
        "colab": {
          "base_uri": "https://localhost:8080/",
          "height": 67
        }
      },
      "source": [
        "#转换为 list\n",
        "info = 'abc'\n",
        "a = list(info)\n",
        "a[2] = 'd'\n",
        "info = ' '.join(a)\n",
        "print(info)\n",
        "\n",
        "#使用字符串的 replace 函数\n",
        "info = 'abc'\n",
        "new_info = info.replace('c', 'd')\n",
        "print(new_info)\n",
        "\n",
        "#自我麻痹\n",
        "a = 'Yangxuan'\n",
        "b = 'python'\n",
        "s = 'my name is %s, I love %s' % (a, b)\n",
        "print (s)"
      ],
      "execution_count": 5,
      "outputs": [
        {
          "output_type": "stream",
          "text": [
            "a b d\n",
            "abd\n",
            "my name is Yangxuan, I love python\n"
          ],
          "name": "stdout"
        }
      ]
    },
    {
      "cell_type": "code",
      "metadata": {
        "id": "qt3a36WSUplT",
        "colab_type": "code",
        "colab": {
          "base_uri": "https://localhost:8080/",
          "height": 67
        },
        "outputId": "4afaf5c0-8554-4a9a-b512-5742fb1439bd"
      },
      "source": [
        "from keras.datasets import mnist\n",
        "from numpy import array\n",
        "import numpy as np\n",
        "from numpy import uint8\n",
        "(train_images, train_labels), (test_images, test_labels) = mnist.load_data()"
      ],
      "execution_count": 6,
      "outputs": [
        {
          "output_type": "stream",
          "text": [
            "Using TensorFlow backend.\n"
          ],
          "name": "stderr"
        },
        {
          "output_type": "stream",
          "text": [
            "Downloading data from https://s3.amazonaws.com/img-datasets/mnist.npz\n",
            "11493376/11490434 [==============================] - 1s 0us/step\n"
          ],
          "name": "stdout"
        }
      ]
    },
    {
      "cell_type": "code",
      "metadata": {
        "id": "7zzHox9VJln0",
        "colab_type": "code",
        "outputId": "0997e7af-5b27-4868-9bc2-e88390983b3d",
        "colab": {
          "base_uri": "https://localhost:8080/",
          "height": 34
        }
      },
      "source": [
        "train_images.shape\n",
        "(60000, 28, 28)\n",
        "len(train_labels)\n",
        "60000\n",
        "train_labels"
      ],
      "execution_count": 7,
      "outputs": [
        {
          "output_type": "execute_result",
          "data": {
            "text/plain": [
              "array([5, 0, 4, ..., 5, 6, 8], dtype=uint8)"
            ]
          },
          "metadata": {
            "tags": []
          },
          "execution_count": 7
        }
      ]
    },
    {
      "cell_type": "code",
      "metadata": {
        "id": "6O3vfPcYJvlZ",
        "colab_type": "code",
        "outputId": "61ed39b6-b5cb-468e-d995-51ee7b2e6083",
        "colab": {
          "base_uri": "https://localhost:8080/",
          "height": 34
        }
      },
      "source": [
        "test_images.shape\n",
        "len(test_labels)\n",
        "test_labels"
      ],
      "execution_count": 8,
      "outputs": [
        {
          "output_type": "execute_result",
          "data": {
            "text/plain": [
              "array([7, 2, 1, ..., 4, 5, 6], dtype=uint8)"
            ]
          },
          "metadata": {
            "tags": []
          },
          "execution_count": 8
        }
      ]
    },
    {
      "cell_type": "code",
      "metadata": {
        "id": "4M9ykDn9K_2v",
        "colab_type": "code",
        "colab": {}
      },
      "source": [
        "from keras import models\n",
        "from keras import layers\n",
        "network = models.Sequential()\n",
        "network.add(layers.Dense(512, activation='relu', input_shape=(28 * 28,)))\n",
        "network.add(layers.Dense(10, activation='softmax'))"
      ],
      "execution_count": 0,
      "outputs": []
    },
    {
      "cell_type": "code",
      "metadata": {
        "id": "JvC9k9fO759Z",
        "colab_type": "code",
        "colab": {}
      },
      "source": [
        "train_images = train_images.reshape((60000, 28 * 28))\n",
        "train_images = train_images.astype('float32') / 255\n",
        "test_images = test_images.reshape((10000, 28 * 28))\n",
        "test_images = test_images.astype('float32') / 255"
      ],
      "execution_count": 0,
      "outputs": []
    },
    {
      "cell_type": "code",
      "metadata": {
        "id": "fzUtHNbnPbdT",
        "colab_type": "code",
        "colab": {}
      },
      "source": [
        "#Flatten常规的几种用法："
      ],
      "execution_count": 0,
      "outputs": []
    },
    {
      "cell_type": "code",
      "metadata": {
        "id": "j93ldMPg8Z3y",
        "colab_type": "code",
        "outputId": "7fc12455-a6a6-459c-86a0-258ef9e3bbae",
        "colab": {
          "base_uri": "https://localhost:8080/",
          "height": 50
        }
      },
      "source": [
        "#用在数组\n",
        "from numpy import *\n",
        "a = [[[1,2],3],[4,[5,6]],[7,8,9]]\n",
        "a = array(a)\n",
        "a.flatten()"
      ],
      "execution_count": 12,
      "outputs": [
        {
          "output_type": "execute_result",
          "data": {
            "text/plain": [
              "array([list([[1, 2], 3]), list([4, [5, 6]]), list([7, 8, 9])],\n",
              "      dtype=object)"
            ]
          },
          "metadata": {
            "tags": []
          },
          "execution_count": 12
        }
      ]
    },
    {
      "cell_type": "code",
      "metadata": {
        "id": "X0ea4yr4NuOK",
        "colab_type": "code",
        "outputId": "f68e1fa2-e547-47de-d27f-f8251ac21de1",
        "colab": {
          "base_uri": "https://localhost:8080/",
          "height": 34
        }
      },
      "source": [
        "a = [[1,3],[2,4],[3,5]]\n",
        "a = array(a)\n",
        "a.flatten()"
      ],
      "execution_count": 13,
      "outputs": [
        {
          "output_type": "execute_result",
          "data": {
            "text/plain": [
              "array([1, 3, 2, 4, 3, 5])"
            ]
          },
          "metadata": {
            "tags": []
          },
          "execution_count": 13
        }
      ]
    },
    {
      "cell_type": "code",
      "metadata": {
        "id": "P9wzAinENwNX",
        "colab_type": "code",
        "outputId": "aeae5960-5c64-47ae-a70b-5e4ee1f369c2",
        "colab": {
          "base_uri": "https://localhost:8080/",
          "height": 34
        }
      },
      "source": [
        "#用在列表\n",
        "a = [[1,3],[2,4],[3,5],[\"abc\",\"def\"]]\n",
        "a1 = [y for x in a for y in x]#这里的逻辑关系理不清？？？\n",
        "a1"
      ],
      "execution_count": 14,
      "outputs": [
        {
          "output_type": "execute_result",
          "data": {
            "text/plain": [
              "[1, 3, 2, 4, 3, 5, 'abc', 'def']"
            ]
          },
          "metadata": {
            "tags": []
          },
          "execution_count": 14
        }
      ]
    },
    {
      "cell_type": "code",
      "metadata": {
        "id": "ABEeZhYAOQFJ",
        "colab_type": "code",
        "outputId": "56112564-5a5c-4ead-de0e-bb2dd38fe99d",
        "colab": {
          "base_uri": "https://localhost:8080/",
          "height": 34
        }
      },
      "source": [
        "#用在矩阵\n",
        "a = [[1,3],[2,4],[3,5]]\n",
        "a = mat(a)\n",
        "y = a.flatten()\n",
        "y"
      ],
      "execution_count": 15,
      "outputs": [
        {
          "output_type": "execute_result",
          "data": {
            "text/plain": [
              "matrix([[1, 3, 2, 4, 3, 5]])"
            ]
          },
          "metadata": {
            "tags": []
          },
          "execution_count": 15
        }
      ]
    },
    {
      "cell_type": "code",
      "metadata": {
        "id": "tr82O1LcOcYH",
        "colab_type": "code",
        "outputId": "08b09992-62f1-47f2-a6ca-d7e3da04a4eb",
        "colab": {
          "base_uri": "https://localhost:8080/",
          "height": 67
        }
      },
      "source": [
        "matrix([[1, 3, 2, 4, 3, 5]])\n",
        "y = a.flatten().A#这里用到A是什么意思？？？\n",
        "print (y)\n",
        "print (shape(y))\n",
        "print (shape(y[0]))"
      ],
      "execution_count": 16,
      "outputs": [
        {
          "output_type": "stream",
          "text": [
            "[[1 3 2 4 3 5]]\n",
            "(1, 6)\n",
            "(6,)\n"
          ],
          "name": "stdout"
        }
      ]
    },
    {
      "cell_type": "code",
      "metadata": {
        "id": "aSYFIQK1PPOU",
        "colab_type": "code",
        "outputId": "459f5c6a-cb35-40d0-a2a5-59058f29d1d8",
        "colab": {
          "base_uri": "https://localhost:8080/",
          "height": 218
        }
      },
      "source": [
        "#（batch是这一组数据的数量；iteration：进行训练需要的总共的迭代次数；epoch：一次epoch是指将所有数据训练一遍的次数，epoch所代表的数字是指所有数据被训练的总轮数。）\n",
        "#Loading the MNIST dataset in Keras 加载数据集\n",
        "from keras.datasets import mnist\n",
        "(train_images, train_labels), (test_images, test_labels) = mnist.load_data()\n",
        "#The network architecture 设定网络体系结构\n",
        "from keras import models\n",
        "from keras import layers\n",
        "network = models.Sequential()\n",
        "network.add(layers.Dense(512, activation='relu', input_shape=(28 * 28,)))\n",
        "network.add(layers.Dense(10, activation='softmax'))\n",
        "#The compilation step 降维\n",
        "network.compile(optimizer='rmsprop',\n",
        "loss='categorical_crossentropy',\n",
        "metrics=['accuracy'])\n",
        "#Preparing the image data 图像数据\n",
        "train_images = train_images.reshape((60000, 28 * 28))\n",
        "train_images = train_images.astype('float32') / 255\n",
        "test_images = test_images.reshape((10000, 28 * 28))\n",
        "test_images = test_images.astype('float32') / 255\n",
        "#Preparing the labels 标签数据\n",
        "from keras.utils import to_categorical\n",
        "train_labels = to_categorical(train_labels)\n",
        "test_labels = to_categorical(test_labels)\n",
        "network.fit(train_images, train_labels, epochs=5, batch_size=128)\n",
        "#测试学习结果\n",
        "test_loss, test_acc = network.evaluate(test_images, test_labels)\n",
        "print('test_acc:', test_acc)\n"
      ],
      "execution_count": 17,
      "outputs": [
        {
          "output_type": "stream",
          "text": [
            "Epoch 1/5\n",
            "60000/60000 [==============================] - 4s 72us/step - loss: 0.2528 - accuracy: 0.9268\n",
            "Epoch 2/5\n",
            "60000/60000 [==============================] - 4s 68us/step - loss: 0.1040 - accuracy: 0.9691\n",
            "Epoch 3/5\n",
            "60000/60000 [==============================] - 4s 66us/step - loss: 0.0684 - accuracy: 0.9790\n",
            "Epoch 4/5\n",
            "60000/60000 [==============================] - 4s 65us/step - loss: 0.0492 - accuracy: 0.9854\n",
            "Epoch 5/5\n",
            "60000/60000 [==============================] - 4s 65us/step - loss: 0.0370 - accuracy: 0.9890\n",
            "10000/10000 [==============================] - 1s 53us/step\n",
            "test_acc: 0.9799000024795532\n"
          ],
          "name": "stdout"
        }
      ]
    },
    {
      "cell_type": "code",
      "metadata": {
        "id": "y7ggrSsAKRZB",
        "colab_type": "code",
        "outputId": "4470d1d7-5473-4606-fc7b-10777017afe0",
        "colab": {
          "base_uri": "https://localhost:8080/",
          "height": 50
        }
      },
      "source": [
        "#1D tensors\n",
        "import numpy as np\n",
        "x = np.array(12)\n",
        "print (x)\n",
        "array(12)\n",
        "x.ndim"
      ],
      "execution_count": 18,
      "outputs": [
        {
          "output_type": "stream",
          "text": [
            "12\n"
          ],
          "name": "stdout"
        },
        {
          "output_type": "execute_result",
          "data": {
            "text/plain": [
              "0"
            ]
          },
          "metadata": {
            "tags": []
          },
          "execution_count": 18
        }
      ]
    },
    {
      "cell_type": "code",
      "metadata": {
        "id": "GdH9uCHIuAG-",
        "colab_type": "code",
        "outputId": "55245d6a-89ab-42d0-e150-48c7474cdfda",
        "colab": {
          "base_uri": "https://localhost:8080/",
          "height": 34
        }
      },
      "source": [
        "x = np.array([12, 3, 6, 14])\n",
        "x\n",
        "array([12, 3, 6, 14])\n",
        "x.ndim"
      ],
      "execution_count": 19,
      "outputs": [
        {
          "output_type": "execute_result",
          "data": {
            "text/plain": [
              "1"
            ]
          },
          "metadata": {
            "tags": []
          },
          "execution_count": 19
        }
      ]
    },
    {
      "cell_type": "code",
      "metadata": {
        "id": "J7RaQ4eTuSb6",
        "colab_type": "code",
        "outputId": "acab2044-c59a-4a4e-bb1d-178ccb581a77",
        "colab": {
          "base_uri": "https://localhost:8080/",
          "height": 34
        }
      },
      "source": [
        "#2D tensors\n",
        "x = np.array([[5, 78, 2, 34, 0],\n",
        "[6, 79, 3, 35, 1],\n",
        "[7, 80, 4, 36, 2]])\n",
        "x.ndim\n"
      ],
      "execution_count": 20,
      "outputs": [
        {
          "output_type": "execute_result",
          "data": {
            "text/plain": [
              "2"
            ]
          },
          "metadata": {
            "tags": []
          },
          "execution_count": 20
        }
      ]
    },
    {
      "cell_type": "code",
      "metadata": {
        "id": "gM3D9PabuZVt",
        "colab_type": "code",
        "outputId": "b8cedaf2-5aa9-4cd2-ad5f-0a3cfe813271",
        "colab": {
          "base_uri": "https://localhost:8080/",
          "height": 34
        }
      },
      "source": [
        "# 3D tensors and higher-dimensional tensors\n",
        "x = np.array([[[5, 78, 2, 34, 0],\n",
        "[6, 79, 3, 35, 1],\n",
        "[7, 80, 4, 36, 2]],\n",
        "[[5, 78, 2, 34, 0],\n",
        "[6, 79, 3, 35, 1],\n",
        "[7, 80, 4, 36, 2]],\n",
        "[[5, 78, 2, 34, 0],\n",
        "[6, 79, 3, 35, 1],\n",
        "[7, 80, 4, 36, 2]]])\n",
        "x.ndim"
      ],
      "execution_count": 21,
      "outputs": [
        {
          "output_type": "execute_result",
          "data": {
            "text/plain": [
              "3"
            ]
          },
          "metadata": {
            "tags": []
          },
          "execution_count": 21
        }
      ]
    },
    {
      "cell_type": "code",
      "metadata": {
        "id": "HCxxKiZMuiFF",
        "colab_type": "code",
        "colab": {}
      },
      "source": [
        "#定义张量的三个属性\n",
        "from keras.datasets import mnist\n",
        "(train_images, train_labels), (test_images, test_labels) = mnist.load_data()\n"
      ],
      "execution_count": 0,
      "outputs": []
    },
    {
      "cell_type": "code",
      "metadata": {
        "id": "hKrj90i3up1N",
        "colab_type": "code",
        "outputId": "d075481f-30ea-4e37-f978-1c0cd579ac1f",
        "colab": {
          "base_uri": "https://localhost:8080/",
          "height": 67
        }
      },
      "source": [
        "print(train_images.ndim)\n",
        "print(train_images.shape)\n",
        "print(train_images.dtype)"
      ],
      "execution_count": 23,
      "outputs": [
        {
          "output_type": "stream",
          "text": [
            "3\n",
            "(60000, 28, 28)\n",
            "uint8\n"
          ],
          "name": "stdout"
        }
      ]
    },
    {
      "cell_type": "code",
      "metadata": {
        "id": "YDPY4Meruzsx",
        "colab_type": "code",
        "outputId": "8b6e91d8-9689-4061-afa8-c0c68727ff50",
        "colab": {
          "base_uri": "https://localhost:8080/",
          "height": 265
        }
      },
      "source": [
        "#显示第四位，何为显示第四位？\n",
        "digit = train_images[4]\n",
        "import matplotlib.pyplot as plt\n",
        "plt.imshow(digit, cmap=plt.cm.binary)\n",
        "plt.show()"
      ],
      "execution_count": 24,
      "outputs": [
        {
          "output_type": "display_data",
          "data": {
            "image/png": "[encoded data removed]",
            "text/plain": [
              "<Figure size 432x288 with 1 Axes>"
            ]
          },
          "metadata": {
            "tags": [],
            "needs_background": "light"
          }
        }
      ]
    },
    {
      "cell_type": "code",
      "metadata": {
        "id": "cE3b4xnru9kz",
        "colab_type": "code",
        "outputId": "05e31218-5f98-4e2f-9831-5b8a31148bb1",
        "colab": {
          "base_uri": "https://localhost:8080/",
          "height": 50
        }
      },
      "source": [
        "#在numpy中如何操控张量\n",
        "my_slice = train_images[10:100]\n",
        "print(my_slice.shape)\n",
        "my_slice = train_images[10:100, :, :]\n",
        "my_slice.shape\n",
        "my_slice = train_images[10:100, 0:28, 0:28]\n",
        "my_slice.shape\n",
        "#两种方法"
      ],
      "execution_count": 25,
      "outputs": [
        {
          "output_type": "stream",
          "text": [
            "(90, 28, 28)\n"
          ],
          "name": "stdout"
        },
        {
          "output_type": "execute_result",
          "data": {
            "text/plain": [
              "(90, 28, 28)"
            ]
          },
          "metadata": {
            "tags": []
          },
          "execution_count": 25
        }
      ]
    },
    {
      "cell_type": "code",
      "metadata": {
        "id": "UWjEr04fvfRQ",
        "colab_type": "code",
        "colab": {}
      },
      "source": [
        "my_slice = train_images[:, 14:, 14:]\n",
        "#为了在所有图像的右下角选择14×14像素\n",
        "my_slice = train_images[:, 7:-7, 7:-7]\n",
        "#为了将图像裁剪成以中间为中心的14×14像素的小块"
      ],
      "execution_count": 0,
      "outputs": []
    },
    {
      "cell_type": "code",
      "metadata": {
        "id": "UPRBbcxNv2PA",
        "colab_type": "code",
        "colab": {}
      },
      "source": [
        "batch = train_images[:128]\n",
        "batch = train_images[128:256]\n",
        "#批的概念batch = train_images[128 * n:128 * (n + 1)]\n",
        "#当考虑这样一个批处理张量时，第一个轴(0轴)称为批处理轴或批处理维数。在使用Keras和其他深度学习库时，经常会遇到这个术语。"
      ],
      "execution_count": 0,
      "outputs": []
    },
    {
      "cell_type": "code",
      "metadata": {
        "id": "CbZJWPeqw2dN",
        "colab_type": "code",
        "colab": {}
      },
      "source": [
        "#eg.文本文档的数据集，其中我们通过每个单词在其中出现的次数来表示每个文档(来自20,000个常用单词的字典)。\n",
        "#每个文档都可以被编码为一个包含20,000个值的向量(字典中每个单词一个计数)，因此包含500个文档的整个数据集可以被存储为一个张量(500,20000)。"
      ],
      "execution_count": 0,
      "outputs": []
    },
    {
      "cell_type": "code",
      "metadata": {
        "id": "k8-rOBGExM-i",
        "colab_type": "code",
        "colab": {}
      },
      "source": [
        "def naive_relu(x):\n",
        "  assert len(x.shape) == 2\n",
        "#x是一个二维的Numpy张量\n",
        "  x = x.copy()\n",
        "#Avoid overwriting the input tensor.\n",
        "  for i in range(x.shape[0]):\n",
        "    for j in range(x.shape[1]):\n",
        "      x[i, j] = max(x[i, j], 0)\n",
        "  return x"
      ],
      "execution_count": 0,
      "outputs": []
    },
    {
      "cell_type": "code",
      "metadata": {
        "id": "LuWwjJS3xR27",
        "colab_type": "code",
        "colab": {}
      },
      "source": [
        "def naive_add(x, y):\n",
        "   assert len(x.shape) == 2\n",
        "   assert x.shape == y.shape\n",
        "#x和y是2D Numpy张量。\n",
        "   x = x.copy()\n",
        "#避免覆盖输入张量。\n",
        "   for i in range(x.shape[0]):\n",
        "     for j in range(x.shape[1]):\n",
        "       x[i, j] += y[i, j]\n",
        "   return x\n"
      ],
      "execution_count": 0,
      "outputs": []
    },
    {
      "cell_type": "code",
      "metadata": {
        "id": "uQSn2zUhyqK_",
        "colab_type": "code",
        "colab": {}
      },
      "source": [
        "#广播\n",
        "def naive_add_matrix_and_vector(x, y):\n",
        "  assert len(x.shape) == 2\n",
        "  assert len(y.shape) == 1\n",
        "  assert x.shape[1] == y.shape[0]\n",
        "\n",
        "  x = x.copy()\n",
        "  for i in range(x.shape[0]):\n",
        "    for j in range(x.shape[1]):\n",
        "      x[i, j] += y[j]\n",
        "    return x\n",
        "import numpy as np\n",
        "x = np.random.random((64, 3, 32, 10))\n",
        "#x是一个形状为(64,3,32,10)的随机张量。\n",
        "y = np.random.random((32, 10))\n",
        "#y是一个随机张量，它的形状是(32，10)\n",
        "z = np.maximum(x, y)\n",
        "#输出z有形状(64 3 32 10)比如x。"
      ],
      "execution_count": 0,
      "outputs": []
    },
    {
      "cell_type": "code",
      "metadata": {
        "id": "WUe8y2eC0W2Z",
        "colab_type": "code",
        "colab": {}
      },
      "source": [
        "#0维张量/标量  标量是一个数字\n",
        "\n",
        "#1维张量/向量   1维张量称为“向量”。\n",
        "\n",
        "#2维张量    2维张量称为矩阵\n",
        "\n",
        "#3维张量  公用数据存储在张量 时间序列数据 股价 文本数据 彩色图片(RGB)"
      ],
      "execution_count": 0,
      "outputs": []
    },
    {
      "cell_type": "code",
      "metadata": {
        "id": "1a2FMXMREHv0",
        "colab_type": "code",
        "colab": {}
      },
      "source": [
        "#train_images和train_labels构成了“训练集”，即模型将从中学习的数据。然后模型将在“测试集”test_images和test_labels上进行测试\n",
        "from keras.datasets import mnist\n",
        "\n",
        "(train_images, train_labels), (test_images, test_labels) = mnist.load_data()"
      ],
      "execution_count": 0,
      "outputs": []
    },
    {
      "cell_type": "code",
      "metadata": {
        "id": "Tr1LYL6cERKA",
        "colab_type": "code",
        "colab": {
          "base_uri": "https://localhost:8080/",
          "height": 34
        },
        "outputId": "9474b044-c123-4ac8-9c1b-48edc7ccc4aa"
      },
      "source": [
        "train_images.shape"
      ],
      "execution_count": 41,
      "outputs": [
        {
          "output_type": "execute_result",
          "data": {
            "text/plain": [
              "(60000, 28, 28)"
            ]
          },
          "metadata": {
            "tags": []
          },
          "execution_count": 41
        }
      ]
    },
    {
      "cell_type": "code",
      "metadata": {
        "id": "D9zOwcciEUAd",
        "colab_type": "code",
        "colab": {
          "base_uri": "https://localhost:8080/",
          "height": 34
        },
        "outputId": "ad643f1f-c2b5-43ab-9835-4f63445b0811"
      },
      "source": [
        "len(train_labels)"
      ],
      "execution_count": 42,
      "outputs": [
        {
          "output_type": "execute_result",
          "data": {
            "text/plain": [
              "60000"
            ]
          },
          "metadata": {
            "tags": []
          },
          "execution_count": 42
        }
      ]
    },
    {
      "cell_type": "code",
      "metadata": {
        "id": "bgTKgAnjEWFz",
        "colab_type": "code",
        "colab": {
          "base_uri": "https://localhost:8080/",
          "height": 34
        },
        "outputId": "c497accd-2f33-4311-dfde-e43024740ec3"
      },
      "source": [
        "train_labels"
      ],
      "execution_count": 43,
      "outputs": [
        {
          "output_type": "execute_result",
          "data": {
            "text/plain": [
              "array([5, 0, 4, ..., 5, 6, 8], dtype=uint8)"
            ]
          },
          "metadata": {
            "tags": []
          },
          "execution_count": 43
        }
      ]
    },
    {
      "cell_type": "code",
      "metadata": {
        "id": "Uscg2qWuEZJW",
        "colab_type": "code",
        "colab": {
          "base_uri": "https://localhost:8080/",
          "height": 34
        },
        "outputId": "09e02ef8-868f-4225-9ec2-00efb446296b"
      },
      "source": [
        "test_images.shape"
      ],
      "execution_count": 44,
      "outputs": [
        {
          "output_type": "execute_result",
          "data": {
            "text/plain": [
              "(10000, 28, 28)"
            ]
          },
          "metadata": {
            "tags": []
          },
          "execution_count": 44
        }
      ]
    },
    {
      "cell_type": "code",
      "metadata": {
        "id": "YZzaPWWqEbWJ",
        "colab_type": "code",
        "colab": {
          "base_uri": "https://localhost:8080/",
          "height": 34
        },
        "outputId": "bd5c6e6b-de7d-4d8a-afa5-f7cf02e1b0dd"
      },
      "source": [
        "len(test_labels)"
      ],
      "execution_count": 45,
      "outputs": [
        {
          "output_type": "execute_result",
          "data": {
            "text/plain": [
              "10000"
            ]
          },
          "metadata": {
            "tags": []
          },
          "execution_count": 45
        }
      ]
    },
    {
      "cell_type": "code",
      "metadata": {
        "id": "faCPjMXfEdoO",
        "colab_type": "code",
        "colab": {
          "base_uri": "https://localhost:8080/",
          "height": 34
        },
        "outputId": "fa050d44-eeb3-4a43-d128-a9f0ed533561"
      },
      "source": [
        "test_labels"
      ],
      "execution_count": 46,
      "outputs": [
        {
          "output_type": "execute_result",
          "data": {
            "text/plain": [
              "array([7, 2, 1, ..., 4, 5, 6], dtype=uint8)"
            ]
          },
          "metadata": {
            "tags": []
          },
          "execution_count": 46
        }
      ]
    },
    {
      "cell_type": "code",
      "metadata": {
        "id": "6rLYJGAiEgpf",
        "colab_type": "code",
        "colab": {}
      },
      "source": [
        "#1.将展示带有训练数据train_images和train_labels的神经网络。\n",
        "#2.网络将学会将图像和标签联系起来。\n",
        "#3.我将要求网络生成对test_images的预测，并验证这些预测是否与来自test_labels的标签匹配。"
      ],
      "execution_count": 0,
      "outputs": []
    },
    {
      "cell_type": "code",
      "metadata": {
        "id": "tuA8Z77C05XB",
        "colab_type": "code",
        "colab": {}
      },
      "source": [
        "#参数num_words=10000意味着我们将只保留训练数据中最经常出现的前10000个单词。\n",
        "from keras.datasets import imdb\n",
        "\n",
        "(train_data, train_labels), (test_data, test_labels) = imdb.load_data(num_words=10000)"
      ],
      "execution_count": 0,
      "outputs": []
    },
    {
      "cell_type": "code",
      "metadata": {
        "id": "dWy9e38XDdB6",
        "colab_type": "code",
        "colab": {
          "base_uri": "https://localhost:8080/",
          "height": 1000
        },
        "outputId": "29997b86-51bf-4da3-9708-7b61d6f5f16a"
      },
      "source": [
        "train_data[0]"
      ],
      "execution_count": 35,
      "outputs": [
        {
          "output_type": "execute_result",
          "data": {
            "text/plain": [
              "[1,\n",
              " 14,\n",
              " 22,\n",
              " 16,\n",
              " 43,\n",
              " 530,\n",
              " 973,\n",
              " 1622,\n",
              " 1385,\n",
              " 65,\n",
              " 458,\n",
              " 4468,\n",
              " 66,\n",
              " 3941,\n",
              " 4,\n",
              " 173,\n",
              " 36,\n",
              " 256,\n",
              " 5,\n",
              " 25,\n",
              " 100,\n",
              " 43,\n",
              " 838,\n",
              " 112,\n",
              " 50,\n",
              " 670,\n",
              " 2,\n",
              " 9,\n",
              " 35,\n",
              " 480,\n",
              " 284,\n",
              " 5,\n",
              " 150,\n",
              " 4,\n",
              " 172,\n",
              " 112,\n",
              " 167,\n",
              " 2,\n",
              " 336,\n",
              " 385,\n",
              " 39,\n",
              " 4,\n",
              " 172,\n",
              " 4536,\n",
              " 1111,\n",
              " 17,\n",
              " 546,\n",
              " 38,\n",
              " 13,\n",
              " 447,\n",
              " 4,\n",
              " 192,\n",
              " 50,\n",
              " 16,\n",
              " 6,\n",
              " 147,\n",
              " 2025,\n",
              " 19,\n",
              " 14,\n",
              " 22,\n",
              " 4,\n",
              " 1920,\n",
              " 4613,\n",
              " 469,\n",
              " 4,\n",
              " 22,\n",
              " 71,\n",
              " 87,\n",
              " 12,\n",
              " 16,\n",
              " 43,\n",
              " 530,\n",
              " 38,\n",
              " 76,\n",
              " 15,\n",
              " 13,\n",
              " 1247,\n",
              " 4,\n",
              " 22,\n",
              " 17,\n",
              " 515,\n",
              " 17,\n",
              " 12,\n",
              " 16,\n",
              " 626,\n",
              " 18,\n",
              " 2,\n",
              " 5,\n",
              " 62,\n",
              " 386,\n",
              " 12,\n",
              " 8,\n",
              " 316,\n",
              " 8,\n",
              " 106,\n",
              " 5,\n",
              " 4,\n",
              " 2223,\n",
              " 5244,\n",
              " 16,\n",
              " 480,\n",
              " 66,\n",
              " 3785,\n",
              " 33,\n",
              " 4,\n",
              " 130,\n",
              " 12,\n",
              " 16,\n",
              " 38,\n",
              " 619,\n",
              " 5,\n",
              " 25,\n",
              " 124,\n",
              " 51,\n",
              " 36,\n",
              " 135,\n",
              " 48,\n",
              " 25,\n",
              " 1415,\n",
              " 33,\n",
              " 6,\n",
              " 22,\n",
              " 12,\n",
              " 215,\n",
              " 28,\n",
              " 77,\n",
              " 52,\n",
              " 5,\n",
              " 14,\n",
              " 407,\n",
              " 16,\n",
              " 82,\n",
              " 2,\n",
              " 8,\n",
              " 4,\n",
              " 107,\n",
              " 117,\n",
              " 5952,\n",
              " 15,\n",
              " 256,\n",
              " 4,\n",
              " 2,\n",
              " 7,\n",
              " 3766,\n",
              " 5,\n",
              " 723,\n",
              " 36,\n",
              " 71,\n",
              " 43,\n",
              " 530,\n",
              " 476,\n",
              " 26,\n",
              " 400,\n",
              " 317,\n",
              " 46,\n",
              " 7,\n",
              " 4,\n",
              " 2,\n",
              " 1029,\n",
              " 13,\n",
              " 104,\n",
              " 88,\n",
              " 4,\n",
              " 381,\n",
              " 15,\n",
              " 297,\n",
              " 98,\n",
              " 32,\n",
              " 2071,\n",
              " 56,\n",
              " 26,\n",
              " 141,\n",
              " 6,\n",
              " 194,\n",
              " 7486,\n",
              " 18,\n",
              " 4,\n",
              " 226,\n",
              " 22,\n",
              " 21,\n",
              " 134,\n",
              " 476,\n",
              " 26,\n",
              " 480,\n",
              " 5,\n",
              " 144,\n",
              " 30,\n",
              " 5535,\n",
              " 18,\n",
              " 51,\n",
              " 36,\n",
              " 28,\n",
              " 224,\n",
              " 92,\n",
              " 25,\n",
              " 104,\n",
              " 4,\n",
              " 226,\n",
              " 65,\n",
              " 16,\n",
              " 38,\n",
              " 1334,\n",
              " 88,\n",
              " 12,\n",
              " 16,\n",
              " 283,\n",
              " 5,\n",
              " 16,\n",
              " 4472,\n",
              " 113,\n",
              " 103,\n",
              " 32,\n",
              " 15,\n",
              " 16,\n",
              " 5345,\n",
              " 19,\n",
              " 178,\n",
              " 32]"
            ]
          },
          "metadata": {
            "tags": []
          },
          "execution_count": 35
        }
      ]
    },
    {
      "cell_type": "code",
      "metadata": {
        "id": "zg9EUAtlDiZX",
        "colab_type": "code",
        "colab": {
          "base_uri": "https://localhost:8080/",
          "height": 34
        },
        "outputId": "3cd0f150-1b0d-4867-b14e-e81027fa4d44"
      },
      "source": [
        "train_labels[1]"
      ],
      "execution_count": 39,
      "outputs": [
        {
          "output_type": "execute_result",
          "data": {
            "text/plain": [
              "0"
            ]
          },
          "metadata": {
            "tags": []
          },
          "execution_count": 39
        }
      ]
    },
    {
      "cell_type": "code",
      "metadata": {
        "id": "b9XAu13WFRte",
        "colab_type": "code",
        "colab": {
          "base_uri": "https://localhost:8080/",
          "height": 34
        },
        "outputId": "9b3c7acf-812b-4c84-bdc2-ad8639910a40"
      },
      "source": [
        "max([max(sequence) for sequence in train_data])\n",
        "#只取了10000，单词索引最多不会超过这个值，（0，9999）"
      ],
      "execution_count": 53,
      "outputs": [
        {
          "output_type": "execute_result",
          "data": {
            "text/plain": [
              "9999"
            ]
          },
          "metadata": {
            "tags": []
          },
          "execution_count": 53
        }
      ]
    },
    {
      "cell_type": "code",
      "metadata": {
        "id": "DtMcTNQsFdPp",
        "colab_type": "code",
        "colab": {
          "base_uri": "https://localhost:8080/",
          "height": 50
        },
        "outputId": "c532a086-c445-48f6-ba9b-35ab0758dff0"
      },
      "source": [
        "# word_index是一个将单词映射到整数索引的字典\n",
        "word_index = imdb.get_word_index()\n",
        "# 将整数索引映射到单词\n",
        "reverse_word_index = dict([(value, key) for (key, value) in word_index.items()])\n",
        "# 解码审查，索引偏移了3\n",
        "# 因为0、1和2是保留索引，用于“padding”、“start of sequence”和“unknown”。\n",
        "decoded_review = ' '.join([reverse_word_index.get(i - 3, '?') for i in train_data[0]])"
      ],
      "execution_count": 54,
      "outputs": [
        {
          "output_type": "stream",
          "text": [
            "Downloading data from https://s3.amazonaws.com/text-datasets/imdb_word_index.json\n",
            "1646592/1641221 [==============================] - 1s 0us/step\n"
          ],
          "name": "stdout"
        }
      ]
    },
    {
      "cell_type": "code",
      "metadata": {
        "id": "T0uBpvjPF0fD",
        "colab_type": "code",
        "colab": {
          "base_uri": "https://localhost:8080/",
          "height": 54
        },
        "outputId": "f8817cd0-2c0a-40e9-9709-9f074f5d35c5"
      },
      "source": [
        "decoded_review"
      ],
      "execution_count": 55,
      "outputs": [
        {
          "output_type": "execute_result",
          "data": {
            "text/plain": [
              "\"? this film was just brilliant casting location scenery story direction everyone's really suited the part they played and you could just imagine being there robert ? is an amazing actor and now the same being director ? father came from the same scottish island as myself so i loved the fact there was a real connection with this film the witty remarks throughout the film were great it was just brilliant so much that i bought the film as soon as it was released for ? and would recommend it to everyone to watch and the fly fishing was amazing really cried at the end it was so sad and you know what they say if you cry at a film it must have been good and this definitely was also ? to the two little boy's that played the ? of norman and paul they were just brilliant children are often left out of the ? list i think because the stars that play them all grown up are such a big profile for the whole film but these children are amazing and should be praised for what they have done don't you think the whole story was so lovely because it was true and was someone's life after all that was shared with us all\""
            ]
          },
          "metadata": {
            "tags": []
          },
          "execution_count": 55
        }
      ]
    },
    {
      "cell_type": "code",
      "metadata": {
        "id": "fMtKfHUCGHHP",
        "colab_type": "code",
        "colab": {}
      },
      "source": [
        "#如何把列表变成张量输入进神经网络\n",
        "import numpy as np\n",
        "def vectorize_sequences(sequences, dimension=10000):\n",
        "    # Create an all-zero matrix of shape (len(sequences), dimension)\n",
        "    results = np.zeros((len(sequences), dimension))\n",
        "    for i, sequence in enumerate(sequences):\n",
        "        results[i, sequence] = 1. \n",
        "    return results\n",
        "# Our vectorized training data\n",
        "x_train = vectorize_sequences(train_data)\n",
        "# Our vectorized test data\n",
        "x_test = vectorize_sequences(test_data)"
      ],
      "execution_count": 0,
      "outputs": []
    },
    {
      "cell_type": "code",
      "metadata": {
        "id": "xCpXJgARG8qG",
        "colab_type": "code",
        "colab": {
          "base_uri": "https://localhost:8080/",
          "height": 34
        },
        "outputId": "d2df18d8-e726-4933-dcbc-c761004337ba"
      },
      "source": [
        "x_train[0]"
      ],
      "execution_count": 59,
      "outputs": [
        {
          "output_type": "execute_result",
          "data": {
            "text/plain": [
              "array([0., 1., 1., ..., 0., 0., 0.])"
            ]
          },
          "metadata": {
            "tags": []
          },
          "execution_count": 59
        }
      ]
    },
    {
      "cell_type": "code",
      "metadata": {
        "id": "VLV2zZKMG_Ab",
        "colab_type": "code",
        "colab": {}
      },
      "source": [
        "# 矢量变化标签？\n",
        "y_train = np.asarray(train_labels).astype('float32')\n",
        "y_test = np.asarray(test_labels).astype('float32')"
      ],
      "execution_count": 0,
      "outputs": []
    },
    {
      "cell_type": "code",
      "metadata": {
        "id": "tamRFXTbHHKv",
        "colab_type": "code",
        "colab": {}
      },
      "source": [
        "#这里是Keras实现，类似前面用Keras实现MNIST 一样\n",
        "from keras import models\n",
        "from keras import layers\n",
        "\n",
        "model = models.Sequential()\n",
        "model.add(layers.Dense(16, activation='relu', input_shape=(10000,)))\n",
        "model.add(layers.Dense(16, activation='relu'))\n",
        "model.add(layers.Dense(1, activation='sigmoid'))"
      ],
      "execution_count": 0,
      "outputs": []
    },
    {
      "cell_type": "code",
      "metadata": {
        "id": "56JMDuP5HfPC",
        "colab_type": "code",
        "colab": {}
      },
      "source": [
        "#使用rmsprop优化器和binary_crossentropy丢失函数来配置我们的模型。\n",
        "model.compile(optimizer='rmsprop',\n",
        "              loss='binary_crossentropy',\n",
        "              metrics=['accuracy'])"
      ],
      "execution_count": 0,
      "outputs": []
    },
    {
      "cell_type": "code",
      "metadata": {
        "id": "xp1iUlxAHlws",
        "colab_type": "code",
        "colab": {}
      },
      "source": [
        "from keras import optimizers\n",
        "\n",
        "model.compile(optimizer=optimizers.RMSprop(lr=0.001),\n",
        "              loss='binary_crossentropy',\n",
        "              metrics=['accuracy'])"
      ],
      "execution_count": 0,
      "outputs": []
    },
    {
      "cell_type": "code",
      "metadata": {
        "id": "6xNAdhs6HsHB",
        "colab_type": "code",
        "colab": {}
      },
      "source": [
        "from keras import losses\n",
        "from keras import metrics\n",
        "\n",
        "model.compile(optimizer=optimizers.RMSprop(lr=0.001),\n",
        "              loss=losses.binary_crossentropy,\n",
        "              metrics=[metrics.binary_accuracy])"
      ],
      "execution_count": 0,
      "outputs": []
    },
    {
      "cell_type": "code",
      "metadata": {
        "id": "FshAPNCzH0V2",
        "colab_type": "code",
        "colab": {}
      },
      "source": [
        "x_val = x_train[:10000]\n",
        "partial_x_train = x_train[10000:]\n",
        "\n",
        "y_val = y_train[:10000]\n",
        "partial_y_train = y_train[10000:]"
      ],
      "execution_count": 0,
      "outputs": []
    },
    {
      "cell_type": "code",
      "metadata": {
        "id": "DZi0ylumH2gR",
        "colab_type": "code",
        "colab": {
          "base_uri": "https://localhost:8080/",
          "height": 706
        },
        "outputId": "945afd7f-7363-43cc-dfe9-0952371a3549"
      },
      "source": [
        "history = model.fit(partial_x_train,\n",
        "                    partial_y_train,\n",
        "                    epochs=20,\n",
        "                    batch_size=512,\n",
        "                    validation_data=(x_val, y_val))"
      ],
      "execution_count": 72,
      "outputs": [
        {
          "output_type": "stream",
          "text": [
            "Train on 15000 samples, validate on 10000 samples\n",
            "Epoch 1/20\n",
            "15000/15000 [==============================] - 1s 94us/step - loss: 0.0068 - binary_accuracy: 0.9987 - val_loss: 0.7385 - val_binary_accuracy: 0.8659\n",
            "Epoch 2/20\n",
            "15000/15000 [==============================] - 1s 92us/step - loss: 0.0023 - binary_accuracy: 0.9999 - val_loss: 0.7698 - val_binary_accuracy: 0.8649\n",
            "Epoch 3/20\n",
            "15000/15000 [==============================] - 1s 92us/step - loss: 0.0063 - binary_accuracy: 0.9983 - val_loss: 0.8092 - val_binary_accuracy: 0.8647\n",
            "Epoch 4/20\n",
            "15000/15000 [==============================] - 1s 92us/step - loss: 0.0013 - binary_accuracy: 1.0000 - val_loss: 0.8321 - val_binary_accuracy: 0.8645\n",
            "Epoch 5/20\n",
            "15000/15000 [==============================] - 1s 92us/step - loss: 0.0035 - binary_accuracy: 0.9990 - val_loss: 0.9031 - val_binary_accuracy: 0.8563\n",
            "Epoch 6/20\n",
            "15000/15000 [==============================] - 1s 94us/step - loss: 9.3542e-04 - binary_accuracy: 1.0000 - val_loss: 0.8918 - val_binary_accuracy: 0.8624\n",
            "Epoch 7/20\n",
            "15000/15000 [==============================] - 1s 92us/step - loss: 6.9177e-04 - binary_accuracy: 1.0000 - val_loss: 0.9376 - val_binary_accuracy: 0.8622\n",
            "Epoch 8/20\n",
            "15000/15000 [==============================] - 1s 93us/step - loss: 0.0016 - binary_accuracy: 0.9998 - val_loss: 0.9806 - val_binary_accuracy: 0.8609\n",
            "Epoch 9/20\n",
            "15000/15000 [==============================] - 1s 91us/step - loss: 3.7398e-04 - binary_accuracy: 1.0000 - val_loss: 1.0082 - val_binary_accuracy: 0.8613\n",
            "Epoch 10/20\n",
            "15000/15000 [==============================] - 1s 92us/step - loss: 0.0038 - binary_accuracy: 0.9988 - val_loss: 1.0539 - val_binary_accuracy: 0.8596\n",
            "Epoch 11/20\n",
            "15000/15000 [==============================] - 1s 94us/step - loss: 2.0891e-04 - binary_accuracy: 1.0000 - val_loss: 1.0706 - val_binary_accuracy: 0.8586\n",
            "Epoch 12/20\n",
            "15000/15000 [==============================] - 1s 93us/step - loss: 1.7898e-04 - binary_accuracy: 1.0000 - val_loss: 1.0931 - val_binary_accuracy: 0.8592\n",
            "Epoch 13/20\n",
            "15000/15000 [==============================] - 1s 93us/step - loss: 1.4949e-04 - binary_accuracy: 1.0000 - val_loss: 1.1399 - val_binary_accuracy: 0.8595\n",
            "Epoch 14/20\n",
            "15000/15000 [==============================] - 1s 94us/step - loss: 0.0013 - binary_accuracy: 0.9994 - val_loss: 1.2058 - val_binary_accuracy: 0.8575\n",
            "Epoch 15/20\n",
            "15000/15000 [==============================] - 1s 94us/step - loss: 7.6868e-05 - binary_accuracy: 1.0000 - val_loss: 1.2170 - val_binary_accuracy: 0.8585\n",
            "Epoch 16/20\n",
            "15000/15000 [==============================] - 1s 92us/step - loss: 6.3130e-05 - binary_accuracy: 1.0000 - val_loss: 1.2362 - val_binary_accuracy: 0.8583\n",
            "Epoch 17/20\n",
            "15000/15000 [==============================] - 1s 92us/step - loss: 5.2095e-05 - binary_accuracy: 1.0000 - val_loss: 1.2802 - val_binary_accuracy: 0.8578\n",
            "Epoch 18/20\n",
            "15000/15000 [==============================] - 1s 94us/step - loss: 0.0026 - binary_accuracy: 0.9993 - val_loss: 1.3208 - val_binary_accuracy: 0.8572\n",
            "Epoch 19/20\n",
            "15000/15000 [==============================] - 1s 93us/step - loss: 3.4407e-05 - binary_accuracy: 1.0000 - val_loss: 1.3315 - val_binary_accuracy: 0.8567\n",
            "Epoch 20/20\n",
            "15000/15000 [==============================] - 1s 91us/step - loss: 2.7928e-05 - binary_accuracy: 1.0000 - val_loss: 1.3469 - val_binary_accuracy: 0.8567\n"
          ],
          "name": "stdout"
        }
      ]
    },
    {
      "cell_type": "code",
      "metadata": {
        "id": "EfdBIss2H5n8",
        "colab_type": "code",
        "colab": {
          "base_uri": "https://localhost:8080/",
          "height": 34
        },
        "outputId": "b51dc7b4-885f-4673-a94e-9ab90b5e2709"
      },
      "source": [
        "history_dict = history.history\n",
        "history_dict.keys()"
      ],
      "execution_count": 73,
      "outputs": [
        {
          "output_type": "execute_result",
          "data": {
            "text/plain": [
              "dict_keys(['val_loss', 'val_binary_accuracy', 'loss', 'binary_accuracy'])"
            ]
          },
          "metadata": {
            "tags": []
          },
          "execution_count": 73
        }
      ]
    },
    {
      "cell_type": "code",
      "metadata": {
        "id": "QmcBr-LmIA4Q",
        "colab_type": "code",
        "colab": {}
      },
      "source": [
        "#这有一个很好的例子：想象两张彩色纸:一张红的，一张蓝的。把一个放在另一个上面。现在把它们揉成一个小球。\n",
        "#这个皱巴巴的纸球就是你的输入数据，每一张纸都是分类问题中的一类数据。神经网络(或任何其他机器学习模型)要做的，就是找出一个纸球的变换，使它不被揉皱，从而使这两个类再次清晰地分离。\n",
        "#通过深度学习，这可以实现为3D空间的一系列简单转换，比如你可以用手指在纸球上应用，一次一个动作。"
      ],
      "execution_count": 0,
      "outputs": []
    },
    {
      "cell_type": "code",
      "metadata": {
        "id": "YBJPDdZnJktC",
        "colab_type": "code",
        "colab": {}
      },
      "source": [
        "#张量点\n",
        "def naive_vector_dot(x, y):\n",
        "  assert len(x.shape) == 1\n",
        "  assert len(y.shape) == 1\n",
        "  assert x.shape[0] == y.shape[0]\n",
        "  z = 0.\n",
        "  for i in range(x.shape[0]):\n",
        "    z += x[i] * y[i]\n",
        "    return z\n",
        "#两个向量之间的点积是一个标量，只有元素数量相同的向量才兼容点积\n"
      ],
      "execution_count": 0,
      "outputs": []
    },
    {
      "cell_type": "code",
      "metadata": {
        "id": "_pASQAXzKQ3U",
        "colab_type": "code",
        "colab": {}
      },
      "source": [
        "#我也可以取矩阵x和向量y之间的点积，它会返回一个向量，其中系数是y和x的行之间的点积。\n",
        "import numpy as np\n",
        "def naive_matrix_vector_dot(x, y):\n",
        "  assert len(x.shape) == 2\n",
        "  assert len(y.shape) == 1\n",
        "  assert x.shape[1] == y.shape[0]\n",
        "  z = np.zeros(x.shape[0])\n",
        "  for i in range(x.shape[0]):\n",
        "    for j in range(x.shape[1]):\n",
        "      z[i] += x[i, j] * y[j]\n",
        "      return z\n",
        "#x是一个Numpy矩阵。\n",
        "#y是一个Numpy向量。\n",
        "#x的第一个维度必须和y的第0个维度相同\n",
        "#最后返回向量0和y的形状相同。"
      ],
      "execution_count": 0,
      "outputs": []
    },
    {
      "cell_type": "code",
      "metadata": {
        "id": "gxfBq17yzV7b",
        "colab_type": "code",
        "colab": {}
      },
      "source": [
        "def naive_matrix_dot(x, y):\n",
        "  assert len(x.shape) == 2\n",
        "  assert len(y.shape) == 2\n",
        "  assert x.shape[1] == y.shape[0]\n",
        "  z = np.zeros((x.shape[0], y.shape[1]))#该操作返回具有特定形状的0矩阵\n",
        "  for i in range(x.shape[0]):\n",
        "    for j in range(y.shape[1]):\n",
        "      row_x = x[i, :]\n",
        "      column_y = y[:, j]\n",
        "      z[i, j] = naive_vector_dot(row_x, column_y)\n",
        "    return z\n",
        "#x的第一个维度必须和y的第0个维度相同，x和y是Numpy矩阵   "
      ],
      "execution_count": 0,
      "outputs": []
    },
    {
      "cell_type": "code",
      "metadata": {
        "id": "4v9DlHXpzx_p",
        "colab_type": "code",
        "colab": {
          "base_uri": "https://localhost:8080/",
          "height": 34
        },
        "outputId": "48003d04-f0ce-4c4b-ed62-298bd8135074"
      },
      "source": [
        "#重塑张量\n",
        "x = np.array([[0., 1.],[2., 3.],[4., 5.]])\n",
        "print(x.shape)"
      ],
      "execution_count": 85,
      "outputs": [
        {
          "output_type": "stream",
          "text": [
            "(3, 2)\n"
          ],
          "name": "stdout"
        }
      ]
    },
    {
      "cell_type": "code",
      "metadata": {
        "id": "BysaNiJnz6Bo",
        "colab_type": "code",
        "colab": {
          "base_uri": "https://localhost:8080/",
          "height": 118
        },
        "outputId": "ba3c7e8b-29a0-45c3-9a56-cab035545592"
      },
      "source": [
        "x = x.reshape((6, 1))\n",
        "x"
      ],
      "execution_count": 83,
      "outputs": [
        {
          "output_type": "execute_result",
          "data": {
            "text/plain": [
              "array([[0.],\n",
              "       [1.],\n",
              "       [2.],\n",
              "       [3.],\n",
              "       [4.],\n",
              "       [5.]])"
            ]
          },
          "metadata": {
            "tags": []
          },
          "execution_count": 83
        }
      ]
    },
    {
      "cell_type": "code",
      "metadata": {
        "id": "Qrt16-Pwz9oo",
        "colab_type": "code",
        "colab": {
          "base_uri": "https://localhost:8080/",
          "height": 50
        },
        "outputId": "f8218cd8-b6f4-4f74-e51d-a4413849958c"
      },
      "source": [
        "x = x.reshape((2, 3))\n",
        "x"
      ],
      "execution_count": 84,
      "outputs": [
        {
          "output_type": "execute_result",
          "data": {
            "text/plain": [
              "array([[0., 1., 2.],\n",
              "       [3., 4., 5.]])"
            ]
          },
          "metadata": {
            "tags": []
          },
          "execution_count": 84
        }
      ]
    }
  ]
}