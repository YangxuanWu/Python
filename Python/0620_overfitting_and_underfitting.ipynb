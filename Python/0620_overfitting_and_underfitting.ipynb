{
  "nbformat": 4,
  "nbformat_minor": 0,
  "metadata": {
    "colab": {
      "name": "0620-overfitting-and-underfitting.ipynb",
      "provenance": [],
      "collapsed_sections": [],
      "authorship_tag": "ABX9TyNA/SHhzuiyiyUWF8gkOhx1",
      "include_colab_link": true
    },
    "kernelspec": {
      "name": "python3",
      "display_name": "Python 3"
    }
  },
  "cells": [
    {
      "cell_type": "markdown",
      "metadata": {
        "id": "view-in-github",
        "colab_type": "text"
      },
      "source": [
        "<a href=\"https://colab.research.google.com/github/YangxuanWu/Python/blob/master/Python/0620_overfitting_and_underfitting.ipynb\" target=\"_parent\"><img src=\"https://colab.research.google.com/assets/colab-badge.svg\" alt=\"Open In Colab\"/></a>"
      ]
    },
    {
      "cell_type": "code",
      "metadata": {
        "id": "AI1DLEnXU_72",
        "colab_type": "code",
        "colab": {}
      },
      "source": [
        " \n",
        "import pandas as pd   \n",
        "mydata_txt = pd.read_csv('C:/Python/ashleymad.txt',sep = '\\t',encoding = 'utf-8', names=['Email'])\n",
        "mydata_txt\n",
        "\n",
        "mydata_txt.shape\n",
        "mydata_txt.info()\n",
        "mydata_txt.dtypes\n",
        "mydata_txt.isnull()\n",
        "mydata_txt.values\n",
        "\n",
        "alist = ['gmail.com']\n",
        "mydata_txt['Email'].isin(alist) \n",
        "mydata_txt[mydata_txt['Email'].isin(alist)]\n",
        "\n",
        "alist = ['ilstu.edu']\n",
        "mydata_txt['Email'].isin(alist) \n",
        "mydata_txt[mydata_txt['Email'].isin(alist)]\n",
        "\n",
        "alist = ['statefarm.com']\n",
        "mydata_txt['Email'].isin(alist) \n",
        "a = mydata_txt[mydata_txt['Email'].isin(alist)]\n",
        "a.shape\n",
        "\n",
        "a = mydata_txt.apply(pd.value_counts)\n",
        "mydata_txt.apply(pd.value_counts).to_csv(\"C:/Python/ashleymad.csv\") \n",
        "\n",
        "\n",
        "\n",
        "from pandas import DataFrame\n",
        "df = mydata_txt\n",
        "print (df)\n",
        "\n",
        "Count = df.apply(pd.value_counts) \n",
        "Count\n",
        "\n",
        "a = df['Email'].values.tolist()\n",
        "str1 = df['Email'].values.tolist()\n",
        "\n",
        "#不能运行，放在这存一下，方便复习。"
      ],
      "execution_count": null,
      "outputs": []
    },
    {
      "cell_type": "code",
      "metadata": {
        "id": "As3CbZTYbetQ",
        "colab_type": "code",
        "colab": {
          "base_uri": "https://localhost:8080/",
          "height": 50
        },
        "outputId": "5d6b0950-8e01-4fce-9c37-cfc962055bb5"
      },
      "source": [
        "#数据集中信息分为两部分，一部分是和预测未来数据有关的数据，另一部分是无关的，两者地位是平等的。用来作为预测的评判标准越不精确，\n",
        "#表明噪声数据就越多，需要忽略掉的数据也就越多，而关键就是究竟那一部分应该忽略掉。\n",
        "#所以把一个学习算法对噪声的削减能力就叫做它的鲁棒性。我们需要的就是鲁棒性很强的学习算法\n",
        "#我能理解的就是数据少特征多就发生overfitting。参数少，训练数据过大，就会发生underfitting\n",
        "\n",
        "import keras\n",
        "keras.__version__"
      ],
      "execution_count": 1,
      "outputs": [
        {
          "output_type": "stream",
          "text": [
            "Using TensorFlow backend.\n"
          ],
          "name": "stderr"
        },
        {
          "output_type": "execute_result",
          "data": {
            "text/plain": [
              "'2.3.1'"
            ]
          },
          "metadata": {
            "tags": []
          },
          "execution_count": 1
        }
      ]
    },
    {
      "cell_type": "code",
      "metadata": {
        "id": "gTvBCCyKx5N2",
        "colab_type": "code",
        "colab": {
          "base_uri": "https://localhost:8080/",
          "height": 50
        },
        "outputId": "bbdf219f-c165-45d9-9e71-1d0ca491641f"
      },
      "source": [
        "from keras.datasets import imdb\n",
        "import numpy as np\n",
        "\n",
        "(train_data, train_labels), (test_data, test_labels) = imdb.load_data(num_words=10000)\n",
        "\n",
        "def vectorize_sequences(sequences, dimension=10000):\n",
        "    # Create an all-zero matrix of shape (len(sequences), dimension)\n",
        "    results = np.zeros((len(sequences), dimension))\n",
        "    for i, sequence in enumerate(sequences):\n",
        "        results[i, sequence] = 1.  # set specific indices of results[i] to 1s\n",
        "    return results\n",
        "\n",
        "# Our vectorized training data\n",
        "x_train = vectorize_sequences(train_data)\n",
        "# Our vectorized test data\n",
        "x_test = vectorize_sequences(test_data)\n",
        "# Our vectorized labels\n",
        "y_train = np.asarray(train_labels).astype('float32')\n",
        "y_test = np.asarray(test_labels).astype('float32')"
      ],
      "execution_count": 2,
      "outputs": [
        {
          "output_type": "stream",
          "text": [
            "Downloading data from https://s3.amazonaws.com/text-datasets/imdb.npz\n",
            "17465344/17464789 [==============================] - 1s 0us/step\n"
          ],
          "name": "stdout"
        }
      ]
    },
    {
      "cell_type": "code",
      "metadata": {
        "id": "XsDjcBI5hZeW",
        "colab_type": "code",
        "colab": {}
      },
      "source": [
        "from keras import models\n",
        "from keras import layers\n",
        "\n",
        "original_model = models.Sequential()\n",
        "original_model.add(layers.Dense(16, activation='relu', input_shape=(10000,)))\n",
        "original_model.add(layers.Dense(16, activation='relu'))\n",
        "original_model.add(layers.Dense(1, activation='sigmoid'))\n",
        "\n",
        "original_model.compile(optimizer='rmsprop',\n",
        "                       loss='binary_crossentropy',\n",
        "                       metrics=['acc'])"
      ],
      "execution_count": 3,
      "outputs": []
    },
    {
      "cell_type": "code",
      "metadata": {
        "id": "AxxURpQwyC8-",
        "colab_type": "code",
        "colab": {}
      },
      "source": [
        "smaller_model = models.Sequential()\n",
        "smaller_model.add(layers.Dense(4, activation='relu', input_shape=(10000,)))\n",
        "smaller_model.add(layers.Dense(4, activation='relu'))\n",
        "smaller_model.add(layers.Dense(1, activation='sigmoid'))\n",
        "\n",
        "smaller_model.compile(optimizer='rmsprop',\n",
        "                      loss='binary_crossentropy',\n",
        "                      metrics=['acc'])"
      ],
      "execution_count": 4,
      "outputs": []
    },
    {
      "cell_type": "code",
      "metadata": {
        "id": "iDNqQ4xzyGRP",
        "colab_type": "code",
        "colab": {
          "base_uri": "https://localhost:8080/",
          "height": 706
        },
        "outputId": "b349d0e8-fb22-40e3-c57f-f90a9522683f"
      },
      "source": [
        "original_hist = original_model.fit(x_train, y_train,\n",
        "                                   epochs=20,\n",
        "                                   batch_size=512,\n",
        "                                   validation_data=(x_test, y_test))"
      ],
      "execution_count": 5,
      "outputs": [
        {
          "output_type": "stream",
          "text": [
            "Train on 25000 samples, validate on 25000 samples\n",
            "Epoch 1/20\n",
            "25000/25000 [==============================] - 3s 119us/step - loss: 0.4526 - acc: 0.8237 - val_loss: 0.3356 - val_acc: 0.8803\n",
            "Epoch 2/20\n",
            "25000/25000 [==============================] - 3s 104us/step - loss: 0.2541 - acc: 0.9095 - val_loss: 0.2824 - val_acc: 0.8890\n",
            "Epoch 3/20\n",
            "25000/25000 [==============================] - 3s 105us/step - loss: 0.1987 - acc: 0.9288 - val_loss: 0.2817 - val_acc: 0.8872\n",
            "Epoch 4/20\n",
            "25000/25000 [==============================] - 3s 104us/step - loss: 0.1672 - acc: 0.9398 - val_loss: 0.2958 - val_acc: 0.8838\n",
            "Epoch 5/20\n",
            "25000/25000 [==============================] - 3s 106us/step - loss: 0.1418 - acc: 0.9500 - val_loss: 0.3245 - val_acc: 0.8760\n",
            "Epoch 6/20\n",
            "25000/25000 [==============================] - 3s 106us/step - loss: 0.1261 - acc: 0.9568 - val_loss: 0.3373 - val_acc: 0.8748\n",
            "Epoch 7/20\n",
            "25000/25000 [==============================] - 3s 104us/step - loss: 0.1098 - acc: 0.9629 - val_loss: 0.3608 - val_acc: 0.8727\n",
            "Epoch 8/20\n",
            "25000/25000 [==============================] - 3s 105us/step - loss: 0.0988 - acc: 0.9664 - val_loss: 0.3975 - val_acc: 0.8678\n",
            "Epoch 9/20\n",
            "25000/25000 [==============================] - 3s 105us/step - loss: 0.0880 - acc: 0.9711 - val_loss: 0.4231 - val_acc: 0.8628\n",
            "Epoch 10/20\n",
            "25000/25000 [==============================] - 3s 105us/step - loss: 0.0770 - acc: 0.9752 - val_loss: 0.4384 - val_acc: 0.8655\n",
            "Epoch 11/20\n",
            "25000/25000 [==============================] - 3s 107us/step - loss: 0.0690 - acc: 0.9786 - val_loss: 0.4692 - val_acc: 0.8626\n",
            "Epoch 12/20\n",
            "25000/25000 [==============================] - 3s 106us/step - loss: 0.0596 - acc: 0.9816 - val_loss: 0.5023 - val_acc: 0.8590\n",
            "Epoch 13/20\n",
            "25000/25000 [==============================] - 3s 105us/step - loss: 0.0520 - acc: 0.9841 - val_loss: 0.5465 - val_acc: 0.8538\n",
            "Epoch 14/20\n",
            "25000/25000 [==============================] - 3s 105us/step - loss: 0.0446 - acc: 0.9871 - val_loss: 0.5769 - val_acc: 0.8528\n",
            "Epoch 15/20\n",
            "25000/25000 [==============================] - 3s 105us/step - loss: 0.0403 - acc: 0.9882 - val_loss: 0.6260 - val_acc: 0.8503\n",
            "Epoch 16/20\n",
            "25000/25000 [==============================] - 3s 106us/step - loss: 0.0328 - acc: 0.9910 - val_loss: 0.6769 - val_acc: 0.8475\n",
            "Epoch 17/20\n",
            "25000/25000 [==============================] - 3s 106us/step - loss: 0.0283 - acc: 0.9929 - val_loss: 0.6917 - val_acc: 0.8501\n",
            "Epoch 18/20\n",
            "25000/25000 [==============================] - 3s 104us/step - loss: 0.0242 - acc: 0.9936 - val_loss: 0.8362 - val_acc: 0.8358\n",
            "Epoch 19/20\n",
            "25000/25000 [==============================] - 3s 105us/step - loss: 0.0211 - acc: 0.9946 - val_loss: 0.8254 - val_acc: 0.8426\n",
            "Epoch 20/20\n",
            "25000/25000 [==============================] - 3s 106us/step - loss: 0.0193 - acc: 0.9949 - val_loss: 0.7861 - val_acc: 0.8494\n"
          ],
          "name": "stdout"
        }
      ]
    },
    {
      "cell_type": "code",
      "metadata": {
        "id": "gIfhxf-9yMx1",
        "colab_type": "code",
        "colab": {
          "base_uri": "https://localhost:8080/",
          "height": 706
        },
        "outputId": "0c77843a-0fbf-455c-c5e9-cd7857d331c5"
      },
      "source": [
        "smaller_model_hist = smaller_model.fit(x_train, y_train,\n",
        "                                       epochs=20,\n",
        "                                       batch_size=512,\n",
        "                                       validation_data=(x_test, y_test))"
      ],
      "execution_count": 6,
      "outputs": [
        {
          "output_type": "stream",
          "text": [
            "Train on 25000 samples, validate on 25000 samples\n",
            "Epoch 1/20\n",
            "25000/25000 [==============================] - 3s 105us/step - loss: 0.5811 - acc: 0.7564 - val_loss: 0.4940 - val_acc: 0.8627\n",
            "Epoch 2/20\n",
            "25000/25000 [==============================] - 3s 102us/step - loss: 0.4035 - acc: 0.8870 - val_loss: 0.3781 - val_acc: 0.8787\n",
            "Epoch 3/20\n",
            "25000/25000 [==============================] - 3s 104us/step - loss: 0.3002 - acc: 0.9094 - val_loss: 0.3203 - val_acc: 0.8837\n",
            "Epoch 4/20\n",
            "25000/25000 [==============================] - 3s 102us/step - loss: 0.2426 - acc: 0.9217 - val_loss: 0.2902 - val_acc: 0.8901\n",
            "Epoch 5/20\n",
            "25000/25000 [==============================] - 3s 102us/step - loss: 0.2059 - acc: 0.9321 - val_loss: 0.2837 - val_acc: 0.8875\n",
            "Epoch 6/20\n",
            "25000/25000 [==============================] - 3s 102us/step - loss: 0.1816 - acc: 0.9384 - val_loss: 0.2845 - val_acc: 0.8870\n",
            "Epoch 7/20\n",
            "25000/25000 [==============================] - 3s 102us/step - loss: 0.1630 - acc: 0.9452 - val_loss: 0.2863 - val_acc: 0.8864\n",
            "Epoch 8/20\n",
            "25000/25000 [==============================] - 3s 101us/step - loss: 0.1487 - acc: 0.9495 - val_loss: 0.2928 - val_acc: 0.8859\n",
            "Epoch 9/20\n",
            "25000/25000 [==============================] - 3s 100us/step - loss: 0.1355 - acc: 0.9551 - val_loss: 0.3032 - val_acc: 0.8830\n",
            "Epoch 10/20\n",
            "25000/25000 [==============================] - 3s 100us/step - loss: 0.1248 - acc: 0.9597 - val_loss: 0.3155 - val_acc: 0.8815\n",
            "Epoch 11/20\n",
            "25000/25000 [==============================] - 3s 101us/step - loss: 0.1150 - acc: 0.9631 - val_loss: 0.3301 - val_acc: 0.8784\n",
            "Epoch 12/20\n",
            "25000/25000 [==============================] - 3s 100us/step - loss: 0.1053 - acc: 0.9664 - val_loss: 0.3460 - val_acc: 0.8761\n",
            "Epoch 13/20\n",
            "25000/25000 [==============================] - 3s 101us/step - loss: 0.0977 - acc: 0.9688 - val_loss: 0.3610 - val_acc: 0.8753\n",
            "Epoch 14/20\n",
            "25000/25000 [==============================] - 3s 100us/step - loss: 0.0899 - acc: 0.9718 - val_loss: 0.3797 - val_acc: 0.8728\n",
            "Epoch 15/20\n",
            "25000/25000 [==============================] - 3s 101us/step - loss: 0.0827 - acc: 0.9742 - val_loss: 0.4004 - val_acc: 0.8696\n",
            "Epoch 16/20\n",
            "25000/25000 [==============================] - 2s 100us/step - loss: 0.0765 - acc: 0.9768 - val_loss: 0.4228 - val_acc: 0.8680\n",
            "Epoch 17/20\n",
            "25000/25000 [==============================] - 3s 101us/step - loss: 0.0707 - acc: 0.9796 - val_loss: 0.4507 - val_acc: 0.8663\n",
            "Epoch 18/20\n",
            "25000/25000 [==============================] - 3s 101us/step - loss: 0.0651 - acc: 0.9810 - val_loss: 0.4631 - val_acc: 0.8660\n",
            "Epoch 19/20\n",
            "25000/25000 [==============================] - 3s 102us/step - loss: 0.0605 - acc: 0.9826 - val_loss: 0.4835 - val_acc: 0.8622\n",
            "Epoch 20/20\n",
            "25000/25000 [==============================] - 3s 101us/step - loss: 0.0547 - acc: 0.9852 - val_loss: 0.5111 - val_acc: 0.8598\n"
          ],
          "name": "stdout"
        }
      ]
    },
    {
      "cell_type": "code",
      "metadata": {
        "id": "KOQrtfQ4yNd4",
        "colab_type": "code",
        "colab": {}
      },
      "source": [
        "epochs = range(1, 21)\n",
        "original_val_loss = original_hist.history['val_loss']\n",
        "smaller_model_val_loss = smaller_model_hist.history['val_loss']"
      ],
      "execution_count": 7,
      "outputs": []
    },
    {
      "cell_type": "code",
      "metadata": {
        "id": "cP5ynTZQyQZ7",
        "colab_type": "code",
        "colab": {
          "base_uri": "https://localhost:8080/",
          "height": 279
        },
        "outputId": "3dc03936-1bf3-4d08-e85b-90a0190a94fd"
      },
      "source": [
        "import matplotlib.pyplot as plt\n",
        "\n",
        "# b+ is for \"blue cross\"\n",
        "plt.plot(epochs, original_val_loss, 'b+', label='Original model')\n",
        "# \"bo\" is for \"blue dot\"\n",
        "plt.plot(epochs, smaller_model_val_loss, 'bo', label='Smaller model')\n",
        "plt.xlabel('Epochs')\n",
        "plt.ylabel('Validation loss')\n",
        "plt.legend()\n",
        "\n",
        "plt.show()"
      ],
      "execution_count": 8,
      "outputs": [
        {
          "output_type": "display_data",
          "data": {
            "image/png": "[encoded data removed]",
            "text/plain": [
              "<Figure size 432x288 with 1 Axes>"
            ]
          },
          "metadata": {
            "tags": [],
            "needs_background": "light"
          }
        }
      ]
    },
    {
      "cell_type": "code",
      "metadata": {
        "id": "VzuFvqezyUhy",
        "colab_type": "code",
        "colab": {}
      },
      "source": [
        "bigger_model = models.Sequential()\n",
        "bigger_model.add(layers.Dense(512, activation='relu', input_shape=(10000,)))\n",
        "bigger_model.add(layers.Dense(512, activation='relu'))\n",
        "bigger_model.add(layers.Dense(1, activation='sigmoid'))\n",
        "\n",
        "bigger_model.compile(optimizer='rmsprop',\n",
        "                     loss='binary_crossentropy',\n",
        "                     metrics=['acc'])"
      ],
      "execution_count": 9,
      "outputs": []
    },
    {
      "cell_type": "code",
      "metadata": {
        "id": "wUuw4un-yU_x",
        "colab_type": "code",
        "colab": {
          "base_uri": "https://localhost:8080/",
          "height": 706
        },
        "outputId": "fc509698-806a-4ee5-89da-2e9d657a3275"
      },
      "source": [
        "bigger_model_hist = bigger_model.fit(x_train, y_train,\n",
        "                                     epochs=20,\n",
        "                                     batch_size=512,\n",
        "                                     validation_data=(x_test, y_test))"
      ],
      "execution_count": 10,
      "outputs": [
        {
          "output_type": "stream",
          "text": [
            "Train on 25000 samples, validate on 25000 samples\n",
            "Epoch 1/20\n",
            "25000/25000 [==============================] - 12s 486us/step - loss: 0.4582 - acc: 0.8004 - val_loss: 0.4310 - val_acc: 0.8123\n",
            "Epoch 2/20\n",
            "25000/25000 [==============================] - 12s 490us/step - loss: 0.2221 - acc: 0.9117 - val_loss: 0.2897 - val_acc: 0.8858\n",
            "Epoch 3/20\n",
            "25000/25000 [==============================] - 12s 491us/step - loss: 0.1336 - acc: 0.9504 - val_loss: 0.3351 - val_acc: 0.8852\n",
            "Epoch 4/20\n",
            "25000/25000 [==============================] - 12s 497us/step - loss: 0.0643 - acc: 0.9811 - val_loss: 0.6814 - val_acc: 0.8376\n",
            "Epoch 5/20\n",
            "25000/25000 [==============================] - 12s 496us/step - loss: 0.0776 - acc: 0.9873 - val_loss: 0.5123 - val_acc: 0.8792\n",
            "Epoch 6/20\n",
            "25000/25000 [==============================] - 12s 490us/step - loss: 0.0830 - acc: 0.9879 - val_loss: 0.4708 - val_acc: 0.8745\n",
            "Epoch 7/20\n",
            "25000/25000 [==============================] - 12s 488us/step - loss: 0.0018 - acc: 0.9999 - val_loss: 0.6801 - val_acc: 0.8797\n",
            "Epoch 8/20\n",
            "25000/25000 [==============================] - 12s 481us/step - loss: 0.0911 - acc: 0.9923 - val_loss: 1.6987 - val_acc: 0.7856\n",
            "Epoch 9/20\n",
            "25000/25000 [==============================] - 12s 487us/step - loss: 0.0101 - acc: 0.9987 - val_loss: 0.7175 - val_acc: 0.8779\n",
            "Epoch 10/20\n",
            "25000/25000 [==============================] - 12s 487us/step - loss: 1.6314e-04 - acc: 1.0000 - val_loss: 0.8805 - val_acc: 0.8783\n",
            "Epoch 11/20\n",
            "25000/25000 [==============================] - 12s 488us/step - loss: 0.1321 - acc: 0.9883 - val_loss: 0.7614 - val_acc: 0.8709\n",
            "Epoch 12/20\n",
            "25000/25000 [==============================] - 12s 488us/step - loss: 9.5210e-04 - acc: 0.9998 - val_loss: 0.7412 - val_acc: 0.8755\n",
            "Epoch 13/20\n",
            "25000/25000 [==============================] - 12s 486us/step - loss: 5.4386e-05 - acc: 1.0000 - val_loss: 0.9123 - val_acc: 0.8776\n",
            "Epoch 14/20\n",
            "25000/25000 [==============================] - 12s 487us/step - loss: 6.2757e-06 - acc: 1.0000 - val_loss: 1.0671 - val_acc: 0.8773\n",
            "Epoch 15/20\n",
            "25000/25000 [==============================] - 12s 485us/step - loss: 0.0922 - acc: 0.9910 - val_loss: 0.9594 - val_acc: 0.8718\n",
            "Epoch 16/20\n",
            "25000/25000 [==============================] - 12s 490us/step - loss: 2.3992e-05 - acc: 1.0000 - val_loss: 0.9832 - val_acc: 0.8745\n",
            "Epoch 17/20\n",
            "25000/25000 [==============================] - 12s 497us/step - loss: 5.9353e-06 - acc: 1.0000 - val_loss: 1.0377 - val_acc: 0.8766\n",
            "Epoch 18/20\n",
            "25000/25000 [==============================] - 12s 500us/step - loss: 1.6350e-06 - acc: 1.0000 - val_loss: 1.1442 - val_acc: 0.8784\n",
            "Epoch 19/20\n",
            "25000/25000 [==============================] - 12s 496us/step - loss: 3.8953e-07 - acc: 1.0000 - val_loss: 1.2652 - val_acc: 0.8777\n",
            "Epoch 20/20\n",
            "25000/25000 [==============================] - 12s 498us/step - loss: 9.3569e-08 - acc: 1.0000 - val_loss: 1.3552 - val_acc: 0.8778\n"
          ],
          "name": "stdout"
        }
      ]
    },
    {
      "cell_type": "code",
      "metadata": {
        "id": "txRgtnomyak8",
        "colab_type": "code",
        "colab": {
          "base_uri": "https://localhost:8080/",
          "height": 279
        },
        "outputId": "f92d291d-071e-431a-f59a-b59e1eed9745"
      },
      "source": [
        "#点表示大网络的验证损失值，十字表示初始网络。\n",
        "bigger_model_val_loss = bigger_model_hist.history['val_loss']\n",
        "\n",
        "plt.plot(epochs, original_val_loss, 'b+', label='Original model')\n",
        "plt.plot(epochs, bigger_model_val_loss, 'bo', label='Bigger model')\n",
        "plt.xlabel('Epochs')\n",
        "plt.ylabel('Validation loss')\n",
        "plt.legend()\n",
        "\n",
        "plt.show()"
      ],
      "execution_count": 11,
      "outputs": [
        {
          "output_type": "display_data",
          "data": {
            "image/png": "[encoded data removed]",
            "text/plain": [
              "<Figure size 432x288 with 1 Axes>"
            ]
          },
          "metadata": {
            "tags": [],
            "needs_background": "light"
          }
        }
      ]
    },
    {
      "cell_type": "code",
      "metadata": {
        "id": "GBlgvWQbyc6C",
        "colab_type": "code",
        "colab": {
          "base_uri": "https://localhost:8080/",
          "height": 279
        },
        "outputId": "e2fbb0a2-11db-4423-c97e-f3cd84395578"
      },
      "source": [
        "\n",
        "original_train_loss = original_hist.history['loss']\n",
        "bigger_model_train_loss = bigger_model_hist.history['loss']\n",
        "\n",
        "plt.plot(epochs, original_train_loss, 'b+', label='Original model')\n",
        "plt.plot(epochs, bigger_model_train_loss, 'bo', label='Bigger model')\n",
        "plt.xlabel('Epochs')\n",
        "plt.ylabel('Training loss')\n",
        "plt.legend()\n",
        "\n",
        "plt.show()"
      ],
      "execution_count": 12,
      "outputs": [
        {
          "output_type": "display_data",
          "data": {
            "image/png": "[encoded data removed]",
            "text/plain": [
              "<Figure size 432x288 with 1 Axes>"
            ]
          },
          "metadata": {
            "tags": [],
            "needs_background": "light"
          }
        }
      ]
    },
    {
      "cell_type": "code",
      "metadata": {
        "id": "F2az0ucFye42",
        "colab_type": "code",
        "colab": {}
      },
      "source": [
        "from keras import regularizers\n",
        "\n",
        "l2_model = models.Sequential()\n",
        "l2_model.add(layers.Dense(16, kernel_regularizer=regularizers.l2(0.001),\n",
        "                          activation='relu', input_shape=(10000,)))\n",
        "l2_model.add(layers.Dense(16, kernel_regularizer=regularizers.l2(0.001),\n",
        "                          activation='relu'))\n",
        "l2_model.add(layers.Dense(1, activation='sigmoid'))"
      ],
      "execution_count": 16,
      "outputs": []
    },
    {
      "cell_type": "code",
      "metadata": {
        "id": "ukXgK8sEyhj9",
        "colab_type": "code",
        "colab": {}
      },
      "source": [
        "l2_model.compile(optimizer='rmsprop',\n",
        "                 loss='binary_crossentropy',\n",
        "                 metrics=['acc'])"
      ],
      "execution_count": 14,
      "outputs": []
    },
    {
      "cell_type": "code",
      "metadata": {
        "id": "_Tpw_VVEyjNc",
        "colab_type": "code",
        "colab": {
          "base_uri": "https://localhost:8080/",
          "height": 706
        },
        "outputId": "c2ce26e3-f126-4efe-8208-33f9ffa79f3c"
      },
      "source": [
        "\n",
        "l2_model_hist = l2_model.fit(x_train, y_train,\n",
        "                             epochs=20,\n",
        "                             batch_size=512,\n",
        "                             validation_data=(x_test, y_test))"
      ],
      "execution_count": 15,
      "outputs": [
        {
          "output_type": "stream",
          "text": [
            "Train on 25000 samples, validate on 25000 samples\n",
            "Epoch 1/20\n",
            "25000/25000 [==============================] - 3s 127us/step - loss: 0.5185 - acc: 0.8174 - val_loss: 0.3954 - val_acc: 0.8791\n",
            "Epoch 2/20\n",
            "25000/25000 [==============================] - 3s 119us/step - loss: 0.3278 - acc: 0.9031 - val_loss: 0.3390 - val_acc: 0.8879\n",
            "Epoch 3/20\n",
            "25000/25000 [==============================] - 3s 120us/step - loss: 0.2752 - acc: 0.9198 - val_loss: 0.3311 - val_acc: 0.8864\n",
            "Epoch 4/20\n",
            "25000/25000 [==============================] - 3s 121us/step - loss: 0.2512 - acc: 0.9274 - val_loss: 0.3357 - val_acc: 0.8847\n",
            "Epoch 5/20\n",
            "25000/25000 [==============================] - 3s 120us/step - loss: 0.2373 - acc: 0.9347 - val_loss: 0.3390 - val_acc: 0.8850\n",
            "Epoch 6/20\n",
            "25000/25000 [==============================] - 3s 118us/step - loss: 0.2281 - acc: 0.9365 - val_loss: 0.3501 - val_acc: 0.8809\n",
            "Epoch 7/20\n",
            "25000/25000 [==============================] - 3s 119us/step - loss: 0.2222 - acc: 0.9391 - val_loss: 0.3535 - val_acc: 0.8802\n",
            "Epoch 8/20\n",
            "25000/25000 [==============================] - 3s 118us/step - loss: 0.2176 - acc: 0.9405 - val_loss: 0.3609 - val_acc: 0.8793\n",
            "Epoch 9/20\n",
            "25000/25000 [==============================] - 3s 118us/step - loss: 0.2122 - acc: 0.9436 - val_loss: 0.3667 - val_acc: 0.8788\n",
            "Epoch 10/20\n",
            "25000/25000 [==============================] - 3s 116us/step - loss: 0.2072 - acc: 0.9458 - val_loss: 0.3755 - val_acc: 0.8756\n",
            "Epoch 11/20\n",
            "25000/25000 [==============================] - 3s 117us/step - loss: 0.2034 - acc: 0.9469 - val_loss: 0.4145 - val_acc: 0.8650\n",
            "Epoch 12/20\n",
            "25000/25000 [==============================] - 3s 115us/step - loss: 0.2009 - acc: 0.9492 - val_loss: 0.3872 - val_acc: 0.8729\n",
            "Epoch 13/20\n",
            "25000/25000 [==============================] - 3s 119us/step - loss: 0.1975 - acc: 0.9498 - val_loss: 0.3889 - val_acc: 0.8741\n",
            "Epoch 14/20\n",
            "25000/25000 [==============================] - 3s 117us/step - loss: 0.1918 - acc: 0.9510 - val_loss: 0.3970 - val_acc: 0.8710\n",
            "Epoch 15/20\n",
            "25000/25000 [==============================] - 3s 118us/step - loss: 0.1935 - acc: 0.9510 - val_loss: 0.4576 - val_acc: 0.8573\n",
            "Epoch 16/20\n",
            "25000/25000 [==============================] - 3s 116us/step - loss: 0.1890 - acc: 0.9515 - val_loss: 0.4043 - val_acc: 0.8715\n",
            "Epoch 17/20\n",
            "25000/25000 [==============================] - 3s 118us/step - loss: 0.1870 - acc: 0.9533 - val_loss: 0.4112 - val_acc: 0.8706\n",
            "Epoch 18/20\n",
            "25000/25000 [==============================] - 3s 116us/step - loss: 0.1815 - acc: 0.9533 - val_loss: 0.4124 - val_acc: 0.8696\n",
            "Epoch 19/20\n",
            "25000/25000 [==============================] - 3s 117us/step - loss: 0.1807 - acc: 0.9545 - val_loss: 0.4243 - val_acc: 0.8669\n",
            "Epoch 20/20\n",
            "25000/25000 [==============================] - 3s 117us/step - loss: 0.1759 - acc: 0.9570 - val_loss: 0.4257 - val_acc: 0.8668\n"
          ],
          "name": "stdout"
        }
      ]
    },
    {
      "cell_type": "code",
      "metadata": {
        "id": "X0PO9jztyk7t",
        "colab_type": "code",
        "colab": {
          "base_uri": "https://localhost:8080/",
          "height": 279
        },
        "outputId": "b51d56f1-c639-45d4-ba46-9a35de09ebcd"
      },
      "source": [
        "l2_model_val_loss = l2_model_hist.history['val_loss']\n",
        "\n",
        "plt.plot(epochs, original_val_loss, 'b+', label='Original model')\n",
        "plt.plot(epochs, l2_model_val_loss, 'bo', label='L2-regularized model')\n",
        "plt.xlabel('Epochs')\n",
        "plt.ylabel('Validation loss')\n",
        "plt.legend()\n",
        "\n",
        "plt.show()"
      ],
      "execution_count": 23,
      "outputs": [
        {
          "output_type": "display_data",
          "data": {
            "image/png": "[encoded data removed]",
            "text/plain": [
              "<Figure size 432x288 with 1 Axes>"
            ]
          },
          "metadata": {
            "tags": [],
            "needs_background": "light"
          }
        }
      ]
    },
    {
      "cell_type": "code",
      "metadata": {
        "id": "TKcnTW0symuh",
        "colab_type": "code",
        "colab": {
          "base_uri": "https://localhost:8080/",
          "height": 34
        },
        "outputId": "57769b67-42d9-48bc-950a-f65efbed216f"
      },
      "source": [
        "\n",
        "from keras import regularizers\n",
        "\n",
        "# L1 regularization\n",
        "regularizers.l1(0.001)\n",
        "\n",
        "# L1 and L2 regularization at the same time\n",
        "regularizers.l1_l2(l1=0.001, l2=0.001)"
      ],
      "execution_count": 25,
      "outputs": [
        {
          "output_type": "execute_result",
          "data": {
            "text/plain": [
              "<keras.regularizers.L1L2 at 0x7f4f26d59518>"
            ]
          },
          "metadata": {
            "tags": []
          },
          "execution_count": 25
        }
      ]
    },
    {
      "cell_type": "code",
      "metadata": {
        "id": "pKorO2tVyybl",
        "colab_type": "code",
        "colab": {}
      },
      "source": [
        "\n",
        "dpt_model = models.Sequential()\n",
        "dpt_model.add(layers.Dense(16, activation='relu', input_shape=(10000,)))\n",
        "dpt_model.add(layers.Dropout(0.5))\n",
        "dpt_model.add(layers.Dense(16, activation='relu'))\n",
        "dpt_model.add(layers.Dropout(0.5))\n",
        "dpt_model.add(layers.Dense(1, activation='sigmoid'))\n",
        "\n",
        "dpt_model.compile(optimizer='rmsprop',\n",
        "                  loss='binary_crossentropy',\n",
        "                  metrics=['acc'])"
      ],
      "execution_count": 27,
      "outputs": []
    },
    {
      "cell_type": "code",
      "metadata": {
        "id": "aU_r9tmMyzwZ",
        "colab_type": "code",
        "colab": {
          "base_uri": "https://localhost:8080/",
          "height": 706
        },
        "outputId": "dc7e36b1-65ac-4b0a-f682-c232816b96d1"
      },
      "source": [
        "dpt_model_hist = dpt_model.fit(x_train, y_train,\n",
        "                               epochs=20,\n",
        "                               batch_size=512,\n",
        "                               validation_data=(x_test, y_test))"
      ],
      "execution_count": 28,
      "outputs": [
        {
          "output_type": "stream",
          "text": [
            "Train on 25000 samples, validate on 25000 samples\n",
            "Epoch 1/20\n",
            "25000/25000 [==============================] - 4s 156us/step - loss: 0.5703 - acc: 0.7053 - val_loss: 0.4113 - val_acc: 0.8696\n",
            "Epoch 2/20\n",
            "25000/25000 [==============================] - 3s 116us/step - loss: 0.4156 - acc: 0.8305 - val_loss: 0.3256 - val_acc: 0.8800\n",
            "Epoch 3/20\n",
            "25000/25000 [==============================] - 3s 115us/step - loss: 0.3393 - acc: 0.8749 - val_loss: 0.2958 - val_acc: 0.8826\n",
            "Epoch 4/20\n",
            "25000/25000 [==============================] - 3s 114us/step - loss: 0.2892 - acc: 0.8994 - val_loss: 0.2854 - val_acc: 0.8872\n",
            "Epoch 5/20\n",
            "25000/25000 [==============================] - 3s 113us/step - loss: 0.2543 - acc: 0.9125 - val_loss: 0.2840 - val_acc: 0.8885\n",
            "Epoch 6/20\n",
            "25000/25000 [==============================] - 3s 115us/step - loss: 0.2256 - acc: 0.9242 - val_loss: 0.3061 - val_acc: 0.8834\n",
            "Epoch 7/20\n",
            "25000/25000 [==============================] - 3s 114us/step - loss: 0.2048 - acc: 0.9308 - val_loss: 0.3049 - val_acc: 0.8871\n",
            "Epoch 8/20\n",
            "25000/25000 [==============================] - 3s 115us/step - loss: 0.1930 - acc: 0.9352 - val_loss: 0.3290 - val_acc: 0.8847\n",
            "Epoch 9/20\n",
            "25000/25000 [==============================] - 3s 114us/step - loss: 0.1748 - acc: 0.9392 - val_loss: 0.3438 - val_acc: 0.8851\n",
            "Epoch 10/20\n",
            "25000/25000 [==============================] - 3s 116us/step - loss: 0.1709 - acc: 0.9434 - val_loss: 0.3611 - val_acc: 0.8830\n",
            "Epoch 11/20\n",
            "25000/25000 [==============================] - 3s 115us/step - loss: 0.1555 - acc: 0.9487 - val_loss: 0.3880 - val_acc: 0.8824\n",
            "Epoch 12/20\n",
            "25000/25000 [==============================] - 3s 115us/step - loss: 0.1477 - acc: 0.9480 - val_loss: 0.4005 - val_acc: 0.8829\n",
            "Epoch 13/20\n",
            "25000/25000 [==============================] - 3s 116us/step - loss: 0.1365 - acc: 0.9536 - val_loss: 0.4198 - val_acc: 0.8797\n",
            "Epoch 14/20\n",
            "25000/25000 [==============================] - 3s 115us/step - loss: 0.1329 - acc: 0.9556 - val_loss: 0.4454 - val_acc: 0.8792\n",
            "Epoch 15/20\n",
            "25000/25000 [==============================] - 3s 114us/step - loss: 0.1274 - acc: 0.9565 - val_loss: 0.4658 - val_acc: 0.8768\n",
            "Epoch 16/20\n",
            "25000/25000 [==============================] - 3s 114us/step - loss: 0.1277 - acc: 0.9571 - val_loss: 0.4853 - val_acc: 0.8780\n",
            "Epoch 17/20\n",
            "25000/25000 [==============================] - 3s 113us/step - loss: 0.1193 - acc: 0.9586 - val_loss: 0.4975 - val_acc: 0.8759\n",
            "Epoch 18/20\n",
            "25000/25000 [==============================] - 3s 115us/step - loss: 0.1184 - acc: 0.9592 - val_loss: 0.5323 - val_acc: 0.8762\n",
            "Epoch 19/20\n",
            "25000/25000 [==============================] - 3s 114us/step - loss: 0.1184 - acc: 0.9604 - val_loss: 0.5706 - val_acc: 0.8761\n",
            "Epoch 20/20\n",
            "25000/25000 [==============================] - 3s 115us/step - loss: 0.1186 - acc: 0.9586 - val_loss: 0.5400 - val_acc: 0.8698\n"
          ],
          "name": "stdout"
        }
      ]
    },
    {
      "cell_type": "code",
      "metadata": {
        "id": "YokPoz7py2rE",
        "colab_type": "code",
        "colab": {
          "base_uri": "https://localhost:8080/",
          "height": 279
        },
        "outputId": "5ebe2402-7759-4c3b-e702-41b0d2e9c9b4"
      },
      "source": [
        "dpt_model_val_loss = dpt_model_hist.history['val_loss']\n",
        "\n",
        "plt.plot(epochs, original_val_loss, 'b+', label='Original model')\n",
        "plt.plot(epochs, dpt_model_val_loss, 'bo', label='Dropout-regularized model')\n",
        "plt.xlabel('Epochs')\n",
        "plt.ylabel('Validation loss')\n",
        "plt.legend()\n",
        "\n",
        "plt.show()"
      ],
      "execution_count": 29,
      "outputs": [
        {
          "output_type": "display_data",
          "data": {
            "image/png": "[encoded data removed]",
            "text/plain": [
              "<Figure size 432x288 with 1 Axes>"
            ]
          },
          "metadata": {
            "tags": [],
            "needs_background": "light"
          }
        }
      ]
    },
    {
      "cell_type": "code",
      "metadata": {
        "id": "8gjv9zD9y4PR",
        "colab_type": "code",
        "colab": {}
      },
      "source": [
        ""
      ],
      "execution_count": null,
      "outputs": []
    }
  ]
}