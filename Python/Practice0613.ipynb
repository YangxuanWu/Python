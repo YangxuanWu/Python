{
  "nbformat": 4,
  "nbformat_minor": 0,
  "metadata": {
    "colab": {
      "name": "Practice0613.ipynb",
      "provenance": [],
      "collapsed_sections": [],
      "authorship_tag": "ABX9TyOZdjvmCOXdyH+tlnjEopzA",
      "include_colab_link": true
    },
    "kernelspec": {
      "name": "python3",
      "display_name": "Python 3"
    }
  },
  "cells": [
    {
      "cell_type": "markdown",
      "metadata": {
        "id": "view-in-github",
        "colab_type": "text"
      },
      "source": [
        "<a href=\"https://colab.research.google.com/github/YangxuanWu/Python/blob/master/Python/Practice0613.ipynb\" target=\"_parent\"><img src=\"https://colab.research.google.com/assets/colab-badge.svg\" alt=\"Open In Colab\"/></a>"
      ]
    },
    {
      "cell_type": "code",
      "metadata": {
        "id": "kaLOLPRgmAMg",
        "colab_type": "code",
        "outputId": "6021ca5f-a1a0-414d-a6cb-f6f9a7318335",
        "colab": {
          "base_uri": "https://localhost:8080/",
          "height": 168
        }
      },
      "source": [
        "#Create an DuPont Analysis/ROE application -- any language or platform of your choosing: \n",
        " \n",
        "#The app should accept the four needed inputs for DuPont Analysis.\n",
        "#The app should calculate and display Profit Margin\n",
        "#The app should calculate and display Total Asset Turnover\n",
        "#The app should calculate and display Leverage Factor\n",
        "#The app should calculate and display Return on Equity (ROE)\n",
        "\n",
        "import math\n",
        "NetIncome = int(input(\"NetIncome=\"))\n",
        "Revenue = int(input(\"Revenue=\"))\n",
        "AverageAssets = int(input(\"AverageAssets=\"))\n",
        "RevenAverageEquityue = int(input(\"AverageEquity=\"))\n",
        "\n",
        "TotalAssetTurnover = Revenue/AverageAssets\n",
        "print (\"TotalAssetTurnover=\", TotalAssetTurnover)\n",
        "\n",
        "PrifitMargin = NetIncome/Revenue\n",
        "print (\"PrifitMargin=\", PrifitMargin)\n",
        "\n",
        "LeverageFactor = AverageAssets/RevenAverageEquityue\n",
        "print (\"LeverageFactor=\", LeverageFactor)\n",
        "\n",
        "ROE = PrifitMargin*TotalAssetTurnover*LeverageFactor\n",
        "print (\"ROE=\", PrifitMargin)\n",
        "\n",
        "ROA = NetIncome/AverageAssets\n",
        "print (\"ROA=\", ROA)\n",
        "\n"
      ],
      "execution_count": 0,
      "outputs": [
        {
          "output_type": "stream",
          "text": [
            "NetIncome=4\n",
            "Revenue=3\n",
            "AverageAssets=6\n",
            "AverageEquity=7\n",
            "TotalAssetTurnover= 0.5\n",
            "PrifitMargin= 1.3333333333333333\n",
            "LeverageFactor= 0.8571428571428571\n",
            "ROE= 1.3333333333333333\n",
            "ROA= 0.6666666666666666\n"
          ],
          "name": "stdout"
        }
      ]
    },
    {
      "cell_type": "code",
      "metadata": {
        "id": "PmDs9aNpO__L",
        "colab_type": "code",
        "outputId": "747a2fb5-34cd-4003-c8cf-8695a01c3e08",
        "colab": {
          "base_uri": "https://localhost:8080/",
          "height": 84
        }
      },
      "source": [
        "def changeextend(str):\n",
        "    #print string with extend\n",
        "    mylist.extend([40,50,60]);\n",
        "    print (\"print string mylist:\",mylist)\n",
        "    return\n",
        "def changeappend(str):\n",
        "    #print string with append\n",
        "    mylist.append( [7,8,9] )\n",
        "    print (\"print string mylist:\",mylist)\n",
        "    return\n",
        "mylist = [10,20,30]\n",
        "changeextend( mylist );\n",
        "print (\"print extend mylist:\", mylist)\n",
        "changeappend( mylist );\n",
        "print (\"print append mylist:\", mylist)\n",
        "#append() 方法用于在列表末尾添加新的对象\n",
        "#extend() 函数用于在列表末尾一次性追加另一个序列中的多个值（用新列表扩展原来的列表）"
      ],
      "execution_count": 9,
      "outputs": [
        {
          "output_type": "stream",
          "text": [
            "print string mylist: [10, 20, 30, 40, 50, 60]\n",
            "print extend mylist: [10, 20, 30, 40, 50, 60]\n",
            "print string mylist: [10, 20, 30, 40, 50, 60, [7, 8, 9]]\n",
            "print append mylist: [10, 20, 30, 40, 50, 60, [7, 8, 9]]\n"
          ],
          "name": "stdout"
        }
      ]
    },
    {
      "cell_type": "code",
      "metadata": {
        "id": "NDnfVup1Uzsb",
        "colab_type": "code",
        "colab": {
          "base_uri": "https://localhost:8080/",
          "height": 50
        },
        "outputId": "2deb7d94-16a6-4481-ea18-925f41a7a4bb"
      },
      "source": [
        "list1 = [1,2,3,4]\n",
        "result = []\n",
        "for x in list1:\n",
        "    for y in list1:\n",
        "        for z in list1:\n",
        "            if x != y and x != z and y != z:\n",
        "                a = x*100+y*10+z\n",
        "                result.append(a)\n",
        " \n",
        "print (result)\n",
        "print (len(result))"
      ],
      "execution_count": 18,
      "outputs": [
        {
          "output_type": "stream",
          "text": [
            "[123, 124, 132, 134, 142, 143, 213, 214, 231, 234, 241, 243, 312, 314, 321, 324, 341, 342, 412, 413, 421, 423, 431, 432]\n",
            "24\n"
          ],
          "name": "stdout"
        }
      ]
    },
    {
      "cell_type": "code",
      "metadata": {
        "id": "BI_dffLtTN-r",
        "colab_type": "code",
        "colab": {
          "base_uri": "https://localhost:8080/",
          "height": 67
        },
        "outputId": "39c0a16e-ce4d-4f8d-dd36-4b2d0e4a298e"
      },
      "source": [
        "#转换为 list\n",
        "info = 'abc'\n",
        "a = list(info)\n",
        "a[2] = 'd'\n",
        "info = ' '.join(a)\n",
        "print(info)\n",
        "\n",
        "#使用字符串的 replace 函数\n",
        "info = 'abc'\n",
        "new_info = info.replace('c', 'd')\n",
        "print(new_info)\n",
        "\n",
        "#自我麻痹\n",
        "a = 'Yangxuan'\n",
        "b = 'python'\n",
        "s = 'my name is %s, I love %s' % (a, b)\n",
        "print (s)"
      ],
      "execution_count": 17,
      "outputs": [
        {
          "output_type": "stream",
          "text": [
            "a b d\n",
            "abd\n",
            "my name is Yangxuan, I love python\n"
          ],
          "name": "stdout"
        }
      ]
    },
    {
      "cell_type": "code",
      "metadata": {
        "id": "qt3a36WSUplT",
        "colab_type": "code",
        "colab": {}
      },
      "source": [
        ""
      ],
      "execution_count": 0,
      "outputs": []
    }
  ]
}