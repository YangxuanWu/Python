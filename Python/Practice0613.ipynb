{
  "nbformat": 4,
  "nbformat_minor": 0,
  "metadata": {
    "colab": {
      "name": "Practice0613.ipynb",
      "provenance": [],
      "collapsed_sections": [],
      "authorship_tag": "ABX9TyO+zhLXlBlvidQADpQFTNZs",
      "include_colab_link": true
    },
    "kernelspec": {
      "name": "python3",
      "display_name": "Python 3"
    }
  },
  "cells": [
    {
      "cell_type": "markdown",
      "metadata": {
        "id": "view-in-github",
        "colab_type": "text"
      },
      "source": [
        "<a href=\"https://colab.research.google.com/github/YangxuanWu/Python/blob/master/Python/Practice0613.ipynb\" target=\"_parent\"><img src=\"https://colab.research.google.com/assets/colab-badge.svg\" alt=\"Open In Colab\"/></a>"
      ]
    },
    {
      "cell_type": "code",
      "metadata": {
        "id": "kaLOLPRgmAMg",
        "colab_type": "code",
        "outputId": "6021ca5f-a1a0-414d-a6cb-f6f9a7318335",
        "colab": {
          "base_uri": "https://localhost:8080/",
          "height": 168
        }
      },
      "source": [
        "#Create an DuPont Analysis/ROE application -- any language or platform of your choosing: \n",
        " \n",
        "#The app should accept the four needed inputs for DuPont Analysis.\n",
        "#The app should calculate and display Profit Margin\n",
        "#The app should calculate and display Total Asset Turnover\n",
        "#The app should calculate and display Leverage Factor\n",
        "#The app should calculate and display Return on Equity (ROE)\n",
        "\n",
        "import math\n",
        "NetIncome = int(input(\"NetIncome=\"))\n",
        "Revenue = int(input(\"Revenue=\"))\n",
        "AverageAssets = int(input(\"AverageAssets=\"))\n",
        "RevenAverageEquityue = int(input(\"AverageEquity=\"))\n",
        "\n",
        "TotalAssetTurnover = Revenue/AverageAssets\n",
        "print (\"TotalAssetTurnover=\", TotalAssetTurnover)\n",
        "\n",
        "PrifitMargin = NetIncome/Revenue\n",
        "print (\"PrifitMargin=\", PrifitMargin)\n",
        "\n",
        "LeverageFactor = AverageAssets/RevenAverageEquityue\n",
        "print (\"LeverageFactor=\", LeverageFactor)\n",
        "\n",
        "ROE = PrifitMargin*TotalAssetTurnover*LeverageFactor\n",
        "print (\"ROE=\", PrifitMargin)\n",
        "\n",
        "ROA = NetIncome/AverageAssets\n",
        "print (\"ROA=\", ROA)\n",
        "\n"
      ],
      "execution_count": 0,
      "outputs": [
        {
          "output_type": "stream",
          "text": [
            "NetIncome=4\n",
            "Revenue=3\n",
            "AverageAssets=6\n",
            "AverageEquity=7\n",
            "TotalAssetTurnover= 0.5\n",
            "PrifitMargin= 1.3333333333333333\n",
            "LeverageFactor= 0.8571428571428571\n",
            "ROE= 1.3333333333333333\n",
            "ROA= 0.6666666666666666\n"
          ],
          "name": "stdout"
        }
      ]
    },
    {
      "cell_type": "code",
      "metadata": {
        "id": "dcxTNFwJ_uW1",
        "colab_type": "code",
        "outputId": "ed79a968-2c2b-4e3f-98c4-b9ac5d330330",
        "colab": {
          "base_uri": "https://localhost:8080/",
          "height": 50
        }
      },
      "source": [
        "list1 = [1,2,3,4]\n",
        "result = []\n",
        "for x in list1:\n",
        "    for y in list1:\n",
        "        for z in list1:\n",
        "            if x != y and x != z and y != z:\n",
        "                a = x*100+y*10+z\n",
        "                result.append(a)\n",
        " \n",
        "print (result)\n",
        "print (len(result))"
      ],
      "execution_count": 0,
      "outputs": [
        {
          "output_type": "stream",
          "text": [
            "[123, 124, 132, 134, 142, 143, 213, 214, 231, 234, 241, 243, 312, 314, 321, 324, 341, 342, 412, 413, 421, 423, 431, 432]\n",
            "24\n"
          ],
          "name": "stdout"
        }
      ]
    },
    {
      "cell_type": "code",
      "metadata": {
        "id": "PmDs9aNpO__L",
        "colab_type": "code",
        "outputId": "c1e04d66-b6f5-41b4-d3f0-8d4fbebdd7c2",
        "colab": {
          "base_uri": "https://localhost:8080/",
          "height": 84
        }
      },
      "source": [
        "def changeextend(str):\n",
        "    \"print string with extend\"\n",
        "    mylist.extend([40,50,60]);\n",
        "    print (\"print string mylist:\",mylist)\n",
        "    return\n",
        "def changeappend(str):\n",
        "    \"print string with append\"\n",
        "    mylist.append( [7,8,9] )\n",
        "    print (\"print string mylist:\",mylist)\n",
        "    return\n",
        "mylist = [10,20,30]\n",
        "changeextend( mylist );\n",
        "print (\"print extend mylist:\", mylist)\n",
        "changeappend( mylist );\n",
        "print (\"print append mylist:\", mylist)"
      ],
      "execution_count": 0,
      "outputs": [
        {
          "output_type": "stream",
          "text": [
            "print string mylist: [10, 20, 30, 40, 50, 60]\n",
            "print extend mylist: [10, 20, 30, 40, 50, 60]\n",
            "print string mylist: [10, 20, 30, 40, 50, 60, [7, 8, 9]]\n",
            "print append mylist: [10, 20, 30, 40, 50, 60, [7, 8, 9]]\n"
          ],
          "name": "stdout"
        }
      ]
    }
  ]
}