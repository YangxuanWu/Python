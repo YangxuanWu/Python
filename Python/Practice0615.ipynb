{
  "nbformat": 4,
  "nbformat_minor": 0,
  "metadata": {
    "colab": {
      "name": "Practice0613.ipynb",
      "provenance": [],
      "collapsed_sections": [],
      "authorship_tag": "ABX9TyOSLuKaFrNQzQbtRWT4NXaP",
      "include_colab_link": true
    },
    "kernelspec": {
      "name": "python3",
      "display_name": "Python 3"
    }
  },
  "cells": [
    {
      "cell_type": "markdown",
      "metadata": {
        "id": "view-in-github",
        "colab_type": "text"
      },
      "source": [
        "<a href=\"https://colab.research.google.com/github/YangxuanWu/Python/blob/master/Python/Practice0615.ipynb\" target=\"_parent\"><img src=\"https://colab.research.google.com/assets/colab-badge.svg\" alt=\"Open In Colab\"/></a>"
      ]
    },
    {
      "cell_type": "code",
      "metadata": {
        "id": "kaLOLPRgmAMg",
        "colab_type": "code",
        "outputId": "50174084-64a7-43b4-88e1-ca41c1d6396a",
        "colab": {
          "base_uri": "https://localhost:8080/",
          "height": 168
        }
      },
      "source": [
        "#Create an DuPont Analysis/ROE application -- any language or platform of your choosing: \n",
        " \n",
        "#The app should accept the four needed inputs for DuPont Analysis.\n",
        "#The app should calculate and display Profit Margin\n",
        "#The app should calculate and display Total Asset Turnover\n",
        "#The app should calculate and display Leverage Factor\n",
        "#The app should calculate and display Return on Equity (ROE)\n",
        "\n",
        "import math\n",
        "NetIncome = int(input(\"NetIncome=\"))\n",
        "Revenue = int(input(\"Revenue=\"))\n",
        "AverageAssets = int(input(\"AverageAssets=\"))\n",
        "RevenAverageEquityue = int(input(\"AverageEquity=\"))\n",
        "\n",
        "TotalAssetTurnover = Revenue/AverageAssets\n",
        "print (\"TotalAssetTurnover=\", TotalAssetTurnover)\n",
        "\n",
        "PrifitMargin = NetIncome/Revenue\n",
        "print (\"PrifitMargin=\", PrifitMargin)\n",
        "\n",
        "LeverageFactor = AverageAssets/RevenAverageEquityue\n",
        "print (\"LeverageFactor=\", LeverageFactor)\n",
        "\n",
        "ROE = PrifitMargin*TotalAssetTurnover*LeverageFactor\n",
        "print (\"ROE=\", PrifitMargin)\n",
        "\n",
        "ROA = NetIncome/AverageAssets\n",
        "print (\"ROA=\", ROA)\n",
        "\n"
      ],
      "execution_count": 33,
      "outputs": [
        {
          "output_type": "stream",
          "text": [
            "NetIncome=3\n",
            "Revenue=4\n",
            "AverageAssets=5\n",
            "AverageEquity=6\n",
            "TotalAssetTurnover= 0.8\n",
            "PrifitMargin= 0.75\n",
            "LeverageFactor= 0.8333333333333334\n",
            "ROE= 0.75\n",
            "ROA= 0.6\n"
          ],
          "name": "stdout"
        }
      ]
    },
    {
      "cell_type": "code",
      "metadata": {
        "id": "PmDs9aNpO__L",
        "colab_type": "code",
        "outputId": "da860d05-da2b-4526-a95e-29699944f74c",
        "colab": {
          "base_uri": "https://localhost:8080/",
          "height": 84
        }
      },
      "source": [
        "def changeextend(str):\n",
        "    #print string with extend\n",
        "    mylist.extend([40,50,60]);\n",
        "    print (\"print string mylist:\",mylist)\n",
        "    return\n",
        "def changeappend(str):\n",
        "    #print string with append\n",
        "    mylist.append( [7,8,9] )\n",
        "    print (\"print string mylist:\",mylist)\n",
        "    return\n",
        "mylist = [10,20,30]\n",
        "changeextend( mylist );\n",
        "print (\"print extend mylist:\", mylist)\n",
        "changeappend( mylist );\n",
        "print (\"print append mylist:\", mylist)\n",
        "#append() 方法用于在列表末尾添加新的对象\n",
        "#extend() 函数用于在列表末尾一次性追加另一个序列中的多个值（用新列表扩展原来的列表）"
      ],
      "execution_count": 34,
      "outputs": [
        {
          "output_type": "stream",
          "text": [
            "print string mylist: [10, 20, 30, 40, 50, 60]\n",
            "print extend mylist: [10, 20, 30, 40, 50, 60]\n",
            "print string mylist: [10, 20, 30, 40, 50, 60, [7, 8, 9]]\n",
            "print append mylist: [10, 20, 30, 40, 50, 60, [7, 8, 9]]\n"
          ],
          "name": "stdout"
        }
      ]
    },
    {
      "cell_type": "code",
      "metadata": {
        "id": "NDnfVup1Uzsb",
        "colab_type": "code",
        "outputId": "4d7fc2c6-f4f0-46e7-8216-01f0bd357c5c",
        "colab": {
          "base_uri": "https://localhost:8080/",
          "height": 50
        }
      },
      "source": [
        "list1 = [1,2,3,4]\n",
        "result = []\n",
        "for x in list1:\n",
        "    for y in list1:\n",
        "        for z in list1:\n",
        "            if x != y and x != z and y != z:\n",
        "                a = x*100+y*10+z\n",
        "                result.append(a)\n",
        " \n",
        "print (result)\n",
        "print (len(result))"
      ],
      "execution_count": 35,
      "outputs": [
        {
          "output_type": "stream",
          "text": [
            "[123, 124, 132, 134, 142, 143, 213, 214, 231, 234, 241, 243, 312, 314, 321, 324, 341, 342, 412, 413, 421, 423, 431, 432]\n",
            "24\n"
          ],
          "name": "stdout"
        }
      ]
    },
    {
      "cell_type": "code",
      "metadata": {
        "id": "BI_dffLtTN-r",
        "colab_type": "code",
        "outputId": "d3f67e4e-1c90-4d70-9669-70fc64b822ea",
        "colab": {
          "base_uri": "https://localhost:8080/",
          "height": 67
        }
      },
      "source": [
        "#转换为 list\n",
        "info = 'abc'\n",
        "a = list(info)\n",
        "a[2] = 'd'\n",
        "info = ' '.join(a)\n",
        "print(info)\n",
        "\n",
        "#使用字符串的 replace 函数\n",
        "info = 'abc'\n",
        "new_info = info.replace('c', 'd')\n",
        "print(new_info)\n",
        "\n",
        "#自我麻痹\n",
        "a = 'Yangxuan'\n",
        "b = 'python'\n",
        "s = 'my name is %s, I love %s' % (a, b)\n",
        "print (s)"
      ],
      "execution_count": 36,
      "outputs": [
        {
          "output_type": "stream",
          "text": [
            "a b d\n",
            "abd\n",
            "my name is Yangxuan, I love python\n"
          ],
          "name": "stdout"
        }
      ]
    },
    {
      "cell_type": "code",
      "metadata": {
        "id": "qt3a36WSUplT",
        "colab_type": "code",
        "colab": {}
      },
      "source": [
        "from keras.datasets import mnist\n",
        "from numpy import array\n",
        "import numpy as np\n",
        "from numpy import uint8\n",
        "(train_images, train_labels), (test_images, test_labels) = mnist.load_data()"
      ],
      "execution_count": 0,
      "outputs": []
    },
    {
      "cell_type": "code",
      "metadata": {
        "id": "7zzHox9VJln0",
        "colab_type": "code",
        "outputId": "60b3b2e5-ec6f-4c09-88e4-1a9cd3e3c4b9",
        "colab": {
          "base_uri": "https://localhost:8080/",
          "height": 34
        }
      },
      "source": [
        "train_images.shape\n",
        "(60000, 28, 28)\n",
        "len(train_labels)\n",
        "60000\n",
        "train_labels"
      ],
      "execution_count": 38,
      "outputs": [
        {
          "output_type": "execute_result",
          "data": {
            "text/plain": [
              "array([5, 0, 4, ..., 5, 6, 8], dtype=uint8)"
            ]
          },
          "metadata": {
            "tags": []
          },
          "execution_count": 38
        }
      ]
    },
    {
      "cell_type": "code",
      "metadata": {
        "id": "6O3vfPcYJvlZ",
        "colab_type": "code",
        "outputId": "38e03e8e-2019-4160-c5d8-4fecd1bec000",
        "colab": {
          "base_uri": "https://localhost:8080/",
          "height": 34
        }
      },
      "source": [
        "test_images.shape\n",
        "len(test_labels)\n",
        "test_labels"
      ],
      "execution_count": 39,
      "outputs": [
        {
          "output_type": "execute_result",
          "data": {
            "text/plain": [
              "array([7, 2, 1, ..., 4, 5, 6], dtype=uint8)"
            ]
          },
          "metadata": {
            "tags": []
          },
          "execution_count": 39
        }
      ]
    },
    {
      "cell_type": "code",
      "metadata": {
        "id": "4M9ykDn9K_2v",
        "colab_type": "code",
        "colab": {}
      },
      "source": [
        "from keras import models\n",
        "from keras import layers\n",
        "network = models.Sequential()\n",
        "network.add(layers.Dense(512, activation='relu', input_shape=(28 * 28,)))\n",
        "network.add(layers.Dense(10, activation='softmax'))"
      ],
      "execution_count": 0,
      "outputs": []
    },
    {
      "cell_type": "code",
      "metadata": {
        "id": "JvC9k9fO759Z",
        "colab_type": "code",
        "colab": {}
      },
      "source": [
        "train_images = train_images.reshape((60000, 28 * 28))\n",
        "train_images = train_images.astype('float32') / 255\n",
        "test_images = test_images.reshape((10000, 28 * 28))\n",
        "test_images = test_images.astype('float32') / 255"
      ],
      "execution_count": 0,
      "outputs": []
    },
    {
      "cell_type": "code",
      "metadata": {
        "id": "fzUtHNbnPbdT",
        "colab_type": "code",
        "colab": {}
      },
      "source": [
        "#Flatten常规的几种用法："
      ],
      "execution_count": 0,
      "outputs": []
    },
    {
      "cell_type": "code",
      "metadata": {
        "id": "j93ldMPg8Z3y",
        "colab_type": "code",
        "outputId": "23e9a65a-1eb9-4fc7-e78a-aeb07eaa369b",
        "colab": {
          "base_uri": "https://localhost:8080/",
          "height": 50
        }
      },
      "source": [
        "#用在数组\n",
        "from numpy import *\n",
        "a = [[[1,2],3],[4,[5,6]],[7,8,9]]\n",
        "a = array(a)\n",
        "a.flatten()"
      ],
      "execution_count": 43,
      "outputs": [
        {
          "output_type": "execute_result",
          "data": {
            "text/plain": [
              "array([list([[1, 2], 3]), list([4, [5, 6]]), list([7, 8, 9])],\n",
              "      dtype=object)"
            ]
          },
          "metadata": {
            "tags": []
          },
          "execution_count": 43
        }
      ]
    },
    {
      "cell_type": "code",
      "metadata": {
        "id": "X0ea4yr4NuOK",
        "colab_type": "code",
        "outputId": "689dd3b7-7b82-43c7-c4b0-30c3e8552c04",
        "colab": {
          "base_uri": "https://localhost:8080/",
          "height": 34
        }
      },
      "source": [
        "a = [[1,3],[2,4],[3,5]]\n",
        "a = array(a)\n",
        "a.flatten()"
      ],
      "execution_count": 44,
      "outputs": [
        {
          "output_type": "execute_result",
          "data": {
            "text/plain": [
              "array([1, 3, 2, 4, 3, 5])"
            ]
          },
          "metadata": {
            "tags": []
          },
          "execution_count": 44
        }
      ]
    },
    {
      "cell_type": "code",
      "metadata": {
        "id": "P9wzAinENwNX",
        "colab_type": "code",
        "outputId": "7cffa31e-fcbd-49b6-97dc-f058f7334ab0",
        "colab": {
          "base_uri": "https://localhost:8080/",
          "height": 34
        }
      },
      "source": [
        "#用在列表\n",
        "a = [[1,3],[2,4],[3,5],[\"abc\",\"def\"]]\n",
        "a1 = [y for x in a for y in x]#这里的逻辑关系理不清？？？\n",
        "a1"
      ],
      "execution_count": 45,
      "outputs": [
        {
          "output_type": "execute_result",
          "data": {
            "text/plain": [
              "[1, 3, 2, 4, 3, 5, 'abc', 'def']"
            ]
          },
          "metadata": {
            "tags": []
          },
          "execution_count": 45
        }
      ]
    },
    {
      "cell_type": "code",
      "metadata": {
        "id": "ABEeZhYAOQFJ",
        "colab_type": "code",
        "outputId": "562a7049-7d15-4b8f-d8f8-46fd00481f3a",
        "colab": {
          "base_uri": "https://localhost:8080/",
          "height": 34
        }
      },
      "source": [
        "#用在矩阵\n",
        "a = [[1,3],[2,4],[3,5]]\n",
        "a = mat(a)\n",
        "y = a.flatten()\n",
        "y"
      ],
      "execution_count": 46,
      "outputs": [
        {
          "output_type": "execute_result",
          "data": {
            "text/plain": [
              "matrix([[1, 3, 2, 4, 3, 5]])"
            ]
          },
          "metadata": {
            "tags": []
          },
          "execution_count": 46
        }
      ]
    },
    {
      "cell_type": "code",
      "metadata": {
        "id": "tr82O1LcOcYH",
        "colab_type": "code",
        "outputId": "e2cc0c35-2b87-467e-b754-3e4abf8ffcf1",
        "colab": {
          "base_uri": "https://localhost:8080/",
          "height": 67
        }
      },
      "source": [
        "matrix([[1, 3, 2, 4, 3, 5]])\n",
        "y = a.flatten().A#这里用到A是什么意思？？？\n",
        "print (y)\n",
        "print (shape(y))\n",
        "print (shape(y[0]))"
      ],
      "execution_count": 47,
      "outputs": [
        {
          "output_type": "stream",
          "text": [
            "[[1 3 2 4 3 5]]\n",
            "(1, 6)\n",
            "(6,)\n"
          ],
          "name": "stdout"
        }
      ]
    },
    {
      "cell_type": "code",
      "metadata": {
        "id": "aSYFIQK1PPOU",
        "colab_type": "code",
        "outputId": "fe59f098-c88f-4635-c3fd-b74f856d4b3f",
        "colab": {
          "base_uri": "https://localhost:8080/",
          "height": 218
        }
      },
      "source": [
        "#（batch是这一组数据的数量；iteration：进行训练需要的总共的迭代次数；epoch：一次epoch是指将所有数据训练一遍的次数，epoch所代表的数字是指所有数据被训练的总轮数。）\n",
        "#Loading the MNIST dataset in Keras 加载数据集\n",
        "from keras.datasets import mnist\n",
        "(train_images, train_labels), (test_images, test_labels) = mnist.load_data()\n",
        "#The network architecture 设定网络体系结构\n",
        "from keras import models\n",
        "from keras import layers\n",
        "network = models.Sequential()\n",
        "network.add(layers.Dense(512, activation='relu', input_shape=(28 * 28,)))\n",
        "network.add(layers.Dense(10, activation='softmax'))\n",
        "#The compilation step 降维\n",
        "network.compile(optimizer='rmsprop',\n",
        "loss='categorical_crossentropy',\n",
        "metrics=['accuracy'])\n",
        "#Preparing the image data 图像数据\n",
        "train_images = train_images.reshape((60000, 28 * 28))\n",
        "train_images = train_images.astype('float32') / 255\n",
        "test_images = test_images.reshape((10000, 28 * 28))\n",
        "test_images = test_images.astype('float32') / 255\n",
        "#Preparing the labels 标签数据\n",
        "from keras.utils import to_categorical\n",
        "train_labels = to_categorical(train_labels)\n",
        "test_labels = to_categorical(test_labels)\n",
        "network.fit(train_images, train_labels, epochs=5, batch_size=128)\n",
        "#测试学习结果\n",
        "test_loss, test_acc = network.evaluate(test_images, test_labels)\n",
        "print('test_acc:', test_acc)\n"
      ],
      "execution_count": 48,
      "outputs": [
        {
          "output_type": "stream",
          "text": [
            "Epoch 1/5\n",
            "60000/60000 [==============================] - 4s 64us/step - loss: 0.2566 - accuracy: 0.9256\n",
            "Epoch 2/5\n",
            "60000/60000 [==============================] - 4s 60us/step - loss: 0.1030 - accuracy: 0.9690\n",
            "Epoch 3/5\n",
            "60000/60000 [==============================] - 4s 59us/step - loss: 0.0666 - accuracy: 0.9792\n",
            "Epoch 4/5\n",
            "60000/60000 [==============================] - 4s 59us/step - loss: 0.0495 - accuracy: 0.9851\n",
            "Epoch 5/5\n",
            "60000/60000 [==============================] - 4s 60us/step - loss: 0.0362 - accuracy: 0.9891\n",
            "10000/10000 [==============================] - 0s 48us/step\n",
            "test_acc: 0.9805999994277954\n"
          ],
          "name": "stdout"
        }
      ]
    },
    {
      "cell_type": "code",
      "metadata": {
        "id": "y7ggrSsAKRZB",
        "colab_type": "code",
        "colab": {
          "base_uri": "https://localhost:8080/",
          "height": 50
        },
        "outputId": "33804207-4286-4b52-ad60-dc844770c87f"
      },
      "source": [
        "#1D tensors\n",
        "import numpy as np\n",
        "x = np.array(12)\n",
        "print (x)\n",
        "array(12)\n",
        "x.ndim"
      ],
      "execution_count": 49,
      "outputs": [
        {
          "output_type": "stream",
          "text": [
            "12\n"
          ],
          "name": "stdout"
        },
        {
          "output_type": "execute_result",
          "data": {
            "text/plain": [
              "0"
            ]
          },
          "metadata": {
            "tags": []
          },
          "execution_count": 49
        }
      ]
    },
    {
      "cell_type": "code",
      "metadata": {
        "id": "GdH9uCHIuAG-",
        "colab_type": "code",
        "colab": {
          "base_uri": "https://localhost:8080/",
          "height": 34
        },
        "outputId": "bd511d30-0b79-4a73-cb41-7e147dfffbdb"
      },
      "source": [
        "x = np.array([12, 3, 6, 14])\n",
        "x\n",
        "array([12, 3, 6, 14])\n",
        "x.ndim"
      ],
      "execution_count": 50,
      "outputs": [
        {
          "output_type": "execute_result",
          "data": {
            "text/plain": [
              "1"
            ]
          },
          "metadata": {
            "tags": []
          },
          "execution_count": 50
        }
      ]
    },
    {
      "cell_type": "code",
      "metadata": {
        "id": "J7RaQ4eTuSb6",
        "colab_type": "code",
        "colab": {
          "base_uri": "https://localhost:8080/",
          "height": 34
        },
        "outputId": "9c1e0777-c3ab-4b62-e991-f460e9d69613"
      },
      "source": [
        "#2D tensors\n",
        "x = np.array([[5, 78, 2, 34, 0],\n",
        "[6, 79, 3, 35, 1],\n",
        "[7, 80, 4, 36, 2]])\n",
        "x.ndim\n"
      ],
      "execution_count": 51,
      "outputs": [
        {
          "output_type": "execute_result",
          "data": {
            "text/plain": [
              "2"
            ]
          },
          "metadata": {
            "tags": []
          },
          "execution_count": 51
        }
      ]
    },
    {
      "cell_type": "code",
      "metadata": {
        "id": "gM3D9PabuZVt",
        "colab_type": "code",
        "colab": {
          "base_uri": "https://localhost:8080/",
          "height": 34
        },
        "outputId": "1edf7d9b-69db-47d2-c852-6b6a2ac836cd"
      },
      "source": [
        "# 3D tensors and higher-dimensional tensors\n",
        "x = np.array([[[5, 78, 2, 34, 0],\n",
        "[6, 79, 3, 35, 1],\n",
        "[7, 80, 4, 36, 2]],\n",
        "[[5, 78, 2, 34, 0],\n",
        "[6, 79, 3, 35, 1],\n",
        "[7, 80, 4, 36, 2]],\n",
        "[[5, 78, 2, 34, 0],\n",
        "[6, 79, 3, 35, 1],\n",
        "[7, 80, 4, 36, 2]]])\n",
        "x.ndim"
      ],
      "execution_count": 52,
      "outputs": [
        {
          "output_type": "execute_result",
          "data": {
            "text/plain": [
              "3"
            ]
          },
          "metadata": {
            "tags": []
          },
          "execution_count": 52
        }
      ]
    },
    {
      "cell_type": "code",
      "metadata": {
        "id": "HCxxKiZMuiFF",
        "colab_type": "code",
        "colab": {}
      },
      "source": [
        "#定义张量的三个属性\n",
        "from keras.datasets import mnist\n",
        "(train_images, train_labels), (test_images, test_labels) = mnist.load_data()\n"
      ],
      "execution_count": 0,
      "outputs": []
    },
    {
      "cell_type": "code",
      "metadata": {
        "id": "hKrj90i3up1N",
        "colab_type": "code",
        "colab": {
          "base_uri": "https://localhost:8080/",
          "height": 67
        },
        "outputId": "3604c10d-377e-4031-faac-f3aeb9a1f9ab"
      },
      "source": [
        "print(train_images.ndim)\n",
        "print(train_images.shape)\n",
        "print(train_images.dtype)"
      ],
      "execution_count": 54,
      "outputs": [
        {
          "output_type": "stream",
          "text": [
            "3\n",
            "(60000, 28, 28)\n",
            "uint8\n"
          ],
          "name": "stdout"
        }
      ]
    },
    {
      "cell_type": "code",
      "metadata": {
        "id": "YDPY4Meruzsx",
        "colab_type": "code",
        "colab": {
          "base_uri": "https://localhost:8080/",
          "height": 265
        },
        "outputId": "e41eb8ee-b8d3-48ec-9cee-30385aa390d7"
      },
      "source": [
        "#显示第四位，何为显示第四位？\n",
        "digit = train_images[4]\n",
        "import matplotlib.pyplot as plt\n",
        "plt.imshow(digit, cmap=plt.cm.binary)\n",
        "plt.show()"
      ],
      "execution_count": 55,
      "outputs": [
        {
          "output_type": "display_data",
          "data": {
            "image/png": "[encoded data removed]",
            "text/plain": [
              "<Figure size 432x288 with 1 Axes>"
            ]
          },
          "metadata": {
            "tags": [],
            "needs_background": "light"
          }
        }
      ]
    },
    {
      "cell_type": "code",
      "metadata": {
        "id": "cE3b4xnru9kz",
        "colab_type": "code",
        "colab": {
          "base_uri": "https://localhost:8080/",
          "height": 50
        },
        "outputId": "fb48f8f8-71cc-4f59-f64b-57ff54e28d19"
      },
      "source": [
        "#在numpy中如何操控张量\n",
        "my_slice = train_images[10:100]\n",
        "print(my_slice.shape)\n",
        "my_slice = train_images[10:100, :, :]\n",
        "my_slice.shape\n",
        "my_slice = train_images[10:100, 0:28, 0:28]\n",
        "my_slice.shape\n",
        "#两种方法"
      ],
      "execution_count": 56,
      "outputs": [
        {
          "output_type": "stream",
          "text": [
            "(90, 28, 28)\n"
          ],
          "name": "stdout"
        },
        {
          "output_type": "execute_result",
          "data": {
            "text/plain": [
              "(90, 28, 28)"
            ]
          },
          "metadata": {
            "tags": []
          },
          "execution_count": 56
        }
      ]
    },
    {
      "cell_type": "code",
      "metadata": {
        "id": "UWjEr04fvfRQ",
        "colab_type": "code",
        "colab": {}
      },
      "source": [
        "my_slice = train_images[:, 14:, 14:]\n",
        "#为了在所有图像的右下角选择14×14像素\n",
        "my_slice = train_images[:, 7:-7, 7:-7]\n",
        "#为了将图像裁剪成以中间为中心的14×14像素的小块"
      ],
      "execution_count": 0,
      "outputs": []
    },
    {
      "cell_type": "code",
      "metadata": {
        "id": "UPRBbcxNv2PA",
        "colab_type": "code",
        "colab": {}
      },
      "source": [
        "batch = train_images[:128]\n",
        "batch = train_images[128:256]\n",
        "#批的概念batch = train_images[128 * n:128 * (n + 1)]\n",
        "#当考虑这样一个批处理张量时，第一个轴(0轴)称为批处理轴或批处理维数。在使用Keras和其他深度学习库时，经常会遇到这个术语。"
      ],
      "execution_count": 0,
      "outputs": []
    },
    {
      "cell_type": "code",
      "metadata": {
        "id": "CbZJWPeqw2dN",
        "colab_type": "code",
        "colab": {}
      },
      "source": [
        "#eg.文本文档的数据集，其中我们通过每个单词在其中出现的次数来表示每个文档(来自20,000个常用单词的字典)。\n",
        "#每个文档都可以被编码为一个包含20,000个值的向量(字典中每个单词一个计数)，因此包含500个文档的整个数据集可以被存储为一个张量(500,20000)。"
      ],
      "execution_count": 0,
      "outputs": []
    },
    {
      "cell_type": "code",
      "metadata": {
        "id": "k8-rOBGExM-i",
        "colab_type": "code",
        "colab": {}
      },
      "source": [
        "def naive_relu(x):\n",
        "  assert len(x.shape) == 2\n",
        "#x是一个二维的Numpy张量\n",
        "  x = x.copy()\n",
        "#Avoid overwriting the input tensor.\n",
        "  for i in range(x.shape[0]):\n",
        "    for j in range(x.shape[1]):\n",
        "      x[i, j] = max(x[i, j], 0)\n",
        "  return x"
      ],
      "execution_count": 0,
      "outputs": []
    },
    {
      "cell_type": "code",
      "metadata": {
        "id": "LuWwjJS3xR27",
        "colab_type": "code",
        "colab": {}
      },
      "source": [
        "def naive_add(x, y):\n",
        "   assert len(x.shape) == 2\n",
        "   assert x.shape == y.shape\n",
        "#x和y是2D Numpy张量。\n",
        "   x = x.copy()\n",
        "#避免覆盖输入张量。\n",
        "   for i in range(x.shape[0]):\n",
        "     for j in range(x.shape[1]):\n",
        "       x[i, j] += y[i, j]\n",
        "   return x\n"
      ],
      "execution_count": 0,
      "outputs": []
    },
    {
      "cell_type": "code",
      "metadata": {
        "id": "uQSn2zUhyqK_",
        "colab_type": "code",
        "colab": {}
      },
      "source": [
        "#广播\n",
        "def naive_add_matrix_and_vector(x, y):\n",
        "  assert len(x.shape) == 2\n",
        "  assert len(y.shape) == 1\n",
        "  assert x.shape[1] == y.shape[0]\n",
        "\n",
        "  x = x.copy()\n",
        "  for i in range(x.shape[0]):\n",
        "    for j in range(x.shape[1]):\n",
        "      x[i, j] += y[j]\n",
        "    return x\n",
        "import numpy as np\n",
        "x = np.random.random((64, 3, 32, 10))\n",
        "#x是一个形状为(64,3,32,10)的随机张量。\n",
        "y = np.random.random((32, 10))\n",
        "#y是一个随机张量，它的形状是(32，10)\n",
        "z = np.maximum(x, y)\n",
        "#输出z有形状(64 3 32 10)比如x。"
      ],
      "execution_count": 0,
      "outputs": []
    },
    {
      "cell_type": "code",
      "metadata": {
        "id": "WUe8y2eC0W2Z",
        "colab_type": "code",
        "colab": {}
      },
      "source": [
        "#0维张量/标量  标量是一个数字\n",
        "\n",
        "#1维张量/向量   1维张量称为“向量”。\n",
        "\n",
        "#2维张量    2维张量称为矩阵\n",
        "\n",
        "#3维张量  公用数据存储在张量 时间序列数据 股价 文本数据 彩色图片(RGB)"
      ],
      "execution_count": 0,
      "outputs": []
    },
    {
      "cell_type": "code",
      "metadata": {
        "id": "tuA8Z77C05XB",
        "colab_type": "code",
        "colab": {}
      },
      "source": [
        ""
      ],
      "execution_count": 0,
      "outputs": []
    }
  ]
}