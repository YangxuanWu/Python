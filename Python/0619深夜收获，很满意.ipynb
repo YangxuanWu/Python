{
  "nbformat": 4,
  "nbformat_minor": 0,
  "metadata": {
    "colab": {
      "name": "0619深夜收获，很满意.ipynb",
      "provenance": [],
      "collapsed_sections": [],
      "authorship_tag": "ABX9TyOWTdfbJdhcMa2hm9dNdlao",
      "include_colab_link": true
    },
    "kernelspec": {
      "name": "python3",
      "display_name": "Python 3"
    }
  },
  "cells": [
    {
      "cell_type": "markdown",
      "metadata": {
        "id": "view-in-github",
        "colab_type": "text"
      },
      "source": [
        "<a href=\"https://colab.research.google.com/github/YangxuanWu/Python/blob/master/Python/0619%E6%B7%B1%E5%A4%9C%E6%94%B6%E8%8E%B7%EF%BC%8C%E5%BE%88%E6%BB%A1%E6%84%8F.ipynb\" target=\"_parent\"><img src=\"https://colab.research.google.com/assets/colab-badge.svg\" alt=\"Open In Colab\"/></a>"
      ]
    },
    {
      "cell_type": "code",
      "metadata": {
        "id": "AI1DLEnXU_72",
        "colab_type": "code",
        "colab": {}
      },
      "source": [
        "#IT496练习\n"
      ],
      "execution_count": null,
      "outputs": []
    },
    {
      "cell_type": "code",
      "metadata": {
        "id": "As3CbZTYbetQ",
        "colab_type": "code",
        "colab": {
          "base_uri": "https://localhost:8080/",
          "height": 34
        },
        "outputId": "9914eb37-a973-4e87-b0db-d3dde124b95b"
      },
      "source": [
        "with open(\"/content/ashleymad.txt\", \"r\", encoding='gb18030', errors='ignore') as f:    #打开文件\n",
        "    data = f.read()   #读取文件\n",
        "    print(data)"
      ],
      "execution_count": 19,
      "outputs": [
        {
          "output_type": "stream",
          "text": [
            "\n"
          ],
          "name": "stdout"
        }
      ]
    },
    {
      "cell_type": "code",
      "metadata": {
        "id": "gTvBCCyKx5N2",
        "colab_type": "code",
        "colab": {
          "base_uri": "https://localhost:8080/",
          "height": 34
        },
        "outputId": "d4c2ed3f-bc02-4ac1-ddfc-27b822300c5b"
      },
      "source": [
        "import string\n",
        "import random\n",
        " \n",
        "# 资源预置。创建或清空txt文件\n",
        "def rollback(url):\n",
        "    open(url, \"w\").write(\"\")\n",
        "    return\n",
        " \n",
        " \n",
        "# 读文件，读取速度限制在100字节/次，返回计算出字符出现的次数的结果\n",
        "def read_file(url, ele, size=100):\n",
        "    count = 0\n",
        "    with open(url, \"r\") as f:\n",
        "        while True:\n",
        "            line = f.read(size)\n",
        "            if not line:\n",
        "                break\n",
        " \n",
        "            count += process(line, ele)\n",
        "    f.close()\n",
        "    return count\n",
        " \n",
        " \n",
        "# 真正计算次数的函数，将读取到的字符片段转化为小写（因为要求不区分大小写），在统一进行计算\n",
        "def process(line, ele):\n",
        "    lower = line.lower()\n",
        "    return lower.count(ele.lower())\n",
        " \n",
        " \n",
        "# 代码开始的位置。pools表示随机字符池，包含数字字符0-9和大小写字母。\n",
        "pools = string.digits + string.ascii_letters\n",
        "# txt文件的路径\n",
        "path = \"\"\n",
        "# 输入待检测次数的字符。如果输入多个字符，则只检测第一个输入的字符。如果第一个输入的字符不在pools中，则报错并终止程序\n",
        "logo = input(\"Please input a char to count numbers in file: \")\n",
        "if len(logo) > 1:\n",
        "    logo = logo[0]\n",
        " \n",
        "if logo not in pools:\n",
        "    print(\"Invalid Char input.\")\n",
        "    exit()\n",
        " \n",
        "# 调用自定义的rollback()函数预置输出文件或清空文件\n",
        "rollback(path)\n",
        " \n",
        "# 按要求生成随机内容并写入文件\n",
        "# lines_num随机行数。char_num每一行的随机字符数\n",
        "lines_num = random.randint(1, 100)\n",
        "for i in range(lines_num):\n",
        "    char_num = random.randint(1, 100)\n",
        "    write_str = \"\"\n",
        " \n",
        "    for j in range(char_num):\n",
        "        rs = random.choice(pools)\n",
        "        write_str += rs\n",
        "    write_str += \"\\n\"\n",
        "# 将随机字符拼接后的write_str写入txt文件中\n",
        "    open(path, \"a\").write(write_str)\n",
        " \n",
        "# 打印结果"
      ],
      "execution_count": null,
      "outputs": [
        {
          "output_type": "stream",
          "text": [
            "\n"
          ],
          "name": "stdout"
        }
      ]
    }
  ]
}