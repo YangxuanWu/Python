{
  "nbformat": 4,
  "nbformat_minor": 0,
  "metadata": {
    "colab": {
      "name": "KNN.ipynb",
      "provenance": [],
      "authorship_tag": "ABX9TyODvJ9Vt+LQ1scaLIxj42YK",
      "include_colab_link": true
    },
    "kernelspec": {
      "name": "python3",
      "display_name": "Python 3"
    }
  },
  "cells": [
    {
      "cell_type": "markdown",
      "metadata": {
        "id": "view-in-github",
        "colab_type": "text"
      },
      "source": [
        "<a href=\"https://colab.research.google.com/github/YangxuanWu/Python/blob/master/Python/Project2020Fall/%E7%BB%83%E4%B9%A0%EF%BC%88project%EF%BC%89/KNN.ipynb\" target=\"_parent\"><img src=\"https://colab.research.google.com/assets/colab-badge.svg\" alt=\"Open In Colab\"/></a>"
      ]
    },
    {
      "cell_type": "code",
      "metadata": {
        "id": "awxCjitnw-HP",
        "colab_type": "code",
        "colab": {
          "base_uri": "https://localhost:8080/",
          "height": 121
        },
        "outputId": "6cf2048c-fc55-4842-99b0-932e593ce660"
      },
      "source": [
        "from google.colab import drive\n",
        "import os\n",
        "drive.mount('/content/drive')\n",
        "os.chdir(\"/content/drive/My Drive/Colab Notebooks/NetManAIOps/\")\n"
      ],
      "execution_count": 2,
      "outputs": [
        {
          "output_type": "stream",
          "text": [
            "Go to this URL in a browser: https://accounts.google.com/o/oauth2/auth?client_id=947318989803-6bn6qk8qdgf4n4g3pfee6491hc0brc4i.apps.googleusercontent.com&redirect_uri=urn%3aietf%3awg%3aoauth%3a2.0%3aoob&scope=email%20https%3a%2f%2fwww.googleapis.com%2fauth%2fdocs.test%20https%3a%2f%2fwww.googleapis.com%2fauth%2fdrive%20https%3a%2f%2fwww.googleapis.com%2fauth%2fdrive.photos.readonly%20https%3a%2f%2fwww.googleapis.com%2fauth%2fpeopleapi.readonly&response_type=code\n",
            "\n",
            "Enter your authorization code:\n",
            "··········\n",
            "Mounted at /content/drive\n"
          ],
          "name": "stdout"
        }
      ]
    },
    {
      "cell_type": "code",
      "metadata": {
        "id": "1y0vgwCacry1",
        "colab_type": "code",
        "colab": {}
      },
      "source": [
        "def str_column_to_int(dataset, column):\n",
        "    \"\"\"\n",
        "    将类别转化为int型\n",
        "    @dataset: 数据\n",
        "    @column: 需要转化的列\n",
        "    \"\"\"\n",
        "    class_values = [row[column] for row in dataset]\n",
        "    unique = set(class_values)\n",
        "    lookup = dict()\n",
        "    for i, value in enumerate(unique):\n",
        "        lookup[value] = i\n",
        "    for row in dataset:\n",
        "        row[column] = lookup[row[column]]\n",
        "    print(lookup)\n",
        "    return lookup\n",
        "\n",
        "def cross_validation_split(dataset, n_folds):\n",
        "    \"\"\"\n",
        "    使用交叉检验方法验证算法（K-fold Cross Validation(k折叠)）\n",
        "    @dataset: 数据\n",
        "    @n_folds: 想要划分的折数\n",
        "    \"\"\"\n",
        "    dataset_split = list()\n",
        "    dataset_copy = list(dataset)\n",
        "    fold_size = int(len(dataset) / n_folds)   # 一个fold的大小\n",
        "    for _ in range(n_folds):\n",
        "        fold = list()\n",
        "        while len(fold) < fold_size:\n",
        "            index = randrange(len(dataset_copy))\n",
        "            fold.append(dataset_copy.pop(index))            \n",
        "        dataset_split.append(fold)       \n",
        "    return dataset_split\n",
        "\n",
        "def accuracy_metric(actual, predicted):\n",
        "    \"\"\"\n",
        "    计算准确率\n",
        "    @actual: 真实值\n",
        "    @predicted: 预测值\n",
        "    \"\"\"\n",
        "    correct = 0\n",
        "    for i in range(len(actual)):\n",
        "        if actual[i] == predicted[i]:\n",
        "            correct += 1\n",
        "    return correct / float(len(actual)) * 100.0\n",
        "\n",
        "def evaluate_algorithm(dataset, algorithm, n_folds, *args):\n",
        "    \"\"\"\n",
        "    评估使用的分类算法（基于交叉检验）\n",
        "    @dataset: 数据\n",
        "    @algorithm: 使用的算法\n",
        "    @n_folds: 选择要划分的折数\n",
        "    @*args: 根据使用的分类算法而定，在朴素贝叶斯里面不需要其他的参数\n",
        "    \"\"\"\n",
        "    folds = cross_validation_split(dataset, n_folds)\n",
        "    scores = list()\n",
        "    for i in range(len(folds)):  \n",
        "        train_set = np.delete(folds, i, axis=0)\n",
        "#         print(train_set)        \n",
        "        test_set = list()\n",
        "        for row in folds[i]:\n",
        "            row_copy = list(row)\n",
        "            test_set.append(row_copy)\n",
        "            row_copy[-1] = None\n",
        "        predicted = algorithm(train_set, test_set, *args)\n",
        "        actual = [row[-1] for row in folds[i]]\n",
        "        accuracy = accuracy_metric(actual, predicted)\n",
        "        scores.append(accuracy)\n",
        "    return scores\n",
        "\n",
        "def calculate_distance(point1, point2, length):\n",
        "    \"\"\"\n",
        "    计算两点之间的欧式空间距离\n",
        "    @point1: 数据点1\n",
        "    @point2: 数据点2\n",
        "    @length: 纬度数\n",
        "    \"\"\"\n",
        "    distance = 0\n",
        "    for i in range(length):\n",
        "        distance += (point1[i] - point2[i])**2\n",
        "    return sqrt(distance)\n",
        "\n",
        "def get_neighbors(dataset, testpoint, k):\n",
        "    \"\"\"\n",
        "    获取最邻近的K个邻居节点\n",
        "    @dataset: 数据集\n",
        "    @testpoint: 目标测试点\n",
        "    @k: 需要获取的邻居数\n",
        "    \"\"\"\n",
        "    dataset = dataset.reshape((-1,5))\n",
        "    distances = []\n",
        "    for i in range(len(dataset)):\n",
        "        dist = calculate_distance(testpoint, dataset[i], len(testpoint)-1)\n",
        "        distances.append((dataset[i], dist))   \n",
        "    distances.sort(key=operator.itemgetter(1))      # 根据距离来排序\n",
        "    neighbors = []\n",
        "\n",
        "    for i in range(k):\n",
        "        neighbors.append(distances[i][0])\n",
        "    return neighbors\n",
        "\n",
        "def determine_class(neighbors):\n",
        "    \"\"\"\n",
        "    根据邻居节点类别，判断该簇应当属于哪个类别\n",
        "    @neighbors: 邻居节点列表\n",
        "    \"\"\"\n",
        "    classvotes = {}\n",
        "    for i in range(len(neighbors)):\n",
        "        res = neighbors[i][-1]\n",
        "        if (res in classvotes):\n",
        "            classvotes[res] += 1\n",
        "        else:\n",
        "            classvotes[res] = 1\n",
        "    sortedvotes = sorted(classvotes.items(), key=operator.itemgetter(1), reverse=True)\n",
        "    return sortedvotes[0][0]    # 票数最多的那一个\n",
        "\n",
        "def KNN(train, test, args):\n",
        "    \"\"\"\n",
        "    KNN分类器\n",
        "    @train: 训练集\n",
        "    @test: 测试集\n",
        "    @args: 其他参数，这里是k\n",
        "    \"\"\"\n",
        "    k = int(args['k'])\n",
        "    predictions = list()\n",
        "    for point in test:\n",
        "        neighbors = get_neighbors(train, point, k)\n",
        "        output = determine_class(neighbors)\n",
        "        predictions.append(output)\n",
        "    return(predictions)"
      ],
      "execution_count": 3,
      "outputs": []
    },
    {
      "cell_type": "code",
      "metadata": {
        "id": "ba8XqrRQeIt0",
        "colab_type": "code",
        "colab": {
          "base_uri": "https://localhost:8080/",
          "height": 67
        },
        "outputId": "84fced17-5961-400d-cf4c-2078ce5be958"
      },
      "source": [
        "import pandas as pd\n",
        "from random import randrange\n",
        "from random import seed\n",
        "import numpy as np\n",
        "from math import *\n",
        "import operator    \n",
        "seed(1)\n",
        "filename = 'iris.csv'\n",
        "dataset = pd.read_csv(filename).values\n",
        "str_column_to_int(dataset, len(dataset[0])-1)\n",
        "n_folds = 3\n",
        "k = 9\n",
        "scores = evaluate_algorithm(dataset, KNN, n_folds, {'k': k})\n",
        "print('某个折上的准确率: %s' % scores)\n",
        "print('算法的平均准确率: %.3f%%' % (sum(scores)/float(len(scores))))  "
      ],
      "execution_count": 31,
      "outputs": [
        {
          "output_type": "stream",
          "text": [
            "{'Virginica': 0, 'Versicolor': 1, 'Setosa': 2}\n",
            "某个折上的准确率: [96.0, 100.0, 96.0]\n",
            "算法的平均准确率: 97.333%\n"
          ],
          "name": "stdout"
        }
      ]
    },
    {
      "cell_type": "code",
      "metadata": {
        "id": "grX-kzuCeXGd",
        "colab_type": "code",
        "colab": {
          "base_uri": "https://localhost:8080/",
          "height": 1000
        },
        "outputId": "b2252c50-0281-452a-fe90-6a61b45699e3"
      },
      "source": [
        "import plotly.express as px\n",
        "def plot_clustering():\n",
        "    \"\"\"\n",
        "    绘制相关联矩阵和结果\n",
        "    \"\"\"\n",
        "    # 随机抽样2/3来训练，1/3来预测\n",
        "    train_index = np.random.choice(range(len(dataset)), int(len(dataset)*2/3), replace=False)\n",
        "    test_index = np.array(list(set(np.array([i for i in range(len(dataset))])).difference(set(train_index))))\n",
        "    train = dataset[train_index]\n",
        "    test = dataset[test_index]\n",
        "    prediction = KNN(train, test, {'k': 3}) #n_neighbors 就是 kNN 里的 k，就是在做分类时，我们选取问题点最近的多少个最近邻。\n",
        "    result = pd.DataFrame(columns=['trained', 'sepal length', 'sepal width', 'petal length', 'petal width', 'predicted', 'class'], index=range(len(dataset)))\n",
        "    result.loc[train_index, 'trained'] = 1\n",
        "    result.loc[test_index, 'trained'] = 0\n",
        "    result.loc[test_index, 'predicted'] = prediction\n",
        "    for i in range(len(dataset)):\n",
        "        result.loc[i, ['sepal length', 'sepal width', 'petal length', 'petal width', 'class']] = dataset[i]\n",
        "    fig = px.scatter_matrix(result, dimensions=[\"sepal length\", \"sepal width\", \"petal length\", \"petal width\", \"predicted\", \"class\"],\n",
        "                            color=\"class\", symbol=\"trained\")\n",
        "    fig.update_layout(template='none', width=1200, height=1000,\n",
        "        margin=dict(l=50, r=50, t=50, b=50))\n",
        "    fig.show()\n",
        "plot_clustering() "
      ],
      "execution_count": 24,
      "outputs": [
        {
          "output_type": "display_data",
          "data": {
            "text/html": [
              "<html>\n",
              "<head><meta charset=\"utf-8\" /></head>\n",
              "<body>\n",
              "    <div>\n",
              "            <script src=\"https://cdnjs.cloudflare.com/ajax/libs/mathjax/2.7.5/MathJax.js?config=TeX-AMS-MML_SVG\"></script><script type=\"text/javascript\">if (window.MathJax) {MathJax.Hub.Config({SVG: {font: \"STIX-Web\"}});}</script>\n",
              "                <script type=\"text/javascript\">window.PlotlyConfig = {MathJaxConfig: 'local'};</script>\n",
              "        <script src=\"https://cdn.plot.ly/plotly-latest.min.js\"></script>    \n",
              "            <div id=\"38589fea-74c2-4b21-ab25-98dcfbe93b0b\" class=\"plotly-graph-div\" style=\"height:1000px; width:1200px;\"></div>\n",
              "            <script type=\"text/javascript\">\n",
              "                \n",
              "                    window.PLOTLYENV=window.PLOTLYENV || {};\n",
              "                    \n",
              "                if (document.getElementById(\"38589fea-74c2-4b21-ab25-98dcfbe93b0b\")) {\n",
              "                    Plotly.newPlot(\n",
              "                        '38589fea-74c2-4b21-ab25-98dcfbe93b0b',\n",
              "                        [{\"dimensions\": [{\"axis\": {\"matches\": true}, \"label\": \"sepal length\", \"values\": [5.1, 4.9, 4.6, 5.0, 4.6, 4.4, 4.9, 5.4, 4.3, 5.8, 5.4, 5.1, 4.6, 5.1, 4.8, 5.0, 5.2, 5.2, 4.7, 4.8, 5.4, 5.2, 5.5, 5.5, 4.9, 4.4, 5.1, 5.0, 4.5, 4.4, 5.0, 5.1, 5.1, 4.6]}, {\"axis\": {\"matches\": true}, \"label\": \"sepal width\", \"values\": [3.5, 3.0, 3.1, 3.6, 3.4, 2.9, 3.1, 3.7, 3.0, 4.0, 3.9, 3.5, 3.6, 3.3, 3.4, 3.4, 3.5, 3.4, 3.2, 3.1, 3.4, 4.1, 4.2, 3.5, 3.6, 3.0, 3.4, 3.5, 2.3, 3.2, 3.5, 3.8, 3.8, 3.2]}, {\"axis\": {\"matches\": true}, \"label\": \"petal length\", \"values\": [1.4, 1.4, 1.5, 1.4, 1.4, 1.4, 1.5, 1.5, 1.1, 1.2, 1.3, 1.4, 1.0, 1.7, 1.9, 1.6, 1.5, 1.4, 1.6, 1.6, 1.5, 1.5, 1.4, 1.3, 1.4, 1.3, 1.5, 1.3, 1.3, 1.3, 1.6, 1.9, 1.6, 1.4]}, {\"axis\": {\"matches\": true}, \"label\": \"petal width\", \"values\": [0.2, 0.2, 0.2, 0.2, 0.3, 0.2, 0.1, 0.2, 0.1, 0.2, 0.4, 0.3, 0.2, 0.5, 0.2, 0.4, 0.2, 0.2, 0.2, 0.2, 0.4, 0.1, 0.2, 0.2, 0.1, 0.2, 0.2, 0.3, 0.3, 0.2, 0.6, 0.4, 0.2, 0.2]}, {\"axis\": {\"matches\": true}, \"label\": \"predicted\", \"values\": [null, null, null, null, null, null, null, null, null, null, null, null, null, null, null, null, null, null, null, null, null, null, null, null, null, null, null, null, null, null, null, null, null, null]}, {\"axis\": {\"matches\": true}, \"label\": \"class\", \"values\": [2, 2, 2, 2, 2, 2, 2, 2, 2, 2, 2, 2, 2, 2, 2, 2, 2, 2, 2, 2, 2, 2, 2, 2, 2, 2, 2, 2, 2, 2, 2, 2, 2, 2]}], \"hoverlabel\": {\"namelength\": 0}, \"hovertemplate\": \"class=2<br>trained=1<br>%{xaxis.title.text}=%{x}<br>%{yaxis.title.text}=%{y}\", \"legendgroup\": \"class=2, trained=1\", \"marker\": {\"color\": \"#636efa\", \"symbol\": \"circle\"}, \"name\": \"class=2, trained=1\", \"showlegend\": true, \"type\": \"splom\"}, {\"dimensions\": [{\"axis\": {\"matches\": true}, \"label\": \"sepal length\", \"values\": [4.7, 5.4, 5.0, 4.8, 4.8, 5.7, 5.7, 5.1, 5.4, 5.1, 5.0, 4.9, 5.0, 4.8, 5.3, 5.0]}, {\"axis\": {\"matches\": true}, \"label\": \"sepal width\", \"values\": [3.2, 3.9, 3.4, 3.4, 3.0, 4.4, 3.8, 3.8, 3.4, 3.7, 3.0, 3.1, 3.2, 3.0, 3.7, 3.3]}, {\"axis\": {\"matches\": true}, \"label\": \"petal length\", \"values\": [1.3, 1.7, 1.5, 1.6, 1.4, 1.5, 1.7, 1.5, 1.7, 1.5, 1.6, 1.5, 1.2, 1.4, 1.5, 1.4]}, {\"axis\": {\"matches\": true}, \"label\": \"petal width\", \"values\": [0.2, 0.4, 0.2, 0.2, 0.1, 0.4, 0.3, 0.3, 0.2, 0.4, 0.2, 0.2, 0.2, 0.3, 0.2, 0.2]}, {\"axis\": {\"matches\": true}, \"label\": \"predicted\", \"values\": [2, 2, 2, 2, 2, 2, 2, 2, 2, 2, 2, 2, 2, 2, 2, 2]}, {\"axis\": {\"matches\": true}, \"label\": \"class\", \"values\": [2, 2, 2, 2, 2, 2, 2, 2, 2, 2, 2, 2, 2, 2, 2, 2]}], \"hoverlabel\": {\"namelength\": 0}, \"hovertemplate\": \"class=2<br>trained=0<br>%{xaxis.title.text}=%{x}<br>%{yaxis.title.text}=%{y}\", \"legendgroup\": \"class=2, trained=0\", \"marker\": {\"color\": \"#636efa\", \"symbol\": \"diamond\"}, \"name\": \"class=2, trained=0\", \"showlegend\": true, \"type\": \"splom\"}, {\"dimensions\": [{\"axis\": {\"matches\": true}, \"label\": \"sepal length\", \"values\": [7.0, 6.4, 5.5, 5.7, 6.6, 5.0, 5.9, 6.0, 6.1, 6.7, 5.6, 5.9, 6.1, 6.1, 6.4, 6.6, 6.8, 6.0, 5.5, 6.0, 6.0, 6.3, 5.5, 5.8, 5.0, 5.6, 5.7, 6.2, 5.7]}, {\"axis\": {\"matches\": true}, \"label\": \"sepal width\", \"values\": [3.2, 3.2, 2.3, 2.8, 2.9, 2.0, 3.0, 2.2, 2.9, 3.1, 3.0, 3.2, 2.8, 2.8, 2.9, 3.0, 2.8, 2.9, 2.4, 2.7, 3.4, 2.3, 2.6, 2.6, 2.3, 2.7, 3.0, 2.9, 2.8]}, {\"axis\": {\"matches\": true}, \"label\": \"petal length\", \"values\": [4.7, 4.5, 4.0, 4.5, 4.6, 3.5, 4.2, 4.0, 4.7, 4.4, 4.5, 4.8, 4.0, 4.7, 4.3, 4.4, 4.8, 4.5, 3.7, 5.1, 4.5, 4.4, 4.4, 4.0, 3.3, 4.2, 4.2, 4.3, 4.1]}, {\"axis\": {\"matches\": true}, \"label\": \"petal width\", \"values\": [1.4, 1.5, 1.3, 1.3, 1.3, 1.0, 1.5, 1.0, 1.4, 1.4, 1.5, 1.8, 1.3, 1.2, 1.3, 1.4, 1.4, 1.5, 1.0, 1.6, 1.6, 1.3, 1.2, 1.2, 1.0, 1.3, 1.2, 1.3, 1.3]}, {\"axis\": {\"matches\": true}, \"label\": \"predicted\", \"values\": [null, null, null, null, null, null, null, null, null, null, null, null, null, null, null, null, null, null, null, null, null, null, null, null, null, null, null, null, null]}, {\"axis\": {\"matches\": true}, \"label\": \"class\", \"values\": [1, 1, 1, 1, 1, 1, 1, 1, 1, 1, 1, 1, 1, 1, 1, 1, 1, 1, 1, 1, 1, 1, 1, 1, 1, 1, 1, 1, 1]}], \"hoverlabel\": {\"namelength\": 0}, \"hovertemplate\": \"class=1<br>trained=1<br>%{xaxis.title.text}=%{x}<br>%{yaxis.title.text}=%{y}\", \"legendgroup\": \"class=1, trained=1\", \"marker\": {\"color\": \"#EF553B\", \"symbol\": \"circle\"}, \"name\": \"class=1, trained=1\", \"showlegend\": true, \"type\": \"splom\"}, {\"dimensions\": [{\"axis\": {\"matches\": true}, \"label\": \"sepal length\", \"values\": [6.9, 6.5, 6.3, 4.9, 5.2, 5.6, 5.8, 6.2, 5.6, 6.3, 6.7, 5.7, 5.5, 5.8, 5.4, 6.7, 5.6, 5.5, 6.1, 5.7, 5.1]}, {\"axis\": {\"matches\": true}, \"label\": \"sepal width\", \"values\": [3.1, 2.8, 3.3, 2.4, 2.7, 2.9, 2.7, 2.2, 2.5, 2.5, 3.0, 2.6, 2.4, 2.7, 3.0, 3.1, 3.0, 2.5, 3.0, 2.9, 2.5]}, {\"axis\": {\"matches\": true}, \"label\": \"petal length\", \"values\": [4.9, 4.6, 4.7, 3.3, 3.9, 3.6, 4.1, 4.5, 3.9, 4.9, 5.0, 3.5, 3.8, 3.9, 4.5, 4.7, 4.1, 4.0, 4.6, 4.2, 3.0]}, {\"axis\": {\"matches\": true}, \"label\": \"petal width\", \"values\": [1.5, 1.5, 1.6, 1.0, 1.4, 1.3, 1.0, 1.5, 1.1, 1.5, 1.7, 1.0, 1.1, 1.2, 1.5, 1.5, 1.3, 1.3, 1.4, 1.3, 1.1]}, {\"axis\": {\"matches\": true}, \"label\": \"predicted\", \"values\": [1, 1, 1, 1, 1, 1, 1, 1, 1, 0, 0, 1, 1, 1, 1, 1, 1, 1, 1, 1, 1]}, {\"axis\": {\"matches\": true}, \"label\": \"class\", \"values\": [1, 1, 1, 1, 1, 1, 1, 1, 1, 1, 1, 1, 1, 1, 1, 1, 1, 1, 1, 1, 1]}], \"hoverlabel\": {\"namelength\": 0}, \"hovertemplate\": \"class=1<br>trained=0<br>%{xaxis.title.text}=%{x}<br>%{yaxis.title.text}=%{y}\", \"legendgroup\": \"class=1, trained=0\", \"marker\": {\"color\": \"#EF553B\", \"symbol\": \"diamond\"}, \"name\": \"class=1, trained=0\", \"showlegend\": true, \"type\": \"splom\"}, {\"dimensions\": [{\"axis\": {\"matches\": true}, \"label\": \"sepal length\", \"values\": [6.3, 5.8, 7.1, 6.5, 7.3, 6.7, 6.5, 6.4, 6.8, 5.8, 6.4, 6.5, 7.7, 7.7, 6.0, 6.9, 5.6, 6.3, 6.7, 7.2, 6.4, 7.2, 7.4, 7.9, 6.1, 7.7, 6.3, 6.4, 6.9, 6.9, 5.8, 6.8, 6.7, 6.7, 6.5, 6.2, 5.9]}, {\"axis\": {\"matches\": true}, \"label\": \"sepal width\", \"values\": [3.3, 2.7, 3.0, 3.0, 2.9, 2.5, 3.2, 2.7, 3.0, 2.8, 3.2, 3.0, 3.8, 2.6, 2.2, 3.2, 2.8, 2.7, 3.3, 3.2, 2.8, 3.0, 2.8, 3.8, 2.6, 3.0, 3.4, 3.1, 3.1, 3.1, 2.7, 3.2, 3.3, 3.0, 3.0, 3.4, 3.0]}, {\"axis\": {\"matches\": true}, \"label\": \"petal length\", \"values\": [6.0, 5.1, 5.9, 5.8, 6.3, 5.8, 5.1, 5.3, 5.5, 5.1, 5.3, 5.5, 6.7, 6.9, 5.0, 5.7, 4.9, 4.9, 5.7, 6.0, 5.6, 5.8, 6.1, 6.4, 5.6, 6.1, 5.6, 5.5, 5.4, 5.1, 5.1, 5.9, 5.7, 5.2, 5.2, 5.4, 5.1]}, {\"axis\": {\"matches\": true}, \"label\": \"petal width\", \"values\": [2.5, 1.9, 2.1, 2.2, 1.8, 1.8, 2.0, 1.9, 2.1, 2.4, 2.3, 1.8, 2.2, 2.3, 1.5, 2.3, 2.0, 1.8, 2.1, 1.8, 2.1, 1.6, 1.9, 2.0, 1.4, 2.3, 2.4, 1.8, 2.1, 2.3, 1.9, 2.3, 2.5, 2.3, 2.0, 2.3, 1.8]}, {\"axis\": {\"matches\": true}, \"label\": \"predicted\", \"values\": [null, null, null, null, null, null, null, null, null, null, null, null, null, null, null, null, null, null, null, null, null, null, null, null, null, null, null, null, null, null, null, null, null, null, null, null, null]}, {\"axis\": {\"matches\": true}, \"label\": \"class\", \"values\": [0, 0, 0, 0, 0, 0, 0, 0, 0, 0, 0, 0, 0, 0, 0, 0, 0, 0, 0, 0, 0, 0, 0, 0, 0, 0, 0, 0, 0, 0, 0, 0, 0, 0, 0, 0, 0]}], \"hoverlabel\": {\"namelength\": 0}, \"hovertemplate\": \"class=0<br>trained=1<br>%{xaxis.title.text}=%{x}<br>%{yaxis.title.text}=%{y}\", \"legendgroup\": \"class=0, trained=1\", \"marker\": {\"color\": \"#00cc96\", \"symbol\": \"circle\"}, \"name\": \"class=0, trained=1\", \"showlegend\": true, \"type\": \"splom\"}, {\"dimensions\": [{\"axis\": {\"matches\": true}, \"label\": \"sepal length\", \"values\": [6.3, 7.6, 4.9, 7.2, 5.7, 7.7, 6.2, 6.1, 6.4, 6.3, 6.0, 6.7, 6.3]}, {\"axis\": {\"matches\": true}, \"label\": \"sepal width\", \"values\": [2.9, 3.0, 2.5, 3.6, 2.5, 2.8, 2.8, 3.0, 2.8, 2.8, 3.0, 3.1, 2.5]}, {\"axis\": {\"matches\": true}, \"label\": \"petal length\", \"values\": [5.6, 6.6, 4.5, 6.1, 5.0, 6.7, 4.8, 4.9, 5.6, 5.1, 4.8, 5.6, 5.0]}, {\"axis\": {\"matches\": true}, \"label\": \"petal width\", \"values\": [1.8, 2.1, 1.7, 2.5, 2.0, 2.0, 1.8, 1.8, 2.2, 1.5, 1.8, 2.4, 1.9]}, {\"axis\": {\"matches\": true}, \"label\": \"predicted\", \"values\": [0, 0, 1, 0, 0, 0, 1, 0, 0, 1, 0, 0, 0]}, {\"axis\": {\"matches\": true}, \"label\": \"class\", \"values\": [0, 0, 0, 0, 0, 0, 0, 0, 0, 0, 0, 0, 0]}], \"hoverlabel\": {\"namelength\": 0}, \"hovertemplate\": \"class=0<br>trained=0<br>%{xaxis.title.text}=%{x}<br>%{yaxis.title.text}=%{y}\", \"legendgroup\": \"class=0, trained=0\", \"marker\": {\"color\": \"#00cc96\", \"symbol\": \"diamond\"}, \"name\": \"class=0, trained=0\", \"showlegend\": true, \"type\": \"splom\"}],\n",
              "                        {\"dragmode\": \"select\", \"height\": 1000, \"legend\": {\"tracegroupgap\": 0}, \"margin\": {\"b\": 50, \"l\": 50, \"r\": 50, \"t\": 50}, \"template\": {\"data\": {\"scatter\": [{\"type\": \"scatter\"}]}}, \"width\": 1200},\n",
              "                        {\"responsive\": true}\n",
              "                    ).then(function(){\n",
              "                            \n",
              "var gd = document.getElementById('38589fea-74c2-4b21-ab25-98dcfbe93b0b');\n",
              "var x = new MutationObserver(function (mutations, observer) {{\n",
              "        var display = window.getComputedStyle(gd).display;\n",
              "        if (!display || display === 'none') {{\n",
              "            console.log([gd, 'removed!']);\n",
              "            Plotly.purge(gd);\n",
              "            observer.disconnect();\n",
              "        }}\n",
              "}});\n",
              "\n",
              "// Listen for the removal of the full notebook cells\n",
              "var notebookContainer = gd.closest('#notebook-container');\n",
              "if (notebookContainer) {{\n",
              "    x.observe(notebookContainer, {childList: true});\n",
              "}}\n",
              "\n",
              "// Listen for the clearing of the current output cell\n",
              "var outputEl = gd.closest('.output');\n",
              "if (outputEl) {{\n",
              "    x.observe(outputEl, {childList: true});\n",
              "}}\n",
              "\n",
              "                        })\n",
              "                };\n",
              "                \n",
              "            </script>\n",
              "        </div>\n",
              "</body>\n",
              "</html>"
            ]
          },
          "metadata": {
            "tags": []
          }
        }
      ]
    },
    {
      "cell_type": "markdown",
      "metadata": {
        "id": "d3qKA7sTn4Ir",
        "colab_type": "text"
      },
      "source": [
        "#随交叉检验折数和给定的簇的数量(kk)算法准确率的变化。"
      ]
    },
    {
      "cell_type": "code",
      "metadata": {
        "id": "edpFLHrinAgF",
        "colab_type": "code",
        "colab": {
          "base_uri": "https://localhost:8080/",
          "height": 617
        },
        "outputId": "69edb039-3520-45d2-aab1-cdafd0d0493d"
      },
      "source": [
        "from plotly.subplots import make_subplots\n",
        "import plotly.graph_objs as go\n",
        "fig = make_subplots(rows=1, cols=2, subplot_titles=(\"Change folds\", \"Change cluster number\"))\n",
        "scores, index, acc = [], [], []\n",
        "for i in range(2, 22):\n",
        "    score = evaluate_algorithm(dataset, KNN, i, {'k': 3})\n",
        "    scores.append(list(score))\n",
        "    acc.append(sum(score)/float(len(score)))\n",
        "    index.append([i for j in range(i)])\n",
        "fig.append_trace(go.Scatter(x=[i + 2 for i in range(20)], y=acc,\n",
        "                    mode='lines+markers',\n",
        "                    name='mean'), row=1, col=1)\n",
        "fig.append_trace(go.Scatter(x=sum(index, []), y=sum(scores, []),\n",
        "                    mode='markers',\n",
        "                    name='each'), row=1, col=1)\n",
        "scores, index, acc = [], [], []\n",
        "for j in range(1, 11):\n",
        "    score = evaluate_algorithm(dataset, KNN, 5, {'k': j})\n",
        "    scores.append(list(score))\n",
        "    acc.append(sum(score)/float(len(score)))\n",
        "    index.append(j)\n",
        "fig.append_trace(go.Scatter(x=[i + 1 for i in range(10)], y=acc,\n",
        "                    mode='lines+markers',\n",
        "                    name='mean-acc'), row=1, col=2)\n",
        "fig.update_layout(height=600, width=1200, template='none')\n",
        "fig.update_yaxes(title_text=\"Accuracy\", row=1, col=1)\n",
        "fig.update_yaxes(title_text=\"Accuracy\", row=1, col=2)\n",
        "fig.update_xaxes(title_text=\"Folds Num\", row=1, col=1)\n",
        "fig.update_xaxes(title_text=\"Cluster Num\", row=1, col=2)\n",
        "fig.show()"
      ],
      "execution_count": 28,
      "outputs": [
        {
          "output_type": "display_data",
          "data": {
            "text/html": [
              "<html>\n",
              "<head><meta charset=\"utf-8\" /></head>\n",
              "<body>\n",
              "    <div>\n",
              "            <script src=\"https://cdnjs.cloudflare.com/ajax/libs/mathjax/2.7.5/MathJax.js?config=TeX-AMS-MML_SVG\"></script><script type=\"text/javascript\">if (window.MathJax) {MathJax.Hub.Config({SVG: {font: \"STIX-Web\"}});}</script>\n",
              "                <script type=\"text/javascript\">window.PlotlyConfig = {MathJaxConfig: 'local'};</script>\n",
              "        <script src=\"https://cdn.plot.ly/plotly-latest.min.js\"></script>    \n",
              "            <div id=\"b3931714-8e81-49bd-9fbc-b17dcdfb8f1e\" class=\"plotly-graph-div\" style=\"height:600px; width:1200px;\"></div>\n",
              "            <script type=\"text/javascript\">\n",
              "                \n",
              "                    window.PLOTLYENV=window.PLOTLYENV || {};\n",
              "                    \n",
              "                if (document.getElementById(\"b3931714-8e81-49bd-9fbc-b17dcdfb8f1e\")) {\n",
              "                    Plotly.newPlot(\n",
              "                        'b3931714-8e81-49bd-9fbc-b17dcdfb8f1e',\n",
              "                        [{\"mode\": \"lines+markers\", \"name\": \"mean\", \"type\": \"scatter\", \"x\": [2, 3, 4, 5, 6, 7, 8, 9, 10, 11, 12, 13, 14, 15, 16, 17, 18, 19, 20, 21], \"xaxis\": \"x\", \"y\": [97.33333333333334, 96.0, 96.62162162162163, 96.66666666666667, 96.66666666666667, 95.91836734693878, 95.83333333333333, 95.83333333333333, 95.33333333333334, 95.8041958041958, 95.13888888888887, 95.10489510489512, 95.71428571428571, 96.66666666666667, 95.83333333333334, 94.8529411764706, 95.83333333333333, 95.48872180451127, 95.71428571428574, 95.9183673469388], \"yaxis\": \"y\"}, {\"mode\": \"markers\", \"name\": \"each\", \"type\": \"scatter\", \"x\": [2, 2, 3, 3, 3, 4, 4, 4, 4, 5, 5, 5, 5, 5, 6, 6, 6, 6, 6, 6, 7, 7, 7, 7, 7, 7, 7, 8, 8, 8, 8, 8, 8, 8, 8, 9, 9, 9, 9, 9, 9, 9, 9, 9, 10, 10, 10, 10, 10, 10, 10, 10, 10, 10, 11, 11, 11, 11, 11, 11, 11, 11, 11, 11, 11, 12, 12, 12, 12, 12, 12, 12, 12, 12, 12, 12, 12, 13, 13, 13, 13, 13, 13, 13, 13, 13, 13, 13, 13, 13, 14, 14, 14, 14, 14, 14, 14, 14, 14, 14, 14, 14, 14, 14, 15, 15, 15, 15, 15, 15, 15, 15, 15, 15, 15, 15, 15, 15, 15, 16, 16, 16, 16, 16, 16, 16, 16, 16, 16, 16, 16, 16, 16, 16, 16, 17, 17, 17, 17, 17, 17, 17, 17, 17, 17, 17, 17, 17, 17, 17, 17, 17, 18, 18, 18, 18, 18, 18, 18, 18, 18, 18, 18, 18, 18, 18, 18, 18, 18, 18, 19, 19, 19, 19, 19, 19, 19, 19, 19, 19, 19, 19, 19, 19, 19, 19, 19, 19, 19, 20, 20, 20, 20, 20, 20, 20, 20, 20, 20, 20, 20, 20, 20, 20, 20, 20, 20, 20, 20, 21, 21, 21, 21, 21, 21, 21, 21, 21, 21, 21, 21, 21, 21, 21, 21, 21, 21, 21, 21, 21], \"xaxis\": \"x\", \"y\": [97.33333333333334, 97.33333333333334, 96.0, 96.0, 96.0, 94.5945945945946, 97.2972972972973, 97.2972972972973, 97.2972972972973, 100.0, 90.0, 96.66666666666667, 96.66666666666667, 100.0, 88.0, 96.0, 96.0, 100.0, 100.0, 100.0, 100.0, 90.47619047619048, 100.0, 90.47619047619048, 95.23809523809523, 95.23809523809523, 100.0, 94.44444444444444, 88.88888888888889, 100.0, 100.0, 94.44444444444444, 94.44444444444444, 94.44444444444444, 100.0, 100.0, 100.0, 93.75, 87.5, 87.5, 100.0, 100.0, 93.75, 100.0, 100.0, 100.0, 93.33333333333333, 93.33333333333333, 93.33333333333333, 100.0, 86.66666666666667, 100.0, 93.33333333333333, 93.33333333333333, 100.0, 100.0, 100.0, 100.0, 100.0, 100.0, 100.0, 84.61538461538461, 92.3076923076923, 92.3076923076923, 84.61538461538461, 100.0, 91.66666666666666, 100.0, 91.66666666666666, 100.0, 100.0, 91.66666666666666, 100.0, 100.0, 91.66666666666666, 83.33333333333334, 91.66666666666666, 100.0, 90.9090909090909, 100.0, 100.0, 100.0, 90.9090909090909, 81.81818181818183, 100.0, 100.0, 90.9090909090909, 90.9090909090909, 90.9090909090909, 100.0, 90.0, 90.0, 100.0, 100.0, 90.0, 100.0, 100.0, 80.0, 100.0, 100.0, 90.0, 100.0, 100.0, 100.0, 80.0, 100.0, 90.0, 100.0, 100.0, 100.0, 100.0, 90.0, 100.0, 100.0, 100.0, 100.0, 100.0, 100.0, 90.0, 88.88888888888889, 100.0, 100.0, 100.0, 100.0, 100.0, 100.0, 100.0, 88.88888888888889, 77.77777777777779, 100.0, 88.88888888888889, 100.0, 100.0, 88.88888888888889, 100.0, 100.0, 100.0, 100.0, 100.0, 100.0, 100.0, 87.5, 100.0, 100.0, 62.5, 87.5, 100.0, 87.5, 87.5, 100.0, 100.0, 100.0, 87.5, 100.0, 87.5, 100.0, 87.5, 100.0, 100.0, 100.0, 100.0, 87.5, 100.0, 100.0, 100.0, 87.5, 100.0, 87.5, 100.0, 100.0, 100.0, 85.71428571428571, 85.71428571428571, 100.0, 100.0, 100.0, 85.71428571428571, 85.71428571428571, 100.0, 100.0, 85.71428571428571, 100.0, 100.0, 85.71428571428571, 100.0, 100.0, 100.0, 100.0, 100.0, 85.71428571428571, 100.0, 100.0, 100.0, 100.0, 100.0, 100.0, 100.0, 100.0, 100.0, 85.71428571428571, 100.0, 100.0, 85.71428571428571, 85.71428571428571, 100.0, 100.0, 85.71428571428571, 100.0, 85.71428571428571, 85.71428571428571, 100.0, 100.0, 100.0, 100.0, 100.0, 100.0, 100.0, 100.0, 100.0, 100.0, 100.0, 85.71428571428571, 85.71428571428571, 100.0, 100.0, 85.71428571428571, 100.0, 85.71428571428571, 100.0, 85.71428571428571], \"yaxis\": \"y\"}, {\"mode\": \"lines+markers\", \"name\": \"mean-acc\", \"type\": \"scatter\", \"x\": [1, 2, 3, 4, 5, 6, 7, 8, 9, 10], \"xaxis\": \"x2\", \"y\": [95.33333333333334, 96.0, 94.66666666666666, 96.0, 97.33333333333334, 96.66666666666667, 96.00000000000001, 95.33333333333334, 97.33333333333334, 96.66666666666667], \"yaxis\": \"y2\"}],\n",
              "                        {\"annotations\": [{\"font\": {\"size\": 16}, \"showarrow\": false, \"text\": \"Change folds\", \"x\": 0.225, \"xanchor\": \"center\", \"xref\": \"paper\", \"y\": 1.0, \"yanchor\": \"bottom\", \"yref\": \"paper\"}, {\"font\": {\"size\": 16}, \"showarrow\": false, \"text\": \"Change cluster number\", \"x\": 0.775, \"xanchor\": \"center\", \"xref\": \"paper\", \"y\": 1.0, \"yanchor\": \"bottom\", \"yref\": \"paper\"}], \"height\": 600, \"template\": {\"data\": {\"scatter\": [{\"type\": \"scatter\"}]}}, \"width\": 1200, \"xaxis\": {\"anchor\": \"y\", \"domain\": [0.0, 0.45], \"title\": {\"text\": \"Folds Num\"}}, \"xaxis2\": {\"anchor\": \"y2\", \"domain\": [0.55, 1.0], \"title\": {\"text\": \"Cluster Num\"}}, \"yaxis\": {\"anchor\": \"x\", \"domain\": [0.0, 1.0], \"title\": {\"text\": \"Accuracy\"}}, \"yaxis2\": {\"anchor\": \"x2\", \"domain\": [0.0, 1.0], \"title\": {\"text\": \"Accuracy\"}}},\n",
              "                        {\"responsive\": true}\n",
              "                    ).then(function(){\n",
              "                            \n",
              "var gd = document.getElementById('b3931714-8e81-49bd-9fbc-b17dcdfb8f1e');\n",
              "var x = new MutationObserver(function (mutations, observer) {{\n",
              "        var display = window.getComputedStyle(gd).display;\n",
              "        if (!display || display === 'none') {{\n",
              "            console.log([gd, 'removed!']);\n",
              "            Plotly.purge(gd);\n",
              "            observer.disconnect();\n",
              "        }}\n",
              "}});\n",
              "\n",
              "// Listen for the removal of the full notebook cells\n",
              "var notebookContainer = gd.closest('#notebook-container');\n",
              "if (notebookContainer) {{\n",
              "    x.observe(notebookContainer, {childList: true});\n",
              "}}\n",
              "\n",
              "// Listen for the clearing of the current output cell\n",
              "var outputEl = gd.closest('.output');\n",
              "if (outputEl) {{\n",
              "    x.observe(outputEl, {childList: true});\n",
              "}}\n",
              "\n",
              "                        })\n",
              "                };\n",
              "                \n",
              "            </script>\n",
              "        </div>\n",
              "</body>\n",
              "</html>"
            ]
          },
          "metadata": {
            "tags": []
          }
        }
      ]
    }
  ]
}