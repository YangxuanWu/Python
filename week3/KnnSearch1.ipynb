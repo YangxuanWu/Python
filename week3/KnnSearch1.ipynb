{
 "cells": [
  {
   "cell_type": "code",
   "execution_count": 17,
   "metadata": {},
   "outputs": [],
   "source": [
    "import math\n",
    "\n",
    "def closest(position, positions):\n",
    "    #申明函数closest，参数为position，positions\n",
    "    x0, y0 = position\n",
    "    dbest, ibest = None, None\n",
    "    for i, (x,y) in enumerate(positions):\n",
    "        #enumerate() 函数用于将一个可遍历的数据对象(如列表、元组或字符串)组合为一个索引序列，同时列出数据和数据下标，一般用在for 循环当中\n",
    "        # compute the Euclidean distance\n",
    "        dist = ((x - x0) ** 2) + ((y - y0) ** 2)\n",
    "        dist = math.sqrt(dist)\n",
    "        if dbest is None or dist < dbest:\n",
    "            dbest, ibest = dist, i\n",
    "    return ibest\n"
   ]
  },
  {
   "cell_type": "code",
   "execution_count": 18,
   "metadata": {},
   "outputs": [],
   "source": [
    "import random"
   ]
  },
  {
   "cell_type": "code",
   "execution_count": 19,
   "metadata": {},
   "outputs": [],
   "source": [
    "positions = [(random.random(), random.random()) for i in range(10000000)]"
   ]
  },
  {
   "cell_type": "code",
   "execution_count": 20,
   "metadata": {},
   "outputs": [
    {
     "name": "stdout",
     "output_type": "stream",
     "text": [
      "(0.36976117551925536, 0.670411997728346)\n",
      "(0.5715998772198202, 0.08642582869260906)\n",
      "(0.8920550541478891, 0.1421982137089739)\n",
      "(0.02359787948799763, 0.5382115329841881)\n",
      "(0.48986585922106574, 0.3614771561510274)\n",
      "(0.3911973902055249, 0.7249054369494936)\n",
      "(0.22786349156997676, 0.16475931758579787)\n",
      "(0.3480900355508607, 0.861768519850314)\n",
      "(0.3370026650102521, 0.35351309674791065)\n",
      "(0.3148827949808449, 0.04284772016683258)\n"
     ]
    }
   ],
   "source": [
    "for i in range(0, 10):\n",
    "    print(positions[i])"
   ]
  },
  {
   "cell_type": "code",
   "execution_count": null,
   "metadata": {},
   "outputs": [],
   "source": [
    "%timeit closest((.5, .5), positions)"
   ]
  },
  {
   "cell_type": "code",
   "execution_count": null,
   "metadata": {},
   "outputs": [],
   "source": [
    "import numpy as np"
   ]
  },
  {
   "cell_type": "code",
   "execution_count": null,
   "metadata": {},
   "outputs": [],
   "source": [
    "positions = np.random.rand(10000000, 2)#通过本函数可以返回一个或一组服从“0~1”均匀分布的随机样本值。随机样本取值范围是[0,1)，不包括1。"
   ]
  },
  {
   "cell_type": "code",
   "execution_count": null,
   "metadata": {},
   "outputs": [],
   "source": [
    "positions.shape"
   ]
  },
  {
   "cell_type": "code",
   "execution_count": null,
   "metadata": {},
   "outputs": [],
   "source": [
    "print(positions[:10,:])"
   ]
  },
  {
   "cell_type": "code",
   "execution_count": null,
   "metadata": {},
   "outputs": [],
   "source": [
    "x, y = positions[:,0], positions[:,1] # x and y are arrays containing the 1st and 2nd cols, respectively."
   ]
  },
  {
   "cell_type": "code",
   "execution_count": null,
   "metadata": {},
   "outputs": [],
   "source": [
    "distances = np.sqrt( (x - 0.5)**2 + (y - 0.5)**2 )"
   ]
  },
  {
   "cell_type": "code",
   "execution_count": null,
   "metadata": {},
   "outputs": [],
   "source": [
    "print(distances[:10])"
   ]
  },
  {
   "cell_type": "code",
   "execution_count": null,
   "metadata": {},
   "outputs": [],
   "source": []
  },
  {
   "cell_type": "code",
   "execution_count": null,
   "metadata": {},
   "outputs": [],
   "source": []
  },
  {
   "cell_type": "code",
   "execution_count": null,
   "metadata": {},
   "outputs": [],
   "source": []
  },
  {
   "cell_type": "code",
   "execution_count": null,
   "metadata": {},
   "outputs": [],
   "source": []
  }
 ],
 "metadata": {
  "kernelspec": {
   "display_name": "Python 3",
   "language": "python",
   "name": "python3"
  },
  "language_info": {
   "codemirror_mode": {
    "name": "ipython",
    "version": 3
   },
   "file_extension": ".py",
   "mimetype": "text/x-python",
   "name": "python",
   "nbconvert_exporter": "python",
   "pygments_lexer": "ipython3",
   "version": "3.7.4"
  }
 },
 "nbformat": 4,
 "nbformat_minor": 4
}
