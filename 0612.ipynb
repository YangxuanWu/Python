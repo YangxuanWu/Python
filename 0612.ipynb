{
  "nbformat": 4,
  "nbformat_minor": 0,
  "metadata": {
    "colab": {
      "name": "Untitled1.ipynb",
      "provenance": [],
      "authorship_tag": "ABX9TyP1qROEh0Jbo5d8+VzS7XFK",
      "include_colab_link": true
    },
    "kernelspec": {
      "name": "python3",
      "display_name": "Python 3"
    }
  },
  "cells": [
    {
      "cell_type": "markdown",
      "metadata": {
        "id": "view-in-github",
        "colab_type": "text"
      },
      "source": [
        "<a href=\"https://colab.research.google.com/github/YangxuanWu/Python/blob/master/0612.ipynb\" target=\"_parent\"><img src=\"https://colab.research.google.com/assets/colab-badge.svg\" alt=\"Open In Colab\"/></a>"
      ]
    },
    {
      "cell_type": "code",
      "metadata": {
        "id": "Ot_dzVcyeNS4",
        "colab_type": "code",
        "colab": {}
      },
      "source": [
        "#Create an DuPont Analysis/ROE application -- any language or platform of your choosing: \n",
        " \n",
        "#The app should accept the four needed inputs for DuPont Analysis.\n",
        "#The app should calculate and display Profit Margin\n",
        "#The app should calculate and display Total Asset Turnover\n",
        "#The app should calculate and display Leverage Factor\n",
        "#The app should calculate and display Return on Equity (ROE)"
      ],
      "execution_count": 0,
      "outputs": []
    },
    {
      "cell_type": "code",
      "metadata": {
        "id": "o3MZrmrneXZG",
        "colab_type": "code",
        "colab": {
          "base_uri": "https://localhost:8080/",
          "height": 84
        },
        "outputId": "0e80353c-63b7-49bf-9d24-944d247cc503"
      },
      "source": [
        "#prcatice\n",
        "from __future__ import division\n",
        "a = 1\n",
        "b = 3\n",
        "print (a/b) \n",
        "\n",
        "5 % 2\n",
        "\n",
        "2 ** 3\n",
        "\n",
        "c = 1 + 2j\n",
        "d = 2 - 1j\n",
        "print (c+d)\n",
        "import math\n",
        "P = math.pi\n",
        "print (P) \n",
        "math.exp(2)\n",
        "math.pow(2, 3)\n",
        "math.log(math.e) "
      ],
      "execution_count": 15,
      "outputs": [
        {
          "output_type": "stream",
          "text": [
            "0.3333333333333333\n",
            "(3+1j)\n",
            "3.141592653589793\n"
          ],
          "name": "stdout"
        },
        {
          "output_type": "execute_result",
          "data": {
            "text/plain": [
              "7.38905609893065"
            ]
          },
          "metadata": {
            "tags": []
          },
          "execution_count": 15
        }
      ]
    },
    {
      "cell_type": "code",
      "metadata": {
        "id": "oL779j7NgEFi",
        "colab_type": "code",
        "colab": {}
      },
      "source": [
        "PM = Prifit Margin\n",
        "NI = Net Income\n",
        "R = Revenue\n",
        "E = Equity\n",
        "AA = Average Assets\n",
        "AE = Average Equity\n",
        "LF = Leverage Factor\n",
        "TAT = Total Asset Turnover\n",
        "PM = NI/R\n",
        "TAT = R/AA\n",
        "LF = AA/AE\n",
        "ROE = NI/Equity = PM*TAT*LF"
      ],
      "execution_count": 0,
      "outputs": []
    },
    {
      "cell_type": "code",
      "metadata": {
        "id": "fH_RIkSRiFh0",
        "colab_type": "code",
        "colab": {
          "base_uri": "https://localhost:8080/",
          "height": 131
        },
        "outputId": "fe2834d7-6a65-4b5e-df32-6da161a0fec1"
      },
      "source": [
        "pip install tushare\n",
        "import tushare as ts\n",
        "import pandas as pd\n",
        "import matplotlib.pyplot as plt\n",
        "from matplotlib.font_manager import *\n",
        "from pyecharts import Map, configure"
      ],
      "execution_count": 21,
      "outputs": [
        {
          "output_type": "error",
          "ename": "SyntaxError",
          "evalue": "ignored",
          "traceback": [
            "\u001b[0;36m  File \u001b[0;32m\"<ipython-input-21-84b5923137c2>\"\u001b[0;36m, line \u001b[0;32m1\u001b[0m\n\u001b[0;31m    install tushare\u001b[0m\n\u001b[0m                  ^\u001b[0m\n\u001b[0;31mSyntaxError\u001b[0m\u001b[0;31m:\u001b[0m invalid syntax\n"
          ]
        }
      ]
    },
    {
      "cell_type": "code",
      "metadata": {
        "id": "7EOeI-vHimPs",
        "colab_type": "code",
        "colab": {}
      },
      "source": [
        ""
      ],
      "execution_count": 0,
      "outputs": []
    }
  ]
}