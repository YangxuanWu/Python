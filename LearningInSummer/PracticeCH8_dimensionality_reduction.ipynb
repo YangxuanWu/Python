{
  "nbformat": 4,
  "nbformat_minor": 0,
  "metadata": {
    "kernelspec": {
      "display_name": "Python 3",
      "language": "python",
      "name": "python3"
    },
    "language_info": {
      "codemirror_mode": {
        "name": "ipython",
        "version": 3
      },
      "file_extension": ".py",
      "mimetype": "text/x-python",
      "name": "python",
      "nbconvert_exporter": "python",
      "pygments_lexer": "ipython3",
      "version": "3.7.6"
    },
    "colab": {
      "name": "PracticeCH9-dimensionality_reduction.ipynb",
      "provenance": [],
      "include_colab_link": true
    }
  },
  "cells": [
    {
      "cell_type": "markdown",
      "metadata": {
        "id": "view-in-github",
        "colab_type": "text"
      },
      "source": [
        "<a href=\"https://colab.research.google.com/github/YangxuanWu/Python/blob/master/LearningInSummer/PracticeCH9_dimensionality_reduction.ipynb\" target=\"_parent\"><img src=\"https://colab.research.google.com/assets/colab-badge.svg\" alt=\"Open In Colab\"/></a>"
      ]
    },
    {
      "cell_type": "code",
      "metadata": {
        "id": "NfqAANrwv26L",
        "colab_type": "code",
        "colab": {}
      },
      "source": [
        "# Python ≥3.5 is required\n",
        "import sys\n",
        "assert sys.version_info >= (3, 5)\n",
        "\n",
        "# Scikit-Learn ≥0.20 is required\n",
        "import sklearn\n",
        "assert sklearn.__version__ >= \"0.20\"\n",
        "\n",
        "# Common imports\n",
        "import numpy as np\n",
        "import os\n",
        "\n",
        "# to make this notebook's output stable across runs\n",
        "np.random.seed(42)\n",
        "\n",
        "# To plot pretty figures\n",
        "%matplotlib inline\n",
        "import matplotlib as mpl\n",
        "import matplotlib.pyplot as plt\n",
        "mpl.rc('axes', labelsize=14)\n",
        "mpl.rc('xtick', labelsize=12)\n",
        "mpl.rc('ytick', labelsize=12)\n",
        "\n",
        "# Where to save the figures\n",
        "PROJECT_ROOT_DIR = \".\"\n",
        "CHAPTER_ID = \"dim_reduction\"\n",
        "IMAGES_PATH = os.path.join(PROJECT_ROOT_DIR, \"images\", CHAPTER_ID)\n",
        "os.makedirs(IMAGES_PATH, exist_ok=True)\n",
        "\n",
        "def save_fig(fig_id, tight_layout=True, fig_extension=\"png\", resolution=300):\n",
        "    path = os.path.join(IMAGES_PATH, fig_id + \".\" + fig_extension)\n",
        "    print(\"Saving figure\", fig_id)\n",
        "    if tight_layout:\n",
        "        plt.tight_layout()\n",
        "    plt.savefig(path, format=fig_extension, dpi=resolution)\n",
        "\n",
        "# Ignore useless warnings (see SciPy issue #5998)\n",
        "import warnings\n",
        "warnings.filterwarnings(action=\"ignore\", message=\"^internal gelsd\")"
      ],
      "execution_count": 1,
      "outputs": []
    },
    {
      "cell_type": "code",
      "metadata": {
        "id": "BbbBZJ8wv26P",
        "colab_type": "code",
        "colab": {}
      },
      "source": [
        "#构建三维数据集\n",
        "np.random.seed(4)\n",
        "m = 60\n",
        "w1, w2 = 0.1, 0.3\n",
        "noise = 0.1\n",
        "\n",
        "angles = np.random.rand(m) * 3 * np.pi / 2 - 0.5\n",
        "X = np.empty((m, 3))\n",
        "X[:, 0] = np.cos(angles) + np.sin(angles)/2 + noise * np.random.randn(m) / 2\n",
        "X[:, 1] = np.sin(angles) * 0.7 + noise * np.random.randn(m) / 2\n",
        "X[:, 2] = X[:, 0] * w1 + X[:, 1] * w2 + noise * np.random.randn(m)"
      ],
      "execution_count": 2,
      "outputs": []
    },
    {
      "cell_type": "code",
      "metadata": {
        "id": "Qn7d2AYBv26R",
        "colab_type": "code",
        "colab": {}
      },
      "source": [
        "#主成分分析使用SVD分解\n",
        "X_centered = X - X.mean(axis=0)\n",
        "U, s, Vt = np.linalg.svd(X_centered)\n",
        "c1 = Vt.T[:, 0]\n",
        "c2 = Vt.T[:, 1]"
      ],
      "execution_count": 3,
      "outputs": []
    },
    {
      "cell_type": "code",
      "metadata": {
        "id": "wgyVkNyWv26T",
        "colab_type": "code",
        "colab": {}
      },
      "source": [
        "m, n = X.shape\n",
        "\n",
        "S = np.zeros(X_centered.shape)\n",
        "S[:n, :n] = np.diag(s)"
      ],
      "execution_count": 4,
      "outputs": []
    },
    {
      "cell_type": "code",
      "metadata": {
        "id": "2Wp6eOrav26V",
        "colab_type": "code",
        "colab": {
          "base_uri": "https://localhost:8080/",
          "height": 34
        },
        "outputId": "a720245d-b04e-449f-dee4-eb905cc311ca"
      },
      "source": [
        "np.allclose(X_centered, U.dot(S).dot(Vt))"
      ],
      "execution_count": 5,
      "outputs": [
        {
          "output_type": "execute_result",
          "data": {
            "text/plain": [
              "True"
            ]
          },
          "metadata": {
            "tags": []
          },
          "execution_count": 5
        }
      ]
    },
    {
      "cell_type": "code",
      "metadata": {
        "id": "119MP-HNv26Y",
        "colab_type": "code",
        "colab": {}
      },
      "source": [
        "W2 = Vt.T[:, :2]\n",
        "X2D = X_centered.dot(W2)"
      ],
      "execution_count": 6,
      "outputs": []
    },
    {
      "cell_type": "code",
      "metadata": {
        "id": "_JbdQaUUv26b",
        "colab_type": "code",
        "colab": {}
      },
      "source": [
        "X2D_using_svd = X2D"
      ],
      "execution_count": 7,
      "outputs": []
    },
    {
      "cell_type": "code",
      "metadata": {
        "id": "4NKrVYNyv26e",
        "colab_type": "code",
        "colab": {}
      },
      "source": [
        "#PCA使用Scikit-Learn\n",
        "from sklearn.decomposition import PCA\n",
        "\n",
        "pca = PCA(n_components = 2)\n",
        "X2D = pca.fit_transform(X)"
      ],
      "execution_count": 8,
      "outputs": []
    },
    {
      "cell_type": "code",
      "metadata": {
        "id": "mVHi16Rcv26f",
        "colab_type": "code",
        "colab": {
          "base_uri": "https://localhost:8080/",
          "height": 101
        },
        "outputId": "bc2bf776-20b3-4fbe-e33b-982883b50d83"
      },
      "source": [
        "X2D[:5]"
      ],
      "execution_count": 9,
      "outputs": [
        {
          "output_type": "execute_result",
          "data": {
            "text/plain": [
              "array([[ 1.26203346,  0.42067648],\n",
              "       [-0.08001485, -0.35272239],\n",
              "       [ 1.17545763,  0.36085729],\n",
              "       [ 0.89305601, -0.30862856],\n",
              "       [ 0.73016287, -0.25404049]])"
            ]
          },
          "metadata": {
            "tags": []
          },
          "execution_count": 9
        }
      ]
    },
    {
      "cell_type": "code",
      "metadata": {
        "id": "F3V7qha6v26i",
        "colab_type": "code",
        "colab": {
          "base_uri": "https://localhost:8080/",
          "height": 101
        },
        "outputId": "4db03f6d-1b9a-4142-eb4d-6d7a5d1f8252"
      },
      "source": [
        "X2D_using_svd[:5]"
      ],
      "execution_count": 10,
      "outputs": [
        {
          "output_type": "execute_result",
          "data": {
            "text/plain": [
              "array([[-1.26203346, -0.42067648],\n",
              "       [ 0.08001485,  0.35272239],\n",
              "       [-1.17545763, -0.36085729],\n",
              "       [-0.89305601,  0.30862856],\n",
              "       [-0.73016287,  0.25404049]])"
            ]
          },
          "metadata": {
            "tags": []
          },
          "execution_count": 10
        }
      ]
    },
    {
      "cell_type": "code",
      "metadata": {
        "id": "H0SZxFOTv26l",
        "colab_type": "code",
        "colab": {
          "base_uri": "https://localhost:8080/",
          "height": 34
        },
        "outputId": "6b8043b5-6009-4bf9-9a0e-dcea31d9a0e0"
      },
      "source": [
        "#使用Scikit-Learn的PCA给出了与SVD方法相同的投影，只是两个轴翻转了\n",
        "np.allclose(X2D, -X2D_using_svd)"
      ],
      "execution_count": 11,
      "outputs": [
        {
          "output_type": "execute_result",
          "data": {
            "text/plain": [
              "True"
            ]
          },
          "metadata": {
            "tags": []
          },
          "execution_count": 11
        }
      ]
    },
    {
      "cell_type": "code",
      "metadata": {
        "id": "3Z7piq_1v26o",
        "colab_type": "code",
        "colab": {}
      },
      "source": [
        "#恢复投影在平面上的三维点(PCA二维子空间)。\n",
        "X3D_inv = pca.inverse_transform(X2D)"
      ],
      "execution_count": 12,
      "outputs": []
    },
    {
      "cell_type": "code",
      "metadata": {
        "id": "ny3bN84Ov26q",
        "colab_type": "code",
        "colab": {
          "base_uri": "https://localhost:8080/",
          "height": 34
        },
        "outputId": "e09d6ca1-dadc-45c9-87a3-a411b70387d1"
      },
      "source": [
        "#在投影过程中会有一些信息的丢失，所以恢复的三维点并不完全等于原来的三维点:\n",
        "np.allclose(X3D_inv, X)"
      ],
      "execution_count": 13,
      "outputs": [
        {
          "output_type": "execute_result",
          "data": {
            "text/plain": [
              "False"
            ]
          },
          "metadata": {
            "tags": []
          },
          "execution_count": 13
        }
      ]
    },
    {
      "cell_type": "code",
      "metadata": {
        "id": "QYzFsLjcv26s",
        "colab_type": "code",
        "colab": {
          "base_uri": "https://localhost:8080/",
          "height": 34
        },
        "outputId": "3d64b93e-fefb-4306-a9b3-ad0e975df251"
      },
      "source": [
        "#计算重构误差\n",
        "np.mean(np.sum(np.square(X3D_inv - X), axis=1))"
      ],
      "execution_count": 14,
      "outputs": [
        {
          "output_type": "execute_result",
          "data": {
            "text/plain": [
              "0.010170337792848549"
            ]
          },
          "metadata": {
            "tags": []
          },
          "execution_count": 14
        }
      ]
    },
    {
      "cell_type": "code",
      "metadata": {
        "id": "DxwuA4PGv26v",
        "colab_type": "code",
        "colab": {}
      },
      "source": [
        "#SVD方法的逆变换\n",
        "X3D_inv_using_svd = X2D_using_svd.dot(Vt[:2, :])"
      ],
      "execution_count": 15,
      "outputs": []
    },
    {
      "cell_type": "code",
      "metadata": {
        "id": "-52Tj5G-v26x",
        "colab_type": "code",
        "colab": {
          "base_uri": "https://localhost:8080/",
          "height": 34
        },
        "outputId": "16548964-c85e-48c2-f430-242247fb7247"
      },
      "source": [
        "#这两种方法的重构并不完全相同，因为Scikit-Learn的PCA类会自动处理均值对中方向的反转，但是如果我们减去均值，得到的重构是相同的\n",
        "np.allclose(X3D_inv_using_svd, X3D_inv - pca.mean_)"
      ],
      "execution_count": 16,
      "outputs": [
        {
          "output_type": "execute_result",
          "data": {
            "text/plain": [
              "True"
            ]
          },
          "metadata": {
            "tags": []
          },
          "execution_count": 16
        }
      ]
    },
    {
      "cell_type": "code",
      "metadata": {
        "id": "FB1_evKBv26z",
        "colab_type": "code",
        "colab": {
          "base_uri": "https://localhost:8080/",
          "height": 50
        },
        "outputId": "b36213a4-b2d1-40a6-ae75-375eacfd551e"
      },
      "source": [
        "#主成分分析对象对其计算出的主成分进行访问:\n",
        "pca.components_"
      ],
      "execution_count": 17,
      "outputs": [
        {
          "output_type": "execute_result",
          "data": {
            "text/plain": [
              "array([[-0.93636116, -0.29854881, -0.18465208],\n",
              "       [ 0.34027485, -0.90119108, -0.2684542 ]])"
            ]
          },
          "metadata": {
            "tags": []
          },
          "execution_count": 17
        }
      ]
    },
    {
      "cell_type": "code",
      "metadata": {
        "id": "8TlPhZ0sv262",
        "colab_type": "code",
        "colab": {
          "base_uri": "https://localhost:8080/",
          "height": 50
        },
        "outputId": "0a96ef7a-392b-4842-e228-488088418325"
      },
      "source": [
        "#与SVD方法计算的前两个主分量相比\n",
        "Vt[:2]"
      ],
      "execution_count": 18,
      "outputs": [
        {
          "output_type": "execute_result",
          "data": {
            "text/plain": [
              "array([[ 0.93636116,  0.29854881,  0.18465208],\n",
              "       [-0.34027485,  0.90119108,  0.2684542 ]])"
            ]
          },
          "metadata": {
            "tags": []
          },
          "execution_count": 18
        }
      ]
    },
    {
      "cell_type": "code",
      "metadata": {
        "id": "KGne1OhFv264",
        "colab_type": "code",
        "colab": {
          "base_uri": "https://localhost:8080/",
          "height": 34
        },
        "outputId": "b34bb155-6eea-4f5f-aa5e-c699e6425d8b"
      },
      "source": [
        "pca.explained_variance_ratio_"
      ],
      "execution_count": 19,
      "outputs": [
        {
          "output_type": "execute_result",
          "data": {
            "text/plain": [
              "array([0.84248607, 0.14631839])"
            ]
          },
          "metadata": {
            "tags": []
          },
          "execution_count": 19
        }
      ]
    },
    {
      "cell_type": "code",
      "metadata": {
        "id": "KcMpiXYuv267",
        "colab_type": "code",
        "colab": {
          "base_uri": "https://localhost:8080/",
          "height": 34
        },
        "outputId": "b2a8b974-17ea-41eb-9d5d-48c44eff2248"
      },
      "source": [
        "1 - pca.explained_variance_ratio_.sum()"
      ],
      "execution_count": 20,
      "outputs": [
        {
          "output_type": "execute_result",
          "data": {
            "text/plain": [
              "0.011195535570688975"
            ]
          },
          "metadata": {
            "tags": []
          },
          "execution_count": 20
        }
      ]
    },
    {
      "cell_type": "code",
      "metadata": {
        "id": "DC4xmt4dv269",
        "colab_type": "code",
        "colab": {
          "base_uri": "https://localhost:8080/",
          "height": 34
        },
        "outputId": "64d4844c-5613-4500-a9e5-0dc9984fd6af"
      },
      "source": [
        "np.square(s) / np.square(s).sum()"
      ],
      "execution_count": 21,
      "outputs": [
        {
          "output_type": "execute_result",
          "data": {
            "text/plain": [
              "array([0.84248607, 0.14631839, 0.01119554])"
            ]
          },
          "metadata": {
            "tags": []
          },
          "execution_count": 21
        }
      ]
    },
    {
      "cell_type": "code",
      "metadata": {
        "id": "dmmtf2jrv26_",
        "colab_type": "code",
        "colab": {}
      },
      "source": [
        "#Utility class to draw 3D arrows (copied from http://stackoverflow.com/questions/11140163)\n",
        "from matplotlib.patches import FancyArrowPatch\n",
        "from mpl_toolkits.mplot3d import proj3d\n",
        "\n",
        "class Arrow3D(FancyArrowPatch):\n",
        "    def __init__(self, xs, ys, zs, *args, **kwargs):\n",
        "        FancyArrowPatch.__init__(self, (0,0), (0,0), *args, **kwargs)\n",
        "        self._verts3d = xs, ys, zs\n",
        "\n",
        "    def draw(self, renderer):\n",
        "        xs3d, ys3d, zs3d = self._verts3d\n",
        "        xs, ys, zs = proj3d.proj_transform(xs3d, ys3d, zs3d, renderer.M)\n",
        "        self.set_positions((xs[0],ys[0]),(xs[1],ys[1]))\n",
        "        FancyArrowPatch.draw(self, renderer)"
      ],
      "execution_count": 22,
      "outputs": []
    },
    {
      "cell_type": "code",
      "metadata": {
        "id": "wYXGG5j5v27D",
        "colab_type": "code",
        "colab": {}
      },
      "source": [
        "#Express the plane as a function of x and y.\n",
        "axes = [-1.8, 1.8, -1.3, 1.3, -1.0, 1.0]\n",
        "\n",
        "x1s = np.linspace(axes[0], axes[1], 10)\n",
        "x2s = np.linspace(axes[2], axes[3], 10)\n",
        "x1, x2 = np.meshgrid(x1s, x2s)\n",
        "\n",
        "C = pca.components_\n",
        "R = C.T.dot(C)\n",
        "z = (R[0, 2] * x1 + R[1, 2] * x2) / (1 - R[2, 2])"
      ],
      "execution_count": 23,
      "outputs": []
    },
    {
      "cell_type": "code",
      "metadata": {
        "id": "xKrrMnkfv27F",
        "colab_type": "code",
        "colab": {
          "base_uri": "https://localhost:8080/",
          "height": 300
        },
        "outputId": "0b5ece05-7eb3-47c4-ac59-370e44c3069f"
      },
      "source": [
        "#绘制3D数据集，平面和该平面上的投影。\n",
        "from mpl_toolkits.mplot3d import Axes3D\n",
        "\n",
        "fig = plt.figure(figsize=(6, 3.8))\n",
        "ax = fig.add_subplot(111, projection='3d')\n",
        "\n",
        "X3D_above = X[X[:, 2] > X3D_inv[:, 2]]\n",
        "X3D_below = X[X[:, 2] <= X3D_inv[:, 2]]\n",
        "\n",
        "ax.plot(X3D_below[:, 0], X3D_below[:, 1], X3D_below[:, 2], \"bo\", alpha=0.5)\n",
        "\n",
        "ax.plot_surface(x1, x2, z, alpha=0.2, color=\"k\")\n",
        "np.linalg.norm(C, axis=0)\n",
        "ax.add_artist(Arrow3D([0, C[0, 0]],[0, C[0, 1]],[0, C[0, 2]], mutation_scale=15, lw=1, arrowstyle=\"-|>\", color=\"k\"))\n",
        "ax.add_artist(Arrow3D([0, C[1, 0]],[0, C[1, 1]],[0, C[1, 2]], mutation_scale=15, lw=1, arrowstyle=\"-|>\", color=\"k\"))\n",
        "ax.plot([0], [0], [0], \"k.\")\n",
        "\n",
        "for i in range(m):\n",
        "    if X[i, 2] > X3D_inv[i, 2]:\n",
        "        ax.plot([X[i][0], X3D_inv[i][0]], [X[i][1], X3D_inv[i][1]], [X[i][2], X3D_inv[i][2]], \"k-\")\n",
        "    else:\n",
        "        ax.plot([X[i][0], X3D_inv[i][0]], [X[i][1], X3D_inv[i][1]], [X[i][2], X3D_inv[i][2]], \"k-\", color=\"#505050\")\n",
        "    \n",
        "ax.plot(X3D_inv[:, 0], X3D_inv[:, 1], X3D_inv[:, 2], \"k+\")\n",
        "ax.plot(X3D_inv[:, 0], X3D_inv[:, 1], X3D_inv[:, 2], \"k.\")\n",
        "ax.plot(X3D_above[:, 0], X3D_above[:, 1], X3D_above[:, 2], \"bo\")\n",
        "ax.set_xlabel(\"$x_1$\", fontsize=18, labelpad=10)\n",
        "ax.set_ylabel(\"$x_2$\", fontsize=18, labelpad=10)\n",
        "ax.set_zlabel(\"$x_3$\", fontsize=18, labelpad=10)\n",
        "ax.set_xlim(axes[0:2])\n",
        "ax.set_ylim(axes[2:4])\n",
        "ax.set_zlim(axes[4:6])\n",
        "\n",
        "# Note: If you are using Matplotlib 3.0.0, it has a bug and does not\n",
        "# display 3D graphs properly.\n",
        "# See https://github.com/matplotlib/matplotlib/issues/12239\n",
        "# You should upgrade to a later version. If you cannot, then you can\n",
        "# use the following workaround before displaying each 3D graph:\n",
        "# for spine in ax.spines.values():\n",
        "#     spine.set_visible(False)\n",
        "\n",
        "save_fig(\"dataset_3d_plot\")\n",
        "plt.show()"
      ],
      "execution_count": 24,
      "outputs": [
        {
          "output_type": "stream",
          "text": [
            "Saving figure dataset_3d_plot\n"
          ],
          "name": "stdout"
        },
        {
          "output_type": "display_data",
          "data": {
            "image/png": "[encoded data removed]",
            "text/plain": [
              "<Figure size 432x273.6 with 1 Axes>"
            ]
          },
          "metadata": {
            "tags": [],
            "needs_background": "light"
          }
        }
      ]
    },
    {
      "cell_type": "code",
      "metadata": {
        "id": "zKwQADnuv27G",
        "colab_type": "code",
        "colab": {
          "base_uri": "https://localhost:8080/",
          "height": 314
        },
        "outputId": "62dbc58b-b4ce-4cf3-a15f-ecd5aa762dd4"
      },
      "source": [
        "fig = plt.figure()\n",
        "ax = fig.add_subplot(111, aspect='equal')\n",
        "\n",
        "ax.plot(X2D[:, 0], X2D[:, 1], \"k+\")\n",
        "ax.plot(X2D[:, 0], X2D[:, 1], \"k.\")\n",
        "ax.plot([0], [0], \"ko\")\n",
        "ax.arrow(0, 0, 0, 1, head_width=0.05, length_includes_head=True, head_length=0.1, fc='k', ec='k')\n",
        "ax.arrow(0, 0, 1, 0, head_width=0.05, length_includes_head=True, head_length=0.1, fc='k', ec='k')\n",
        "ax.set_xlabel(\"$z_1$\", fontsize=18)\n",
        "ax.set_ylabel(\"$z_2$\", fontsize=18, rotation=0)\n",
        "ax.axis([-1.5, 1.3, -1.2, 1.2])\n",
        "ax.grid(True)\n",
        "save_fig(\"dataset_2d_plot\")"
      ],
      "execution_count": 25,
      "outputs": [
        {
          "output_type": "stream",
          "text": [
            "Saving figure dataset_2d_plot\n"
          ],
          "name": "stdout"
        },
        {
          "output_type": "display_data",
          "data": {
            "image/png": "[encoded data removed]",
            "text/plain": [
              "<Figure size 432x288 with 1 Axes>"
            ]
          },
          "metadata": {
            "tags": [],
            "needs_background": "light"
          }
        }
      ]
    }
  ]
}
