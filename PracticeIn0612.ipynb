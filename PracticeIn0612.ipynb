{
  "nbformat": 4,
  "nbformat_minor": 0,
  "metadata": {
    "colab": {
      "name": "Untitled1.ipynb",
      "provenance": [],
      "authorship_tag": "ABX9TyPgQL1n7FisEWrNffeSJQJ0",
      "include_colab_link": true
    },
    "kernelspec": {
      "name": "python3",
      "display_name": "Python 3"
    }
  },
  "cells": [
    {
      "cell_type": "markdown",
      "metadata": {
        "id": "view-in-github",
        "colab_type": "text"
      },
      "source": [
        "<a href=\"https://colab.research.google.com/github/YangxuanWu/Python/blob/master/PracticeIn0612.ipynb\" target=\"_parent\"><img src=\"https://colab.research.google.com/assets/colab-badge.svg\" alt=\"Open In Colab\"/></a>"
      ]
    },
    {
      "cell_type": "code",
      "metadata": {
        "id": "Ot_dzVcyeNS4",
        "colab_type": "code",
        "colab": {}
      },
      "source": [
        "#Create an DuPont Analysis/ROE application -- any language or platform of your choosing: \n",
        " \n",
        "#The app should accept the four needed inputs for DuPont Analysis.\n",
        "#The app should calculate and display Profit Margin\n",
        "#The app should calculate and display Total Asset Turnover\n",
        "#The app should calculate and display Leverage Factor\n",
        "#The app should calculate and display Return on Equity (ROE)"
      ],
      "execution_count": 0,
      "outputs": []
    },
    {
      "cell_type": "code",
      "metadata": {
        "id": "o3MZrmrneXZG",
        "colab_type": "code",
        "colab": {
          "base_uri": "https://localhost:8080/",
          "height": 84
        },
        "outputId": "0e80353c-63b7-49bf-9d24-944d247cc503"
      },
      "source": [
        "#prcatice\n",
        "from __future__ import division\n",
        "a = 1\n",
        "b = 3\n",
        "print (a/b) \n",
        "\n",
        "5 % 2\n",
        "\n",
        "2 ** 3\n",
        "\n",
        "c = 1 + 2j\n",
        "d = 2 - 1j\n",
        "print (c+d)\n",
        "import math\n",
        "P = math.pi\n",
        "print (P) \n",
        "math.exp(2)\n",
        "math.pow(2, 3)\n",
        "math.log(math.e) "
      ],
      "execution_count": 15,
      "outputs": [
        {
          "output_type": "stream",
          "text": [
            "0.3333333333333333\n",
            "(3+1j)\n",
            "3.141592653589793\n"
          ],
          "name": "stdout"
        },
        {
          "output_type": "execute_result",
          "data": {
            "text/plain": [
              "7.38905609893065"
            ]
          },
          "metadata": {
            "tags": []
          },
          "execution_count": 15
        }
      ]
    },
    {
      "cell_type": "code",
      "metadata": {
        "id": "oL779j7NgEFi",
        "colab_type": "code",
        "colab": {}
      },
      "source": [
        "from __future__ import division\n",
        "PM = PrifitMargin\n",
        "NI = NetIncome\n",
        "R = Revenue\n",
        "E = Equity\n",
        "AA = AverageAssets\n",
        "AE = AverageEquity\n",
        "LF = LeverageFactor\n",
        "TAT = TotalAssetTurnover\n",
        "PM = NI/R\n",
        "TAT = R/AA\n",
        "LF = AA/AE\n",
        "#ROE = NI/E = PM*TAT*LF\n",
        "\n",
        "PM = INPUT();"
      ],
      "execution_count": 0,
      "outputs": []
    },
    {
      "cell_type": "code",
      "metadata": {
        "id": "fH_RIkSRiFh0",
        "colab_type": "code",
        "colab": {}
      },
      "source": [
        "NetIncome = int（）\n",
        "Revenue = int()\n",
        "PrifitMargin = int()\n",
        "def PrifitMargin(NetIncome,Revenue)\n",
        "NetIncome = input();\n",
        "Revenue = imput();\n",
        "return NetIncome/Revenue"
      ],
      "execution_count": 0,
      "outputs": []
    },
    {
      "cell_type": "code",
      "metadata": {
        "id": "7EOeI-vHimPs",
        "colab_type": "code",
        "colab": {
          "base_uri": "https://localhost:8080/",
          "height": 34
        },
        "outputId": "0bdb08d0-a042-47d2-8be9-1a687074005e"
      },
      "source": [
        "def sumStartToEnd(start,end):\n",
        "    sum = 0\n",
        "    for n in range(start,end+1,1):\n",
        "        sum = sum + n\n",
        "    return sum\n",
        "    print(sum)\n",
        ";\n"
      ],
      "execution_count": 29,
      "outputs": [
        {
          "output_type": "execute_result",
          "data": {
            "text/plain": [
              "''"
            ]
          },
          "metadata": {
            "tags": []
          },
          "execution_count": 29
        }
      ]
    },
    {
      "cell_type": "code",
      "metadata": {
        "id": "drZJgBqqkNAq",
        "colab_type": "code",
        "colab": {}
      },
      "source": [
        "pip install tushare\n",
        "import tushare as ts\n",
        "import pandas as pd\n",
        "import matplotlib.pyplot as plt\n",
        "from matplotlib.font_manager import *\n",
        "from pyecharts import Map, configure\n"
      ],
      "execution_count": 0,
      "outputs": []
    },
    {
      "cell_type": "code",
      "metadata": {
        "id": "kaLOLPRgmAMg",
        "colab_type": "code",
        "colab": {
          "base_uri": "https://localhost:8080/",
          "height": 151
        },
        "outputId": "d52ab754-f172-4ea8-9667-962703042830"
      },
      "source": [
        "#Create an DuPont Analysis/ROE application -- any language or platform of your choosing: \n",
        " \n",
        "#The app should accept the four needed inputs for DuPont Analysis.\n",
        "#The app should calculate and display Profit Margin\n",
        "#The app should calculate and display Total Asset Turnover\n",
        "#The app should calculate and display Leverage Factor\n",
        "#The app should calculate and display Return on Equity (ROE)\n",
        "\n",
        "import math\n",
        "NetIncome = int(input(\"NetIncome=\"))\n",
        "Revenue = int(input(\"Revenue=\"))\n",
        "AverageAssets = int(input(\"AverageAssets=\"))\n",
        "RevenAverageEquityue = int(input(\"AverageEquity=\"))\n",
        "\n",
        "TotalAssetTurnover = Revenue/AverageAssets\n",
        "print (\"TotalAssetTurnover=\", TotalAssetTurnover)\n",
        "\n",
        "PrifitMargin = NetIncome/Revenue\n",
        "print (\"PrifitMargin=\", PrifitMargin)\n",
        "\n",
        "LeverageFactor = AverageAssets/RevenAverageEquityue\n",
        "print (\"LeverageFactor=\", LeverageFactor)\n",
        "\n",
        "ROE = PrifitMargin*TotalAssetTurnover*LeverageFactor\n",
        "print (\"ROE=\", PrifitMargin)\n",
        "\n"
      ],
      "execution_count": 58,
      "outputs": [
        {
          "output_type": "stream",
          "text": [
            "NetIncome=3\n",
            "Revenue=4\n",
            "AverageAssets=5\n",
            "AverageEquity=6\n",
            "TotalAssetTurnover= 0.8\n",
            "PrifitMargin= 0.75\n",
            "LeverageFactor= 0.8333333333333334\n",
            "ROE= 0.75\n"
          ],
          "name": "stdout"
        }
      ]
    }
  ]
}