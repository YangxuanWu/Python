{
  "nbformat": 4,
  "nbformat_minor": 0,
  "metadata": {
    "colab": {
      "name": "LassoCV to get importance.ipynb",
      "provenance": [],
      "authorship_tag": "ABX9TyN50eofSJEVXVB53zCVDnuf",
      "include_colab_link": true
    },
    "kernelspec": {
      "name": "python3",
      "display_name": "Python 3"
    }
  },
  "cells": [
    {
      "cell_type": "markdown",
      "metadata": {
        "id": "view-in-github",
        "colab_type": "text"
      },
      "source": [
        "<a href=\"https://colab.research.google.com/github/YangxuanWu/Python/blob/master/NewProjectInFall/LassoCV_to_get_importance.ipynb\" target=\"_parent\"><img src=\"https://colab.research.google.com/assets/colab-badge.svg\" alt=\"Open In Colab\"/></a>"
      ]
    },
    {
      "cell_type": "code",
      "metadata": {
        "id": "HTaa9wxZ28c-",
        "outputId": "dfe68d5d-a3fc-44c7-8127-036e5790b58b",
        "colab": {
          "base_uri": "https://localhost:8080/",
          "height": 35
        }
      },
      "source": [
        "from google.colab import drive\n",
        "import os\n",
        "drive.mount('/content/drive')\n",
        "os.chdir(\"/content/drive/My Drive/\")"
      ],
      "execution_count": 1,
      "outputs": [
        {
          "output_type": "stream",
          "text": [
            "Mounted at /content/drive\n"
          ],
          "name": "stdout"
        }
      ]
    },
    {
      "cell_type": "code",
      "metadata": {
        "id": "hPQXRtLV280e",
        "outputId": "105b04ef-c484-49da-8f55-086a06db136a",
        "colab": {
          "base_uri": "https://localhost:8080/",
          "height": 107
        }
      },
      "source": [
        "!ls"
      ],
      "execution_count": 2,
      "outputs": [
        {
          "output_type": "stream",
          "text": [
            " 1bot_feaure_pics   CSVs\n",
            " all_data.csv\t    feaure_pics\n",
            " attacks\t    importance_list_all_data.csv\n",
            " bot_feaure_pics    importance_list_for_attack_files.csv\n",
            "'Colab Notebooks'   importance_list_for_bot_attack_files.csv\n"
          ],
          "name": "stdout"
        }
      ]
    },
    {
      "cell_type": "code",
      "metadata": {
        "id": "RTApuoOD283D",
        "outputId": "196451f8-e201-485e-96df-fec29e8baef8",
        "colab": {
          "base_uri": "https://localhost:8080/",
          "height": 1000
        }
      },
      "source": [
        "import numpy as np\n",
        "from sklearn.ensemble import RandomForestClassifier\n",
        "from sklearn import datasets\n",
        "from sklearn.model_selection import train_test_split\n",
        "from sklearn.feature_selection import SelectFromModel\n",
        "from sklearn.metrics import accuracy_score\n",
        "\n",
        "#Create The Data\n",
        "#bot.csv 4-1\n",
        "import numpy as np\n",
        "import os\n",
        "import pandas as pd\n",
        "import matplotlib.pyplot as plt\n",
        "#%matplotlib inline\n",
        "from sklearn.ensemble import ExtraTreesClassifier\n",
        "from sklearn.ensemble import RandomForestRegressor\n",
        "import sklearn as sk\n",
        "import time\n",
        "seconds = time.time()\n",
        "\n",
        "def folder(f_name): #this function creates a folder named \"feaure_pics\" in the program directory.\n",
        "    try:\n",
        "        if not os.path.exists(f_name):\n",
        "            os.makedirs(f_name)\n",
        "    except OSError:\n",
        "        print (\"The folder could not be created!\")\n",
        "        \n",
        "\n",
        "# CSV files names:\n",
        "csv_files =[\"Bot.csv\"]\n",
        "\n",
        "# Headers of column\n",
        "feat_labels=['Flow ID', 'Source IP', 'Source Port', 'Destination IP', 'Destination Port', 'Protocol', 'Timestamp', 'Flow Duration', 'Total Fwd Packets', 'Total Backward Packets', 'Total Length of Fwd Packets', 'Total Length of Bwd Packets', 'Fwd Packet Length Max', 'Fwd Packet Length Min', 'Fwd Packet Length Mean', 'Fwd Packet Length Std', 'Bwd Packet Length Max', 'Bwd Packet Length Min', 'Bwd Packet Length Mean', 'Bwd Packet Length Std', 'Flow Bytes/s', 'Flow Packets/s', 'Flow IAT Mean', 'Flow IAT Std', 'Flow IAT Max', 'Flow IAT Min', 'Fwd IAT Total', 'Fwd IAT Mean', 'Fwd IAT Std', 'Fwd IAT Max', 'Fwd IAT Min', 'Bwd IAT Total', 'Bwd IAT Mean', 'Bwd IAT Std', 'Bwd IAT Max', 'Bwd IAT Min', 'Fwd PSH Flags', 'Bwd PSH Flags', 'Fwd URG Flags', 'Bwd URG Flags', 'Fwd Header Length', 'Bwd Header Length', 'Fwd Packets/s', 'Bwd Packets/s', 'Min Packet Length', 'Max Packet Length', 'Packet Length Mean', 'Packet Length Std', 'Packet Length Variance', 'FIN Flag Count', 'SYN Flag Count', 'RST Flag Count', 'PSH Flag Count', 'ACK Flag Count', 'URG Flag Count', 'CWE Flag Count', 'ECE Flag Count', 'Down/Up Ratio', 'Average Packet Size', 'Avg Fwd Segment Size', 'Avg Bwd Segment Size', 'Fwd Avg Bytes/Bulk', 'Fwd Avg Packets/Bulk', 'Fwd Avg Bulk Rate', 'Bwd Avg Bytes/Bulk', 'Bwd Avg Packets/Bulk', 'Bwd Avg Bulk Rate', 'Subflow Fwd Packets', 'Subflow Fwd Bytes', 'Subflow Bwd Packets', 'Subflow Bwd Bytes', 'Init_Win_bytes_forward', 'Init_Win_bytes_backward', 'act_data_pkt_fwd', 'min_seg_size_forward', 'Active Mean', 'Active Std', 'Active Max', 'Active Min', 'Idle Mean', 'Idle Std', 'Idle Max', 'Idle Min', 'Label', 'External IP']\n",
        "\n",
        "\n",
        "\n",
        "ths = open(\"1_importance_list_for_bot_attack.csv\", \"w\")\n",
        "folder(\"./1bot_feaure_pics/\")\n",
        "\n",
        "for j in csv_files:\n",
        "    #print(j)\n",
        "    #df = pd.read_csv(\"./attacks/\"+j, usecols=main_labels)\n",
        "    df = pd.read_csv(\"./attacks/\"+j, usecols=feat_labels)\n",
        "    df = df.fillna(0)\n",
        "    for col in feat_labels:\n",
        "        m = df.loc[df[col] != np.inf, col].max()\n",
        "        df[col].replace(np.inf,m,inplace=True)\n",
        "    attack_or_not = []\n",
        "    for i in df[\"Label\"]:#it changes the normal label to \"1\" and the attack tag to \"0\" for use in the machine learning algorithm\n",
        "        if i ==\"BENIGN\":\n",
        "            attack_or_not.append(1)\n",
        "        else:\n",
        "            attack_or_not.append(0)           \n",
        "    df[\"Label\"] = attack_or_not\n",
        "    y = df[\"Label\"].values\n",
        "    del df[\"Label\"]\n",
        "    X = df.values\n",
        "\n",
        "#View The Data\n",
        "print(\"data show------------------------------------------------------------------------------------------\\n\\n\\n\\n\")\n",
        "print (X[0:5])\n",
        "print (y)\n",
        "\n",
        "#将数据分成训练集和测试集\n",
        "# Split the data into 40% test and 60% training\n",
        "X_train, X_test, y_train, y_test = train_test_split(X, y, test_size=0.4, random_state=0)\n"
      ],
      "execution_count": 10,
      "outputs": [
        {
          "output_type": "stream",
          "text": [
            "data show------------------------------------------------------------------------------------------\n",
            "\n",
            "\n",
            "\n",
            "\n",
            "[[ 2.29579000e+05  2.26600000e+03  1.23000000e+02  5.27600000e+03\n",
            "   1.23000000e+02  1.70000000e+01  1.23390000e+04  6.60223230e+07\n",
            "   2.00000000e+00  2.00000000e+00  9.60000000e+01  9.60000000e+01\n",
            "   4.80000000e+01  4.80000000e+01  4.80000000e+01  0.00000000e+00\n",
            "   4.80000000e+01  4.80000000e+01  4.80000000e+01  0.00000000e+00\n",
            "   2.00000000e+00  0.00000000e+00  2.20074410e+07  3.80790236e+07\n",
            "   6.59773100e+07  2.24600000e+04  6.59997700e+07  6.59997700e+07\n",
            "   0.00000000e+00  6.59997700e+07  6.59997700e+07  6.59998630e+07\n",
            "   6.59998630e+07  0.00000000e+00  6.59998630e+07  6.59998630e+07\n",
            "   0.00000000e+00  0.00000000e+00  0.00000000e+00  0.00000000e+00\n",
            "   4.00000000e+01  4.00000000e+01  3.02927845e-02  3.02927845e-02\n",
            "   4.80000000e+01  4.80000000e+01  4.80000000e+01  0.00000000e+00\n",
            "   0.00000000e+00  0.00000000e+00  0.00000000e+00  0.00000000e+00\n",
            "   0.00000000e+00  0.00000000e+00  0.00000000e+00  0.00000000e+00\n",
            "   0.00000000e+00  1.00000000e+00  6.00000000e+01  4.80000000e+01\n",
            "   4.80000000e+01  0.00000000e+00  0.00000000e+00  0.00000000e+00\n",
            "   0.00000000e+00  0.00000000e+00  0.00000000e+00  2.00000000e+00\n",
            "   9.60000000e+01  2.00000000e+00  9.60000000e+01 -1.00000000e+00\n",
            "  -1.00000000e+00  1.00000000e+00  2.00000000e+01  2.24600000e+04\n",
            "   0.00000000e+00  2.24600000e+04  2.24600000e+04  6.59773100e+07\n",
            "   0.00000000e+00  6.59773100e+07  6.59773100e+07  0.00000000e+00]\n",
            " [ 2.29586000e+05  2.26600000e+03  1.23000000e+02  8.98500000e+03\n",
            "   1.23000000e+02  1.70000000e+01  1.24120000e+04  6.60521260e+07\n",
            "   2.00000000e+00  2.00000000e+00  9.60000000e+01  9.60000000e+01\n",
            "   4.80000000e+01  4.80000000e+01  4.80000000e+01  0.00000000e+00\n",
            "   4.80000000e+01  4.80000000e+01  4.80000000e+01  0.00000000e+00\n",
            "   2.00000000e+00  0.00000000e+00  2.20173753e+07  3.80447235e+07\n",
            "   6.59476380e+07  5.21920000e+04  6.59999340e+07  6.59999340e+07\n",
            "   0.00000000e+00  6.59999340e+07  6.59999340e+07  6.59998300e+07\n",
            "   6.59998300e+07  0.00000000e+00  6.59998300e+07  6.59998300e+07\n",
            "   0.00000000e+00  0.00000000e+00  0.00000000e+00  0.00000000e+00\n",
            "   6.40000000e+01  6.40000000e+01  3.02791162e-02  3.02791162e-02\n",
            "   4.80000000e+01  4.80000000e+01  4.80000000e+01  0.00000000e+00\n",
            "   0.00000000e+00  0.00000000e+00  0.00000000e+00  0.00000000e+00\n",
            "   0.00000000e+00  0.00000000e+00  0.00000000e+00  0.00000000e+00\n",
            "   0.00000000e+00  1.00000000e+00  6.00000000e+01  4.80000000e+01\n",
            "   4.80000000e+01  0.00000000e+00  0.00000000e+00  0.00000000e+00\n",
            "   0.00000000e+00  0.00000000e+00  0.00000000e+00  2.00000000e+00\n",
            "   9.60000000e+01  2.00000000e+00  9.60000000e+01 -1.00000000e+00\n",
            "  -1.00000000e+00  1.00000000e+00  3.20000000e+01  5.22960000e+04\n",
            "   0.00000000e+00  5.22960000e+04  5.22960000e+04  6.59476380e+07\n",
            "   0.00000000e+00  6.59476380e+07  6.59476380e+07  0.00000000e+00]\n",
            " [ 4.20280000e+04  2.25700000e+03  5.35300000e+03  3.82800000e+03\n",
            "   5.35300000e+03  1.70000000e+01  1.24740000e+04  2.08625830e+07\n",
            "   3.50000000e+01  0.00000000e+00  2.18600000e+03  0.00000000e+00\n",
            "   1.18000000e+02  3.70000000e+01  6.24571429e+01  3.81516655e+01\n",
            "   0.00000000e+00  0.00000000e+00  0.00000000e+00  0.00000000e+00\n",
            "   1.04000000e+02  1.00000000e+00  6.13605382e+05  3.40531526e+06\n",
            "   1.98613360e+07  1.00000000e+00  2.08625830e+07  6.13605382e+05\n",
            "   3.40531526e+06  1.98613360e+07  1.00000000e+00  0.00000000e+00\n",
            "   0.00000000e+00  0.00000000e+00  0.00000000e+00  0.00000000e+00\n",
            "   0.00000000e+00  0.00000000e+00  0.00000000e+00  0.00000000e+00\n",
            "   8.44000000e+02  0.00000000e+00  1.67764461e+00  0.00000000e+00\n",
            "   3.70000000e+01  1.18000000e+02  6.17500000e+01  3.78413040e+01\n",
            "   1.43196429e+03  0.00000000e+00  0.00000000e+00  0.00000000e+00\n",
            "   0.00000000e+00  0.00000000e+00  0.00000000e+00  0.00000000e+00\n",
            "   0.00000000e+00  0.00000000e+00  6.35142857e+01  6.24571429e+01\n",
            "   0.00000000e+00  0.00000000e+00  0.00000000e+00  0.00000000e+00\n",
            "   0.00000000e+00  0.00000000e+00  0.00000000e+00  3.50000000e+01\n",
            "   2.18600000e+03  0.00000000e+00  0.00000000e+00 -1.00000000e+00\n",
            "  -1.00000000e+00  3.40000000e+01  2.00000000e+01  1.00123100e+06\n",
            "   0.00000000e+00  1.00123100e+06  1.00123100e+06  1.98613360e+07\n",
            "   0.00000000e+00  1.98613360e+07  1.98613360e+07  0.00000000e+00]\n",
            " [ 3.36140000e+04  2.25800000e+03  4.97360000e+04  2.42200000e+03\n",
            "   8.00000000e+01  6.00000000e+00  1.26110000e+04  6.43940000e+04\n",
            "   3.00000000e+00  4.00000000e+00  4.36000000e+02  8.72000000e+02\n",
            "   4.30000000e+02  0.00000000e+00  1.45333333e+02  2.46546818e+02\n",
            "   8.60000000e+02  0.00000000e+00  2.18000000e+02  4.28009346e+02\n",
            "   2.03120000e+04  1.08000000e+02  1.07323333e+04  1.17440163e+04\n",
            "   2.34050000e+04  4.00000000e+00  4.06690000e+04  2.03345000e+04\n",
            "   4.45123719e+03  2.34820000e+04  1.71870000e+04  4.09890000e+04\n",
            "   1.36630000e+04  2.31928601e+04  4.04420000e+04  4.00000000e+00\n",
            "   0.00000000e+00  0.00000000e+00  0.00000000e+00  0.00000000e+00\n",
            "   7.20000000e+01  9.20000000e+01  4.65881914e+01  6.21175886e+01\n",
            "   0.00000000e+00  8.60000000e+02  1.63500000e+02  3.18646692e+02\n",
            "   1.01535714e+05  0.00000000e+00  0.00000000e+00  0.00000000e+00\n",
            "   1.00000000e+00  0.00000000e+00  0.00000000e+00  0.00000000e+00\n",
            "   0.00000000e+00  1.00000000e+00  1.86857143e+02  1.45333333e+02\n",
            "   2.18000000e+02  0.00000000e+00  0.00000000e+00  0.00000000e+00\n",
            "   0.00000000e+00  0.00000000e+00  0.00000000e+00  3.00000000e+00\n",
            "   4.36000000e+02  4.00000000e+00  8.72000000e+02  8.19200000e+03\n",
            "   3.10000000e+01  2.00000000e+00  2.00000000e+01  0.00000000e+00\n",
            "   0.00000000e+00  0.00000000e+00  0.00000000e+00  0.00000000e+00\n",
            "   0.00000000e+00  0.00000000e+00  0.00000000e+00  0.00000000e+00]\n",
            " [ 5.01730000e+04  2.25800000e+03  4.98360000e+04  3.44500000e+03\n",
            "   4.43000000e+02  6.00000000e+00  1.26240000e+04  1.49380000e+04\n",
            "   2.00000000e+00  0.00000000e+00  1.20000000e+01  0.00000000e+00\n",
            "   6.00000000e+00  6.00000000e+00  6.00000000e+00  0.00000000e+00\n",
            "   0.00000000e+00  0.00000000e+00  0.00000000e+00  0.00000000e+00\n",
            "   8.03000000e+02  1.33000000e+02  1.49380000e+04  0.00000000e+00\n",
            "   1.49380000e+04  1.49380000e+04  1.49380000e+04  1.49380000e+04\n",
            "   0.00000000e+00  1.49380000e+04  1.49380000e+04  0.00000000e+00\n",
            "   0.00000000e+00  0.00000000e+00  0.00000000e+00  0.00000000e+00\n",
            "   0.00000000e+00  0.00000000e+00  0.00000000e+00  0.00000000e+00\n",
            "   4.00000000e+01  0.00000000e+00  1.33886732e+02  0.00000000e+00\n",
            "   6.00000000e+00  6.00000000e+00  6.00000000e+00  0.00000000e+00\n",
            "   0.00000000e+00  0.00000000e+00  0.00000000e+00  0.00000000e+00\n",
            "   0.00000000e+00  1.00000000e+00  0.00000000e+00  0.00000000e+00\n",
            "   0.00000000e+00  0.00000000e+00  9.00000000e+00  6.00000000e+00\n",
            "   0.00000000e+00  0.00000000e+00  0.00000000e+00  0.00000000e+00\n",
            "   0.00000000e+00  0.00000000e+00  0.00000000e+00  2.00000000e+00\n",
            "   1.20000000e+01  0.00000000e+00  0.00000000e+00  6.38350000e+04\n",
            "  -1.00000000e+00  1.00000000e+00  2.00000000e+01  0.00000000e+00\n",
            "   0.00000000e+00  0.00000000e+00  0.00000000e+00  0.00000000e+00\n",
            "   0.00000000e+00  0.00000000e+00  0.00000000e+00  0.00000000e+00]]\n",
            "[1 1 1 ... 1 1 1]\n"
          ],
          "name": "stdout"
        }
      ]
    },
    {
      "cell_type": "code",
      "metadata": {
        "id": "KVlBhnjpIiKb",
        "outputId": "9718ff98-dac1-4cc3-ca8b-07691ec1cfe9",
        "colab": {
          "base_uri": "https://localhost:8080/",
          "height": 55
        }
      },
      "source": [
        "#get col of bot.csv\n",
        "from sklearn.linear_model import LassoCV\n",
        "df = pd.read_csv(\"./attacks/Bot.csv\")\n",
        "feature_names = list(df.columns.values)\n",
        "print(feature_names)"
      ],
      "execution_count": 42,
      "outputs": [
        {
          "output_type": "stream",
          "text": [
            "['Flow ID', 'Source IP', 'Source Port', 'Destination IP', 'Destination Port', 'Protocol', 'Timestamp', 'Flow Duration', 'Total Fwd Packets', 'Total Backward Packets', 'Total Length of Fwd Packets', 'Total Length of Bwd Packets', 'Fwd Packet Length Max', 'Fwd Packet Length Min', 'Fwd Packet Length Mean', 'Fwd Packet Length Std', 'Bwd Packet Length Max', 'Bwd Packet Length Min', 'Bwd Packet Length Mean', 'Bwd Packet Length Std', 'Flow Bytes/s', 'Flow Packets/s', 'Flow IAT Mean', 'Flow IAT Std', 'Flow IAT Max', 'Flow IAT Min', 'Fwd IAT Total', 'Fwd IAT Mean', 'Fwd IAT Std', 'Fwd IAT Max', 'Fwd IAT Min', 'Bwd IAT Total', 'Bwd IAT Mean', 'Bwd IAT Std', 'Bwd IAT Max', 'Bwd IAT Min', 'Fwd PSH Flags', 'Bwd PSH Flags', 'Fwd URG Flags', 'Bwd URG Flags', 'Fwd Header Length', 'Bwd Header Length', 'Fwd Packets/s', 'Bwd Packets/s', 'Min Packet Length', 'Max Packet Length', 'Packet Length Mean', 'Packet Length Std', 'Packet Length Variance', 'FIN Flag Count', 'SYN Flag Count', 'RST Flag Count', 'PSH Flag Count', 'ACK Flag Count', 'URG Flag Count', 'CWE Flag Count', 'ECE Flag Count', 'Down/Up Ratio', 'Average Packet Size', 'Avg Fwd Segment Size', 'Avg Bwd Segment Size', 'Fwd Avg Bytes/Bulk', 'Fwd Avg Packets/Bulk', 'Fwd Avg Bulk Rate', 'Bwd Avg Bytes/Bulk', 'Bwd Avg Packets/Bulk', 'Bwd Avg Bulk Rate', 'Subflow Fwd Packets', 'Subflow Fwd Bytes', 'Subflow Bwd Packets', 'Subflow Bwd Bytes', 'Init_Win_bytes_forward', 'Init_Win_bytes_backward', 'act_data_pkt_fwd', 'min_seg_size_forward', 'Active Mean', 'Active Std', 'Active Max', 'Active Min', 'Idle Mean', 'Idle Std', 'Idle Max', 'Idle Min', 'Label', 'External IP']\n"
          ],
          "name": "stdout"
        }
      ]
    },
    {
      "cell_type": "code",
      "metadata": {
        "id": "C42rpbZ929cK",
        "outputId": "25295ba2-0174-421e-c4fa-d58e452898df",
        "colab": {
          "base_uri": "https://localhost:8080/",
          "height": 431
        }
      },
      "source": [
        "#LassoCV估计器\n",
        "clf = LassoCV(max_iter=100000000).fit(X_train, y_train)#默认的迭代次数无法使objective收敛，所以在这里，调整最大迭代次数\n",
        "# 模型参数的绝对值\n",
        "importance = np.abs(clf.coef_)\n",
        "print(importance);\n",
        "# 对重要性进行排名\n",
        "idx_third = importance.argsort()[-1]\n",
        "threshold = importance[idx_third] + 0.05\n",
        "print('阈值为',threshold)\n",
        "idx_features = (-importance).argsort()[:2]#选取impoetncw排名前两位的\n",
        "name_features = np.array(feature_names)[idx_features]\n",
        "print('重要性第一大的特征: {}'.format(name_features))"
      ],
      "execution_count": 43,
      "outputs": [
        {
          "output_type": "stream",
          "text": [
            "[9.72025805e-07 0.00000000e+00 1.25547461e-06 0.00000000e+00\n",
            " 0.00000000e+00 0.00000000e+00 0.00000000e+00 1.93394231e-08\n",
            " 0.00000000e+00 0.00000000e+00 0.00000000e+00 0.00000000e+00\n",
            " 0.00000000e+00 0.00000000e+00 0.00000000e+00 0.00000000e+00\n",
            " 0.00000000e+00 0.00000000e+00 0.00000000e+00 0.00000000e+00\n",
            " 1.94952248e-10 0.00000000e+00 2.45787746e-08 3.75364603e-08\n",
            " 1.88215680e-09 0.00000000e+00 1.84319888e-08 0.00000000e+00\n",
            " 0.00000000e+00 2.62432253e-09 1.73941637e-08 1.01494081e-09\n",
            " 9.72210493e-09 1.66193952e-08 4.15779391e-09 0.00000000e+00\n",
            " 0.00000000e+00 0.00000000e+00 0.00000000e+00 0.00000000e+00\n",
            " 1.56177159e-10 0.00000000e+00 2.29737545e-07 3.27230309e-07\n",
            " 0.00000000e+00 0.00000000e+00 0.00000000e+00 0.00000000e+00\n",
            " 1.05840518e-08 0.00000000e+00 0.00000000e+00 0.00000000e+00\n",
            " 0.00000000e+00 0.00000000e+00 0.00000000e+00 0.00000000e+00\n",
            " 0.00000000e+00 0.00000000e+00 0.00000000e+00 0.00000000e+00\n",
            " 0.00000000e+00 0.00000000e+00 0.00000000e+00 0.00000000e+00\n",
            " 0.00000000e+00 0.00000000e+00 0.00000000e+00 0.00000000e+00\n",
            " 0.00000000e+00 0.00000000e+00 0.00000000e+00 0.00000000e+00\n",
            " 0.00000000e+00 0.00000000e+00 0.00000000e+00 1.69117607e-09\n",
            " 0.00000000e+00 5.86522967e-09 0.00000000e+00 0.00000000e+00\n",
            " 1.68871440e-09 3.88102930e-09 0.00000000e+00 0.00000000e+00]\n",
            "阈值为 0.05000125547460781\n",
            "重要性第一大的特征: ['Source Port' 'Flow ID']\n"
          ],
          "name": "stdout"
        }
      ]
    },
    {
      "cell_type": "code",
      "metadata": {
        "id": "S4m05IQ_COeP",
        "outputId": "2ddfe474-c876-4788-ee62-8dd959086a14",
        "colab": {
          "base_uri": "https://localhost:8080/",
          "height": 359
        }
      },
      "source": [
        "####比较我们的全特征分类器和我们的有限特征分类器的准确性\n",
        "# 对测试数据应用全特征分类器\n",
        "y_pred = clf.predict(X_test)\n",
        "# 查看我们的全特征模型的准确性\n",
        "accuracy_score(y_test, y_pred)"
      ],
      "execution_count": 44,
      "outputs": [
        {
          "output_type": "error",
          "ename": "ValueError",
          "evalue": "ignored",
          "traceback": [
            "\u001b[0;31m---------------------------------------------------------------------------\u001b[0m",
            "\u001b[0;31mValueError\u001b[0m                                Traceback (most recent call last)",
            "\u001b[0;32m<ipython-input-44-c290dca6702e>\u001b[0m in \u001b[0;36m<module>\u001b[0;34m()\u001b[0m\n\u001b[1;32m      3\u001b[0m \u001b[0my_pred\u001b[0m \u001b[0;34m=\u001b[0m \u001b[0mclf\u001b[0m\u001b[0;34m.\u001b[0m\u001b[0mpredict\u001b[0m\u001b[0;34m(\u001b[0m\u001b[0mX_test\u001b[0m\u001b[0;34m)\u001b[0m\u001b[0;34m\u001b[0m\u001b[0;34m\u001b[0m\u001b[0m\n\u001b[1;32m      4\u001b[0m \u001b[0;31m# 查看我们的全特征模型的准确性\u001b[0m\u001b[0;34m\u001b[0m\u001b[0;34m\u001b[0m\u001b[0;34m\u001b[0m\u001b[0m\n\u001b[0;32m----> 5\u001b[0;31m \u001b[0maccuracy_score\u001b[0m\u001b[0;34m(\u001b[0m\u001b[0my_test\u001b[0m\u001b[0;34m,\u001b[0m \u001b[0my_pred\u001b[0m\u001b[0;34m)\u001b[0m\u001b[0;34m\u001b[0m\u001b[0;34m\u001b[0m\u001b[0m\n\u001b[0m",
            "\u001b[0;32m/usr/local/lib/python3.6/dist-packages/sklearn/metrics/_classification.py\u001b[0m in \u001b[0;36maccuracy_score\u001b[0;34m(y_true, y_pred, normalize, sample_weight)\u001b[0m\n\u001b[1;32m    183\u001b[0m \u001b[0;34m\u001b[0m\u001b[0m\n\u001b[1;32m    184\u001b[0m     \u001b[0;31m# Compute accuracy for each possible representation\u001b[0m\u001b[0;34m\u001b[0m\u001b[0;34m\u001b[0m\u001b[0;34m\u001b[0m\u001b[0m\n\u001b[0;32m--> 185\u001b[0;31m     \u001b[0my_type\u001b[0m\u001b[0;34m,\u001b[0m \u001b[0my_true\u001b[0m\u001b[0;34m,\u001b[0m \u001b[0my_pred\u001b[0m \u001b[0;34m=\u001b[0m \u001b[0m_check_targets\u001b[0m\u001b[0;34m(\u001b[0m\u001b[0my_true\u001b[0m\u001b[0;34m,\u001b[0m \u001b[0my_pred\u001b[0m\u001b[0;34m)\u001b[0m\u001b[0;34m\u001b[0m\u001b[0;34m\u001b[0m\u001b[0m\n\u001b[0m\u001b[1;32m    186\u001b[0m     \u001b[0mcheck_consistent_length\u001b[0m\u001b[0;34m(\u001b[0m\u001b[0my_true\u001b[0m\u001b[0;34m,\u001b[0m \u001b[0my_pred\u001b[0m\u001b[0;34m,\u001b[0m \u001b[0msample_weight\u001b[0m\u001b[0;34m)\u001b[0m\u001b[0;34m\u001b[0m\u001b[0;34m\u001b[0m\u001b[0m\n\u001b[1;32m    187\u001b[0m     \u001b[0;32mif\u001b[0m \u001b[0my_type\u001b[0m\u001b[0;34m.\u001b[0m\u001b[0mstartswith\u001b[0m\u001b[0;34m(\u001b[0m\u001b[0;34m'multilabel'\u001b[0m\u001b[0;34m)\u001b[0m\u001b[0;34m:\u001b[0m\u001b[0;34m\u001b[0m\u001b[0;34m\u001b[0m\u001b[0m\n",
            "\u001b[0;32m/usr/local/lib/python3.6/dist-packages/sklearn/metrics/_classification.py\u001b[0m in \u001b[0;36m_check_targets\u001b[0;34m(y_true, y_pred)\u001b[0m\n\u001b[1;32m     88\u001b[0m     \u001b[0;32mif\u001b[0m \u001b[0mlen\u001b[0m\u001b[0;34m(\u001b[0m\u001b[0my_type\u001b[0m\u001b[0;34m)\u001b[0m \u001b[0;34m>\u001b[0m \u001b[0;36m1\u001b[0m\u001b[0;34m:\u001b[0m\u001b[0;34m\u001b[0m\u001b[0;34m\u001b[0m\u001b[0m\n\u001b[1;32m     89\u001b[0m         raise ValueError(\"Classification metrics can't handle a mix of {0} \"\n\u001b[0;32m---> 90\u001b[0;31m                          \"and {1} targets\".format(type_true, type_pred))\n\u001b[0m\u001b[1;32m     91\u001b[0m \u001b[0;34m\u001b[0m\u001b[0m\n\u001b[1;32m     92\u001b[0m     \u001b[0;31m# We can't have more than one value on y_type => The set is no more needed\u001b[0m\u001b[0;34m\u001b[0m\u001b[0;34m\u001b[0m\u001b[0;34m\u001b[0m\u001b[0m\n",
            "\u001b[0;31mValueError\u001b[0m: Classification metrics can't handle a mix of binary and continuous targets"
          ]
        }
      ]
    },
    {
      "cell_type": "code",
      "metadata": {
        "id": "KUb9RAau3aro"
      },
      "source": [
        "# 对测试数据应用全特征分类器\n",
        "y_important_pred = clf_important.predict(X_important_test)\n",
        "# 查看我们的有限特征模型的准确性\n",
        "accuracy_score(y_test, y_important_pred)"
      ],
      "execution_count": null,
      "outputs": []
    }
  ]
}