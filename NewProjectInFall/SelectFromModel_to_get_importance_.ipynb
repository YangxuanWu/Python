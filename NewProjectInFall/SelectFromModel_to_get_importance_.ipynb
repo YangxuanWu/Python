{
  "nbformat": 4,
  "nbformat_minor": 0,
  "metadata": {
    "colab": {
      "name": "SelectFromModel to get importance .ipynb",
      "provenance": [],
      "authorship_tag": "ABX9TyO3bUvSBDfQHf0C7+55VIhT",
      "include_colab_link": true
    },
    "kernelspec": {
      "name": "python3",
      "display_name": "Python 3"
    }
  },
  "cells": [
    {
      "cell_type": "markdown",
      "metadata": {
        "id": "view-in-github",
        "colab_type": "text"
      },
      "source": [
        "<a href=\"https://colab.research.google.com/github/YangxuanWu/Python/blob/master/NewProjectInFall/SelectFromModel_to_get_importance_.ipynb\" target=\"_parent\"><img src=\"https://colab.research.google.com/assets/colab-badge.svg\" alt=\"Open In Colab\"/></a>"
      ]
    },
    {
      "cell_type": "code",
      "metadata": {
        "id": "cnFnOQvI0uOx",
        "outputId": "b1654ed1-42a8-40dd-ec71-b31b5af530df",
        "colab": {
          "base_uri": "https://localhost:8080/",
          "height": 35
        }
      },
      "source": [
        "from google.colab import drive\n",
        "import os\n",
        "drive.mount('/content/drive')\n",
        "os.chdir(\"/content/drive/My Drive/\")"
      ],
      "execution_count": 1,
      "outputs": [
        {
          "output_type": "stream",
          "text": [
            "Mounted at /content/drive\n"
          ],
          "name": "stdout"
        }
      ]
    },
    {
      "cell_type": "code",
      "metadata": {
        "id": "Mz7GtWh81OsF",
        "outputId": "3adc3bea-7846-4654-d458-e7b5164e1d4f",
        "colab": {
          "base_uri": "https://localhost:8080/",
          "height": 233
        }
      },
      "source": [
        "!ls"
      ],
      "execution_count": 9,
      "outputs": [
        {
          "output_type": "stream",
          "text": [
            " 1bot_feaure_pics\n",
            "'1_importance_list_for_bot_attack (1).csv'\n",
            " 1_importance_list_for_bot_attack.csv\n",
            " all_data.csv\n",
            " attacks\n",
            " bot_feaure_pics\n",
            "'Colab Notebooks'\n",
            " CSVs\n",
            " feaure_pics\n",
            " importance_list_all_data.csv\n",
            " importance_list_for_attack_files.csv\n",
            " importance_list_for_bot_attack_files.csv\n"
          ],
          "name": "stdout"
        }
      ]
    },
    {
      "cell_type": "code",
      "metadata": {
        "id": "sHTqK9BS1pqi",
        "outputId": "597f6a4f-00b9-430f-fd72-258c74a1db2c",
        "colab": {
          "base_uri": "https://localhost:8080/",
          "height": 1000
        }
      },
      "source": [
        "import numpy as np\n",
        "from sklearn.ensemble import RandomForestClassifier\n",
        "from sklearn import datasets\n",
        "from sklearn.model_selection import train_test_split\n",
        "from sklearn.feature_selection import SelectFromModel\n",
        "from sklearn.metrics import accuracy_score\n",
        "\n",
        "#Create The Data\n",
        "#bot.csv 4-1\n",
        "import numpy as np\n",
        "import os\n",
        "import pandas as pd\n",
        "import matplotlib.pyplot as plt\n",
        "#%matplotlib inline\n",
        "from sklearn.ensemble import ExtraTreesClassifier\n",
        "from sklearn.ensemble import RandomForestRegressor\n",
        "import sklearn as sk\n",
        "import time\n",
        "seconds = time.time()\n",
        "\n",
        "def folder(f_name): #this function creates a folder named \"feaure_pics\" in the program directory.\n",
        "    try:\n",
        "        if not os.path.exists(f_name):\n",
        "            os.makedirs(f_name)\n",
        "    except OSError:\n",
        "        print (\"The folder could not be created!\")\n",
        "        \n",
        "\n",
        "# CSV files names:\n",
        "csv_files =[\"Bot.csv\"]\n",
        "\n",
        "# Headers of column\n",
        "feat_labels=['Flow ID', 'Source IP', 'Source Port', 'Destination IP', 'Destination Port', 'Protocol', 'Timestamp', 'Flow Duration', 'Total Fwd Packets', 'Total Backward Packets', 'Total Length of Fwd Packets', 'Total Length of Bwd Packets', 'Fwd Packet Length Max', 'Fwd Packet Length Min', 'Fwd Packet Length Mean', 'Fwd Packet Length Std', 'Bwd Packet Length Max', 'Bwd Packet Length Min', 'Bwd Packet Length Mean', 'Bwd Packet Length Std', 'Flow Bytes/s', 'Flow Packets/s', 'Flow IAT Mean', 'Flow IAT Std', 'Flow IAT Max', 'Flow IAT Min', 'Fwd IAT Total', 'Fwd IAT Mean', 'Fwd IAT Std', 'Fwd IAT Max', 'Fwd IAT Min', 'Bwd IAT Total', 'Bwd IAT Mean', 'Bwd IAT Std', 'Bwd IAT Max', 'Bwd IAT Min', 'Fwd PSH Flags', 'Bwd PSH Flags', 'Fwd URG Flags', 'Bwd URG Flags', 'Fwd Header Length', 'Bwd Header Length', 'Fwd Packets/s', 'Bwd Packets/s', 'Min Packet Length', 'Max Packet Length', 'Packet Length Mean', 'Packet Length Std', 'Packet Length Variance', 'FIN Flag Count', 'SYN Flag Count', 'RST Flag Count', 'PSH Flag Count', 'ACK Flag Count', 'URG Flag Count', 'CWE Flag Count', 'ECE Flag Count', 'Down/Up Ratio', 'Average Packet Size', 'Avg Fwd Segment Size', 'Avg Bwd Segment Size', 'Fwd Avg Bytes/Bulk', 'Fwd Avg Packets/Bulk', 'Fwd Avg Bulk Rate', 'Bwd Avg Bytes/Bulk', 'Bwd Avg Packets/Bulk', 'Bwd Avg Bulk Rate', 'Subflow Fwd Packets', 'Subflow Fwd Bytes', 'Subflow Bwd Packets', 'Subflow Bwd Bytes', 'Init_Win_bytes_forward', 'Init_Win_bytes_backward', 'act_data_pkt_fwd', 'min_seg_size_forward', 'Active Mean', 'Active Std', 'Active Max', 'Active Min', 'Idle Mean', 'Idle Std', 'Idle Max', 'Idle Min', 'Label', 'External IP']\n",
        "\n",
        "\n",
        "\n",
        "ths = open(\"1_importance_list_for_bot_attack.csv\", \"w\")\n",
        "folder(\"./1bot_feaure_pics/\")\n",
        "\n",
        "for j in csv_files:\n",
        "    #print(j)\n",
        "    #df = pd.read_csv(\"./attacks/\"+j, usecols=main_labels)\n",
        "    df = pd.read_csv(\"./attacks/\"+j, usecols=feat_labels)\n",
        "    df = df.fillna(0)\n",
        "    for col in feat_labels:\n",
        "        m = df.loc[df[col] != np.inf, col].max()\n",
        "        df[col].replace(np.inf,m,inplace=True)\n",
        "    attack_or_not = []\n",
        "    for i in df[\"Label\"]:#it changes the normal label to \"1\" and the attack tag to \"0\" for use in the machine learning algorithm\n",
        "        if i ==\"BENIGN\":\n",
        "            attack_or_not.append(1)\n",
        "        else:\n",
        "            attack_or_not.append(0)           \n",
        "    df[\"Label\"] = attack_or_not\n",
        "    y = df[\"Label\"].values\n",
        "    del df[\"Label\"]\n",
        "    X = df.values\n",
        "\n",
        "#View The Data\n",
        "print(\"data show------------------------------------------------------------------------------------------\\n\\n\\n\\n\")\n",
        "print (X[0:5])\n",
        "print (y)\n",
        "\n",
        "#将数据分成训练集和测试集\n",
        "# Split the data into 40% test and 60% training\n",
        "X_train, X_test, y_train, y_test = train_test_split(X, y, test_size=0.4, random_state=0)\n"
      ],
      "execution_count": 10,
      "outputs": [
        {
          "output_type": "stream",
          "text": [
            "data show------------------------------------------------------------------------------------------\n",
            "\n",
            "\n",
            "\n",
            "\n",
            "[[ 2.29579000e+05  2.26600000e+03  1.23000000e+02  5.27600000e+03\n",
            "   1.23000000e+02  1.70000000e+01  1.23390000e+04  6.60223230e+07\n",
            "   2.00000000e+00  2.00000000e+00  9.60000000e+01  9.60000000e+01\n",
            "   4.80000000e+01  4.80000000e+01  4.80000000e+01  0.00000000e+00\n",
            "   4.80000000e+01  4.80000000e+01  4.80000000e+01  0.00000000e+00\n",
            "   2.00000000e+00  0.00000000e+00  2.20074410e+07  3.80790236e+07\n",
            "   6.59773100e+07  2.24600000e+04  6.59997700e+07  6.59997700e+07\n",
            "   0.00000000e+00  6.59997700e+07  6.59997700e+07  6.59998630e+07\n",
            "   6.59998630e+07  0.00000000e+00  6.59998630e+07  6.59998630e+07\n",
            "   0.00000000e+00  0.00000000e+00  0.00000000e+00  0.00000000e+00\n",
            "   4.00000000e+01  4.00000000e+01  3.02927845e-02  3.02927845e-02\n",
            "   4.80000000e+01  4.80000000e+01  4.80000000e+01  0.00000000e+00\n",
            "   0.00000000e+00  0.00000000e+00  0.00000000e+00  0.00000000e+00\n",
            "   0.00000000e+00  0.00000000e+00  0.00000000e+00  0.00000000e+00\n",
            "   0.00000000e+00  1.00000000e+00  6.00000000e+01  4.80000000e+01\n",
            "   4.80000000e+01  0.00000000e+00  0.00000000e+00  0.00000000e+00\n",
            "   0.00000000e+00  0.00000000e+00  0.00000000e+00  2.00000000e+00\n",
            "   9.60000000e+01  2.00000000e+00  9.60000000e+01 -1.00000000e+00\n",
            "  -1.00000000e+00  1.00000000e+00  2.00000000e+01  2.24600000e+04\n",
            "   0.00000000e+00  2.24600000e+04  2.24600000e+04  6.59773100e+07\n",
            "   0.00000000e+00  6.59773100e+07  6.59773100e+07  0.00000000e+00]\n",
            " [ 2.29586000e+05  2.26600000e+03  1.23000000e+02  8.98500000e+03\n",
            "   1.23000000e+02  1.70000000e+01  1.24120000e+04  6.60521260e+07\n",
            "   2.00000000e+00  2.00000000e+00  9.60000000e+01  9.60000000e+01\n",
            "   4.80000000e+01  4.80000000e+01  4.80000000e+01  0.00000000e+00\n",
            "   4.80000000e+01  4.80000000e+01  4.80000000e+01  0.00000000e+00\n",
            "   2.00000000e+00  0.00000000e+00  2.20173753e+07  3.80447235e+07\n",
            "   6.59476380e+07  5.21920000e+04  6.59999340e+07  6.59999340e+07\n",
            "   0.00000000e+00  6.59999340e+07  6.59999340e+07  6.59998300e+07\n",
            "   6.59998300e+07  0.00000000e+00  6.59998300e+07  6.59998300e+07\n",
            "   0.00000000e+00  0.00000000e+00  0.00000000e+00  0.00000000e+00\n",
            "   6.40000000e+01  6.40000000e+01  3.02791162e-02  3.02791162e-02\n",
            "   4.80000000e+01  4.80000000e+01  4.80000000e+01  0.00000000e+00\n",
            "   0.00000000e+00  0.00000000e+00  0.00000000e+00  0.00000000e+00\n",
            "   0.00000000e+00  0.00000000e+00  0.00000000e+00  0.00000000e+00\n",
            "   0.00000000e+00  1.00000000e+00  6.00000000e+01  4.80000000e+01\n",
            "   4.80000000e+01  0.00000000e+00  0.00000000e+00  0.00000000e+00\n",
            "   0.00000000e+00  0.00000000e+00  0.00000000e+00  2.00000000e+00\n",
            "   9.60000000e+01  2.00000000e+00  9.60000000e+01 -1.00000000e+00\n",
            "  -1.00000000e+00  1.00000000e+00  3.20000000e+01  5.22960000e+04\n",
            "   0.00000000e+00  5.22960000e+04  5.22960000e+04  6.59476380e+07\n",
            "   0.00000000e+00  6.59476380e+07  6.59476380e+07  0.00000000e+00]\n",
            " [ 4.20280000e+04  2.25700000e+03  5.35300000e+03  3.82800000e+03\n",
            "   5.35300000e+03  1.70000000e+01  1.24740000e+04  2.08625830e+07\n",
            "   3.50000000e+01  0.00000000e+00  2.18600000e+03  0.00000000e+00\n",
            "   1.18000000e+02  3.70000000e+01  6.24571429e+01  3.81516655e+01\n",
            "   0.00000000e+00  0.00000000e+00  0.00000000e+00  0.00000000e+00\n",
            "   1.04000000e+02  1.00000000e+00  6.13605382e+05  3.40531526e+06\n",
            "   1.98613360e+07  1.00000000e+00  2.08625830e+07  6.13605382e+05\n",
            "   3.40531526e+06  1.98613360e+07  1.00000000e+00  0.00000000e+00\n",
            "   0.00000000e+00  0.00000000e+00  0.00000000e+00  0.00000000e+00\n",
            "   0.00000000e+00  0.00000000e+00  0.00000000e+00  0.00000000e+00\n",
            "   8.44000000e+02  0.00000000e+00  1.67764461e+00  0.00000000e+00\n",
            "   3.70000000e+01  1.18000000e+02  6.17500000e+01  3.78413040e+01\n",
            "   1.43196429e+03  0.00000000e+00  0.00000000e+00  0.00000000e+00\n",
            "   0.00000000e+00  0.00000000e+00  0.00000000e+00  0.00000000e+00\n",
            "   0.00000000e+00  0.00000000e+00  6.35142857e+01  6.24571429e+01\n",
            "   0.00000000e+00  0.00000000e+00  0.00000000e+00  0.00000000e+00\n",
            "   0.00000000e+00  0.00000000e+00  0.00000000e+00  3.50000000e+01\n",
            "   2.18600000e+03  0.00000000e+00  0.00000000e+00 -1.00000000e+00\n",
            "  -1.00000000e+00  3.40000000e+01  2.00000000e+01  1.00123100e+06\n",
            "   0.00000000e+00  1.00123100e+06  1.00123100e+06  1.98613360e+07\n",
            "   0.00000000e+00  1.98613360e+07  1.98613360e+07  0.00000000e+00]\n",
            " [ 3.36140000e+04  2.25800000e+03  4.97360000e+04  2.42200000e+03\n",
            "   8.00000000e+01  6.00000000e+00  1.26110000e+04  6.43940000e+04\n",
            "   3.00000000e+00  4.00000000e+00  4.36000000e+02  8.72000000e+02\n",
            "   4.30000000e+02  0.00000000e+00  1.45333333e+02  2.46546818e+02\n",
            "   8.60000000e+02  0.00000000e+00  2.18000000e+02  4.28009346e+02\n",
            "   2.03120000e+04  1.08000000e+02  1.07323333e+04  1.17440163e+04\n",
            "   2.34050000e+04  4.00000000e+00  4.06690000e+04  2.03345000e+04\n",
            "   4.45123719e+03  2.34820000e+04  1.71870000e+04  4.09890000e+04\n",
            "   1.36630000e+04  2.31928601e+04  4.04420000e+04  4.00000000e+00\n",
            "   0.00000000e+00  0.00000000e+00  0.00000000e+00  0.00000000e+00\n",
            "   7.20000000e+01  9.20000000e+01  4.65881914e+01  6.21175886e+01\n",
            "   0.00000000e+00  8.60000000e+02  1.63500000e+02  3.18646692e+02\n",
            "   1.01535714e+05  0.00000000e+00  0.00000000e+00  0.00000000e+00\n",
            "   1.00000000e+00  0.00000000e+00  0.00000000e+00  0.00000000e+00\n",
            "   0.00000000e+00  1.00000000e+00  1.86857143e+02  1.45333333e+02\n",
            "   2.18000000e+02  0.00000000e+00  0.00000000e+00  0.00000000e+00\n",
            "   0.00000000e+00  0.00000000e+00  0.00000000e+00  3.00000000e+00\n",
            "   4.36000000e+02  4.00000000e+00  8.72000000e+02  8.19200000e+03\n",
            "   3.10000000e+01  2.00000000e+00  2.00000000e+01  0.00000000e+00\n",
            "   0.00000000e+00  0.00000000e+00  0.00000000e+00  0.00000000e+00\n",
            "   0.00000000e+00  0.00000000e+00  0.00000000e+00  0.00000000e+00]\n",
            " [ 5.01730000e+04  2.25800000e+03  4.98360000e+04  3.44500000e+03\n",
            "   4.43000000e+02  6.00000000e+00  1.26240000e+04  1.49380000e+04\n",
            "   2.00000000e+00  0.00000000e+00  1.20000000e+01  0.00000000e+00\n",
            "   6.00000000e+00  6.00000000e+00  6.00000000e+00  0.00000000e+00\n",
            "   0.00000000e+00  0.00000000e+00  0.00000000e+00  0.00000000e+00\n",
            "   8.03000000e+02  1.33000000e+02  1.49380000e+04  0.00000000e+00\n",
            "   1.49380000e+04  1.49380000e+04  1.49380000e+04  1.49380000e+04\n",
            "   0.00000000e+00  1.49380000e+04  1.49380000e+04  0.00000000e+00\n",
            "   0.00000000e+00  0.00000000e+00  0.00000000e+00  0.00000000e+00\n",
            "   0.00000000e+00  0.00000000e+00  0.00000000e+00  0.00000000e+00\n",
            "   4.00000000e+01  0.00000000e+00  1.33886732e+02  0.00000000e+00\n",
            "   6.00000000e+00  6.00000000e+00  6.00000000e+00  0.00000000e+00\n",
            "   0.00000000e+00  0.00000000e+00  0.00000000e+00  0.00000000e+00\n",
            "   0.00000000e+00  1.00000000e+00  0.00000000e+00  0.00000000e+00\n",
            "   0.00000000e+00  0.00000000e+00  9.00000000e+00  6.00000000e+00\n",
            "   0.00000000e+00  0.00000000e+00  0.00000000e+00  0.00000000e+00\n",
            "   0.00000000e+00  0.00000000e+00  0.00000000e+00  2.00000000e+00\n",
            "   1.20000000e+01  0.00000000e+00  0.00000000e+00  6.38350000e+04\n",
            "  -1.00000000e+00  1.00000000e+00  2.00000000e+01  0.00000000e+00\n",
            "   0.00000000e+00  0.00000000e+00  0.00000000e+00  0.00000000e+00\n",
            "   0.00000000e+00  0.00000000e+00  0.00000000e+00  0.00000000e+00]]\n",
            "[1 1 1 ... 1 1 1]\n"
          ],
          "name": "stdout"
        }
      ]
    },
    {
      "cell_type": "code",
      "metadata": {
        "id": "TrcvjZBi1tu3",
        "outputId": "49554b6a-6360-4182-a18d-cf683f9b0c18",
        "colab": {
          "base_uri": "https://localhost:8080/",
          "height": 1000
        }
      },
      "source": [
        "#####训练一个随机森林分类器\n",
        "# Create a random forest classifier\n",
        "clf = RandomForestClassifier(n_estimators=250, random_state=0, n_jobs=-1)\n",
        "# Train the classifier\n",
        "clf.fit(X_train, y_train)\n",
        "# Print the name and gini importance of each feature\n",
        "for feature in zip(feat_labels, clf.feature_importances_):\n",
        "    print(feature)\n",
        "print(\"-----------------------------------------------------------------------------------------------\\n\\n\\n\\n\")"
      ],
      "execution_count": 4,
      "outputs": [
        {
          "output_type": "stream",
          "text": [
            "('Flow ID', 0.01695300341369429)\n",
            "('Source IP', 0.05984506576122751)\n",
            "('Source Port', 0.04544441934314818)\n",
            "('Destination IP', 0.0569711924161781)\n",
            "('Destination Port', 0.10979145373535149)\n",
            "('Protocol', 0.005511407909776554)\n",
            "('Timestamp', 0.051660564865111544)\n",
            "('Flow Duration', 0.010951142765410805)\n",
            "('Total Fwd Packets', 0.002504194086724991)\n",
            "('Total Backward Packets', 0.005105528583456922)\n",
            "('Total Length of Fwd Packets', 0.012182460607820553)\n",
            "('Total Length of Bwd Packets', 0.027038772488184662)\n",
            "('Fwd Packet Length Max', 0.0020678399419953365)\n",
            "('Fwd Packet Length Min', 0.008722096936323217)\n",
            "('Fwd Packet Length Mean', 0.00236747607388227)\n",
            "('Fwd Packet Length Std', 0.0013277367443228682)\n",
            "('Bwd Packet Length Max', 0.02262793557124573)\n",
            "('Bwd Packet Length Min', 0.006338380605403354)\n",
            "('Bwd Packet Length Mean', 0.06620857908646104)\n",
            "('Bwd Packet Length Std', 0.004434208936992577)\n",
            "('Flow Bytes/s', 0.006487829860063386)\n",
            "('Flow Packets/s', 0.004808202861763454)\n",
            "('Flow IAT Mean', 0.004268856133318304)\n",
            "('Flow IAT Std', 0.005779473192905639)\n",
            "('Flow IAT Max', 0.005618582035558368)\n",
            "('Flow IAT Min', 0.011346488982397363)\n",
            "('Fwd IAT Total', 0.003539349596086259)\n",
            "('Fwd IAT Mean', 0.006296539960342627)\n",
            "('Fwd IAT Std', 0.0006020871670861001)\n",
            "('Fwd IAT Max', 0.004966607370215976)\n",
            "('Fwd IAT Min', 0.0030304937093281405)\n",
            "('Bwd IAT Total', 0.00850621210327124)\n",
            "('Bwd IAT Mean', 0.00403265258056132)\n",
            "('Bwd IAT Std', 0.005695442871967258)\n",
            "('Bwd IAT Max', 0.008022904475441009)\n",
            "('Bwd IAT Min', 0.06113344073886772)\n",
            "('Fwd PSH Flags', 0.0005301428341699491)\n",
            "('Bwd PSH Flags', 0.0)\n",
            "('Fwd URG Flags', 0.0)\n",
            "('Bwd URG Flags', 0.0)\n",
            "('Fwd Header Length', 0.012308479874169496)\n",
            "('Bwd Header Length', 0.007303819342558999)\n",
            "('Fwd Packets/s', 0.006890150872354809)\n",
            "('Bwd Packets/s', 0.030992187956831185)\n",
            "('Min Packet Length', 0.008506599968157658)\n",
            "('Max Packet Length', 0.006173975665359419)\n",
            "('Packet Length Mean', 0.028212305441389328)\n",
            "('Packet Length Std', 0.003396250795974352)\n",
            "('Packet Length Variance', 0.0032485561371502205)\n",
            "('FIN Flag Count', 4.868015706392841e-05)\n",
            "('SYN Flag Count', 0.0011526853778246796)\n",
            "('RST Flag Count', 0.0)\n",
            "('PSH Flag Count', 0.0015170440738283067)\n",
            "('ACK Flag Count', 0.00020973307174669269)\n",
            "('URG Flag Count', 0.0029526229618450682)\n",
            "('CWE Flag Count', 0.0)\n",
            "('ECE Flag Count', 0.0)\n",
            "('Down/Up Ratio', 0.0006922370094529245)\n",
            "('Average Packet Size', 0.03437305213148452)\n",
            "('Avg Fwd Segment Size', 0.001836408066279912)\n",
            "('Avg Bwd Segment Size', 0.06273148095605834)\n",
            "('Fwd Avg Bytes/Bulk', 0.0)\n",
            "('Fwd Avg Packets/Bulk', 0.0)\n",
            "('Fwd Avg Bulk Rate', 0.0)\n",
            "('Bwd Avg Bytes/Bulk', 0.0)\n",
            "('Bwd Avg Packets/Bulk', 0.0)\n",
            "('Bwd Avg Bulk Rate', 0.0)\n",
            "('Subflow Fwd Packets', 0.0034729799863741726)\n",
            "('Subflow Fwd Bytes', 0.010020768013045796)\n",
            "('Subflow Bwd Packets', 0.003727523356392136)\n",
            "('Subflow Bwd Bytes', 0.03949845884475322)\n",
            "('Init_Win_bytes_forward', 0.0267781233626685)\n",
            "('Init_Win_bytes_backward', 0.025146487636519842)\n",
            "('act_data_pkt_fwd', 0.0016479790796370144)\n",
            "('min_seg_size_forward', 0.012020388421490443)\n",
            "('Active Mean', 0.0003666472266064148)\n",
            "('Active Std', 2.9343289461626398e-05)\n",
            "('Active Max', 0.0002938447353561726)\n",
            "('Active Min', 0.0006619628931094396)\n",
            "('Idle Mean', 0.00022305993104743937)\n",
            "('Idle Std', 4.564555395356172e-05)\n",
            "('Idle Max', 0.0002641784177206047)\n",
            "('Idle Min', 0.0005375730462776138)\n",
            "('Label', 0.0)\n",
            "-----------------------------------------------------------------------------------------------\n",
            "\n",
            "\n",
            "\n",
            "\n"
          ],
          "name": "stdout"
        }
      ]
    },
    {
      "cell_type": "code",
      "metadata": {
        "id": "I2InDVPZBl7z",
        "outputId": "3a5f4370-5089-458f-9312-01260dc7eb0c",
        "colab": {
          "base_uri": "https://localhost:8080/",
          "height": 827
        }
      },
      "source": [
        "####识别并选择最重要的特征\n",
        "# Create a selector object that will use the random forest classifier to identify\n",
        "\n",
        "sfm = SelectFromModel(clf, threshold=0.05)#threshold ： 根据实际bot数据的值，阈值有所下调\n",
        "# Train the selector\n",
        "sfm.fit(X_train, y_train)\n",
        "# estimator的模型参数\n",
        "print(\"estimator的模型参数\",sfm.fit(X_train, y_train))\n",
        "# 根据estimator中特征重要性均值获得阈值\n",
        "print(\"用于特征选择的阈值；\",sfm.fit(X_train, y_train).threshold_)\n",
        "# 哪些特征入选最后特征，true表示入选\n",
        "print(\"特征是否保留\",sfm.fit(X_train, y_train).get_support())\n",
        "# 获得最后结果\n",
        "print(\"特征提取结果\",sfm.fit(X_train, y_train).transform(X));\n",
        "#打印出最重要特征的名称\n",
        "for feature_list_index in sfm.get_support(indices=True):\n",
        "    print(\"most importances\", feat_labels[feature_list_index])"
      ],
      "execution_count": 22,
      "outputs": [
        {
          "output_type": "stream",
          "text": [
            "estimator的模型参数 SelectFromModel(estimator=RandomForestClassifier(bootstrap=True, ccp_alpha=0.0,\n",
            "                                                 class_weight=None,\n",
            "                                                 criterion='gini',\n",
            "                                                 max_depth=None,\n",
            "                                                 max_features='auto',\n",
            "                                                 max_leaf_nodes=None,\n",
            "                                                 max_samples=None,\n",
            "                                                 min_impurity_decrease=0.0,\n",
            "                                                 min_impurity_split=None,\n",
            "                                                 min_samples_leaf=1,\n",
            "                                                 min_samples_split=2,\n",
            "                                                 min_weight_fraction_leaf=0.0,\n",
            "                                                 n_estimators=250, n_jobs=-1,\n",
            "                                                 oob_score=False,\n",
            "                                                 random_state=0, verbose=0,\n",
            "                                                 warm_start=False),\n",
            "                max_features=None, norm_order=1, prefit=False, threshold=0.05)\n",
            "用于特征选择的阈值； 0.05\n",
            "特征是否保留 [False  True False  True  True False  True False False False False False\n",
            " False False False False False False  True False False False False False\n",
            " False False False False False False False False False False False  True\n",
            " False False False False False False False False False False False False\n",
            " False False False False False False False False False False False False\n",
            "  True False False False False False False False False False False False\n",
            " False False False False False False False False False False False False]\n",
            "特征提取结果 [[2.2660000e+03 5.2760000e+03 1.2300000e+02 ... 4.8000000e+01\n",
            "  6.5999863e+07 4.8000000e+01]\n",
            " [2.2660000e+03 8.9850000e+03 1.2300000e+02 ... 4.8000000e+01\n",
            "  6.5999830e+07 4.8000000e+01]\n",
            " [2.2570000e+03 3.8280000e+03 5.3530000e+03 ... 0.0000000e+00\n",
            "  0.0000000e+00 0.0000000e+00]\n",
            " ...\n",
            " [6.9800000e+02 8.6500000e+02 5.3000000e+01 ... 7.6000000e+01\n",
            "  4.7000000e+01 7.6000000e+01]\n",
            " [6.9500000e+02 1.3520000e+03 4.4300000e+02 ... 6.2000000e+00\n",
            "  9.8884530e+06 6.2000000e+00]\n",
            " [6.9700000e+02 8.6700000e+02 1.3900000e+02 ... 4.0000000e+00\n",
            "  0.0000000e+00 4.0000000e+00]]\n",
            "most importances Source IP\n",
            "most importances Destination IP\n",
            "most importances Destination Port\n",
            "most importances Timestamp\n",
            "most importances Bwd Packet Length Mean\n",
            "most importances Bwd IAT Min\n",
            "most importances Avg Bwd Segment Size\n"
          ],
          "name": "stdout"
        }
      ]
    },
    {
      "cell_type": "code",
      "metadata": {
        "id": "hvmcmYRNBWPW"
      },
      "source": [
        "####创建一个只包含最重要特性的数据子集\n",
        "# Transform the data to create a new dataset containing only the most important features\n",
        "# Note: We have to apply the transform to both the training X and test X data.\n",
        "X_important_train = sfm.transform(X_train)\n",
        "X_important_test = sfm.transform(X_test)"
      ],
      "execution_count": 23,
      "outputs": []
    },
    {
      "cell_type": "code",
      "metadata": {
        "id": "GU8PThenBwyJ",
        "outputId": "b65d3c78-e10e-4b5d-92f3-bed9dd309e09",
        "colab": {
          "base_uri": "https://localhost:8080/",
          "height": 161
        }
      },
      "source": [
        "####训练一个新的随机森林分类器，只使用最重要的特征\n",
        "# Create a new random forest classifier for the most important features\n",
        "clf_important = RandomForestClassifier(n_estimators=250, random_state=0, n_jobs=-1)\n",
        "\n",
        "# Train the new classifier on the new dataset containing the most important features\n",
        "clf_important.fit(X_important_train, y_train)"
      ],
      "execution_count": 17,
      "outputs": [
        {
          "output_type": "execute_result",
          "data": {
            "text/plain": [
              "RandomForestClassifier(bootstrap=True, ccp_alpha=0.0, class_weight=None,\n",
              "                       criterion='gini', max_depth=None, max_features='auto',\n",
              "                       max_leaf_nodes=None, max_samples=None,\n",
              "                       min_impurity_decrease=0.0, min_impurity_split=None,\n",
              "                       min_samples_leaf=1, min_samples_split=2,\n",
              "                       min_weight_fraction_leaf=0.0, n_estimators=250,\n",
              "                       n_jobs=-1, oob_score=False, random_state=0, verbose=0,\n",
              "                       warm_start=False)"
            ]
          },
          "metadata": {
            "tags": []
          },
          "execution_count": 17
        }
      ]
    },
    {
      "cell_type": "code",
      "metadata": {
        "id": "z76Mnq65Byjd",
        "outputId": "fcc72368-7722-4ea1-e9b5-09104465a146",
        "colab": {
          "base_uri": "https://localhost:8080/",
          "height": 161
        }
      },
      "source": [
        "####训练一个新的随机森林分类器，只使用最重要的特征\n",
        "# Create a new random forest classifier for the most important features\n",
        "clf_important = RandomForestClassifier(n_estimators=250, random_state=0, n_jobs=-1)\n",
        "\n",
        "# Train the new classifier on the new dataset containing the most important features\n",
        "clf_important.fit(X_important_train, y_train)"
      ],
      "execution_count": 18,
      "outputs": [
        {
          "output_type": "execute_result",
          "data": {
            "text/plain": [
              "RandomForestClassifier(bootstrap=True, ccp_alpha=0.0, class_weight=None,\n",
              "                       criterion='gini', max_depth=None, max_features='auto',\n",
              "                       max_leaf_nodes=None, max_samples=None,\n",
              "                       min_impurity_decrease=0.0, min_impurity_split=None,\n",
              "                       min_samples_leaf=1, min_samples_split=2,\n",
              "                       min_weight_fraction_leaf=0.0, n_estimators=250,\n",
              "                       n_jobs=-1, oob_score=False, random_state=0, verbose=0,\n",
              "                       warm_start=False)"
            ]
          },
          "metadata": {
            "tags": []
          },
          "execution_count": 18
        }
      ]
    },
    {
      "cell_type": "code",
      "metadata": {
        "id": "yRC2pljk2QKi",
        "outputId": "7f8adb7e-6ddc-4c7c-80f6-b6ae8024a1de",
        "colab": {
          "base_uri": "https://localhost:8080/",
          "height": 35
        }
      },
      "source": [
        "####比较我们的全特征分类器和我们的有限特征分类器的准确性\n",
        "# 对测试数据应用全特征分类器\n",
        "y_pred = clf.predict(X_test)\n",
        "# 查看我们的全特征模型的准确性\n",
        "accuracy_score(y_test, y_pred)"
      ],
      "execution_count": 19,
      "outputs": [
        {
          "output_type": "execute_result",
          "data": {
            "text/plain": [
              "0.9992406985573272"
            ]
          },
          "metadata": {
            "tags": []
          },
          "execution_count": 19
        }
      ]
    },
    {
      "cell_type": "code",
      "metadata": {
        "id": "iIPBx1NfB2AA",
        "outputId": "290594f1-f7da-4dfa-ebf6-82341678a82b",
        "colab": {
          "base_uri": "https://localhost:8080/",
          "height": 35
        }
      },
      "source": [
        "# 对测试数据应用全特征分类器\n",
        "y_important_pred = clf_important.predict(X_important_test)\n",
        "# 查看我们的有限特征模型的准确性\n",
        "accuracy_score(y_test, y_important_pred)"
      ],
      "execution_count": 20,
      "outputs": [
        {
          "output_type": "execute_result",
          "data": {
            "text/plain": [
              "0.9992406985573272"
            ]
          },
          "metadata": {
            "tags": []
          },
          "execution_count": 20
        }
      ]
    }
  ]
}