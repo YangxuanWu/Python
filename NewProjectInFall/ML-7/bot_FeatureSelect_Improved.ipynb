{
  "nbformat": 4,
  "nbformat_minor": 0,
  "metadata": {
    "colab": {
      "name": "bot-FeatureSelect-Improved.ipynb",
      "provenance": [],
      "authorship_tag": "ABX9TyMpmAeDDqryGWsX1oJ75p6r",
      "include_colab_link": true
    },
    "kernelspec": {
      "name": "python3",
      "display_name": "Python 3"
    }
  },
  "cells": [
    {
      "cell_type": "markdown",
      "metadata": {
        "id": "view-in-github",
        "colab_type": "text"
      },
      "source": [
        "<a href=\"https://colab.research.google.com/github/YangxuanWu/Python/blob/master/NewProjectInFall/ML-7/bot_FeatureSelect_Improved.ipynb\" target=\"_parent\"><img src=\"https://colab.research.google.com/assets/colab-badge.svg\" alt=\"Open In Colab\"/></a>"
      ]
    },
    {
      "cell_type": "code",
      "metadata": {
        "id": "S-b4Wh-mha1q",
        "outputId": "2fb68c48-939b-434d-804c-832eeb46cefe",
        "colab": {
          "base_uri": "https://localhost:8080/",
          "height": 35
        }
      },
      "source": [
        "from google.colab import drive\n",
        "import os\n",
        "drive.mount('/content/drive')\n",
        "os.chdir(\"/content/drive/My Drive/\")"
      ],
      "execution_count": 1,
      "outputs": [
        {
          "output_type": "stream",
          "text": [
            "Mounted at /content/drive\n"
          ],
          "name": "stdout"
        }
      ]
    },
    {
      "cell_type": "code",
      "metadata": {
        "id": "Rj09lM0-Jcuc",
        "outputId": "abc2ea61-c8f9-4ec1-df7e-92f3c7c6cc26",
        "colab": {
          "base_uri": "https://localhost:8080/",
          "height": 233
        }
      },
      "source": [
        "!ls"
      ],
      "execution_count": 2,
      "outputs": [
        {
          "output_type": "stream",
          "text": [
            " 1bot_feaure_pics\n",
            "'1_importance_list_for_bot_attack (1).csv'\n",
            " 1_importance_list_for_bot_attack.csv\n",
            " all_data.csv\n",
            " attacks\n",
            " bot_feaure_pics\n",
            "'Colab Notebooks'\n",
            " CSVs\n",
            " feaure_pics\n",
            " importance_list_all_data.csv\n",
            " importance_list_for_attack_files.csv\n",
            " importance_list_for_bot_attack_files.csv\n"
          ],
          "name": "stdout"
        }
      ]
    },
    {
      "cell_type": "code",
      "metadata": {
        "id": "1dzuwRxfJrSr",
        "outputId": "db9c5b42-c521-4148-8909-b363af212c35",
        "colab": {
          "base_uri": "https://localhost:8080/",
          "height": 467
        }
      },
      "source": [
        "##5.5 “all_data。程序的操作需要csv文件。\n",
        "# #”all_data。csv文件必须位于与程序相同的目录中。\n",
        "##这个程序的目的是为朴素贝叶斯和QDA和MLP算法找到最优的属性列表。它遵循一种试错的方法。\n",
        "##从文件“04_2_feature_selection_for_attack_files”中获得的特性列表。在机器学习算法中，以最高的重要性分开始。\n",
        "##如果每个特性的F-measure等于或大于获得的最高值，则添加此属性\n",
        "##\n",
        "\n",
        "\n",
        "\n",
        "\n",
        "#%matplotlib inline\n",
        "from sklearn import metrics\n",
        "from sklearn import preprocessing\n",
        "from sklearn.model_selection import train_test_split\n",
        "from sklearn.discriminant_analysis import QuadraticDiscriminantAnalysis as QDA\n",
        "from sklearn.ensemble import ExtraTreesClassifier\n",
        "from sklearn.ensemble import RandomForestClassifier, AdaBoostClassifier\n",
        "from sklearn.metrics import average_precision_score\n",
        "from sklearn.metrics import confusion_matrix\n",
        "from sklearn.model_selection import train_test_split\n",
        "from sklearn.naive_bayes import GaussianNB\n",
        "from sklearn.neighbors import KNeighborsClassifier\n",
        "from sklearn.neural_network import MLPClassifier\n",
        "from sklearn.tree import DecisionTreeClassifier\n",
        "\n",
        "from sklearn.metrics import f1_score\n",
        "from sklearn.metrics import recall_score\n",
        "from sklearn.metrics import precision_score\n",
        "import numpy as np\n",
        "\n",
        "\n",
        "\n",
        "            \n",
        "import pandas as pd\n",
        "import warnings\n",
        "warnings.filterwarnings(\"ignore\")\n",
        "import time\n",
        "seconds = time.time()\n",
        "\n",
        "\n",
        "#list of all columns to be imported\n",
        "# the 20 features selected by the file \"04_2_feature_selection_for_attack_files.py\" are used here. (+ Label Feature)\n",
        "features=[\"Bwd Packet Length Std\",\"Flow Bytes/s\",\"Total Length of Fwd Packets\",\"Fwd Packet Length Std\",\n",
        "\"Flow IAT Std\",\"Flow IAT Min\",\"Fwd IAT Total\",\"Flow Duration\",\"Bwd Packet Length Max\",\"Flow IAT Max\",\n",
        "\"Flow IAT Mean\",\"Total Length of Bwd Packets\",\"Fwd Packet Length Min\",\"Bwd Packet Length Mean\",\n",
        "\"Flow Packets/s\",\"Fwd Packet Length Mean\",\"Total Backward Packets\",\"Total Fwd Packets\",\"Fwd Packet Length Max\",\n",
        "\"Bwd Packet Length Min\",'Label']\n",
        "    \n",
        "#df=pd.read_csv('all_data.csv',usecols=features)#CSV rading\n",
        "\n",
        "df=pd.read_csv('./attacks/Bot.csv',usecols=features)\n",
        "\n",
        "print ('%-17s %-17s ' % (\"Feature Number\",\"Feature\"))# print output header\n",
        "for i in range(len(features)-1):\n",
        "    print ('%-17s %-17s' % (i+1,features[i]))# print features  and feature numbers \n",
        "\n",
        "\n",
        "print ('\\n\\n\\n')\n",
        "\n",
        "attack_or_not=[]\n",
        "for i in df.iloc[:,-1]:\n",
        "    if i ==\"BENIGN\":#it changes the normal label to \"1\" and the attack tag to \"0\" for use in the machine learning algorithm\n",
        "        attack_or_not.append(1)\n",
        "    else:\n",
        "        attack_or_not.append(0)\n",
        "df.iloc[:,-1]=attack_or_not\n",
        "df = df.fillna(0)\n",
        "for col in features:\n",
        "    m = df.loc[df[col] != np.inf, col].max()\n",
        "    df[col].replace(np.inf,m,inplace=True)\n",
        "y = df.iloc[:, -1].values #labes-y\n",
        "my_list=[]\n",
        "\n",
        "least=0\n",
        "\n",
        "ml_list={#The machine learning algorithms to be used are defined in a dictionary (ml_list).\n",
        "\"Naive Bayes\":GaussianNB(),\n",
        "\"QDA\":QDA(),\n",
        "##\"Random Forest\":RandomForestClassifier(max_depth=5, n_estimators=10, max_features=1),\n",
        "##\"ID3\" :DecisionTreeClassifier(max_depth=5,criterion=\"entropy\"),\n",
        "##\"AdaBoost\":AdaBoostClassifier(),\n",
        "##\"Nearest Neighbors\":KNeighborsClassifier(3),\n",
        "\"MLP\":MLPClassifier(hidden_layer_sizes=(13,13,13),max_iter=500)}\n",
        "\n",
        "\n"
      ],
      "execution_count": 9,
      "outputs": [
        {
          "output_type": "stream",
          "text": [
            "Feature Number    Feature           \n",
            "1                 Bwd Packet Length Std\n",
            "2                 Flow Bytes/s     \n",
            "3                 Total Length of Fwd Packets\n",
            "4                 Fwd Packet Length Std\n",
            "5                 Flow IAT Std     \n",
            "6                 Flow IAT Min     \n",
            "7                 Fwd IAT Total    \n",
            "8                 Flow Duration    \n",
            "9                 Bwd Packet Length Max\n",
            "10                Flow IAT Max     \n",
            "11                Flow IAT Mean    \n",
            "12                Total Length of Bwd Packets\n",
            "13                Fwd Packet Length Min\n",
            "14                Bwd Packet Length Mean\n",
            "15                Flow Packets/s   \n",
            "16                Fwd Packet Length Mean\n",
            "17                Total Backward Packets\n",
            "18                Total Fwd Packets\n",
            "19                Fwd Packet Length Max\n",
            "20                Bwd Packet Length Min\n",
            "\n",
            "\n",
            "\n",
            "\n"
          ],
          "name": "stdout"
        }
      ]
    },
    {
      "cell_type": "code",
      "metadata": {
        "id": "nabHq5lfJ0_6",
        "outputId": "d8ede88a-6bbf-4342-93cc-f1cb198d644f",
        "colab": {
          "base_uri": "https://localhost:8080/",
          "height": 1000
        }
      },
      "source": [
        "features.pop()#the Label tag is removed, no need any more\n",
        "print ('%-17s %-30s %-10s  %-10s %-15s ' % (\"ML algorithm\",\"Feature Name\",\"F1-score\",\"Accuracy\", \"Feature List\"))# print output header\n",
        "for j in ml_list: # run for every machine learning.  \n",
        "    my_list=[]\n",
        "    for i in features: ## run for every  feature  \n",
        "        my_list.append(i)\n",
        "        X = df.loc[:, my_list].values # data\n",
        "\n",
        "        ## cross-validation\n",
        "        X_train, X_test, y_train, y_test = train_test_split(X, y, test_size = 0.20, random_state = 0)\n",
        "       \n",
        "        #machine learning algorithm is applied in this section\n",
        "        clf = ml_list[j]   #                                                                       \n",
        "        clf.fit(X_train, y_train)\n",
        "        predict =clf.predict(X_test)\n",
        "        f1=clf.score(X_test, y_test)\n",
        "        result=f1_score(y_test, predict, average='macro')\n",
        "        accuracy=round(clf.score(X_test, y_test),2)\n",
        "        temp=\"[\"\n",
        "       \n",
        "        for ii in my_list: \n",
        "            temp+=str(my_list.index(ii)+1)+\", \" #translate property list to sequence number for less space\n",
        "\n",
        "       \n",
        "        if result>=least:#：如果f - criteria等于或大于之前访问的最大值，则保留新特征.\n",
        "            least=result\n",
        "            print ('%-17s %-30s %-10s  %-10s %-15s %-15s ' % (j,i,result,accuracy ,temp, \"------> New feature found!!!\"))\n",
        "\n",
        "        else:#If not, remove it from the list\n",
        "            my_list.remove(my_list[len(my_list)-1])\n",
        "            print ('%-17s %-30s %-10s  %-10s %-15s ' % (j,i,result,accuracy ,temp))\n",
        "    print(\"F1=\" ,least,j,\" The most efficient feature list =\",my_list,\"\\n\\n\") #print maximum F1 and the most efficient feature list\n",
        "\n",
        "\n",
        "\n",
        "\n",
        "print(\"mission accomplished!\")\n",
        "print(\"operation time: = \",time.time()- seconds ,\"secomds\")\n"
      ],
      "execution_count": 10,
      "outputs": [
        {
          "output_type": "stream",
          "text": [
            "ML algorithm      Feature Name                   F1-score    Accuracy   Feature List    \n",
            "Naive Bayes       Bwd Packet Length Std          0.44855751085110396  0.46       [1,             ------> New feature found!!! \n",
            "Naive Bayes       Flow Bytes/s                   0.4115275008853815  0.69       [1, 2,          \n",
            "Naive Bayes       Total Length of Fwd Packets    0.4475440558973545  0.69       [1, 2,          \n",
            "Naive Bayes       Fwd Packet Length Std          0.44700415172674085  0.46       [1, 2,          \n",
            "Naive Bayes       Flow IAT Std                   0.5062729647791888  0.51       [1, 2,          ------> New feature found!!! \n",
            "Naive Bayes       Flow IAT Min                   0.5836413984077535  0.58       [1, 2, 3,       ------> New feature found!!! \n",
            "Naive Bayes       Fwd IAT Total                  0.5569398843930635  0.56       [1, 2, 3, 4,    \n",
            "Naive Bayes       Flow Duration                  0.5577351567769646  0.56       [1, 2, 3, 4,    \n",
            "Naive Bayes       Bwd Packet Length Max          0.602870692016086  0.6        [1, 2, 3, 4,    ------> New feature found!!! \n",
            "Naive Bayes       Flow IAT Max                   0.5851915861757064  0.59       [1, 2, 3, 4, 5,  \n",
            "Naive Bayes       Flow IAT Mean                  0.6036334494130671  0.6        [1, 2, 3, 4, 5,  ------> New feature found!!! \n",
            "Naive Bayes       Total Length of Bwd Packets    0.6013437585224537  0.6        [1, 2, 3, 4, 5, 6,  \n",
            "Naive Bayes       Fwd Packet Length Min          0.6036334494130671  0.6        [1, 2, 3, 4, 5, 6,  ------> New feature found!!! \n",
            "Naive Bayes       Bwd Packet Length Mean         0.602870692016086  0.6        [1, 2, 3, 4, 5, 6, 7,  \n",
            "Naive Bayes       Flow Packets/s                 0.6036334494130671  0.6        [1, 2, 3, 4, 5, 6, 7,  ------> New feature found!!! \n",
            "Naive Bayes       Fwd Packet Length Mean         0.6036334494130671  0.6        [1, 2, 3, 4, 5, 6, 7, 8,  ------> New feature found!!! \n",
            "Naive Bayes       Total Backward Packets         0.6036334494130671  0.6        [1, 2, 3, 4, 5, 6, 7, 8, 9,  ------> New feature found!!! \n",
            "Naive Bayes       Total Fwd Packets              0.6036334494130671  0.6        [1, 2, 3, 4, 5, 6, 7, 8, 9, 10,  ------> New feature found!!! \n",
            "Naive Bayes       Fwd Packet Length Max          0.6036334494130671  0.6        [1, 2, 3, 4, 5, 6, 7, 8, 9, 10, 11,  ------> New feature found!!! \n",
            "Naive Bayes       Bwd Packet Length Min          0.6036334494130671  0.6        [1, 2, 3, 4, 5, 6, 7, 8, 9, 10, 11, 12,  ------> New feature found!!! \n",
            "F1= 0.6036334494130671 Naive Bayes  The most efficient feature list = ['Bwd Packet Length Std', 'Flow IAT Std', 'Flow IAT Min', 'Bwd Packet Length Max', 'Flow IAT Mean', 'Fwd Packet Length Min', 'Flow Packets/s', 'Fwd Packet Length Mean', 'Total Backward Packets', 'Total Fwd Packets', 'Fwd Packet Length Max', 'Bwd Packet Length Min'] \n",
            "\n",
            "\n",
            "QDA               Bwd Packet Length Std          0.44855751085110396  0.46       [1,             \n",
            "QDA               Flow Bytes/s                   0.4115275008853815  0.69       [1,             \n",
            "QDA               Total Length of Fwd Packets    0.44232459280887443  0.69       [1,             \n",
            "QDA               Fwd Packet Length Std          0.4523043141951743  0.7        [1,             \n",
            "QDA               Flow IAT Std                   0.4693082605775688  0.48       [1,             \n",
            "QDA               Flow IAT Min                   0.38827557898375387  0.41       [1,             \n",
            "QDA               Fwd IAT Total                  0.44064144209282097  0.45       [1,             \n",
            "QDA               Flow Duration                  0.45510771593948723  0.47       [1,             \n",
            "QDA               Bwd Packet Length Max          0.4858475348902447  0.49       [1,             \n",
            "QDA               Flow IAT Max                   0.48239367426191926  0.49       [1,             \n",
            "QDA               Flow IAT Mean                  0.4604632162998533  0.47       [1,             \n",
            "QDA               Total Length of Bwd Packets    0.4816136787862072  0.49       [1,             \n",
            "QDA               Fwd Packet Length Min          0.595198977676463  0.6        [1,             \n",
            "QDA               Bwd Packet Length Mean         0.6954761152269495  0.7        [1,             ------> New feature found!!! \n",
            "QDA               Flow Packets/s                 0.6974799445221432  0.7        [1, 2,          ------> New feature found!!! \n",
            "QDA               Fwd Packet Length Mean         0.7162342307097165  0.72       [1, 2, 3,       ------> New feature found!!! \n",
            "QDA               Total Backward Packets         0.6948705589784427  0.7        [1, 2, 3, 4,    \n",
            "QDA               Total Fwd Packets              0.7427250047072114  0.75       [1, 2, 3, 4,    ------> New feature found!!! \n",
            "QDA               Fwd Packet Length Max          0.7491906303561227  0.75       [1, 2, 3, 4, 5,  ------> New feature found!!! \n",
            "QDA               Bwd Packet Length Min          0.9213051872745204  0.93       [1, 2, 3, 4, 5, 6,  ------> New feature found!!! \n",
            "F1= 0.9213051872745204 QDA  The most efficient feature list = ['Bwd Packet Length Mean', 'Flow Packets/s', 'Fwd Packet Length Mean', 'Total Fwd Packets', 'Fwd Packet Length Max', 'Bwd Packet Length Min'] \n",
            "\n",
            "\n",
            "MLP               Bwd Packet Length Std          0.6932731538147695  0.79       [1,             \n",
            "MLP               Flow Bytes/s                   0.6117890800677127  0.76       [1,             \n",
            "MLP               Total Length of Fwd Packets    0.668415821904194  0.75       [1,             \n",
            "MLP               Fwd Packet Length Std          0.40994623655913975  0.69       [1,             \n",
            "MLP               Flow IAT Std                   0.7002744757251308  0.74       [1,             \n",
            "MLP               Flow IAT Min                   0.7481353987378084  0.76       [1,             \n",
            "MLP               Fwd IAT Total                  0.4029918404351768  0.68       [1,             \n",
            "MLP               Flow Duration                  0.6600036879955744  0.67       [1,             \n",
            "MLP               Bwd Packet Length Max          0.7593257165880051  0.81       [1,             \n",
            "MLP               Flow IAT Max                   0.407432959385686  0.68       [1,             \n",
            "MLP               Flow IAT Mean                  0.5842365568767757  0.69       [1,             \n",
            "MLP               Total Length of Bwd Packets    0.729516636695343  0.78       [1,             \n",
            "MLP               Fwd Packet Length Min          0.6091108703794663  0.7        [1,             \n",
            "MLP               Bwd Packet Length Mean         0.8795865354748855  0.89       [1,             \n",
            "MLP               Flow Packets/s                 0.6092406140567086  0.76       [1,             \n",
            "MLP               Fwd Packet Length Mean         0.6341907829780111  0.72       [1,             \n",
            "MLP               Total Backward Packets         0.8026577287066246  0.86       [1,             \n",
            "MLP               Total Fwd Packets              0.723281362560461  0.78       [1,             \n",
            "MLP               Fwd Packet Length Max          0.5685051803870386  0.63       [1,             \n",
            "MLP               Bwd Packet Length Min          0.7563559443568049  0.8        [1,             \n",
            "F1= 0.9213051872745204 MLP  The most efficient feature list = [] \n",
            "\n",
            "\n",
            "mission accomplished!\n",
            "operation time: =  105.65809369087219 secomds\n"
          ],
          "name": "stdout"
        }
      ]
    }
  ]
}