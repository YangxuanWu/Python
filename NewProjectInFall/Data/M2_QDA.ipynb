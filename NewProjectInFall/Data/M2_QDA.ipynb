{
  "nbformat": 4,
  "nbformat_minor": 0,
  "metadata": {
    "colab": {
      "name": "M2-QDA",
      "provenance": [],
      "authorship_tag": "ABX9TyPiD3C9NSWQsbgGfKfSg1sr",
      "include_colab_link": true
    },
    "kernelspec": {
      "name": "python3",
      "display_name": "Python 3"
    }
  },
  "cells": [
    {
      "cell_type": "markdown",
      "metadata": {
        "id": "view-in-github",
        "colab_type": "text"
      },
      "source": [
        "<a href=\"https://colab.research.google.com/github/YangxuanWu/Python/blob/master/NewProjectInFall/Data/M2_QDA.ipynb\" target=\"_parent\"><img src=\"https://colab.research.google.com/assets/colab-badge.svg\" alt=\"Open In Colab\"/></a>"
      ]
    },
    {
      "cell_type": "code",
      "metadata": {
        "id": "5yQ0bbVBZ-af",
        "outputId": "39e625f6-6f92-4f6e-846c-cd39f6f2eb49",
        "colab": {
          "base_uri": "https://localhost:8080/"
        }
      },
      "source": [
        "from google.colab import drive\n",
        "import os\n",
        "drive.mount('/content/drive')\n",
        "os.chdir(\"/content/drive/My Drive/\")"
      ],
      "execution_count": 7,
      "outputs": [
        {
          "output_type": "stream",
          "text": [
            "Drive already mounted at /content/drive; to attempt to forcibly remount, call drive.mount(\"/content/drive\", force_remount=True).\n"
          ],
          "name": "stdout"
        }
      ]
    },
    {
      "cell_type": "code",
      "metadata": {
        "id": "rEaBHlMe5kGl",
        "outputId": "2506df15-56cf-4a16-e6db-a00f881d688c",
        "colab": {
          "base_uri": "https://localhost:8080/"
        }
      },
      "source": [
        "!ls"
      ],
      "execution_count": 8,
      "outputs": [
        {
          "output_type": "stream",
          "text": [
            " all_data.csv\t    feaure_pics\t\t\t\t   results\n",
            " attacks\t    importance_list_all_data.csv\t  'Yangxuan Wu.zip'\n",
            "'Colab Notebooks'   importance_list_for_attack_files.csv\n"
          ],
          "name": "stdout"
        }
      ]
    },
    {
      "cell_type": "markdown",
      "metadata": {
        "id": "lWpaIfr0_xDN"
      },
      "source": [
        "this program uses the attack files under the \"./attacks/\" folder as a dataset. The features used are the 4 features with the highest weight for each file, produced by the feature_selection_for_attack_files file. This file applies QDA machine learning algorithms to each file 10 times and prints the results of these operations on the screen and in the file \"./attacks/results_1.csv\". It also creates box and whisker graphics of the results and prints them both on the screen and in the \"./attacks/result_graph_1/\" folder."
      ]
    },
    {
      "cell_type": "code",
      "metadata": {
        "id": "0bVj5GxD5kJr",
        "outputId": "75fff51b-a75c-41f7-b2ab-5b201545d3af",
        "colab": {
          "base_uri": "https://localhost:8080/",
          "height": 1000
        }
      },
      "source": [
        "from sklearn.svm import SVC\n",
        "from sklearn.linear_model import SGDClassifier\n",
        "from sklearn.svm import LinearSVC\n",
        "from sklearn.pipeline import Pipeline\n",
        "from sklearn.preprocessing import StandardScaler\n",
        "from sklearn.preprocessing import PolynomialFeatures\n",
        "from sklearn.model_selection import cross_val_score\n",
        "\n",
        "from sklearn.linear_model import Lasso\n",
        "from sklearn.linear_model import ElasticNet\n",
        "\n",
        "from sklearn import metrics\n",
        "from sklearn.discriminant_analysis import QuadraticDiscriminantAnalysis as QDA\n",
        "from sklearn.ensemble import ExtraTreesClassifier\n",
        "from sklearn.ensemble import RandomForestClassifier, AdaBoostClassifier\n",
        "from sklearn.metrics import average_precision_score\n",
        "from sklearn.metrics import confusion_matrix\n",
        "from sklearn.model_selection import train_test_split\n",
        "from sklearn.naive_bayes import GaussianNB\n",
        "from sklearn.neighbors import KNeighborsClassifier\n",
        "from sklearn.neural_network import MLPClassifier\n",
        "from sklearn.tree import DecisionTreeClassifier\n",
        "\n",
        "from sklearn.metrics import f1_score\n",
        "from sklearn.metrics import recall_score\n",
        "from sklearn.metrics import precision_score\n",
        "\n",
        "\n",
        "import matplotlib.pyplot as plt\n",
        "import numpy as np\n",
        "%matplotlib inline\n",
        "import os\n",
        "import pandas as pd\n",
        "import csv\n",
        "import time\n",
        "import warnings\n",
        "import math\n",
        "warnings.filterwarnings(\"ignore\")\n",
        "\n",
        "\n",
        "result=\"./results/results_1.csv\" #a CSV file is named in which the results are saved.\n",
        "csv_files=os.listdir(\"attacks\")# 获取攻击文件夹中的文件名称并分配给一个列表(csv_files)。\n",
        "path=\".\\\\attacks\\\\\"\n",
        "repetition=10\n",
        "\n",
        "\n",
        "def folder(f_name): #this function creates a folder named \"results\" and \"result_graph_1\" in the program directory.\n",
        "    try:\n",
        "        if not os.path.exists(f_name):\n",
        "            os.makedirs(f_name)\n",
        "    except OSError:\n",
        "        print (\"The folder could not be created!\")\n",
        "\n",
        "folder_name=\"./results/\"\n",
        "folder(folder_name)\n",
        "folder_name=\"./results/result_graph_1/\"\n",
        "folder(folder_name)\n",
        "\n",
        "\n",
        "#The machine learning algorithms to be used are defined in a dictionary (ml_list).\n",
        "ml_list={\n",
        "#\"Naive Bayes\":GaussianNB(),\n",
        "\"QDA\":QDA(),\n",
        "#\"Random Forest\":RandomForestClassifier(max_depth=5, n_estimators=10, max_features=1),\n",
        "#\"ID3\" :DecisionTreeClassifier(max_depth=5,criterion=\"entropy\"),\n",
        "#\"AdaBoost\":AdaBoostClassifier(),\n",
        "#\"MLP\":MLPClassifier(hidden_layer_sizes=(13,13,13),max_iter=500),\n",
        "#\"Nearest Neighbors\":KNeighborsClassifier(3)，    \n",
        "#\"polynomial_svm_clf\":Pipeline([(\"poly_features\", PolynomialFeatures(degree=3)),(\"scaler\", StandardScaler()),(\"svm_clf\", LinearSVC(C=10, loss=\"hinge\"))]),\n",
        "#\"ppn\":Perceptron()\n",
        "}\n",
        "\n",
        "\n",
        "\n",
        "# the features to be used for each attack type is defined in a dictionary(features).\n",
        "# the first 4 of the features created by the file \"04_1_feature_selection_for_attack_files.py\" are used here.\n",
        "features={\"Bot\":[\"Bwd Packet Length Mean\",\"Flow IAT Max\",\"Flow Duration\",\"Flow IAT Min\",\"Label\"],\n",
        "\"DDoS\":[\"Bwd Packet Length Std\",\"Total Backward Packets\",\"Fwd IAT Total\",\"Flow Duration\",\"Label\"],\n",
        "\"DoS GoldenEye\":[\"Flow IAT Max\",\"Bwd Packet Length Std\",\"Flow IAT Min\",\"Total Backward Packets\",\"Label\"],\n",
        "\"DoS Hulk\":[\"Bwd Packet Length Std\",\"Fwd Packet Length Std\",\"Fwd Packet Length Max\",\"Flow IAT Min\",\"Label\"],\n",
        "\"DoS Slowhttptest\":[\"Flow IAT Mean\",\"Fwd Packet Length Min\",\"Bwd Packet Length Mean\",\"Total Length of Bwd Packets\",\"Label\"],\n",
        "\"DoS slowloris\":[\"Flow IAT Mean\",\"Total Length of Bwd Packets\",\"Bwd Packet Length Mean\",\"Total Fwd Packets\",\"Label\"],\n",
        "\"FTP-Patator\":[\"Fwd Packet Length Max\",\"Fwd Packet Length Std\",\"Fwd Packet Length Mean\",\"Bwd Packet Length Std\",\"Label\"],\n",
        "\"Heartbleed\":[\"Total Backward Packets\",\"Fwd Packet Length Max\",\"Flow IAT Min\",\"Bwd Packet Length Max\",\"Label\"],\n",
        "\"Infiltration\":[\"Fwd Packet Length Max\",\"Fwd Packet Length Mean\",\"Flow Duration\",\"Total Length of Fwd Packets\",\"Label\"],\n",
        "\"PortScan\":[\"Flow Bytes/s\",\"Total Length of Fwd Packets\",\"Fwd IAT Total\",\"Flow Duration\",\"Label\"],\n",
        "\"SSH-Patator\":[\"Fwd Packet Length Max\",\"Flow Duration\",\"Flow IAT Max\",\"Total Length of Fwd Packets\",\"Label\"],\n",
        "\"Web Attack\":[\"Bwd Packet Length Std\",\"Total Length of Fwd Packets\",\"Flow Bytes/s\",\"Flow IAT Max\",\"Label\"]}\n",
        "\n",
        "seconds=time.time()#time stamp for all processing time\n",
        "\n",
        "\n",
        "\n",
        "with open(result, \"w\", newline=\"\",encoding=\"utf-8\") as f:#a CSV file is created to save the results obtained.\n",
        "    wrt = csv.writer(f)\n",
        "    wrt.writerow([\"File\",\"ML algorithm\",\"accuracy\",\"Precision\", \"Recall\" , \"F1-score\",\"Time\"])\n",
        "\n",
        "\n",
        "\n",
        "\n",
        "for j in csv_files: #this loop runs on the list containing the filenames.Operations are repeated for all attack files\n",
        "    print ('%-17s %-17s  %-15s %-15s %-15s %-15s %-15s' % (\"File\",\"ML algorithm\",\"accuracy\",\"Precision\", \"Recall\" , \"F1-score\",\"Time\"))# print output header\n",
        "    a=[]\n",
        "\n",
        "    feature_list=list(features[j[0:-4]])\n",
        "    df=pd.read_csv(path+j, usecols=feature_list)#read an attack file.\n",
        "\n",
        "    df=df.fillna(0)\n",
        "    attack_or_not=[]\n",
        "    for i in df[\"Label\"]: #it changes the normal label to \"1\" and the attack tag to \"0\" for use in the machine learning algorithm\n",
        "        \n",
        "        if i ==\"BENIGN\":\n",
        "            attack_or_not.append(1)\n",
        "        else:\n",
        "            attack_or_not.append(0)           \n",
        "    df[\"Label\"]=attack_or_not\n",
        "\n",
        "    for col in feature_list:\n",
        "      m = df.loc[df[col] != np.inf, col].max()\n",
        "      df[col].replace(np.inf, m, inplace = True)\n",
        "\n",
        "    y = df[\"Label\"] #this section separates the label and the data into two separate pieces, as Label=y Data=X \n",
        "    del df[\"Label\"]\n",
        "    feature_list.remove('Label')\n",
        "    X = df[feature_list]\n",
        "\n",
        "    for ii in ml_list: #this loop runs on the list containing the machine learning algorithm names. Operations are repeated for all the 7 algorithm\n",
        "        precision=[]\n",
        "        recall=[]\n",
        "        f1=[]\n",
        "        accuracy=[]\n",
        "        t_time=[]\n",
        "        for i in range(repetition): # This loop allows cross-validation and machine learning algorithm to be repeated 10 times\n",
        "            second=time.time()#time stamp for processing time\n",
        "\n",
        "            # cross-validation\n",
        "            X_train, X_test, y_train, y_test = train_test_split(X, y,#  data (X) and labels (y) are divided into 2 parts to be sent to the machine learning algorithm (80% train,%20 test). \n",
        "                test_size = 0.20, random_state = repetition)#  So, in total there are 4 tracks: training data(X_train), training tag (y_train), test data(X_test) and test tag(y_test).\n",
        "\n",
        "            #machine learing algorithm is applied in this section\n",
        "            clf = ml_list[ii]#choose algorithm from ml_list dictionary                                                                          \n",
        "            clf.fit(X_train, y_train)\n",
        "            predict =clf.predict(X_test)\n",
        "        \n",
        "            #makes \"classification report\" and assigns the precision, f-measure, and recall values.s.    \n",
        "            f_1=f1_score(y_test, predict, average='macro')\n",
        "            pr=precision_score(y_test, predict, average='macro')\n",
        "            rc=recall_score(y_test, predict, average='macro')\n",
        "            precision.append(float(pr))\n",
        "            recall.append(float(rc))\n",
        "            f1.append(float(f_1))\n",
        "            accuracy.append(clf.score(X_test, y_test))\n",
        "            t_time.append(float((time.time()-second))\n",
        "            )\n",
        "\n",
        "\n",
        "        print ('%-17s %-17s  %-15s %-15s %-15s %-15s %-15s' % (j[0:-4],ii,str(round(np.mean(accuracy),2)),str(round(np.mean(precision),2)),str(round(np.mean(recall),2)),str(round(np.mean(f1),2)),str(round(np.mean(t_time),4))))#the result of the ten repetitions is printed on the screen.\n",
        "\n",
        "        with open(result, \"a\", newline=\"\",encoding=\"utf-8\") as f: # all the values found are saved in the opened file.\n",
        "            wrt = csv.writer(f)\n",
        "            for i in range(0,len(t_time)):\n",
        "                wrt.writerow([j[0:-4],accuracy[i],precision[i],recall[i],f1[i],t_time[i]])#file name, algorithm name, precision, recall and f-measure are writed in CSV file\n",
        "        a.append(f1)\n",
        "\n",
        "     # In this section, Box graphics are created for the results of machine learning algorithms and saved in the feaure_graph folder.\n",
        "    ml=[\"QDA\"]#,\"QDA\",\"Random Forest\",\"ID3\",\"AdaBoost\",\"MLP\",\"Nearest Neighbors\",\"polynomial_svm_clf\"，\"ppn\"\n",
        "    temp=0\n",
        "    fig, axes = plt.subplots(nrows=1, ncols=1, figsize=(12, 6), sharey=True)\n",
        "    axes.boxplot(a[temp] )\n",
        "    axes.set_title(str(j[0:-4])+\" - \"+str(ml[temp]),fontsize=7)\n",
        "    axes.set_ylabel((\"F measure\"))\n",
        "\n",
        "    plt.savefig(folder_name+j[0:-4]+\".pdf\",bbox_inches='tight', papertype = 'a4', orientation = 'portrait', format = 'pdf')\n",
        "    plt.show()\n",
        "    print(\"\\n------------------------------------------------------------------------------------------------------\\n\\n\")\n",
        "print(\"mission accomplished!\")\n",
        "print(\"Total operation time: = \",time.time()- seconds ,\"seconds\")\n"
      ],
      "execution_count": 10,
      "outputs": [
        {
          "output_type": "stream",
          "text": [
            "File              ML algorithm       accuracy        Precision       Recall          F1-score        Time           \n",
            "Bot               QDA                0.67            0.74            0.77            0.67            0.0162         \n"
          ],
          "name": "stdout"
        },
        {
          "output_type": "display_data",
          "data": {
            "image/png": "[encoded data removed]",
            "text/plain": [
              "<Figure size 864x432 with 1 Axes>"
            ]
          },
          "metadata": {
            "tags": [],
            "needs_background": "light"
          }
        },
        {
          "output_type": "stream",
          "text": [
            "\n",
            "------------------------------------------------------------------------------------------------------\n",
            "\n",
            "\n",
            "File              ML algorithm       accuracy        Precision       Recall          F1-score        Time           \n",
            "DDoS              QDA                0.41            0.67            0.58            0.39            0.1178         \n"
          ],
          "name": "stdout"
        },
        {
          "output_type": "display_data",
          "data": {
            "image/png": "[encoded data removed]",
            "text/plain": [
              "<Figure size 864x432 with 1 Axes>"
            ]
          },
          "metadata": {
            "tags": [],
            "needs_background": "light"
          }
        },
        {
          "output_type": "stream",
          "text": [
            "\n",
            "------------------------------------------------------------------------------------------------------\n",
            "\n",
            "\n",
            "File              ML algorithm       accuracy        Precision       Recall          F1-score        Time           \n",
            "DoS GoldenEye     QDA                0.67            0.73            0.76            0.67            0.0344         \n"
          ],
          "name": "stdout"
        },
        {
          "output_type": "display_data",
          "data": {
            "image/png": "[encoded data removed]",
            "text/plain": [
              "<Figure size 864x432 with 1 Axes>"
            ]
          },
          "metadata": {
            "tags": [],
            "needs_background": "light"
          }
        },
        {
          "output_type": "stream",
          "text": [
            "\n",
            "------------------------------------------------------------------------------------------------------\n",
            "\n",
            "\n",
            "File              ML algorithm       accuracy        Precision       Recall          F1-score        Time           \n",
            "DoS Hulk          QDA                0.41            0.66            0.59            0.4             0.6656         \n"
          ],
          "name": "stdout"
        },
        {
          "output_type": "display_data",
          "data": {
            "image/png": "[encoded data removed]",
            "text/plain": [
              "<Figure size 864x432 with 1 Axes>"
            ]
          },
          "metadata": {
            "tags": [],
            "needs_background": "light"
          }
        },
        {
          "output_type": "stream",
          "text": [
            "\n",
            "------------------------------------------------------------------------------------------------------\n",
            "\n",
            "\n",
            "File              ML algorithm       accuracy        Precision       Recall          F1-score        Time           \n",
            "DoS Slowhttptest  QDA                0.43            0.62            0.58            0.42            0.015          \n"
          ],
          "name": "stdout"
        },
        {
          "output_type": "display_data",
          "data": {
            "image/png": "[encoded data removed]",
            "text/plain": [
              "<Figure size 864x432 with 1 Axes>"
            ]
          },
          "metadata": {
            "tags": [],
            "needs_background": "light"
          }
        },
        {
          "output_type": "stream",
          "text": [
            "\n",
            "------------------------------------------------------------------------------------------------------\n",
            "\n",
            "\n",
            "File              ML algorithm       accuracy        Precision       Recall          F1-score        Time           \n",
            "DoS slowloris     QDA                0.49            0.67            0.62            0.48            0.0162         \n"
          ],
          "name": "stdout"
        },
        {
          "output_type": "display_data",
          "data": {
            "image/png": "[encoded data removed]",
            "text/plain": [
              "<Figure size 864x432 with 1 Axes>"
            ]
          },
          "metadata": {
            "tags": [],
            "needs_background": "light"
          }
        },
        {
          "output_type": "stream",
          "text": [
            "\n",
            "------------------------------------------------------------------------------------------------------\n",
            "\n",
            "\n",
            "File              ML algorithm       accuracy        Precision       Recall          F1-score        Time           \n",
            "FTP-Patator       QDA                1.0             1.0             0.99            0.99            0.0199         \n"
          ],
          "name": "stdout"
        },
        {
          "output_type": "display_data",
          "data": {
            "image/png": "[encoded data removed]",
            "text/plain": [
              "<Figure size 864x432 with 1 Axes>"
            ]
          },
          "metadata": {
            "tags": [],
            "needs_background": "light"
          }
        },
        {
          "output_type": "stream",
          "text": [
            "\n",
            "------------------------------------------------------------------------------------------------------\n",
            "\n",
            "\n",
            "File              ML algorithm       accuracy        Precision       Recall          F1-score        Time           \n",
            "Heartbleed        QDA                1.0             1.0             1.0             1.0             0.0063         \n"
          ],
          "name": "stdout"
        },
        {
          "output_type": "display_data",
          "data": {
            "image/png": "[encoded data removed]",
            "text/plain": [
              "<Figure size 864x432 with 1 Axes>"
            ]
          },
          "metadata": {
            "tags": [],
            "needs_background": "light"
          }
        },
        {
          "output_type": "stream",
          "text": [
            "\n",
            "------------------------------------------------------------------------------------------------------\n",
            "\n",
            "\n",
            "File              ML algorithm       accuracy        Precision       Recall          F1-score        Time           \n",
            "Infiltration      QDA                0.92            0.95            0.86            0.89            0.0061         \n"
          ],
          "name": "stdout"
        },
        {
          "output_type": "display_data",
          "data": {
            "image/png": "[encoded data removed]",
            "text/plain": [
              "<Figure size 864x432 with 1 Axes>"
            ]
          },
          "metadata": {
            "tags": [],
            "needs_background": "light"
          }
        },
        {
          "output_type": "stream",
          "text": [
            "\n",
            "------------------------------------------------------------------------------------------------------\n",
            "\n",
            "\n",
            "File              ML algorithm       accuracy        Precision       Recall          F1-score        Time           \n",
            "PortScan          QDA                0.82            0.81            0.88            0.81            0.4707         \n"
          ],
          "name": "stdout"
        },
        {
          "output_type": "display_data",
          "data": {
            "image/png": "[encoded data removed]",
            "text/plain": [
              "<Figure size 864x432 with 1 Axes>"
            ]
          },
          "metadata": {
            "tags": [],
            "needs_background": "light"
          }
        },
        {
          "output_type": "stream",
          "text": [
            "\n",
            "------------------------------------------------------------------------------------------------------\n",
            "\n",
            "\n",
            "File              ML algorithm       accuracy        Precision       Recall          F1-score        Time           \n",
            "SSH-Patator       QDA                0.45            0.66            0.61            0.44            0.0177         \n"
          ],
          "name": "stdout"
        },
        {
          "output_type": "display_data",
          "data": {
            "image/png": "[encoded data removed]",
            "text/plain": [
              "<Figure size 864x432 with 1 Axes>"
            ]
          },
          "metadata": {
            "tags": [],
            "needs_background": "light"
          }
        },
        {
          "output_type": "stream",
          "text": [
            "\n",
            "------------------------------------------------------------------------------------------------------\n",
            "\n",
            "\n",
            "File              ML algorithm       accuracy        Precision       Recall          F1-score        Time           \n",
            "Web Attack        QDA                0.84            0.83            0.89            0.83            0.0094         \n"
          ],
          "name": "stdout"
        },
        {
          "output_type": "display_data",
          "data": {
            "image/png": "[encoded data removed]",
            "text/plain": [
              "<Figure size 864x432 with 1 Axes>"
            ]
          },
          "metadata": {
            "tags": [],
            "needs_background": "light"
          }
        },
        {
          "output_type": "stream",
          "text": [
            "\n",
            "------------------------------------------------------------------------------------------------------\n",
            "\n",
            "\n",
            "mission accomplished!\n",
            "Total operation time: =  24.60829758644104 seconds\n"
          ],
          "name": "stdout"
        }
      ]
    },
    {
      "cell_type": "markdown",
      "metadata": {
        "id": "jih5M4lP_7yh"
      },
      "source": [
        "This program implements machine learning methods in the file \"all_data.csv\". Uses the features used in the previous step. The set of features to be used consists of combining the 4 features with the highest importance-weight achieved for each attack in \"machine_learning_implementation_for_attack_files\" step under a single roof. Thus, 4 features are obtained from each of the 12 attack types, resulting in a pool of features consisting of 48 attributes. After the repetitions are removed, the number of features is 18.\n",
        "\n",
        "This file applies QDA machine learning algorithms to \"all_data.csv\" file 10 times and prints the results of these operations on the screen and in the file \"./attacks/results_2.csv\". It also creates box and whisker graphics of the results and prints them both on the screen and in the \"./attacks/result_graph_2/\" folder."
      ]
    },
    {
      "cell_type": "code",
      "metadata": {
        "id": "aj446M0CaFaX",
        "outputId": "ebadc75f-f5f5-4df4-baeb-b66c81d3d931",
        "colab": {
          "base_uri": "https://localhost:8080/",
          "height": 517
        }
      },
      "source": [
        "from sklearn.linear_model import SGDClassifier\n",
        "from sklearn.svm import SVC\n",
        "from sklearn.linear_model import Perceptron\n",
        "from sklearn import metrics\n",
        "from sklearn.discriminant_analysis import QuadraticDiscriminantAnalysis as QDA\n",
        "from sklearn.ensemble import ExtraTreesClassifier\n",
        "from sklearn.ensemble import RandomForestClassifier, AdaBoostClassifier\n",
        "from sklearn.metrics import average_precision_score\n",
        "from sklearn.metrics import confusion_matrix\n",
        "from sklearn.model_selection import train_test_split\n",
        "from sklearn.naive_bayes import GaussianNB\n",
        "from sklearn.neighbors import KNeighborsClassifier\n",
        "from sklearn.neural_network import MLPClassifier\n",
        "from sklearn.tree import DecisionTreeClassifier\n",
        "from sklearn.preprocessing import PolynomialFeatures\n",
        "from sklearn.svm import LinearSVC\n",
        "\n",
        "from sklearn.metrics import f1_score\n",
        "from sklearn.metrics import recall_score\n",
        "from sklearn.metrics import precision_score\n",
        "from sklearn.preprocessing import StandardScaler\n",
        "from sklearn.pipeline import Pipeline\n",
        "from sklearn.linear_model import ElasticNet\n",
        "\n",
        "import matplotlib.pyplot as plt\n",
        "import numpy as np\n",
        "%matplotlib inline\n",
        "import os\n",
        "import pandas as pd\n",
        "import csv\n",
        "import time\n",
        "import warnings\n",
        "import math\n",
        "warnings.filterwarnings(\"ignore\")\n",
        "\n",
        "\n",
        "result=\"./results/results_2.csv\" #a CSV file is named in which the results are saved.\n",
        "csv_files=[\"all_data.csv\"]# CSV files names: #The names of the dataset files (csv_files).\n",
        "path=\"\"\n",
        "repetition=10#使用all_data.csv的重复次数\n",
        "\n",
        "\n",
        "def folder(f_name): #this function creates a folder named \"results\" and \"result_graph_1\" in the program directory.\n",
        "    try:\n",
        "        if not os.path.exists(f_name):\n",
        "            os.makedirs(f_name)\n",
        "    except OSError:\n",
        "        print (\"The folder could not be created!\")\n",
        "\n",
        "folder_name=\"./results/\"\n",
        "folder(folder_name)\n",
        "folder_name=\"./results/result_graph_2/\"\n",
        "folder(folder_name)\n",
        "\n",
        "\n",
        "#The machine learning algorithms to be used are defined in a dictionary (ml_list).\n",
        "ml_list={\n",
        "#\"Naive Bayes\":GaussianNB(),\n",
        "\"QDA\":QDA(),\n",
        "#\"Random Forest\":RandomForestClassifier(max_depth=5, n_estimators=10, max_features=1),\n",
        "#\"ID3\" :DecisionTreeClassifier(max_depth=5,criterion=\"entropy\"),\n",
        "#\"AdaBoost\":AdaBoostClassifier(),\n",
        "#\"MLP\":MLPClassifier(hidden_layer_sizes=(13,13,13),max_iter=500),\n",
        "#\"Nearest Neighbors\":KNeighborsClassifier(3)，    \n",
        "#\"polynomial_svm_clf\":Pipeline([(\"poly_features\", PolynomialFeatures(degree=3)),(\"scaler\", StandardScaler()),(\"svm_clf\", LinearSVC(C=10, loss=\"hinge\"))]),\n",
        "#\"ppn\":Perceptron()\n",
        "}\n",
        "\n",
        "features={\"all_data\":[\"Bwd Packet Length Max\",\"Bwd Packet Length Mean\",\"Bwd Packet Length Std\",\"Flow Bytes/s\",\n",
        "\"Flow Duration\",\"Flow IAT Max\",\"Flow IAT Mean\",\"Flow IAT Min\",\"Flow IAT Std\",\"Fwd IAT Total\",\"Fwd Packet Length Max\",\n",
        "\"Fwd Packet Length Mean\",\"Fwd Packet Length Min\",\"Fwd Packet Length Std\",\"Total Backward Packets\",\"Total Fwd Packets\",\n",
        "\"Total Length of Bwd Packets\",\"Total Length of Fwd Packets\",\"Label\"]}\n",
        "\n",
        "seconds=time.time()#time stamp for all processing time\n",
        "\n",
        "with open(result, \"w\", newline=\"\",encoding=\"utf-8\") as f:#a CSV file is created to save the results obtained.\n",
        "    wrt = csv.writer(f)\n",
        "    wrt.writerow([\"File\",\"ML algorithm\",\"accuracy\",\"Precision\", \"Recall\" , \"F1-score\",\"Time\"])\n",
        "\n",
        "for j in csv_files: #this loop runs on the list containing the filenames.Operations are repeated for all attack files\n",
        "    print ('%-17s %-17s  %-15s %-15s %-15s %-15s %-15s' % (\"File\",\"ML algorithm\",\"accuracy\",\"Precision\", \"Recall\" , \"F1-score\",\"Time\"))# print output header  \n",
        "    a=[] \n",
        "    feature_list=list(features[j[0:-4]])\n",
        "    df=pd.read_csv(path+j,usecols=feature_list)#read an attack file.\n",
        "    df=df.fillna(0)\n",
        "    attack_or_not=[]\n",
        "    for i in df[\"Label\"]: #it changes the normal label to \"1\" and the attack tag to \"0\" for use in the machine learning algorithm\n",
        "        \n",
        "        if i ==\"BENIGN\":\n",
        "            attack_or_not.append(1)\n",
        "        else:\n",
        "            attack_or_not.append(0)           \n",
        "    df[\"Label\"]=attack_or_not\n",
        "\n",
        "    for col in feature_list:\n",
        "      m = df.loc[df[col] != np.inf, col].max()\n",
        "      df[col].replace(np.inf, m, inplace = True)\n",
        "    y = df[\"Label\"] #this section separates the label and the data into two separate pieces, as Label=y Data=X \n",
        "    del df[\"Label\"]\n",
        "    feature_list.remove('Label')\n",
        "    X = df[feature_list]\n",
        "   \n",
        "    for ii in ml_list: #this loop runs on the list containing the machine learning algorithm names. Operations are repeated for all the 7 algorithm\n",
        "        precision=[]\n",
        "        recall=[]\n",
        "        f1=[]\n",
        "        accuracy=[]\n",
        "        t_time=[]\n",
        "        for i in range(repetition): # This loop allows cross-validation and machine learning algorithm to be repeated 10 times\n",
        "            second=time.time()#time stamp for processing time\n",
        "\n",
        "            # cross-validation\n",
        "            X_train, X_test, y_train, y_test = train_test_split(X, y,#  data (X) and labels (y) are divided into 2 parts to be sent to the machine learning algorithm (80% train,%20 test). \n",
        "                test_size = 0.20, random_state = repetition)#  So, in total there are 4 tracks: training data(X_train), training tag (y_train), test data(X_test) and test tag(y_test).\n",
        "\n",
        "            #machine learning algorithm is applied in this section\n",
        "            clf = ml_list[ii]#choose algorithm from ml_list dictionary                                                                          \n",
        "            clf.fit(X_train, y_train)\n",
        "            predict =clf.predict(X_test)\n",
        "        \n",
        "            #makes \"classification report\" and assigns the precision, f-measure, and recall values.s.    \n",
        "            \n",
        "            f_1=f1_score(y_test, predict, average='macro')\n",
        "            pr=precision_score(y_test, predict, average='macro')\n",
        "            rc=recall_score(y_test, predict, average='macro')\n",
        "                      \n",
        "            precision.append(float(pr))\n",
        "            recall.append(float(rc))\n",
        "            f1.append(float(f_1))\n",
        "            accuracy.append(clf.score(X_test, y_test))\n",
        "            t_time.append(float((time.time()-second)))\n",
        "            \n",
        "        print ('%-17s %-17s  %-15s %-15s %-15s %-15s %-15s' % (j[0:-4],ii,str(round(np.mean(accuracy),2)),str(round(np.mean(precision),2)), \n",
        "            str(round(np.mean(recall),2)),str(round(np.mean(f1),2)),str(round(np.mean(t_time),4))))#the result of the ten repetitions is printed on the screen.\n",
        "\n",
        "        with open(result, \"a\", newline=\"\",encoding=\"utf-8\") as f: # all the values found are saved in the opened file.\n",
        "            wrt = csv.writer(f)\n",
        "            for i in range(0,len(t_time)):\n",
        "                wrt.writerow([j[0:-4],ii,accuracy[i],precision[i],recall[i],f1[i],t_time[i]])#file name, algorithm name, precision, recall and f-measure are writed in CSV file\n",
        "        a.append(f1)\n",
        "\n",
        "\n",
        "     # In this section, Box graphics are created for the results of machine learning algorithms and saved in the feaure_graph folder.\n",
        "\n",
        "     \n",
        "    ml=[\"QDA\"]#,\"QDA\",\"Random Forest\",\"ID3\",\"AdaBoost\",\"MLP\",\"Nearest Neighbors\"，\"polynomial_svm_clf\"，\"ppn\"\n",
        "    temp=0\n",
        "\n",
        "    fig, axes = plt.subplots(nrows=1, ncols=1, figsize=(12, 6), sharey=True)#fig 是图像对象，ax 是坐标轴对象\n",
        "\n",
        "    axes.boxplot(a[temp] )\n",
        "    axes.set_title(str(j[0:-4])+\" - \"+str(ml[temp]),fontsize=7)\n",
        "    axes.set_ylabel((\"F measure\"))\n",
        "    \n",
        "    plt.savefig(folder_name+j[0:-4]+\".pdf\",bbox_inches='tight', papertype = 'a4', orientation = 'portrait', format = 'pdf')\n",
        "    plt.show()\n",
        "    print(\"\\n------------------------------------------------------------------------------------------------------\\n\\n\")\n",
        "print(\"mission accomplished!\")\n",
        "print(\"Total operation time: = \",time.time()- seconds ,\"seconds\")"
      ],
      "execution_count": 11,
      "outputs": [
        {
          "output_type": "stream",
          "text": [
            "File              ML algorithm       accuracy        Precision       Recall          F1-score        Time           \n",
            "all_data          QDA                0.31            0.58            0.58            0.31            6.1191         \n"
          ],
          "name": "stdout"
        },
        {
          "output_type": "display_data",
          "data": {
            "image/png": "[encoded data removed]",
            "text/plain": [
              "<Figure size 864x432 with 1 Axes>"
            ]
          },
          "metadata": {
            "tags": [],
            "needs_background": "light"
          }
        },
        {
          "output_type": "stream",
          "text": [
            "\n",
            "------------------------------------------------------------------------------------------------------\n",
            "\n",
            "\n",
            "mission accomplished!\n",
            "Total operation time: =  78.25627946853638 seconds\n"
          ],
          "name": "stdout"
        }
      ]
    }
  ]
}