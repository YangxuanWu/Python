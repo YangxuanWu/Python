{
  "nbformat": 4,
  "nbformat_minor": 0,
  "metadata": {
    "colab": {
      "name": "M3-RF",
      "provenance": [],
      "collapsed_sections": [],
      "authorship_tag": "ABX9TyPO9qQfHGOwURLRSCfb/g0Q",
      "include_colab_link": true
    },
    "kernelspec": {
      "name": "python3",
      "display_name": "Python 3"
    }
  },
  "cells": [
    {
      "cell_type": "markdown",
      "metadata": {
        "id": "view-in-github",
        "colab_type": "text"
      },
      "source": [
        "<a href=\"https://colab.research.google.com/github/YangxuanWu/Python/blob/master/FinallProject2020/M3_RF.ipynb\" target=\"_parent\"><img src=\"https://colab.research.google.com/assets/colab-badge.svg\" alt=\"Open In Colab\"/></a>"
      ]
    },
    {
      "cell_type": "code",
      "metadata": {
        "id": "5yQ0bbVBZ-af",
        "colab": {
          "base_uri": "https://localhost:8080/"
        },
        "outputId": "9b6f962f-fb81-44ee-dc36-9e53ba8631fe"
      },
      "source": [
        "from google.colab import drive\n",
        "import os\n",
        "drive.mount('/content/drive')\n",
        "os.chdir(\"/content/drive/My Drive/\")"
      ],
      "execution_count": 34,
      "outputs": [
        {
          "output_type": "stream",
          "text": [
            "Drive already mounted at /content/drive; to attempt to forcibly remount, call drive.mount(\"/content/drive\", force_remount=True).\n"
          ],
          "name": "stdout"
        }
      ]
    },
    {
      "cell_type": "code",
      "metadata": {
        "id": "rEaBHlMe5kGl",
        "colab": {
          "base_uri": "https://localhost:8080/"
        },
        "outputId": "bbd85115-15a6-47e5-92e8-b754535f68a7"
      },
      "source": [
        "!ls"
      ],
      "execution_count": 35,
      "outputs": [
        {
          "output_type": "stream",
          "text": [
            " all_data.csv\t    importance_list_all_data.csv\n",
            " attacks\t    importance_list_for_attack_files.csv\n",
            "'Colab Notebooks'   results\n",
            " CSVs\t\t   'Yangxuan Wu.zip'\n",
            " feaure_pics\n"
          ],
          "name": "stdout"
        }
      ]
    },
    {
      "cell_type": "code",
      "metadata": {
        "id": "HADKqn_Hmu_o"
      },
      "source": [
        "#import the tool library in whole sections\n",
        "from sklearn.svm import SVC\n",
        "from sklearn.linear_model import SGDClassifier\n",
        "from sklearn.svm import LinearSVC\n",
        "from sklearn.pipeline import Pipeline\n",
        "from sklearn.preprocessing import StandardScaler\n",
        "from sklearn.preprocessing import PolynomialFeatures\n",
        "from sklearn.model_selection import cross_val_score\n",
        "from sklearn.linear_model import Lasso\n",
        "from sklearn.linear_model import ElasticNet\n",
        "from sklearn import metrics\n",
        "from sklearn.discriminant_analysis import QuadraticDiscriminantAnalysis as QDA\n",
        "from sklearn.ensemble import ExtraTreesClassifier\n",
        "from sklearn.ensemble import RandomForestClassifier, AdaBoostClassifier\n",
        "from sklearn.metrics import average_precision_score\n",
        "from sklearn.metrics import confusion_matrix\n",
        "from sklearn.model_selection import train_test_split\n",
        "from sklearn.naive_bayes import GaussianNB\n",
        "from sklearn.neighbors import KNeighborsClassifier\n",
        "from sklearn.neural_network import MLPClassifier\n",
        "from sklearn.tree import DecisionTreeClassifier\n",
        "from sklearn.metrics import f1_score\n",
        "from sklearn.metrics import recall_score\n",
        "from sklearn.metrics import precision_score\n",
        "import matplotlib.pyplot as plt\n",
        "import numpy as np\n",
        "%matplotlib inline\n",
        "import os\n",
        "import pandas as pd\n",
        "import csv\n",
        "import time\n",
        "import warnings\n",
        "import math\n",
        "warnings.filterwarnings(\"ignore\")"
      ],
      "execution_count": 36,
      "outputs": []
    },
    {
      "cell_type": "markdown",
      "metadata": {
        "id": "CKI5ecmaObH-"
      },
      "source": [
        "The following program uses the attack files under the \"./attacks/\" folder as a dataset. The features used are the 4 features with the highest weight for each file, produced by the feature_selection_for_attack_files file. This file applies the following machine learning algorithm to each file 10 times and prints the results of these operations on the screen."
      ]
    },
    {
      "cell_type": "code",
      "metadata": {
        "id": "rnZXGhie0aoo"
      },
      "source": [
        "#retrieve data\n",
        "csv_files=os.listdir(\"attacks\")# Gets the file name in the attack folder and assigns it to a list (csv_files)。\n",
        "path=\".\\\\attacks\\\\\"\n",
        "repetition=10"
      ],
      "execution_count": 37,
      "outputs": []
    },
    {
      "cell_type": "code",
      "metadata": {
        "id": "7OkDOBiF0iRY"
      },
      "source": [
        "#Build QDA Model\n",
        "ml_list={\"Random Forest\":RandomForestClassifier(max_depth=5, n_estimators=10, max_features=1)}#The machine learning algorithms to be used are defined in a dictionary (ml_list)."
      ],
      "execution_count": 38,
      "outputs": []
    },
    {
      "cell_type": "code",
      "metadata": {
        "id": "7GPgItm_0rF2"
      },
      "source": [
        "# the features to be used for each attack type is defined in a dictionary(features).\n",
        "# the first 4 of the features created by the file \"04_1_feature_selection_for_attack_files.py\" are used here.\n",
        "features={\"Bot\":[\"Bwd Packet Length Mean\",\"Flow IAT Max\",\"Flow Duration\",\"Flow IAT Min\",\"Label\"],\n",
        "\"DDoS\":[\"Bwd Packet Length Std\",\"Total Backward Packets\",\"Fwd IAT Total\",\"Flow Duration\",\"Label\"],\n",
        "\"DoS GoldenEye\":[\"Flow IAT Max\",\"Bwd Packet Length Std\",\"Flow IAT Min\",\"Total Backward Packets\",\"Label\"],\n",
        "\"DoS Hulk\":[\"Bwd Packet Length Std\",\"Fwd Packet Length Std\",\"Fwd Packet Length Max\",\"Flow IAT Min\",\"Label\"],\n",
        "\"DoS Slowhttptest\":[\"Flow IAT Mean\",\"Fwd Packet Length Min\",\"Bwd Packet Length Mean\",\"Total Length of Bwd Packets\",\"Label\"],\n",
        "\"DoS slowloris\":[\"Flow IAT Mean\",\"Total Length of Bwd Packets\",\"Bwd Packet Length Mean\",\"Total Fwd Packets\",\"Label\"],\n",
        "\"FTP-Patator\":[\"Fwd Packet Length Max\",\"Fwd Packet Length Std\",\"Fwd Packet Length Mean\",\"Bwd Packet Length Std\",\"Label\"],\n",
        "\"Heartbleed\":[\"Total Backward Packets\",\"Fwd Packet Length Max\",\"Flow IAT Min\",\"Bwd Packet Length Max\",\"Label\"],\n",
        "\"Infiltration\":[\"Fwd Packet Length Max\",\"Fwd Packet Length Mean\",\"Flow Duration\",\"Total Length of Fwd Packets\",\"Label\"],\n",
        "\"PortScan\":[\"Flow Bytes/s\",\"Total Length of Fwd Packets\",\"Fwd IAT Total\",\"Flow Duration\",\"Label\"],\n",
        "\"SSH-Patator\":[\"Fwd Packet Length Max\",\"Flow Duration\",\"Flow IAT Max\",\"Total Length of Fwd Packets\",\"Label\"],\n",
        "\"Web Attack\":[\"Bwd Packet Length Std\",\"Total Length of Fwd Packets\",\"Flow Bytes/s\",\"Flow IAT Max\",\"Label\"]}"
      ],
      "execution_count": 39,
      "outputs": []
    },
    {
      "cell_type": "code",
      "metadata": {
        "id": "TJKzHSUS0vZi"
      },
      "source": [
        "#time stamp for all processing time\n",
        "seconds=time.time()"
      ],
      "execution_count": 40,
      "outputs": []
    },
    {
      "cell_type": "code",
      "metadata": {
        "id": "0bVj5GxD5kJr",
        "colab": {
          "base_uri": "https://localhost:8080/"
        },
        "outputId": "47503e3b-c9dd-44f5-b941-dfc7dadbbe59"
      },
      "source": [
        " #this loop runs on the list containing the filenames. Operations are repeated for all attack files:\n",
        "#for j in csv_files:\n",
        "print ('%-17s %-17s  %-15s %-15s %-15s %-15s %-15s' % (\"File\",\"ML algorithm\",\"accuracy\",\"Precision\", \"Recall\" , \"F1-score\",\"Time\"))# print output header\n",
        "    \n",
        "    #read each attack file:\n",
        "for j in csv_files: \n",
        "    feature_list=list(features[j[0:-4]])\n",
        "    df=pd.read_csv(path+j, usecols=feature_list)\n",
        "\n",
        "    #Solve the problem of data hollow value and extreme value \n",
        "    df=df.fillna(0)\n",
        "    for col in feature_list:\n",
        "      m = df.loc[df[col] != np.inf, col].max()\n",
        "      df[col].replace(np.inf, m, inplace = True)\n",
        "\n",
        "    #it changes the normal label to \"1\" and the attack tag to \"0\" for use in the machine learning algorithm:\n",
        "    attack_or_not=[]\n",
        "    for i in df[\"Label\"]: \n",
        "        \n",
        "        if i ==\"BENIGN\":\n",
        "            attack_or_not.append(1)\n",
        "        else:\n",
        "            attack_or_not.append(0)  \n",
        "\n",
        "    df[\"Label\"]=attack_or_not\n",
        "\n",
        "    #this section separates the label and the data into two separate pieces, as Label=y Data=X:\n",
        "    y = df[\"Label\"]  \n",
        "    del df[\"Label\"]\n",
        "    feature_list.remove('Label')\n",
        "    X = df[feature_list]\n",
        "\n",
        "    #this loop runs on the list containing the machine learning algorithm names:\n",
        "    for ii in ml_list: \n",
        "        precision=[]\n",
        "        recall=[]\n",
        "        f1=[]\n",
        "        accuracy=[]\n",
        "        t_time=[]\n",
        "\n",
        "        # This loop allows cross-validation and machine learning algorithm to be repeated 10 times:\n",
        "        for i in range(repetition): \n",
        "            second=time.time()#time stamp for processing time\n",
        "\n",
        "            # cross-validation:\n",
        "            X_train, X_test, y_train, y_test = train_test_split(X, y, test_size = 0.20, random_state = repetition)\n",
        "            # data (X) and labels (y) are divided into 2 parts to be sent to the machine learning algorithm (80% train,%20 test). \n",
        "            # So, in total there are 4 tracks: training data(X_train), training tag (y_train), test data(X_test) and test tag(y_test).\n",
        "\n",
        "            #machine learing algorithm is applied in this section:\n",
        "            #choose algorithm from ml_list dictionary \n",
        "            clf = ml_list[ii]                                                                        \n",
        "            clf.fit(X_train, y_train)\n",
        "            predict =clf.predict(X_test)\n",
        "        \n",
        "            #makes \"classification report\" and assigns the precision, f-measure, and recall values:   \n",
        "            f_1=f1_score(y_test, predict, average='macro')\n",
        "            pr=precision_score(y_test, predict, average='macro')\n",
        "            rc=recall_score(y_test, predict, average='macro')\n",
        "            precision.append(float(pr))\n",
        "            recall.append(float(rc))\n",
        "            f1.append(float(f_1))\n",
        "            accuracy.append(clf.score(X_test, y_test))\n",
        "            t_time.append(float((time.time()-second)))\n",
        "\n",
        "        #the result of the ten repetitions is printed on the screen:\n",
        "        print ('%-17s %-17s  %-15s %-15s %-15s %-15s %-15s' % (j[0:-4],ii,str(round(np.mean(accuracy),2)),str(round(np.mean(precision),2)),str(round(np.mean(recall),2)),str(round(np.mean(f1),2)),str(round(np.mean(t_time),4))))\n",
        "        \n",
        "\n",
        "print(\"mission accomplished!\")\n",
        "print(\"Total operation time: = \",time.time()- seconds ,\"seconds\")\n"
      ],
      "execution_count": 41,
      "outputs": [
        {
          "output_type": "stream",
          "text": [
            "File              ML algorithm       accuracy        Precision       Recall          F1-score        Time           \n",
            "Bot               Random Forest      0.96            0.95            0.96            0.96            0.0448         \n",
            "DDoS              Random Forest      0.96            0.95            0.97            0.96            0.5815         \n",
            "DoS GoldenEye     Random Forest      0.99            0.98            0.99            0.99            0.1337         \n",
            "DoS Hulk          Random Forest      0.93            0.94            0.89            0.91            4.5864         \n",
            "DoS Slowhttptest  Random Forest      0.98            0.98            0.97            0.98            0.0758         \n",
            "DoS slowloris     Random Forest      0.94            0.94            0.93            0.93            0.0749         \n",
            "FTP-Patator       Random Forest      1.0             1.0             1.0             1.0             0.0806         \n",
            "Heartbleed        Random Forest      0.99            0.99            0.98            0.98            0.0207         \n",
            "Infiltration      Random Forest      0.89            0.88            0.85            0.86            0.0212         \n",
            "PortScan          Random Forest      1.0             1.0             1.0             1.0             2.9615         \n",
            "SSH-Patator       Random Forest      0.96            0.94            0.96            0.95            0.0919         \n",
            "Web Attack        Random Forest      0.97            0.97            0.95            0.96            0.0444         \n",
            "mission accomplished!\n",
            "Total operation time: =  95.81933212280273 seconds\n"
          ],
          "name": "stdout"
        }
      ]
    },
    {
      "cell_type": "markdown",
      "metadata": {
        "id": "_8hz_GQMVULK"
      },
      "source": [
        "The following program uses the attack files under the \"all_data.csv\" as a dataset. The features used are the 18 features with the highest weight for it, produced by the feature_selection_for_attack_files file. This file applies the following machine learning algorithm to the file 10 times and prints the results of these operations on the screen."
      ]
    },
    {
      "cell_type": "code",
      "metadata": {
        "id": "kU4i2zSZVTFe"
      },
      "source": [
        "#retrieve data:\n",
        "csv_files=[\"all_data.csv\"]# CSV files names: #The name of the dataset files (csv_files).\n",
        "\n",
        "repetition=10"
      ],
      "execution_count": 42,
      "outputs": []
    },
    {
      "cell_type": "code",
      "metadata": {
        "id": "u-ranryYVgIH"
      },
      "source": [
        "#The machine learning algorithms to be used are defined in a dictionary (ml_list).\n",
        "ml_list={\"Random Forest\":RandomForestClassifier(max_depth=5, n_estimators=10, max_features=1)}"
      ],
      "execution_count": 43,
      "outputs": []
    },
    {
      "cell_type": "code",
      "metadata": {
        "id": "hs5_4X8QVmnj"
      },
      "source": [
        "#The choosing feature for all_data.csv:\n",
        "features={\"all_data\":[\"Bwd Packet Length Max\",\"Bwd Packet Length Mean\",\"Bwd Packet Length Std\",\"Flow Bytes/s\",\n",
        "\"Flow Duration\",\"Flow IAT Max\",\"Flow IAT Mean\",\"Flow IAT Min\",\"Flow IAT Std\",\"Fwd IAT Total\",\"Fwd Packet Length Max\",\n",
        "\"Fwd Packet Length Mean\",\"Fwd Packet Length Min\",\"Fwd Packet Length Std\",\"Total Backward Packets\",\"Total Fwd Packets\",\n",
        "\"Total Length of Bwd Packets\",\"Total Length of Fwd Packets\",\"Label\"]}"
      ],
      "execution_count": 44,
      "outputs": []
    },
    {
      "cell_type": "code",
      "metadata": {
        "id": "_M13oYhIV83e"
      },
      "source": [
        "#time stamp for all processing time:\n",
        "seconds=time.time()"
      ],
      "execution_count": 45,
      "outputs": []
    },
    {
      "cell_type": "code",
      "metadata": {
        "id": "aj446M0CaFaX"
      },
      "source": [
        "#Read all_data.cav\n",
        "feature_list=list(features[\"all_data\"])\n",
        "df=pd.read_csv(\"all_data.csv\",usecols=feature_list)#read an attack file."
      ],
      "execution_count": 46,
      "outputs": []
    },
    {
      "cell_type": "code",
      "metadata": {
        "id": "PBqyGps0QF7D"
      },
      "source": [
        "#Solve the problem of data hollow value and extreme value\n",
        "df=df.fillna(0)\n",
        "for col in feature_list:\n",
        "  m = df.loc[df[col] != np.inf, col].max()\n",
        "  df[col].replace(np.inf, m, inplace = True)"
      ],
      "execution_count": 47,
      "outputs": []
    },
    {
      "cell_type": "code",
      "metadata": {
        "id": "GLorQZ-GQJsu"
      },
      "source": [
        "#it changes the normal label to \"1\" and the attack tag to \"0\" for use in the machine learning algorithm\n",
        "attack_or_not=[]\n",
        "for i in df[\"Label\"]:         \n",
        "  if i ==\"BENIGN\":\n",
        "    attack_or_not.append(1)\n",
        "  else:\n",
        "    attack_or_not.append(0)           \n",
        "df[\"Label\"]=attack_or_not"
      ],
      "execution_count": 48,
      "outputs": []
    },
    {
      "cell_type": "code",
      "metadata": {
        "id": "y5caTbyfQMDZ"
      },
      "source": [
        "#this section separates the label and the data into two separate pieces, as Label=y Data=X \n",
        "y = df[\"Label\"]\n",
        "del df[\"Label\"]\n",
        "feature_list.remove('Label')\n",
        "X = df[feature_list]"
      ],
      "execution_count": 49,
      "outputs": []
    },
    {
      "cell_type": "code",
      "metadata": {
        "colab": {
          "base_uri": "https://localhost:8080/"
        },
        "id": "I0rGznIQPVvD",
        "outputId": "96ffd8eb-c540-4263-895e-7a4de4f57a05"
      },
      "source": [
        "print ('%-17s %-17s  %-15s %-15s %-15s %-15s %-15s' % (\"File\",\"ML algorithm\",\"accuracy\",\"Precision\", \"Recall\" , \"F1-score\",\"Time\"))# print output header\n",
        "#this loop runs on the list containing the machine learning algorithm name.\n",
        "for ii in ml_list: \n",
        "  precision=[]\n",
        "  recall=[]\n",
        "  f1=[]\n",
        "  accuracy=[]\n",
        "  t_time=[]\n",
        "\n",
        "  # This loop allows cross-validation and machine learning algorithm to be repeated 10 times:\n",
        "  for i in range(repetition):\n",
        "    second=time.time()#time stamp for processing time\n",
        "\n",
        "    # cross-validation:\n",
        "    # data (X) and labels (y) are divided into 2 parts to be sent to the machine learning algorithm (80% train, %20 test).\n",
        "    # So, in total there are 4 tracks: training data(X_train), training tag (y_train), test data(X_test) and test tag(y_test).\n",
        "    X_train, X_test, y_train, y_test = train_test_split(X, y, test_size = 0.20, random_state = repetition)\n",
        "\n",
        "    #machine learning algorithm is applied in this section\n",
        "    #choose algorithm from ml_list dictionary\n",
        "    clf = ml_list[ii]                                                                          \n",
        "    clf.fit(X_train, y_train)\n",
        "    predict =clf.predict(X_test)\n",
        "        \n",
        "    #makes \"classification report\" and assigns the precision, f-measure, and recall values:    \n",
        "    f_1=f1_score(y_test, predict, average='macro')\n",
        "    pr=precision_score(y_test, predict, average='macro')\n",
        "    rc=recall_score(y_test, predict, average='macro')\n",
        "                      \n",
        "    precision.append(float(pr))\n",
        "    recall.append(float(rc))\n",
        "    f1.append(float(f_1))\n",
        "    accuracy.append(clf.score(X_test, y_test))\n",
        "    t_time.append(float((time.time()-second)))\n",
        "\n",
        "  #the result of the ten repetitions is printed on the screen:     \n",
        "  print ('%-17s %-17s  %-15s %-15s %-15s %-15s %-15s' % (\"all_data\",ii,str(round(np.mean(accuracy),2)),str(round(np.mean(precision),2)),str(round(np.mean(recall),2)),str(round(np.mean(f1),2)),str(round(np.mean(t_time),4))))\n",
        "\n",
        "print(\"mission accomplished!\")\n",
        "print(\"Total operation time: = \",time.time() - seconds ,\"seconds\")"
      ],
      "execution_count": 50,
      "outputs": [
        {
          "output_type": "stream",
          "text": [
            "File              ML algorithm       accuracy        Precision       Recall          F1-score        Time           \n",
            "all_data          Random Forest      0.94            0.97            0.83            0.88            18.2026        \n",
            "mission accomplished!\n",
            "Total operation time: =  198.69545531272888 seconds\n"
          ],
          "name": "stdout"
        }
      ]
    }
  ]
}