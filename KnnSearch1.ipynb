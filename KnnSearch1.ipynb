{
 "cells": [
  {
   "cell_type": "code",
   "execution_count": 1,
   "metadata": {},
   "outputs": [],
   "source": [
    "import math\n",
    "\n",
    "def closest(position, positions):\n",
    "    x0, y0 = position\n",
    "    dbest, ibest = None, None\n",
    "    for i, (x,y) in enumerate(positions):\n",
    "        # compute the Euclidean distance\n",
    "        dist = ((x - x0) ** 2) + ((y - y0) ** 2)\n",
    "        dist = math.sqrt(dist)\n",
    "        if dbest is None or dist < dbest:\n",
    "            dbest, ibest = dist, i\n",
    "    return ibest\n"
   ]
  },
  {
   "cell_type": "code",
   "execution_count": 2,
   "metadata": {},
   "outputs": [],
   "source": [
    "import random"
   ]
  },
  {
   "cell_type": "code",
   "execution_count": 3,
   "metadata": {},
   "outputs": [],
   "source": [
    "positions = [(random.random(), random.random()) for i in range(10000000)]"
   ]
  },
  {
   "cell_type": "code",
   "execution_count": 4,
   "metadata": {},
   "outputs": [
    {
     "name": "stdout",
     "output_type": "stream",
     "text": [
      "(0.05810402901011691, 0.17468934120595925)\n",
      "(0.21118364260826183, 0.9876451433870987)\n",
      "(0.5885362295539983, 0.7092977970458849)\n",
      "(0.05492230496988004, 0.7253666084073682)\n",
      "(0.9453653567438106, 0.4065207567037685)\n",
      "(0.4280562347055632, 0.4054665377781165)\n",
      "(0.5867851916426104, 0.26697742143424097)\n",
      "(0.5845992257099473, 0.13002360666777213)\n",
      "(0.8701040428174779, 0.4504620334032774)\n",
      "(0.10446643029939795, 0.7118105245653336)\n"
     ]
    }
   ],
   "source": [
    "for i in range(0, 10):\n",
    "    print(positions[i])"
   ]
  },
  {
   "cell_type": "code",
   "execution_count": 5,
   "metadata": {},
   "outputs": [
    {
     "name": "stdout",
     "output_type": "stream",
     "text": [
      "5.58 s ± 250 ms per loop (mean ± std. dev. of 7 runs, 1 loop each)\n"
     ]
    }
   ],
   "source": [
    "%timeit closest((.5, .5), positions)"
   ]
  },
  {
   "cell_type": "code",
   "execution_count": 6,
   "metadata": {},
   "outputs": [],
   "source": [
    "import numpy as np"
   ]
  },
  {
   "cell_type": "code",
   "execution_count": 7,
   "metadata": {},
   "outputs": [],
   "source": [
    "positions = np.random.rand(10000000, 2)"
   ]
  },
  {
   "cell_type": "code",
   "execution_count": 10,
   "metadata": {},
   "outputs": [
    {
     "data": {
      "text/plain": [
       "(10000000, 2)"
      ]
     },
     "execution_count": 10,
     "metadata": {},
     "output_type": "execute_result"
    }
   ],
   "source": [
    "positions.shape"
   ]
  },
  {
   "cell_type": "code",
   "execution_count": 9,
   "metadata": {},
   "outputs": [
    {
     "name": "stdout",
     "output_type": "stream",
     "text": [
      "[[0.80816925 0.4478124 ]\n",
      " [0.67703654 0.80682842]\n",
      " [0.76913902 0.6841122 ]\n",
      " [0.25360162 0.07148324]\n",
      " [0.94383523 0.30982265]\n",
      " [0.46942184 0.45240933]\n",
      " [0.56895576 0.49914935]\n",
      " [0.05684777 0.21943755]\n",
      " [0.1487597  0.49822688]\n",
      " [0.12436391 0.68919743]]\n"
     ]
    }
   ],
   "source": [
    "print(positions[:10,:])"
   ]
  },
  {
   "cell_type": "code",
   "execution_count": 12,
   "metadata": {},
   "outputs": [],
   "source": [
    "x, y = positions[:,0], positions[:,1] # x and y are arrays containing the 1st and 2nd cols, respectively."
   ]
  },
  {
   "cell_type": "code",
   "execution_count": 13,
   "metadata": {},
   "outputs": [],
   "source": [
    "distances = np.sqrt( (x - 0.5)**2 + (y - 0.5)**2 )"
   ]
  },
  {
   "cell_type": "code",
   "execution_count": 21,
   "metadata": {},
   "outputs": [
    {
     "name": "stdout",
     "output_type": "stream",
     "text": [
      "[0.31255692 0.35423949 0.32608759 0.49430636 0.48286347 0.05656762\n",
      " 0.068961   0.52449899 0.35124477 0.4205926 ]\n"
     ]
    }
   ],
   "source": [
    "print(distances[:10])"
   ]
  },
  {
   "cell_type": "code",
   "execution_count": null,
   "metadata": {},
   "outputs": [],
   "source": []
  },
  {
   "cell_type": "code",
   "execution_count": null,
   "metadata": {},
   "outputs": [],
   "source": []
  },
  {
   "cell_type": "code",
   "execution_count": null,
   "metadata": {},
   "outputs": [],
   "source": []
  },
  {
   "cell_type": "code",
   "execution_count": null,
   "metadata": {},
   "outputs": [],
   "source": []
  }
 ],
 "metadata": {
  "kernelspec": {
   "display_name": "Python 3",
   "language": "python",
   "name": "python3"
  },
  "language_info": {
   "codemirror_mode": {
    "name": "ipython",
    "version": 3
   },
   "file_extension": ".py",
   "mimetype": "text/x-python",
   "name": "python",
   "nbconvert_exporter": "python",
   "pygments_lexer": "ipython3",
   "version": "3.7.4"
  }
 },
 "nbformat": 4,
 "nbformat_minor": 4
}
